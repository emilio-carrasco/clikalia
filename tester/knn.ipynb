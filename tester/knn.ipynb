{
 "metadata": {
  "language_info": {
   "codemirror_mode": {
    "name": "ipython",
    "version": 3
   },
   "file_extension": ".py",
   "mimetype": "text/x-python",
   "name": "python",
   "nbconvert_exporter": "python",
   "pygments_lexer": "ipython3",
   "version": "3.7.10"
  },
  "orig_nbformat": 2,
  "kernelspec": {
   "name": "python3710jvsc74a57bd06f2a5341a97b48c9bdcca96e9c4256723bee63349916a470c764c5b9d3f29ee0",
   "display_name": "Python 3.7.10 64-bit ('clik': conda)"
  }
 },
 "nbformat": 4,
 "nbformat_minor": 2,
 "cells": [
  {
   "cell_type": "code",
   "execution_count": 1,
   "metadata": {},
   "outputs": [],
   "source": [
    "import pandas as pd\n",
    "import json\n",
    "from math import radians\n",
    "import numpy as np"
   ]
  },
  {
   "cell_type": "code",
   "execution_count": 2,
   "metadata": {},
   "outputs": [
    {
     "output_type": "execute_result",
     "data": {
      "text/plain": [
       "{'portero': 1,\n",
       " 'ascensor': 2,\n",
       " 'parque_infantil': 3,\n",
       " 'terraza': 1,\n",
       " 'trastero': 3,\n",
       " 'cuarto_de_basura': 1,\n",
       " 'zonas_comunes': 1,\n",
       " 'piscina': 3,\n",
       " 'garaje': 5,\n",
       " 'calefaccion': 1,\n",
       " 'jardin': 5,\n",
       " 'aire_acondicionado': 1,\n",
       " 'ns': 3,\n",
       " 'eo': 1}"
      ]
     },
     "metadata": {},
     "execution_count": 2
    }
   ],
   "source": [
    "\n",
    "ruta='pisos_limpios.csv'\n",
    "dfknn = pd.read_csv(ruta,sep=',')\n",
    "dfknn.columns\n",
    "dfknn.set_index('uv', inplace=True)\n",
    "with open('pesos.json') as archivo:\n",
    "            opciones = json.load(archivo)\n",
    "filtros=opciones['filtros']\n",
    "filtros = filtros[2:4]\n",
    "binarias =opciones['binarias']\n",
    "binarias"
   ]
  },
  {
   "cell_type": "code",
   "execution_count": 3,
   "metadata": {},
   "outputs": [],
   "source": [
    "df = dfknn.copy()\n",
    "target = df.iloc[15]\n",
    "target=pd.DataFrame(target).transpose()"
   ]
  },
  {
   "cell_type": "code",
   "execution_count": 4,
   "metadata": {},
   "outputs": [],
   "source": [
    "def haversine(d, t):\n",
    "    t = t.loc[t.index.repeat(len(d))]\n",
    "    indice = d.index\n",
    "    t.reset_index(drop=True, inplace=True)\n",
    "    d.reset_index(drop=True, inplace=True)\n",
    "    \n",
    "    lon1 = d.long\n",
    "    lat1 = d.lat\n",
    "    lon2 = t.long\n",
    "    lat2 = t.lat\n",
    "    \n",
    "\n",
    "    lat1 = lat1.map(radians)\n",
    "    lon1 = lon1.map(radians)\n",
    "    lat2 = lat2.map(radians)\n",
    "    lon2 = lon2.map(radians)\n",
    "\n",
    "\n",
    "    #lon1, lat1, lon2, lat2 = map(np.radians, [lon1, lat1, lon2, lat2])\n",
    "    \n",
    "    dlon = lon2 - lon1 \n",
    "    dlat = lat2 - lat1 \n",
    "    a = np.sin(dlat/2)**2 + np.cos(lat1) * np.cos(lat2) * np.sin(dlon/2)**2\n",
    "    c = 2 * np.arcsin(np.sqrt(a)) \n",
    "    km = 6371* c\n",
    "    return km"
   ]
  },
  {
   "cell_type": "code",
   "execution_count": 5,
   "metadata": {},
   "outputs": [],
   "source": [
    "def calc_ascensor(da,dp,ta,tp):\n",
    "    try:\n",
    "        if da ==1 and ta ==1: \n",
    "            distancia_ascensor = 10\n",
    "        elif da ==0 and ta == 0: \n",
    "            distancia_ascensor= (dp-tp) * ((dp-tp)>0)\n",
    "        elif da==0 and ta==1:\n",
    "            if dp < 2: \n",
    "                distancia_ascensor = 9\n",
    "            else:\n",
    "                distancia_ascensor = dp\n",
    "        elif da==1 and ta==0:\n",
    "            distancia_ascensor = 8\n",
    "        else:\n",
    "            distancia_ascensor= 7\n",
    "    except:\n",
    "        distancia_ascensor=6\n",
    "    return distancia_ascensor"
   ]
  },
  {
   "cell_type": "code",
   "execution_count": 6,
   "metadata": {},
   "outputs": [
    {
     "output_type": "execute_result",
     "data": {
      "text/plain": [
       "3"
      ]
     },
     "metadata": {},
     "execution_count": 6
    }
   ],
   "source": [
    "target.iloc[0]['intext']"
   ]
  },
  {
   "cell_type": "code",
   "execution_count": 7,
   "metadata": {},
   "outputs": [],
   "source": [
    "filtros =['provincia']"
   ]
  },
  {
   "cell_type": "code",
   "execution_count": 8,
   "metadata": {},
   "outputs": [],
   "source": [
    "\n",
    "for f in filtros:\n",
    "    #if f=='bajo':\n",
    "    #    indice = df[ df[planta] == 0 ].index\n",
    "    #else:\n",
    "    dato = target.iloc[0][f]\n",
    "\n",
    "    indice = df[ df[f] != dato ].index\n",
    "    df.drop(indice, axis=0, inplace=True)\n",
    "    df.drop(f,axis=1, inplace=True)\n",
    "\n",
    "###calculamos geo\n",
    "distancia_geo = haversine(df[['long','lat']], target[['long','lat']])\n",
    "###calculamos geo\n",
    "distancia_ascensor=df.apply(lambda row: calc_ascensor(row['ascensor'], row['planta'], target.ascensor[0],target.planta[0]),axis=1)\n",
    "\n",
    "df_binarias=df[binarias]\n",
    "target_binarias = target[binarias].loc[target.index.repeat(len(df_binarias))]\n",
    "target_binarias.index=df_binarias.index\n",
    "iguales=target_binarias==df_binarias\n",
    "distintas=target_binarias!=df_binarias\n",
    "s_binarias=pd.Series(binarias)\n",
    "similitud_binarias= iguales.dot(s_binarias) + distintas.dot(1-s_binarias)"
   ]
  },
  {
   "cell_type": "code",
   "execution_count": 9,
   "metadata": {},
   "outputs": [
    {
     "output_type": "execute_result",
     "data": {
      "text/plain": [
       "uv\n",
       "UV/2020/000003    30\n",
       "UV/2020/000004    21\n",
       "UV/2020/000006    21\n",
       "UV/2020/000007    26\n",
       "UV/2020/000008    21\n",
       "                  ..\n",
       "UV/2021/000443    20\n",
       "UV/2021/000444    22\n",
       "UV/2021/000448    23\n",
       "UV/2021/000456    27\n",
       "UV/2021/000461    22\n",
       "Length: 144, dtype: int64"
      ]
     },
     "metadata": {},
     "execution_count": 9
    }
   ],
   "source": [
    "similitud_binarias"
   ]
  },
  {
   "cell_type": "code",
   "execution_count": 10,
   "metadata": {},
   "outputs": [
    {
     "output_type": "error",
     "ename": "IndexError",
     "evalue": "tuple index out of range",
     "traceback": [
      "\u001b[0;31m---------------------------------------------------------------------------\u001b[0m",
      "\u001b[0;31mIndexError\u001b[0m                                Traceback (most recent call last)",
      "\u001b[0;32m<ipython-input-10-921f0dc4c545>\u001b[0m in \u001b[0;36m<module>\u001b[0;34m\u001b[0m\n\u001b[0;32m----> 1\u001b[0;31m \u001b[0msimilitud_binarias\u001b[0m\u001b[0;34m=\u001b[0m \u001b[0miguales\u001b[0m\u001b[0;34m.\u001b[0m\u001b[0mdot\u001b[0m\u001b[0;34m(\u001b[0m\u001b[0mbinarias\u001b[0m\u001b[0;34m.\u001b[0m\u001b[0mvalues\u001b[0m\u001b[0;34m)\u001b[0m\u001b[0;34m\u001b[0m\u001b[0;34m\u001b[0m\u001b[0m\n\u001b[0m",
      "\u001b[0;32m~/anaconda3/envs/clik/lib/python3.7/site-packages/pandas/core/frame.py\u001b[0m in \u001b[0;36mdot\u001b[0;34m(self, other)\u001b[0m\n\u001b[1;32m   1193\u001b[0m             \u001b[0mlvals\u001b[0m \u001b[0;34m=\u001b[0m \u001b[0mself\u001b[0m\u001b[0;34m.\u001b[0m\u001b[0mvalues\u001b[0m\u001b[0;34m\u001b[0m\u001b[0;34m\u001b[0m\u001b[0m\n\u001b[1;32m   1194\u001b[0m             \u001b[0mrvals\u001b[0m \u001b[0;34m=\u001b[0m \u001b[0mnp\u001b[0m\u001b[0;34m.\u001b[0m\u001b[0masarray\u001b[0m\u001b[0;34m(\u001b[0m\u001b[0mother\u001b[0m\u001b[0;34m)\u001b[0m\u001b[0;34m\u001b[0m\u001b[0;34m\u001b[0m\u001b[0m\n\u001b[0;32m-> 1195\u001b[0;31m             \u001b[0;32mif\u001b[0m \u001b[0mlvals\u001b[0m\u001b[0;34m.\u001b[0m\u001b[0mshape\u001b[0m\u001b[0;34m[\u001b[0m\u001b[0;36m1\u001b[0m\u001b[0;34m]\u001b[0m \u001b[0;34m!=\u001b[0m \u001b[0mrvals\u001b[0m\u001b[0;34m.\u001b[0m\u001b[0mshape\u001b[0m\u001b[0;34m[\u001b[0m\u001b[0;36m0\u001b[0m\u001b[0;34m]\u001b[0m\u001b[0;34m:\u001b[0m\u001b[0;34m\u001b[0m\u001b[0;34m\u001b[0m\u001b[0m\n\u001b[0m\u001b[1;32m   1196\u001b[0m                 raise ValueError(\n\u001b[1;32m   1197\u001b[0m                     \u001b[0;34mf\"Dot product shape mismatch, {lvals.shape} vs {rvals.shape}\"\u001b[0m\u001b[0;34m\u001b[0m\u001b[0;34m\u001b[0m\u001b[0m\n",
      "\u001b[0;31mIndexError\u001b[0m: tuple index out of range"
     ]
    }
   ],
   "source": [
    "similitud_binarias= iguales.dot(binarias.values)"
   ]
  },
  {
   "cell_type": "code",
   "execution_count": null,
   "metadata": {},
   "outputs": [],
   "source": []
  }
 ]
}