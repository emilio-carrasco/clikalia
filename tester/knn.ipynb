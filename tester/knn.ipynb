{
 "metadata": {
  "language_info": {
   "codemirror_mode": {
    "name": "ipython",
    "version": 3
   },
   "file_extension": ".py",
   "mimetype": "text/x-python",
   "name": "python",
   "nbconvert_exporter": "python",
   "pygments_lexer": "ipython3",
   "version": "3.7.10"
  },
  "orig_nbformat": 2,
  "kernelspec": {
   "name": "python3710jvsc74a57bd06f2a5341a97b48c9bdcca96e9c4256723bee63349916a470c764c5b9d3f29ee0",
   "display_name": "Python 3.7.10 64-bit ('clik': conda)"
  }
 },
 "nbformat": 4,
 "nbformat_minor": 2,
 "cells": [
  {
   "cell_type": "code",
   "execution_count": 1,
   "metadata": {},
   "outputs": [],
   "source": [
    "import pandas as pd\n",
    "import json"
   ]
  },
  {
   "cell_type": "code",
   "execution_count": 2,
   "metadata": {},
   "outputs": [
    {
     "output_type": "execute_result",
     "data": {
      "text/plain": [
       "Index(['uv', 'estado', 'precio', 'long', 'lat', 'provincia', 'ciudad',\n",
       "       'distrito', 'planta', 'habitaciones', 'banos', 'metros',\n",
       "       'fecha_construccion', 'intext', 'portero', 'ascensor',\n",
       "       'parque_infantil', 'terraza', 'trastero', 'cuarto_de_basura',\n",
       "       'zonas_comunes', 'piscina', 'garaje', 'calefaccion', 'jardin',\n",
       "       'aire_acondicionado', 'cusec', 'precio_area', 'reforma',\n",
       "       'precio_reformado', 'ns', 'eo'],\n",
       "      dtype='object')"
      ]
     },
     "metadata": {},
     "execution_count": 2
    }
   ],
   "source": [
    "\n",
    "ruta='0pisos_limpios.csv'\n",
    "dfknn = pd.read_csv(ruta,sep=',')\n",
    "dfknn.columns"
   ]
  },
  {
   "cell_type": "code",
   "execution_count": 3,
   "metadata": {},
   "outputs": [],
   "source": [
    "with open('pesos.json') as archivo:\n",
    "            opciones = json.load(archivo)"
   ]
  },
  {
   "cell_type": "code",
   "execution_count": 4,
   "metadata": {},
   "outputs": [],
   "source": [
    "filtros=opciones['filtros']\n"
   ]
  },
  {
   "cell_type": "code",
   "execution_count": 5,
   "metadata": {},
   "outputs": [
    {
     "output_type": "execute_result",
     "data": {
      "text/plain": [
       "Index(['uv', 'estado', 'precio', 'long', 'lat', 'provincia', 'ciudad',\n",
       "       'distrito', 'planta', 'habitaciones', 'banos', 'metros',\n",
       "       'fecha_construccion', 'intext', 'portero', 'ascensor',\n",
       "       'parque_infantil', 'terraza', 'trastero', 'cuarto_de_basura',\n",
       "       'zonas_comunes', 'piscina', 'garaje', 'calefaccion', 'jardin',\n",
       "       'aire_acondicionado', 'cusec', 'precio_area', 'reforma',\n",
       "       'precio_reformado', 'ns', 'eo'],\n",
       "      dtype='object')"
      ]
     },
     "metadata": {},
     "execution_count": 5
    }
   ],
   "source": [
    "dfknn.columns"
   ]
  },
  {
   "cell_type": "code",
   "execution_count": 6,
   "metadata": {},
   "outputs": [
    {
     "output_type": "execute_result",
     "data": {
      "text/plain": [
       "['banos', 'portero']"
      ]
     },
     "metadata": {},
     "execution_count": 6
    }
   ],
   "source": [
    "filtros=filtros[7:9]\n",
    "filtros"
   ]
  },
  {
   "cell_type": "code",
   "execution_count": 7,
   "metadata": {},
   "outputs": [],
   "source": [
    "def haversine(d, tar):\n",
    "    tar = tar.loc[tar.index.repeat(len(d))]\n",
    "    t=pd.DataFrame(tar)\n",
    "    indice = d.index\n",
    "    print(t)\n",
    "    t.set_index(indice, inplace=True)\n",
    "\n",
    "    lon1 = d.long\n",
    "    lat1 = d.lat\n",
    "\n",
    "    lon2 = t.long\n",
    "    lat2 = t.lat\n",
    "    lon1, lat1, lon2, lat2 = map(np.radians, [lon1, lat1, lon2, lat2])\n",
    "    \n",
    "    dlon = lon2 - lon1 \n",
    "    dlat = lat2 - lat1 \n",
    "    a = np.sin(dlat/2)**2 + np.cos(lat1) * np.cos(lat2) * np.sin(dlon/2)**2\n",
    "    c = 2 * np.arcsin(np.sqrt(a)) \n",
    "    \n",
    "    km = 6371* c\n",
    "    return km"
   ]
  },
  {
   "cell_type": "code",
   "execution_count": 8,
   "metadata": {},
   "outputs": [
    {
     "output_type": "error",
     "ename": "KeyError",
     "evalue": "1",
     "traceback": [
      "\u001b[0;31m---------------------------------------------------------------------------\u001b[0m",
      "\u001b[0;31mKeyError\u001b[0m                                  Traceback (most recent call last)",
      "\u001b[0;32m~/anaconda3/envs/clik/lib/python3.7/site-packages/pandas/core/indexes/base.py\u001b[0m in \u001b[0;36mget_loc\u001b[0;34m(self, key, method, tolerance)\u001b[0m\n\u001b[1;32m   2894\u001b[0m             \u001b[0;32mtry\u001b[0m\u001b[0;34m:\u001b[0m\u001b[0;34m\u001b[0m\u001b[0;34m\u001b[0m\u001b[0m\n\u001b[0;32m-> 2895\u001b[0;31m                 \u001b[0;32mreturn\u001b[0m \u001b[0mself\u001b[0m\u001b[0;34m.\u001b[0m\u001b[0m_engine\u001b[0m\u001b[0;34m.\u001b[0m\u001b[0mget_loc\u001b[0m\u001b[0;34m(\u001b[0m\u001b[0mcasted_key\u001b[0m\u001b[0;34m)\u001b[0m\u001b[0;34m\u001b[0m\u001b[0;34m\u001b[0m\u001b[0m\n\u001b[0m\u001b[1;32m   2896\u001b[0m             \u001b[0;32mexcept\u001b[0m \u001b[0mKeyError\u001b[0m \u001b[0;32mas\u001b[0m \u001b[0merr\u001b[0m\u001b[0;34m:\u001b[0m\u001b[0;34m\u001b[0m\u001b[0;34m\u001b[0m\u001b[0m\n",
      "\u001b[0;32mpandas/_libs/index.pyx\u001b[0m in \u001b[0;36mpandas._libs.index.IndexEngine.get_loc\u001b[0;34m()\u001b[0m\n",
      "\u001b[0;32mpandas/_libs/index.pyx\u001b[0m in \u001b[0;36mpandas._libs.index.IndexEngine.get_loc\u001b[0;34m()\u001b[0m\n",
      "\u001b[0;32mpandas/_libs/hashtable_class_helper.pxi\u001b[0m in \u001b[0;36mpandas._libs.hashtable.PyObjectHashTable.get_item\u001b[0;34m()\u001b[0m\n",
      "\u001b[0;32mpandas/_libs/hashtable_class_helper.pxi\u001b[0m in \u001b[0;36mpandas._libs.hashtable.PyObjectHashTable.get_item\u001b[0;34m()\u001b[0m\n",
      "\u001b[0;31mKeyError\u001b[0m: 1",
      "\nThe above exception was the direct cause of the following exception:\n",
      "\u001b[0;31mKeyError\u001b[0m                                  Traceback (most recent call last)",
      "\u001b[0;32m<ipython-input-8-2c645a803133>\u001b[0m in \u001b[0;36m<module>\u001b[0;34m\u001b[0m\n\u001b[1;32m      1\u001b[0m \u001b[0mdf\u001b[0m \u001b[0;34m=\u001b[0m \u001b[0mdfknn\u001b[0m\u001b[0;34m\u001b[0m\u001b[0;34m\u001b[0m\u001b[0m\n\u001b[1;32m      2\u001b[0m \u001b[0mtarget\u001b[0m \u001b[0;34m=\u001b[0m \u001b[0mdf\u001b[0m\u001b[0;34m.\u001b[0m\u001b[0miloc\u001b[0m\u001b[0;34m[\u001b[0m\u001b[0;36m1\u001b[0m\u001b[0;34m]\u001b[0m\u001b[0;34m\u001b[0m\u001b[0;34m\u001b[0m\u001b[0m\n\u001b[0;32m----> 3\u001b[0;31m \u001b[0mprint\u001b[0m\u001b[0;34m(\u001b[0m\u001b[0mdf\u001b[0m\u001b[0;34m[\u001b[0m\u001b[0;36m1\u001b[0m\u001b[0;34m]\u001b[0m\u001b[0;34m)\u001b[0m\u001b[0;34m\u001b[0m\u001b[0;34m\u001b[0m\u001b[0m\n\u001b[0m\u001b[1;32m      4\u001b[0m \u001b[0;34m\u001b[0m\u001b[0m\n\u001b[1;32m      5\u001b[0m \u001b[0mdf\u001b[0m\u001b[0;34m.\u001b[0m\u001b[0mdrop\u001b[0m\u001b[0;34m(\u001b[0m\u001b[0;36m1\u001b[0m\u001b[0;34m,\u001b[0m \u001b[0maxis\u001b[0m\u001b[0;34m=\u001b[0m\u001b[0;36m0\u001b[0m\u001b[0;34m,\u001b[0m \u001b[0minplace\u001b[0m\u001b[0;34m=\u001b[0m\u001b[0;32mTrue\u001b[0m\u001b[0;34m)\u001b[0m\u001b[0;34m\u001b[0m\u001b[0;34m\u001b[0m\u001b[0m\n",
      "\u001b[0;32m~/anaconda3/envs/clik/lib/python3.7/site-packages/pandas/core/frame.py\u001b[0m in \u001b[0;36m__getitem__\u001b[0;34m(self, key)\u001b[0m\n\u001b[1;32m   2900\u001b[0m             \u001b[0;32mif\u001b[0m \u001b[0mself\u001b[0m\u001b[0;34m.\u001b[0m\u001b[0mcolumns\u001b[0m\u001b[0;34m.\u001b[0m\u001b[0mnlevels\u001b[0m \u001b[0;34m>\u001b[0m \u001b[0;36m1\u001b[0m\u001b[0;34m:\u001b[0m\u001b[0;34m\u001b[0m\u001b[0;34m\u001b[0m\u001b[0m\n\u001b[1;32m   2901\u001b[0m                 \u001b[0;32mreturn\u001b[0m \u001b[0mself\u001b[0m\u001b[0;34m.\u001b[0m\u001b[0m_getitem_multilevel\u001b[0m\u001b[0;34m(\u001b[0m\u001b[0mkey\u001b[0m\u001b[0;34m)\u001b[0m\u001b[0;34m\u001b[0m\u001b[0;34m\u001b[0m\u001b[0m\n\u001b[0;32m-> 2902\u001b[0;31m             \u001b[0mindexer\u001b[0m \u001b[0;34m=\u001b[0m \u001b[0mself\u001b[0m\u001b[0;34m.\u001b[0m\u001b[0mcolumns\u001b[0m\u001b[0;34m.\u001b[0m\u001b[0mget_loc\u001b[0m\u001b[0;34m(\u001b[0m\u001b[0mkey\u001b[0m\u001b[0;34m)\u001b[0m\u001b[0;34m\u001b[0m\u001b[0;34m\u001b[0m\u001b[0m\n\u001b[0m\u001b[1;32m   2903\u001b[0m             \u001b[0;32mif\u001b[0m \u001b[0mis_integer\u001b[0m\u001b[0;34m(\u001b[0m\u001b[0mindexer\u001b[0m\u001b[0;34m)\u001b[0m\u001b[0;34m:\u001b[0m\u001b[0;34m\u001b[0m\u001b[0;34m\u001b[0m\u001b[0m\n\u001b[1;32m   2904\u001b[0m                 \u001b[0mindexer\u001b[0m \u001b[0;34m=\u001b[0m \u001b[0;34m[\u001b[0m\u001b[0mindexer\u001b[0m\u001b[0;34m]\u001b[0m\u001b[0;34m\u001b[0m\u001b[0;34m\u001b[0m\u001b[0m\n",
      "\u001b[0;32m~/anaconda3/envs/clik/lib/python3.7/site-packages/pandas/core/indexes/base.py\u001b[0m in \u001b[0;36mget_loc\u001b[0;34m(self, key, method, tolerance)\u001b[0m\n\u001b[1;32m   2895\u001b[0m                 \u001b[0;32mreturn\u001b[0m \u001b[0mself\u001b[0m\u001b[0;34m.\u001b[0m\u001b[0m_engine\u001b[0m\u001b[0;34m.\u001b[0m\u001b[0mget_loc\u001b[0m\u001b[0;34m(\u001b[0m\u001b[0mcasted_key\u001b[0m\u001b[0;34m)\u001b[0m\u001b[0;34m\u001b[0m\u001b[0;34m\u001b[0m\u001b[0m\n\u001b[1;32m   2896\u001b[0m             \u001b[0;32mexcept\u001b[0m \u001b[0mKeyError\u001b[0m \u001b[0;32mas\u001b[0m \u001b[0merr\u001b[0m\u001b[0;34m:\u001b[0m\u001b[0;34m\u001b[0m\u001b[0;34m\u001b[0m\u001b[0m\n\u001b[0;32m-> 2897\u001b[0;31m                 \u001b[0;32mraise\u001b[0m \u001b[0mKeyError\u001b[0m\u001b[0;34m(\u001b[0m\u001b[0mkey\u001b[0m\u001b[0;34m)\u001b[0m \u001b[0;32mfrom\u001b[0m \u001b[0merr\u001b[0m\u001b[0;34m\u001b[0m\u001b[0;34m\u001b[0m\u001b[0m\n\u001b[0m\u001b[1;32m   2898\u001b[0m \u001b[0;34m\u001b[0m\u001b[0m\n\u001b[1;32m   2899\u001b[0m         \u001b[0;32mif\u001b[0m \u001b[0mtolerance\u001b[0m \u001b[0;32mis\u001b[0m \u001b[0;32mnot\u001b[0m \u001b[0;32mNone\u001b[0m\u001b[0;34m:\u001b[0m\u001b[0;34m\u001b[0m\u001b[0;34m\u001b[0m\u001b[0m\n",
      "\u001b[0;31mKeyError\u001b[0m: 1"
     ]
    }
   ],
   "source": [
    "df = dfknn\n",
    "target = df.iloc[1]\n",
    "print(df[;,1])\n",
    "\n",
    "df.drop(1, axis=0, inplace=True)\n",
    "\n",
    "for f in filtros:\n",
    "    index = df[ df[f] != target[f]  ].index\n",
    "    df.drop(index, axis=0, inplace=True)\n",
    "    df.drop(f,axis=1, inplace=True)\n",
    "\n",
    "    #calcula geo y asceonsor\n",
    "\n",
    "df['geo'] = haversine(df[['long','lat']], target[['long','lat']])\n",
    "\n",
    "\n",
    "\n"
   ]
  },
  {
   "cell_type": "code",
   "execution_count": 10,
   "metadata": {},
   "outputs": [
    {
     "output_type": "execute_result",
     "data": {
      "text/plain": [
       "                 uv  estado  precio     long      lat  provincia  \\\n",
       "0    UV/2020/000003       1  160.00  40.4278 -3.63083          1   \n",
       "2    UV/2020/000006       1    0.00  40.4330 -3.63715          1   \n",
       "3    UV/2020/000007       1  159.00  40.2950 -3.80339          1   \n",
       "4    UV/2020/000008       1  170.00  40.2846 -3.78862          1   \n",
       "5    UV/2020/000009       1  170.00  40.2839 -3.78976          1   \n",
       "6    UV/2020/000010       1  265.00  40.4107 -3.70752          1   \n",
       "8    UV/2020/000013       1  260.00  40.4268 -3.66187          1   \n",
       "9    UV/2020/000014       1  135.00  40.4101 -3.70373          1   \n",
       "11   UV/2020/000016       1  120.00  40.3834 -3.70528          1   \n",
       "13   UV/2020/000018       1  169.00  40.2919 -3.78604          1   \n",
       "14   UV/2020/000019       1  149.00  40.2961 -3.79702          1   \n",
       "15   UV/2020/000020       1  175.00  40.3171 -3.85256          1   \n",
       "19   UV/2020/000037       1  165.00  40.3377 -3.75194          1   \n",
       "22   UV/2020/000044       1  187.00  40.4250 -3.65918          1   \n",
       "26   UV/2020/000052       1  165.00  40.4321 -3.73647          1   \n",
       "32   UV/2020/000068       1  318.00  41.4036  2.17782          2   \n",
       "34   UV/2020/000071       2  320.00  40.4377 -3.67268          1   \n",
       "36   UV/2020/000073       1  160.00  40.4269 -3.63138          1   \n",
       "37   UV/2020/000074       1  199.90  41.3653  2.05833          2   \n",
       "44   UV/2020/000130       1  180.00  40.4834 -3.72095          1   \n",
       "47   UV/2020/000143       1  210.00  40.4044 -3.71086          1   \n",
       "51   UV/2020/000151       1  360.00  40.4000 -3.69407          1   \n",
       "52   UV/2020/000153       1  180.00  40.4269 -3.63138          1   \n",
       "63   UV/2020/000229       1  125.00  40.3831 -3.66613          1   \n",
       "64   UV/2020/000232       1  160.00  40.4299 -3.64119          1   \n",
       "65   UV/2020/000233       1  260.00  40.4794 -3.70376          1   \n",
       "66   UV/2020/000236       1  165.00  40.3802 -3.74597          1   \n",
       "67   UV/2020/000237       1  175.00  40.3975 -3.77017          1   \n",
       "69   UV/2020/000240       1  250.00  40.4794 -3.70376          1   \n",
       "72   UV/2020/000245       1  215.00  40.4319 -3.70228          1   \n",
       "73   UV/2020/000246       1  179.00  40.4695 -3.70165          1   \n",
       "76   UV/2020/000249       1  169.00  40.2909 -3.79520          1   \n",
       "77   UV/2020/000250       1  179.00  40.4060 -3.73680          1   \n",
       "78   UV/2020/000251       1  115.00  40.3746 -3.73951          1   \n",
       "84   UV/2020/000266       1  288.00  41.3785  2.14657          2   \n",
       "86   UV/2020/000276       1  234.99  41.4154  2.20374          2   \n",
       "87   UV/2020/000278       1  154.99  41.3707  2.17424          2   \n",
       "90   UV/2020/000300       1  360.00  40.4503 -3.70072          1   \n",
       "91   UV/2020/000303       2  360.00  40.4348 -3.67155          1   \n",
       "95   UV/2020/000309       2  120.00  40.3483 -3.70680          1   \n",
       "98   UV/2020/000312       1   85.00  40.3842 -3.67163          1   \n",
       "101  UV/2020/000318       1   80.00  40.2423 -3.76534          1   \n",
       "103  UV/2020/000320       1   90.00  40.3144 -3.72027          1   \n",
       "104  UV/2020/000322       1  275.00  40.4302 -3.67201          1   \n",
       "105  UV/2020/000323       2  160.00  40.5481 -3.62307          1   \n",
       "109  UV/2020/000329       1   99.00  40.2366 -3.76472          1   \n",
       "127  UV/2021/000366       1   75.00  40.4892 -3.36186          1   \n",
       "129  UV/2021/000368       1  110.00  40.4017 -3.60367          1   \n",
       "159  UV/2021/000428       1  125.00  40.3557 -3.69495          1   \n",
       "166  UV/2021/000448       1  130.00  40.4290 -3.63959          1   \n",
       "\n",
       "                         ciudad                         distrito  planta  \\\n",
       "0                        Madrid                         San Blas       9   \n",
       "2                        Madrid                    Ciudad Lineal       2   \n",
       "3                   Fuenlabrada                         La Serna       9   \n",
       "4                   Fuenlabrada                           Centro       6   \n",
       "5                   Fuenlabrada                           Centro       6   \n",
       "6                        Madrid                           Centro       1   \n",
       "8                        Madrid                        Salamanca       2   \n",
       "9                        Madrid                           Centro       1   \n",
       "11                       Madrid                            Usera       3   \n",
       "13                  Fuenlabrada           La Avanzada - La Cueva       9   \n",
       "14                  Fuenlabrada                         La Serna       3   \n",
       "15                     Móstoles                             Este       3   \n",
       "19                      Leganés                     Zarzaquemada       5   \n",
       "22                       Madrid                    Ciudad Lineal       4   \n",
       "26                       Madrid                       Arganzuela       0   \n",
       "32                    Barcelona                       L’Exaimple       6   \n",
       "34                       Madrid                        Salamanca       2   \n",
       "36                       Madrid                    Ciudad Lineal       5   \n",
       "37              Sant Joan Despi                  Sant Joan Despí       3   \n",
       "44                       Madrid                       Fuencarral       2   \n",
       "47                       Madrid                       Arganzuela       2   \n",
       "51                       Madrid                       Arganzuela       1   \n",
       "52                       Madrid                    Ciudad Lineal       7   \n",
       "63                       Madrid               Puente de Vallecas       2   \n",
       "64                       Madrid                    Ciudad Lineal       3   \n",
       "65                       Madrid                       Fuencarral       4   \n",
       "66                       Madrid                      Carabanchel       4   \n",
       "67                       Madrid                           Latina       3   \n",
       "69                       Madrid                       Fuencarral       7   \n",
       "72                       Madrid                         Chamberí       1   \n",
       "73                       Madrid                           Tetuán       0   \n",
       "76                  Fuenlabrada           La Avanzada - La Cueva      10   \n",
       "77                       Madrid                           Latina       4   \n",
       "78                       Madrid                      Carabanchel       1   \n",
       "84                    Barcelona                         Eixample       6   \n",
       "86                    Barcelona                       Sant Marti       6   \n",
       "87                    Barcelona  El Poble Sec - Parc de Montjuic       0   \n",
       "90                       Madrid                           Tetuán       5   \n",
       "91                       Madrid                        Salamanca       4   \n",
       "95                       Madrid                       Villaverde       1   \n",
       "98                       Madrid     Entrevias-Puente de Vallecas       4   \n",
       "101                       Parla                  Pintores-Ferial       1   \n",
       "103                      Getafe    Universidad-Juan de la Cierva       4   \n",
       "104                      Madrid                        Salamanca       2   \n",
       "105  San Sebastián De Los Reyes      San Sebastián de los Reyes        2   \n",
       "109                       Parla                  Pinto-San Roque       2   \n",
       "127           Alcalá De Henares       San Isidro - Los Almendros       3   \n",
       "129                      Madrid     Casco Histórico de Vicálvaro       2   \n",
       "159                      Madrid                       Villaverde       4   \n",
       "166                      Madrid                    Ciudad Lineal       3   \n",
       "\n",
       "     habitaciones  ...  garaje  calefaccion  jardin  aire_acondicionado  \\\n",
       "0               2  ...       0            0       0                   0   \n",
       "2               2  ...       0            0       0                   0   \n",
       "3               3  ...       0            0       0                   0   \n",
       "4               3  ...       0            0       0                   0   \n",
       "5               3  ...       0            0       0                   0   \n",
       "6               2  ...       0            0       0                   0   \n",
       "8               2  ...       0            0       0                   0   \n",
       "9               1  ...       0            0       0                   0   \n",
       "11              2  ...       0            0       0                   0   \n",
       "13              3  ...       0            0       0                   0   \n",
       "14              3  ...       0            0       0                   0   \n",
       "15              2  ...       0            0       0                   0   \n",
       "19              3  ...       0            0       0                   0   \n",
       "22              2  ...       0            0       0                   0   \n",
       "26              2  ...       0            0       0                   0   \n",
       "32              3  ...       0            0       0                   0   \n",
       "34              2  ...       0            0       0                   0   \n",
       "36              2  ...       0            0       0                   0   \n",
       "37              4  ...       0            0       0                   0   \n",
       "44              2  ...       0            0       0                   0   \n",
       "47              1  ...       0            0       0                   0   \n",
       "51              2  ...       0            0       0                   0   \n",
       "52              2  ...       0            0       0                   0   \n",
       "63              2  ...       0            0       0                   0   \n",
       "64              2  ...       0            0       0                   0   \n",
       "65              2  ...       0            0       0                   0   \n",
       "66              2  ...       0            0       0                   0   \n",
       "67              3  ...       0            0       0                   0   \n",
       "69              2  ...       0            0       0                   0   \n",
       "72              1  ...       0            0       0                   0   \n",
       "73              1  ...       1            0       0                   0   \n",
       "76              2  ...       0            0       0                   0   \n",
       "77              3  ...       0            0       0                   0   \n",
       "78              3  ...       0            0       0                   0   \n",
       "84              3  ...       0            0       0                   0   \n",
       "86              3  ...       0            0       0                   0   \n",
       "87              2  ...       1            0       0                   0   \n",
       "90              4  ...       0            0       0                   0   \n",
       "91              2  ...       1            0       0                   0   \n",
       "95              3  ...       0            0       0                   0   \n",
       "98              3  ...       0            0       0                   0   \n",
       "101             3  ...       0            0       0                   0   \n",
       "103             3  ...       0            0       0                   0   \n",
       "104             3  ...       0            0       0                   0   \n",
       "105             3  ...       0            0       0                   0   \n",
       "109             1  ...       1            0       0                   0   \n",
       "127             2  ...       0            0       0                   0   \n",
       "129             2  ...       0            0       0                   0   \n",
       "159             3  ...       0            0       0                   0   \n",
       "166             2  ...       0            0       0                   0   \n",
       "\n",
       "            cusec    precio_area  reforma  precio_reformado  ns   eo  \n",
       "0    2.807915e+09  167909.090909       35            195.00   N    E  \n",
       "2    2.807915e+09  136690.000000       35             35.00   S  NaN  \n",
       "3    2.805806e+09            NaN       35            194.00   S    E  \n",
       "4    2.805802e+09            NaN       45            215.00   S    E  \n",
       "5    2.805802e+09            NaN       35            205.00   N    E  \n",
       "6    2.807901e+09  309714.285714       35            300.00   S    E  \n",
       "8    2.807904e+09  306000.000000       35            295.00   N    E  \n",
       "9    2.807901e+09  289513.636364       35            170.00   N    E  \n",
       "11   2.807912e+09  127887.777778       35            155.00   S    E  \n",
       "13   2.805802e+09            NaN       45            214.00   S    E  \n",
       "14   2.805806e+09            NaN       45            194.00   S    E  \n",
       "15   2.809204e+09            NaN       45            220.00   N    E  \n",
       "19   2.807404e+09  125000.000000       35            200.00   S    E  \n",
       "22   2.807915e+09  245625.000000       35            222.00   S  NaN  \n",
       "26   2.807909e+09  182500.000000       55            220.00   S    E  \n",
       "32   8.019020e+08  389386.363636       55            373.00   S  NaN  \n",
       "34   2.807904e+09  519533.333333       35            355.00   S  NaN  \n",
       "36   2.807915e+09  167909.090909       35            195.00   N    E  \n",
       "37   8.217010e+08            NaN       55            254.90   S    E  \n",
       "44   2.807908e+09  142000.000000       35            215.00   S    E  \n",
       "47   2.807902e+09  342166.666667       35            245.00   S  NaN  \n",
       "51   2.807902e+09  232616.666667       35            395.00   S  NaN  \n",
       "52   2.807915e+09  167909.090909       35            215.00   N    E  \n",
       "63   2.807913e+09  123551.111111       35            160.00   N    E  \n",
       "64   2.807915e+09  169333.333333       35            195.00   S  NaN  \n",
       "65   2.807908e+09  248500.000000       35            295.00   N    E  \n",
       "66   2.807911e+09  168600.000000       35            200.00   S  NaN  \n",
       "67   2.807910e+09   86000.000000       35            210.00   S  NaN  \n",
       "69   2.807908e+09  248500.000000       35            285.00   N    E  \n",
       "72   2.807907e+09  661200.000000       35            250.00   N    E  \n",
       "73   2.807906e+09  322000.000000       35            214.00   S    E  \n",
       "76   2.805803e+09            NaN       35            204.00   S  NaN  \n",
       "77   2.807910e+09  131696.846154       35            214.00   S  NaN  \n",
       "78   2.807911e+09   99000.000000       35            150.00   S  NaN  \n",
       "84   8.019021e+08  369200.000000       45            333.00   N    E  \n",
       "86   8.019101e+08  231682.857143       35            269.99   S    E  \n",
       "87   8.019030e+08  319875.000000       35            189.99   N    E  \n",
       "90   2.807906e+09  258800.000000       80            440.00   N    E  \n",
       "91   2.807904e+09  539474.068966       35            395.00   S    E  \n",
       "95   2.807917e+09  108074.285714       35            155.00   S    E  \n",
       "98   2.807913e+09  138187.500000       35            120.00   S    E  \n",
       "101  2.810601e+09  110466.666667       55            135.00   S    E  \n",
       "103  2.806504e+09            NaN       35            125.00   S    E  \n",
       "104  2.807904e+09  415000.000000       35            310.00   S    E  \n",
       "105  2.813401e+09            NaN       45            205.00   S    E  \n",
       "109  2.810601e+09  173700.000000       45            144.00   S    E  \n",
       "127  2.800501e+09   95000.000000       35            110.00   N    E  \n",
       "129  2.807919e+09  173671.428571       55            165.00   N    E  \n",
       "159  2.807917e+09  149666.666667       45            170.00   S  NaN  \n",
       "166  2.807915e+09  180500.000000       35            165.00   S    E  \n",
       "\n",
       "[50 rows x 30 columns]"
      ],
      "text/html": "<div>\n<style scoped>\n    .dataframe tbody tr th:only-of-type {\n        vertical-align: middle;\n    }\n\n    .dataframe tbody tr th {\n        vertical-align: top;\n    }\n\n    .dataframe thead th {\n        text-align: right;\n    }\n</style>\n<table border=\"1\" class=\"dataframe\">\n  <thead>\n    <tr style=\"text-align: right;\">\n      <th></th>\n      <th>uv</th>\n      <th>estado</th>\n      <th>precio</th>\n      <th>long</th>\n      <th>lat</th>\n      <th>provincia</th>\n      <th>ciudad</th>\n      <th>distrito</th>\n      <th>planta</th>\n      <th>habitaciones</th>\n      <th>...</th>\n      <th>garaje</th>\n      <th>calefaccion</th>\n      <th>jardin</th>\n      <th>aire_acondicionado</th>\n      <th>cusec</th>\n      <th>precio_area</th>\n      <th>reforma</th>\n      <th>precio_reformado</th>\n      <th>ns</th>\n      <th>eo</th>\n    </tr>\n  </thead>\n  <tbody>\n    <tr>\n      <th>0</th>\n      <td>UV/2020/000003</td>\n      <td>1</td>\n      <td>160.00</td>\n      <td>40.4278</td>\n      <td>-3.63083</td>\n      <td>1</td>\n      <td>Madrid</td>\n      <td>San Blas</td>\n      <td>9</td>\n      <td>2</td>\n      <td>...</td>\n      <td>0</td>\n      <td>0</td>\n      <td>0</td>\n      <td>0</td>\n      <td>2.807915e+09</td>\n      <td>167909.090909</td>\n      <td>35</td>\n      <td>195.00</td>\n      <td>N</td>\n      <td>E</td>\n    </tr>\n    <tr>\n      <th>2</th>\n      <td>UV/2020/000006</td>\n      <td>1</td>\n      <td>0.00</td>\n      <td>40.4330</td>\n      <td>-3.63715</td>\n      <td>1</td>\n      <td>Madrid</td>\n      <td>Ciudad Lineal</td>\n      <td>2</td>\n      <td>2</td>\n      <td>...</td>\n      <td>0</td>\n      <td>0</td>\n      <td>0</td>\n      <td>0</td>\n      <td>2.807915e+09</td>\n      <td>136690.000000</td>\n      <td>35</td>\n      <td>35.00</td>\n      <td>S</td>\n      <td>NaN</td>\n    </tr>\n    <tr>\n      <th>3</th>\n      <td>UV/2020/000007</td>\n      <td>1</td>\n      <td>159.00</td>\n      <td>40.2950</td>\n      <td>-3.80339</td>\n      <td>1</td>\n      <td>Fuenlabrada</td>\n      <td>La Serna</td>\n      <td>9</td>\n      <td>3</td>\n      <td>...</td>\n      <td>0</td>\n      <td>0</td>\n      <td>0</td>\n      <td>0</td>\n      <td>2.805806e+09</td>\n      <td>NaN</td>\n      <td>35</td>\n      <td>194.00</td>\n      <td>S</td>\n      <td>E</td>\n    </tr>\n    <tr>\n      <th>4</th>\n      <td>UV/2020/000008</td>\n      <td>1</td>\n      <td>170.00</td>\n      <td>40.2846</td>\n      <td>-3.78862</td>\n      <td>1</td>\n      <td>Fuenlabrada</td>\n      <td>Centro</td>\n      <td>6</td>\n      <td>3</td>\n      <td>...</td>\n      <td>0</td>\n      <td>0</td>\n      <td>0</td>\n      <td>0</td>\n      <td>2.805802e+09</td>\n      <td>NaN</td>\n      <td>45</td>\n      <td>215.00</td>\n      <td>S</td>\n      <td>E</td>\n    </tr>\n    <tr>\n      <th>5</th>\n      <td>UV/2020/000009</td>\n      <td>1</td>\n      <td>170.00</td>\n      <td>40.2839</td>\n      <td>-3.78976</td>\n      <td>1</td>\n      <td>Fuenlabrada</td>\n      <td>Centro</td>\n      <td>6</td>\n      <td>3</td>\n      <td>...</td>\n      <td>0</td>\n      <td>0</td>\n      <td>0</td>\n      <td>0</td>\n      <td>2.805802e+09</td>\n      <td>NaN</td>\n      <td>35</td>\n      <td>205.00</td>\n      <td>N</td>\n      <td>E</td>\n    </tr>\n    <tr>\n      <th>6</th>\n      <td>UV/2020/000010</td>\n      <td>1</td>\n      <td>265.00</td>\n      <td>40.4107</td>\n      <td>-3.70752</td>\n      <td>1</td>\n      <td>Madrid</td>\n      <td>Centro</td>\n      <td>1</td>\n      <td>2</td>\n      <td>...</td>\n      <td>0</td>\n      <td>0</td>\n      <td>0</td>\n      <td>0</td>\n      <td>2.807901e+09</td>\n      <td>309714.285714</td>\n      <td>35</td>\n      <td>300.00</td>\n      <td>S</td>\n      <td>E</td>\n    </tr>\n    <tr>\n      <th>8</th>\n      <td>UV/2020/000013</td>\n      <td>1</td>\n      <td>260.00</td>\n      <td>40.4268</td>\n      <td>-3.66187</td>\n      <td>1</td>\n      <td>Madrid</td>\n      <td>Salamanca</td>\n      <td>2</td>\n      <td>2</td>\n      <td>...</td>\n      <td>0</td>\n      <td>0</td>\n      <td>0</td>\n      <td>0</td>\n      <td>2.807904e+09</td>\n      <td>306000.000000</td>\n      <td>35</td>\n      <td>295.00</td>\n      <td>N</td>\n      <td>E</td>\n    </tr>\n    <tr>\n      <th>9</th>\n      <td>UV/2020/000014</td>\n      <td>1</td>\n      <td>135.00</td>\n      <td>40.4101</td>\n      <td>-3.70373</td>\n      <td>1</td>\n      <td>Madrid</td>\n      <td>Centro</td>\n      <td>1</td>\n      <td>1</td>\n      <td>...</td>\n      <td>0</td>\n      <td>0</td>\n      <td>0</td>\n      <td>0</td>\n      <td>2.807901e+09</td>\n      <td>289513.636364</td>\n      <td>35</td>\n      <td>170.00</td>\n      <td>N</td>\n      <td>E</td>\n    </tr>\n    <tr>\n      <th>11</th>\n      <td>UV/2020/000016</td>\n      <td>1</td>\n      <td>120.00</td>\n      <td>40.3834</td>\n      <td>-3.70528</td>\n      <td>1</td>\n      <td>Madrid</td>\n      <td>Usera</td>\n      <td>3</td>\n      <td>2</td>\n      <td>...</td>\n      <td>0</td>\n      <td>0</td>\n      <td>0</td>\n      <td>0</td>\n      <td>2.807912e+09</td>\n      <td>127887.777778</td>\n      <td>35</td>\n      <td>155.00</td>\n      <td>S</td>\n      <td>E</td>\n    </tr>\n    <tr>\n      <th>13</th>\n      <td>UV/2020/000018</td>\n      <td>1</td>\n      <td>169.00</td>\n      <td>40.2919</td>\n      <td>-3.78604</td>\n      <td>1</td>\n      <td>Fuenlabrada</td>\n      <td>La Avanzada - La Cueva</td>\n      <td>9</td>\n      <td>3</td>\n      <td>...</td>\n      <td>0</td>\n      <td>0</td>\n      <td>0</td>\n      <td>0</td>\n      <td>2.805802e+09</td>\n      <td>NaN</td>\n      <td>45</td>\n      <td>214.00</td>\n      <td>S</td>\n      <td>E</td>\n    </tr>\n    <tr>\n      <th>14</th>\n      <td>UV/2020/000019</td>\n      <td>1</td>\n      <td>149.00</td>\n      <td>40.2961</td>\n      <td>-3.79702</td>\n      <td>1</td>\n      <td>Fuenlabrada</td>\n      <td>La Serna</td>\n      <td>3</td>\n      <td>3</td>\n      <td>...</td>\n      <td>0</td>\n      <td>0</td>\n      <td>0</td>\n      <td>0</td>\n      <td>2.805806e+09</td>\n      <td>NaN</td>\n      <td>45</td>\n      <td>194.00</td>\n      <td>S</td>\n      <td>E</td>\n    </tr>\n    <tr>\n      <th>15</th>\n      <td>UV/2020/000020</td>\n      <td>1</td>\n      <td>175.00</td>\n      <td>40.3171</td>\n      <td>-3.85256</td>\n      <td>1</td>\n      <td>Móstoles</td>\n      <td>Este</td>\n      <td>3</td>\n      <td>2</td>\n      <td>...</td>\n      <td>0</td>\n      <td>0</td>\n      <td>0</td>\n      <td>0</td>\n      <td>2.809204e+09</td>\n      <td>NaN</td>\n      <td>45</td>\n      <td>220.00</td>\n      <td>N</td>\n      <td>E</td>\n    </tr>\n    <tr>\n      <th>19</th>\n      <td>UV/2020/000037</td>\n      <td>1</td>\n      <td>165.00</td>\n      <td>40.3377</td>\n      <td>-3.75194</td>\n      <td>1</td>\n      <td>Leganés</td>\n      <td>Zarzaquemada</td>\n      <td>5</td>\n      <td>3</td>\n      <td>...</td>\n      <td>0</td>\n      <td>0</td>\n      <td>0</td>\n      <td>0</td>\n      <td>2.807404e+09</td>\n      <td>125000.000000</td>\n      <td>35</td>\n      <td>200.00</td>\n      <td>S</td>\n      <td>E</td>\n    </tr>\n    <tr>\n      <th>22</th>\n      <td>UV/2020/000044</td>\n      <td>1</td>\n      <td>187.00</td>\n      <td>40.4250</td>\n      <td>-3.65918</td>\n      <td>1</td>\n      <td>Madrid</td>\n      <td>Ciudad Lineal</td>\n      <td>4</td>\n      <td>2</td>\n      <td>...</td>\n      <td>0</td>\n      <td>0</td>\n      <td>0</td>\n      <td>0</td>\n      <td>2.807915e+09</td>\n      <td>245625.000000</td>\n      <td>35</td>\n      <td>222.00</td>\n      <td>S</td>\n      <td>NaN</td>\n    </tr>\n    <tr>\n      <th>26</th>\n      <td>UV/2020/000052</td>\n      <td>1</td>\n      <td>165.00</td>\n      <td>40.4321</td>\n      <td>-3.73647</td>\n      <td>1</td>\n      <td>Madrid</td>\n      <td>Arganzuela</td>\n      <td>0</td>\n      <td>2</td>\n      <td>...</td>\n      <td>0</td>\n      <td>0</td>\n      <td>0</td>\n      <td>0</td>\n      <td>2.807909e+09</td>\n      <td>182500.000000</td>\n      <td>55</td>\n      <td>220.00</td>\n      <td>S</td>\n      <td>E</td>\n    </tr>\n    <tr>\n      <th>32</th>\n      <td>UV/2020/000068</td>\n      <td>1</td>\n      <td>318.00</td>\n      <td>41.4036</td>\n      <td>2.17782</td>\n      <td>2</td>\n      <td>Barcelona</td>\n      <td>L’Exaimple</td>\n      <td>6</td>\n      <td>3</td>\n      <td>...</td>\n      <td>0</td>\n      <td>0</td>\n      <td>0</td>\n      <td>0</td>\n      <td>8.019020e+08</td>\n      <td>389386.363636</td>\n      <td>55</td>\n      <td>373.00</td>\n      <td>S</td>\n      <td>NaN</td>\n    </tr>\n    <tr>\n      <th>34</th>\n      <td>UV/2020/000071</td>\n      <td>2</td>\n      <td>320.00</td>\n      <td>40.4377</td>\n      <td>-3.67268</td>\n      <td>1</td>\n      <td>Madrid</td>\n      <td>Salamanca</td>\n      <td>2</td>\n      <td>2</td>\n      <td>...</td>\n      <td>0</td>\n      <td>0</td>\n      <td>0</td>\n      <td>0</td>\n      <td>2.807904e+09</td>\n      <td>519533.333333</td>\n      <td>35</td>\n      <td>355.00</td>\n      <td>S</td>\n      <td>NaN</td>\n    </tr>\n    <tr>\n      <th>36</th>\n      <td>UV/2020/000073</td>\n      <td>1</td>\n      <td>160.00</td>\n      <td>40.4269</td>\n      <td>-3.63138</td>\n      <td>1</td>\n      <td>Madrid</td>\n      <td>Ciudad Lineal</td>\n      <td>5</td>\n      <td>2</td>\n      <td>...</td>\n      <td>0</td>\n      <td>0</td>\n      <td>0</td>\n      <td>0</td>\n      <td>2.807915e+09</td>\n      <td>167909.090909</td>\n      <td>35</td>\n      <td>195.00</td>\n      <td>N</td>\n      <td>E</td>\n    </tr>\n    <tr>\n      <th>37</th>\n      <td>UV/2020/000074</td>\n      <td>1</td>\n      <td>199.90</td>\n      <td>41.3653</td>\n      <td>2.05833</td>\n      <td>2</td>\n      <td>Sant Joan Despi</td>\n      <td>Sant Joan Despí</td>\n      <td>3</td>\n      <td>4</td>\n      <td>...</td>\n      <td>0</td>\n      <td>0</td>\n      <td>0</td>\n      <td>0</td>\n      <td>8.217010e+08</td>\n      <td>NaN</td>\n      <td>55</td>\n      <td>254.90</td>\n      <td>S</td>\n      <td>E</td>\n    </tr>\n    <tr>\n      <th>44</th>\n      <td>UV/2020/000130</td>\n      <td>1</td>\n      <td>180.00</td>\n      <td>40.4834</td>\n      <td>-3.72095</td>\n      <td>1</td>\n      <td>Madrid</td>\n      <td>Fuencarral</td>\n      <td>2</td>\n      <td>2</td>\n      <td>...</td>\n      <td>0</td>\n      <td>0</td>\n      <td>0</td>\n      <td>0</td>\n      <td>2.807908e+09</td>\n      <td>142000.000000</td>\n      <td>35</td>\n      <td>215.00</td>\n      <td>S</td>\n      <td>E</td>\n    </tr>\n    <tr>\n      <th>47</th>\n      <td>UV/2020/000143</td>\n      <td>1</td>\n      <td>210.00</td>\n      <td>40.4044</td>\n      <td>-3.71086</td>\n      <td>1</td>\n      <td>Madrid</td>\n      <td>Arganzuela</td>\n      <td>2</td>\n      <td>1</td>\n      <td>...</td>\n      <td>0</td>\n      <td>0</td>\n      <td>0</td>\n      <td>0</td>\n      <td>2.807902e+09</td>\n      <td>342166.666667</td>\n      <td>35</td>\n      <td>245.00</td>\n      <td>S</td>\n      <td>NaN</td>\n    </tr>\n    <tr>\n      <th>51</th>\n      <td>UV/2020/000151</td>\n      <td>1</td>\n      <td>360.00</td>\n      <td>40.4000</td>\n      <td>-3.69407</td>\n      <td>1</td>\n      <td>Madrid</td>\n      <td>Arganzuela</td>\n      <td>1</td>\n      <td>2</td>\n      <td>...</td>\n      <td>0</td>\n      <td>0</td>\n      <td>0</td>\n      <td>0</td>\n      <td>2.807902e+09</td>\n      <td>232616.666667</td>\n      <td>35</td>\n      <td>395.00</td>\n      <td>S</td>\n      <td>NaN</td>\n    </tr>\n    <tr>\n      <th>52</th>\n      <td>UV/2020/000153</td>\n      <td>1</td>\n      <td>180.00</td>\n      <td>40.4269</td>\n      <td>-3.63138</td>\n      <td>1</td>\n      <td>Madrid</td>\n      <td>Ciudad Lineal</td>\n      <td>7</td>\n      <td>2</td>\n      <td>...</td>\n      <td>0</td>\n      <td>0</td>\n      <td>0</td>\n      <td>0</td>\n      <td>2.807915e+09</td>\n      <td>167909.090909</td>\n      <td>35</td>\n      <td>215.00</td>\n      <td>N</td>\n      <td>E</td>\n    </tr>\n    <tr>\n      <th>63</th>\n      <td>UV/2020/000229</td>\n      <td>1</td>\n      <td>125.00</td>\n      <td>40.3831</td>\n      <td>-3.66613</td>\n      <td>1</td>\n      <td>Madrid</td>\n      <td>Puente de Vallecas</td>\n      <td>2</td>\n      <td>2</td>\n      <td>...</td>\n      <td>0</td>\n      <td>0</td>\n      <td>0</td>\n      <td>0</td>\n      <td>2.807913e+09</td>\n      <td>123551.111111</td>\n      <td>35</td>\n      <td>160.00</td>\n      <td>N</td>\n      <td>E</td>\n    </tr>\n    <tr>\n      <th>64</th>\n      <td>UV/2020/000232</td>\n      <td>1</td>\n      <td>160.00</td>\n      <td>40.4299</td>\n      <td>-3.64119</td>\n      <td>1</td>\n      <td>Madrid</td>\n      <td>Ciudad Lineal</td>\n      <td>3</td>\n      <td>2</td>\n      <td>...</td>\n      <td>0</td>\n      <td>0</td>\n      <td>0</td>\n      <td>0</td>\n      <td>2.807915e+09</td>\n      <td>169333.333333</td>\n      <td>35</td>\n      <td>195.00</td>\n      <td>S</td>\n      <td>NaN</td>\n    </tr>\n    <tr>\n      <th>65</th>\n      <td>UV/2020/000233</td>\n      <td>1</td>\n      <td>260.00</td>\n      <td>40.4794</td>\n      <td>-3.70376</td>\n      <td>1</td>\n      <td>Madrid</td>\n      <td>Fuencarral</td>\n      <td>4</td>\n      <td>2</td>\n      <td>...</td>\n      <td>0</td>\n      <td>0</td>\n      <td>0</td>\n      <td>0</td>\n      <td>2.807908e+09</td>\n      <td>248500.000000</td>\n      <td>35</td>\n      <td>295.00</td>\n      <td>N</td>\n      <td>E</td>\n    </tr>\n    <tr>\n      <th>66</th>\n      <td>UV/2020/000236</td>\n      <td>1</td>\n      <td>165.00</td>\n      <td>40.3802</td>\n      <td>-3.74597</td>\n      <td>1</td>\n      <td>Madrid</td>\n      <td>Carabanchel</td>\n      <td>4</td>\n      <td>2</td>\n      <td>...</td>\n      <td>0</td>\n      <td>0</td>\n      <td>0</td>\n      <td>0</td>\n      <td>2.807911e+09</td>\n      <td>168600.000000</td>\n      <td>35</td>\n      <td>200.00</td>\n      <td>S</td>\n      <td>NaN</td>\n    </tr>\n    <tr>\n      <th>67</th>\n      <td>UV/2020/000237</td>\n      <td>1</td>\n      <td>175.00</td>\n      <td>40.3975</td>\n      <td>-3.77017</td>\n      <td>1</td>\n      <td>Madrid</td>\n      <td>Latina</td>\n      <td>3</td>\n      <td>3</td>\n      <td>...</td>\n      <td>0</td>\n      <td>0</td>\n      <td>0</td>\n      <td>0</td>\n      <td>2.807910e+09</td>\n      <td>86000.000000</td>\n      <td>35</td>\n      <td>210.00</td>\n      <td>S</td>\n      <td>NaN</td>\n    </tr>\n    <tr>\n      <th>69</th>\n      <td>UV/2020/000240</td>\n      <td>1</td>\n      <td>250.00</td>\n      <td>40.4794</td>\n      <td>-3.70376</td>\n      <td>1</td>\n      <td>Madrid</td>\n      <td>Fuencarral</td>\n      <td>7</td>\n      <td>2</td>\n      <td>...</td>\n      <td>0</td>\n      <td>0</td>\n      <td>0</td>\n      <td>0</td>\n      <td>2.807908e+09</td>\n      <td>248500.000000</td>\n      <td>35</td>\n      <td>285.00</td>\n      <td>N</td>\n      <td>E</td>\n    </tr>\n    <tr>\n      <th>72</th>\n      <td>UV/2020/000245</td>\n      <td>1</td>\n      <td>215.00</td>\n      <td>40.4319</td>\n      <td>-3.70228</td>\n      <td>1</td>\n      <td>Madrid</td>\n      <td>Chamberí</td>\n      <td>1</td>\n      <td>1</td>\n      <td>...</td>\n      <td>0</td>\n      <td>0</td>\n      <td>0</td>\n      <td>0</td>\n      <td>2.807907e+09</td>\n      <td>661200.000000</td>\n      <td>35</td>\n      <td>250.00</td>\n      <td>N</td>\n      <td>E</td>\n    </tr>\n    <tr>\n      <th>73</th>\n      <td>UV/2020/000246</td>\n      <td>1</td>\n      <td>179.00</td>\n      <td>40.4695</td>\n      <td>-3.70165</td>\n      <td>1</td>\n      <td>Madrid</td>\n      <td>Tetuán</td>\n      <td>0</td>\n      <td>1</td>\n      <td>...</td>\n      <td>1</td>\n      <td>0</td>\n      <td>0</td>\n      <td>0</td>\n      <td>2.807906e+09</td>\n      <td>322000.000000</td>\n      <td>35</td>\n      <td>214.00</td>\n      <td>S</td>\n      <td>E</td>\n    </tr>\n    <tr>\n      <th>76</th>\n      <td>UV/2020/000249</td>\n      <td>1</td>\n      <td>169.00</td>\n      <td>40.2909</td>\n      <td>-3.79520</td>\n      <td>1</td>\n      <td>Fuenlabrada</td>\n      <td>La Avanzada - La Cueva</td>\n      <td>10</td>\n      <td>2</td>\n      <td>...</td>\n      <td>0</td>\n      <td>0</td>\n      <td>0</td>\n      <td>0</td>\n      <td>2.805803e+09</td>\n      <td>NaN</td>\n      <td>35</td>\n      <td>204.00</td>\n      <td>S</td>\n      <td>NaN</td>\n    </tr>\n    <tr>\n      <th>77</th>\n      <td>UV/2020/000250</td>\n      <td>1</td>\n      <td>179.00</td>\n      <td>40.4060</td>\n      <td>-3.73680</td>\n      <td>1</td>\n      <td>Madrid</td>\n      <td>Latina</td>\n      <td>4</td>\n      <td>3</td>\n      <td>...</td>\n      <td>0</td>\n      <td>0</td>\n      <td>0</td>\n      <td>0</td>\n      <td>2.807910e+09</td>\n      <td>131696.846154</td>\n      <td>35</td>\n      <td>214.00</td>\n      <td>S</td>\n      <td>NaN</td>\n    </tr>\n    <tr>\n      <th>78</th>\n      <td>UV/2020/000251</td>\n      <td>1</td>\n      <td>115.00</td>\n      <td>40.3746</td>\n      <td>-3.73951</td>\n      <td>1</td>\n      <td>Madrid</td>\n      <td>Carabanchel</td>\n      <td>1</td>\n      <td>3</td>\n      <td>...</td>\n      <td>0</td>\n      <td>0</td>\n      <td>0</td>\n      <td>0</td>\n      <td>2.807911e+09</td>\n      <td>99000.000000</td>\n      <td>35</td>\n      <td>150.00</td>\n      <td>S</td>\n      <td>NaN</td>\n    </tr>\n    <tr>\n      <th>84</th>\n      <td>UV/2020/000266</td>\n      <td>1</td>\n      <td>288.00</td>\n      <td>41.3785</td>\n      <td>2.14657</td>\n      <td>2</td>\n      <td>Barcelona</td>\n      <td>Eixample</td>\n      <td>6</td>\n      <td>3</td>\n      <td>...</td>\n      <td>0</td>\n      <td>0</td>\n      <td>0</td>\n      <td>0</td>\n      <td>8.019021e+08</td>\n      <td>369200.000000</td>\n      <td>45</td>\n      <td>333.00</td>\n      <td>N</td>\n      <td>E</td>\n    </tr>\n    <tr>\n      <th>86</th>\n      <td>UV/2020/000276</td>\n      <td>1</td>\n      <td>234.99</td>\n      <td>41.4154</td>\n      <td>2.20374</td>\n      <td>2</td>\n      <td>Barcelona</td>\n      <td>Sant Marti</td>\n      <td>6</td>\n      <td>3</td>\n      <td>...</td>\n      <td>0</td>\n      <td>0</td>\n      <td>0</td>\n      <td>0</td>\n      <td>8.019101e+08</td>\n      <td>231682.857143</td>\n      <td>35</td>\n      <td>269.99</td>\n      <td>S</td>\n      <td>E</td>\n    </tr>\n    <tr>\n      <th>87</th>\n      <td>UV/2020/000278</td>\n      <td>1</td>\n      <td>154.99</td>\n      <td>41.3707</td>\n      <td>2.17424</td>\n      <td>2</td>\n      <td>Barcelona</td>\n      <td>El Poble Sec - Parc de Montjuic</td>\n      <td>0</td>\n      <td>2</td>\n      <td>...</td>\n      <td>1</td>\n      <td>0</td>\n      <td>0</td>\n      <td>0</td>\n      <td>8.019030e+08</td>\n      <td>319875.000000</td>\n      <td>35</td>\n      <td>189.99</td>\n      <td>N</td>\n      <td>E</td>\n    </tr>\n    <tr>\n      <th>90</th>\n      <td>UV/2020/000300</td>\n      <td>1</td>\n      <td>360.00</td>\n      <td>40.4503</td>\n      <td>-3.70072</td>\n      <td>1</td>\n      <td>Madrid</td>\n      <td>Tetuán</td>\n      <td>5</td>\n      <td>4</td>\n      <td>...</td>\n      <td>0</td>\n      <td>0</td>\n      <td>0</td>\n      <td>0</td>\n      <td>2.807906e+09</td>\n      <td>258800.000000</td>\n      <td>80</td>\n      <td>440.00</td>\n      <td>N</td>\n      <td>E</td>\n    </tr>\n    <tr>\n      <th>91</th>\n      <td>UV/2020/000303</td>\n      <td>2</td>\n      <td>360.00</td>\n      <td>40.4348</td>\n      <td>-3.67155</td>\n      <td>1</td>\n      <td>Madrid</td>\n      <td>Salamanca</td>\n      <td>4</td>\n      <td>2</td>\n      <td>...</td>\n      <td>1</td>\n      <td>0</td>\n      <td>0</td>\n      <td>0</td>\n      <td>2.807904e+09</td>\n      <td>539474.068966</td>\n      <td>35</td>\n      <td>395.00</td>\n      <td>S</td>\n      <td>E</td>\n    </tr>\n    <tr>\n      <th>95</th>\n      <td>UV/2020/000309</td>\n      <td>2</td>\n      <td>120.00</td>\n      <td>40.3483</td>\n      <td>-3.70680</td>\n      <td>1</td>\n      <td>Madrid</td>\n      <td>Villaverde</td>\n      <td>1</td>\n      <td>3</td>\n      <td>...</td>\n      <td>0</td>\n      <td>0</td>\n      <td>0</td>\n      <td>0</td>\n      <td>2.807917e+09</td>\n      <td>108074.285714</td>\n      <td>35</td>\n      <td>155.00</td>\n      <td>S</td>\n      <td>E</td>\n    </tr>\n    <tr>\n      <th>98</th>\n      <td>UV/2020/000312</td>\n      <td>1</td>\n      <td>85.00</td>\n      <td>40.3842</td>\n      <td>-3.67163</td>\n      <td>1</td>\n      <td>Madrid</td>\n      <td>Entrevias-Puente de Vallecas</td>\n      <td>4</td>\n      <td>3</td>\n      <td>...</td>\n      <td>0</td>\n      <td>0</td>\n      <td>0</td>\n      <td>0</td>\n      <td>2.807913e+09</td>\n      <td>138187.500000</td>\n      <td>35</td>\n      <td>120.00</td>\n      <td>S</td>\n      <td>E</td>\n    </tr>\n    <tr>\n      <th>101</th>\n      <td>UV/2020/000318</td>\n      <td>1</td>\n      <td>80.00</td>\n      <td>40.2423</td>\n      <td>-3.76534</td>\n      <td>1</td>\n      <td>Parla</td>\n      <td>Pintores-Ferial</td>\n      <td>1</td>\n      <td>3</td>\n      <td>...</td>\n      <td>0</td>\n      <td>0</td>\n      <td>0</td>\n      <td>0</td>\n      <td>2.810601e+09</td>\n      <td>110466.666667</td>\n      <td>55</td>\n      <td>135.00</td>\n      <td>S</td>\n      <td>E</td>\n    </tr>\n    <tr>\n      <th>103</th>\n      <td>UV/2020/000320</td>\n      <td>1</td>\n      <td>90.00</td>\n      <td>40.3144</td>\n      <td>-3.72027</td>\n      <td>1</td>\n      <td>Getafe</td>\n      <td>Universidad-Juan de la Cierva</td>\n      <td>4</td>\n      <td>3</td>\n      <td>...</td>\n      <td>0</td>\n      <td>0</td>\n      <td>0</td>\n      <td>0</td>\n      <td>2.806504e+09</td>\n      <td>NaN</td>\n      <td>35</td>\n      <td>125.00</td>\n      <td>S</td>\n      <td>E</td>\n    </tr>\n    <tr>\n      <th>104</th>\n      <td>UV/2020/000322</td>\n      <td>1</td>\n      <td>275.00</td>\n      <td>40.4302</td>\n      <td>-3.67201</td>\n      <td>1</td>\n      <td>Madrid</td>\n      <td>Salamanca</td>\n      <td>2</td>\n      <td>3</td>\n      <td>...</td>\n      <td>0</td>\n      <td>0</td>\n      <td>0</td>\n      <td>0</td>\n      <td>2.807904e+09</td>\n      <td>415000.000000</td>\n      <td>35</td>\n      <td>310.00</td>\n      <td>S</td>\n      <td>E</td>\n    </tr>\n    <tr>\n      <th>105</th>\n      <td>UV/2020/000323</td>\n      <td>2</td>\n      <td>160.00</td>\n      <td>40.5481</td>\n      <td>-3.62307</td>\n      <td>1</td>\n      <td>San Sebastián De Los Reyes</td>\n      <td>San Sebastián de los Reyes</td>\n      <td>2</td>\n      <td>3</td>\n      <td>...</td>\n      <td>0</td>\n      <td>0</td>\n      <td>0</td>\n      <td>0</td>\n      <td>2.813401e+09</td>\n      <td>NaN</td>\n      <td>45</td>\n      <td>205.00</td>\n      <td>S</td>\n      <td>E</td>\n    </tr>\n    <tr>\n      <th>109</th>\n      <td>UV/2020/000329</td>\n      <td>1</td>\n      <td>99.00</td>\n      <td>40.2366</td>\n      <td>-3.76472</td>\n      <td>1</td>\n      <td>Parla</td>\n      <td>Pinto-San Roque</td>\n      <td>2</td>\n      <td>1</td>\n      <td>...</td>\n      <td>1</td>\n      <td>0</td>\n      <td>0</td>\n      <td>0</td>\n      <td>2.810601e+09</td>\n      <td>173700.000000</td>\n      <td>45</td>\n      <td>144.00</td>\n      <td>S</td>\n      <td>E</td>\n    </tr>\n    <tr>\n      <th>127</th>\n      <td>UV/2021/000366</td>\n      <td>1</td>\n      <td>75.00</td>\n      <td>40.4892</td>\n      <td>-3.36186</td>\n      <td>1</td>\n      <td>Alcalá De Henares</td>\n      <td>San Isidro - Los Almendros</td>\n      <td>3</td>\n      <td>2</td>\n      <td>...</td>\n      <td>0</td>\n      <td>0</td>\n      <td>0</td>\n      <td>0</td>\n      <td>2.800501e+09</td>\n      <td>95000.000000</td>\n      <td>35</td>\n      <td>110.00</td>\n      <td>N</td>\n      <td>E</td>\n    </tr>\n    <tr>\n      <th>129</th>\n      <td>UV/2021/000368</td>\n      <td>1</td>\n      <td>110.00</td>\n      <td>40.4017</td>\n      <td>-3.60367</td>\n      <td>1</td>\n      <td>Madrid</td>\n      <td>Casco Histórico de Vicálvaro</td>\n      <td>2</td>\n      <td>2</td>\n      <td>...</td>\n      <td>0</td>\n      <td>0</td>\n      <td>0</td>\n      <td>0</td>\n      <td>2.807919e+09</td>\n      <td>173671.428571</td>\n      <td>55</td>\n      <td>165.00</td>\n      <td>N</td>\n      <td>E</td>\n    </tr>\n    <tr>\n      <th>159</th>\n      <td>UV/2021/000428</td>\n      <td>1</td>\n      <td>125.00</td>\n      <td>40.3557</td>\n      <td>-3.69495</td>\n      <td>1</td>\n      <td>Madrid</td>\n      <td>Villaverde</td>\n      <td>4</td>\n      <td>3</td>\n      <td>...</td>\n      <td>0</td>\n      <td>0</td>\n      <td>0</td>\n      <td>0</td>\n      <td>2.807917e+09</td>\n      <td>149666.666667</td>\n      <td>45</td>\n      <td>170.00</td>\n      <td>S</td>\n      <td>NaN</td>\n    </tr>\n    <tr>\n      <th>166</th>\n      <td>UV/2021/000448</td>\n      <td>1</td>\n      <td>130.00</td>\n      <td>40.4290</td>\n      <td>-3.63959</td>\n      <td>1</td>\n      <td>Madrid</td>\n      <td>Ciudad Lineal</td>\n      <td>3</td>\n      <td>2</td>\n      <td>...</td>\n      <td>0</td>\n      <td>0</td>\n      <td>0</td>\n      <td>0</td>\n      <td>2.807915e+09</td>\n      <td>180500.000000</td>\n      <td>35</td>\n      <td>165.00</td>\n      <td>S</td>\n      <td>E</td>\n    </tr>\n  </tbody>\n</table>\n<p>50 rows × 30 columns</p>\n</div>"
     },
     "metadata": {},
     "execution_count": 10
    }
   ],
   "source": [
    "df"
   ]
  },
  {
   "cell_type": "code",
   "execution_count": 9,
   "metadata": {},
   "outputs": [
    {
     "output_type": "error",
     "ename": "KeyError",
     "evalue": "\"None of [Index(['banos', 'portero'], dtype='object')] are in the [columns]\"",
     "traceback": [
      "\u001b[0;31m---------------------------------------------------------------------------\u001b[0m",
      "\u001b[0;31mKeyError\u001b[0m                                  Traceback (most recent call last)",
      "\u001b[0;32m<ipython-input-9-694b1566c437>\u001b[0m in \u001b[0;36m<module>\u001b[0;34m\u001b[0m\n\u001b[0;32m----> 1\u001b[0;31m \u001b[0mdf\u001b[0m\u001b[0;34m[\u001b[0m\u001b[0mfiltros\u001b[0m\u001b[0;34m]\u001b[0m\u001b[0;34m\u001b[0m\u001b[0;34m\u001b[0m\u001b[0m\n\u001b[0m",
      "\u001b[0;32m~/anaconda3/envs/clik/lib/python3.7/site-packages/pandas/core/frame.py\u001b[0m in \u001b[0;36m__getitem__\u001b[0;34m(self, key)\u001b[0m\n\u001b[1;32m   2906\u001b[0m             \u001b[0;32mif\u001b[0m \u001b[0mis_iterator\u001b[0m\u001b[0;34m(\u001b[0m\u001b[0mkey\u001b[0m\u001b[0;34m)\u001b[0m\u001b[0;34m:\u001b[0m\u001b[0;34m\u001b[0m\u001b[0;34m\u001b[0m\u001b[0m\n\u001b[1;32m   2907\u001b[0m                 \u001b[0mkey\u001b[0m \u001b[0;34m=\u001b[0m \u001b[0mlist\u001b[0m\u001b[0;34m(\u001b[0m\u001b[0mkey\u001b[0m\u001b[0;34m)\u001b[0m\u001b[0;34m\u001b[0m\u001b[0;34m\u001b[0m\u001b[0m\n\u001b[0;32m-> 2908\u001b[0;31m             \u001b[0mindexer\u001b[0m \u001b[0;34m=\u001b[0m \u001b[0mself\u001b[0m\u001b[0;34m.\u001b[0m\u001b[0mloc\u001b[0m\u001b[0;34m.\u001b[0m\u001b[0m_get_listlike_indexer\u001b[0m\u001b[0;34m(\u001b[0m\u001b[0mkey\u001b[0m\u001b[0;34m,\u001b[0m \u001b[0maxis\u001b[0m\u001b[0;34m=\u001b[0m\u001b[0;36m1\u001b[0m\u001b[0;34m,\u001b[0m \u001b[0mraise_missing\u001b[0m\u001b[0;34m=\u001b[0m\u001b[0;32mTrue\u001b[0m\u001b[0;34m)\u001b[0m\u001b[0;34m[\u001b[0m\u001b[0;36m1\u001b[0m\u001b[0;34m]\u001b[0m\u001b[0;34m\u001b[0m\u001b[0;34m\u001b[0m\u001b[0m\n\u001b[0m\u001b[1;32m   2909\u001b[0m \u001b[0;34m\u001b[0m\u001b[0m\n\u001b[1;32m   2910\u001b[0m         \u001b[0;31m# take() does not accept boolean indexers\u001b[0m\u001b[0;34m\u001b[0m\u001b[0;34m\u001b[0m\u001b[0;34m\u001b[0m\u001b[0m\n",
      "\u001b[0;32m~/anaconda3/envs/clik/lib/python3.7/site-packages/pandas/core/indexing.py\u001b[0m in \u001b[0;36m_get_listlike_indexer\u001b[0;34m(self, key, axis, raise_missing)\u001b[0m\n\u001b[1;32m   1252\u001b[0m             \u001b[0mkeyarr\u001b[0m\u001b[0;34m,\u001b[0m \u001b[0mindexer\u001b[0m\u001b[0;34m,\u001b[0m \u001b[0mnew_indexer\u001b[0m \u001b[0;34m=\u001b[0m \u001b[0max\u001b[0m\u001b[0;34m.\u001b[0m\u001b[0m_reindex_non_unique\u001b[0m\u001b[0;34m(\u001b[0m\u001b[0mkeyarr\u001b[0m\u001b[0;34m)\u001b[0m\u001b[0;34m\u001b[0m\u001b[0;34m\u001b[0m\u001b[0m\n\u001b[1;32m   1253\u001b[0m \u001b[0;34m\u001b[0m\u001b[0m\n\u001b[0;32m-> 1254\u001b[0;31m         \u001b[0mself\u001b[0m\u001b[0;34m.\u001b[0m\u001b[0m_validate_read_indexer\u001b[0m\u001b[0;34m(\u001b[0m\u001b[0mkeyarr\u001b[0m\u001b[0;34m,\u001b[0m \u001b[0mindexer\u001b[0m\u001b[0;34m,\u001b[0m \u001b[0maxis\u001b[0m\u001b[0;34m,\u001b[0m \u001b[0mraise_missing\u001b[0m\u001b[0;34m=\u001b[0m\u001b[0mraise_missing\u001b[0m\u001b[0;34m)\u001b[0m\u001b[0;34m\u001b[0m\u001b[0;34m\u001b[0m\u001b[0m\n\u001b[0m\u001b[1;32m   1255\u001b[0m         \u001b[0;32mreturn\u001b[0m \u001b[0mkeyarr\u001b[0m\u001b[0;34m,\u001b[0m \u001b[0mindexer\u001b[0m\u001b[0;34m\u001b[0m\u001b[0;34m\u001b[0m\u001b[0m\n\u001b[1;32m   1256\u001b[0m \u001b[0;34m\u001b[0m\u001b[0m\n",
      "\u001b[0;32m~/anaconda3/envs/clik/lib/python3.7/site-packages/pandas/core/indexing.py\u001b[0m in \u001b[0;36m_validate_read_indexer\u001b[0;34m(self, key, indexer, axis, raise_missing)\u001b[0m\n\u001b[1;32m   1296\u001b[0m             \u001b[0;32mif\u001b[0m \u001b[0mmissing\u001b[0m \u001b[0;34m==\u001b[0m \u001b[0mlen\u001b[0m\u001b[0;34m(\u001b[0m\u001b[0mindexer\u001b[0m\u001b[0;34m)\u001b[0m\u001b[0;34m:\u001b[0m\u001b[0;34m\u001b[0m\u001b[0;34m\u001b[0m\u001b[0m\n\u001b[1;32m   1297\u001b[0m                 \u001b[0maxis_name\u001b[0m \u001b[0;34m=\u001b[0m \u001b[0mself\u001b[0m\u001b[0;34m.\u001b[0m\u001b[0mobj\u001b[0m\u001b[0;34m.\u001b[0m\u001b[0m_get_axis_name\u001b[0m\u001b[0;34m(\u001b[0m\u001b[0maxis\u001b[0m\u001b[0;34m)\u001b[0m\u001b[0;34m\u001b[0m\u001b[0;34m\u001b[0m\u001b[0m\n\u001b[0;32m-> 1298\u001b[0;31m                 \u001b[0;32mraise\u001b[0m \u001b[0mKeyError\u001b[0m\u001b[0;34m(\u001b[0m\u001b[0;34mf\"None of [{key}] are in the [{axis_name}]\"\u001b[0m\u001b[0;34m)\u001b[0m\u001b[0;34m\u001b[0m\u001b[0;34m\u001b[0m\u001b[0m\n\u001b[0m\u001b[1;32m   1299\u001b[0m \u001b[0;34m\u001b[0m\u001b[0m\n\u001b[1;32m   1300\u001b[0m             \u001b[0;31m# We (temporarily) allow for some missing keys with .loc, except in\u001b[0m\u001b[0;34m\u001b[0m\u001b[0;34m\u001b[0m\u001b[0;34m\u001b[0m\u001b[0m\n",
      "\u001b[0;31mKeyError\u001b[0m: \"None of [Index(['banos', 'portero'], dtype='object')] are in the [columns]\""
     ]
    }
   ],
   "source": []
  },
  {
   "cell_type": "code",
   "execution_count": 11,
   "metadata": {
    "tags": []
   },
   "outputs": [
    {
     "output_type": "error",
     "ename": "KeyError",
     "evalue": "'portero'",
     "traceback": [
      "\u001b[0;31m---------------------------------------------------------------------------\u001b[0m",
      "\u001b[0;31mKeyError\u001b[0m                                  Traceback (most recent call last)",
      "\u001b[0;32m~/anaconda3/envs/clik/lib/python3.7/site-packages/pandas/core/indexes/base.py\u001b[0m in \u001b[0;36mget_loc\u001b[0;34m(self, key, method, tolerance)\u001b[0m\n\u001b[1;32m   2894\u001b[0m             \u001b[0;32mtry\u001b[0m\u001b[0;34m:\u001b[0m\u001b[0;34m\u001b[0m\u001b[0;34m\u001b[0m\u001b[0m\n\u001b[0;32m-> 2895\u001b[0;31m                 \u001b[0;32mreturn\u001b[0m \u001b[0mself\u001b[0m\u001b[0;34m.\u001b[0m\u001b[0m_engine\u001b[0m\u001b[0;34m.\u001b[0m\u001b[0mget_loc\u001b[0m\u001b[0;34m(\u001b[0m\u001b[0mcasted_key\u001b[0m\u001b[0;34m)\u001b[0m\u001b[0;34m\u001b[0m\u001b[0;34m\u001b[0m\u001b[0m\n\u001b[0m\u001b[1;32m   2896\u001b[0m             \u001b[0;32mexcept\u001b[0m \u001b[0mKeyError\u001b[0m \u001b[0;32mas\u001b[0m \u001b[0merr\u001b[0m\u001b[0;34m:\u001b[0m\u001b[0;34m\u001b[0m\u001b[0;34m\u001b[0m\u001b[0m\n",
      "\u001b[0;32mpandas/_libs/index.pyx\u001b[0m in \u001b[0;36mpandas._libs.index.IndexEngine.get_loc\u001b[0;34m()\u001b[0m\n",
      "\u001b[0;32mpandas/_libs/index.pyx\u001b[0m in \u001b[0;36mpandas._libs.index.IndexEngine.get_loc\u001b[0;34m()\u001b[0m\n",
      "\u001b[0;32mpandas/_libs/hashtable_class_helper.pxi\u001b[0m in \u001b[0;36mpandas._libs.hashtable.PyObjectHashTable.get_item\u001b[0;34m()\u001b[0m\n",
      "\u001b[0;32mpandas/_libs/hashtable_class_helper.pxi\u001b[0m in \u001b[0;36mpandas._libs.hashtable.PyObjectHashTable.get_item\u001b[0;34m()\u001b[0m\n",
      "\u001b[0;31mKeyError\u001b[0m: 'portero'",
      "\nThe above exception was the direct cause of the following exception:\n",
      "\u001b[0;31mKeyError\u001b[0m                                  Traceback (most recent call last)",
      "\u001b[0;32m<ipython-input-11-8e996cc4aeb2>\u001b[0m in \u001b[0;36m<module>\u001b[0;34m\u001b[0m\n\u001b[0;32m----> 1\u001b[0;31m \u001b[0mindex\u001b[0m \u001b[0;34m=\u001b[0m \u001b[0mdf\u001b[0m\u001b[0;34m[\u001b[0m \u001b[0mdf\u001b[0m\u001b[0;34m[\u001b[0m\u001b[0mf\u001b[0m\u001b[0;34m]\u001b[0m \u001b[0;34m!=\u001b[0m \u001b[0mtarget\u001b[0m\u001b[0;34m[\u001b[0m\u001b[0mf\u001b[0m\u001b[0;34m]\u001b[0m  \u001b[0;34m]\u001b[0m\u001b[0;34m.\u001b[0m\u001b[0mindex\u001b[0m\u001b[0;34m\u001b[0m\u001b[0;34m\u001b[0m\u001b[0m\n\u001b[0m\u001b[1;32m      2\u001b[0m \u001b[0mdf\u001b[0m\u001b[0;34m.\u001b[0m\u001b[0mdrop\u001b[0m\u001b[0;34m(\u001b[0m\u001b[0mindex\u001b[0m\u001b[0;34m,\u001b[0m \u001b[0maxis\u001b[0m\u001b[0;34m=\u001b[0m\u001b[0;36m0\u001b[0m\u001b[0;34m,\u001b[0m \u001b[0minplace\u001b[0m\u001b[0;34m=\u001b[0m\u001b[0;32mTrue\u001b[0m\u001b[0;34m)\u001b[0m\u001b[0;34m\u001b[0m\u001b[0;34m\u001b[0m\u001b[0m\n\u001b[1;32m      3\u001b[0m \u001b[0;34m\u001b[0m\u001b[0m\n\u001b[1;32m      4\u001b[0m \u001b[0;34m\u001b[0m\u001b[0m\n",
      "\u001b[0;32m~/anaconda3/envs/clik/lib/python3.7/site-packages/pandas/core/frame.py\u001b[0m in \u001b[0;36m__getitem__\u001b[0;34m(self, key)\u001b[0m\n\u001b[1;32m   2900\u001b[0m             \u001b[0;32mif\u001b[0m \u001b[0mself\u001b[0m\u001b[0;34m.\u001b[0m\u001b[0mcolumns\u001b[0m\u001b[0;34m.\u001b[0m\u001b[0mnlevels\u001b[0m \u001b[0;34m>\u001b[0m \u001b[0;36m1\u001b[0m\u001b[0;34m:\u001b[0m\u001b[0;34m\u001b[0m\u001b[0;34m\u001b[0m\u001b[0m\n\u001b[1;32m   2901\u001b[0m                 \u001b[0;32mreturn\u001b[0m \u001b[0mself\u001b[0m\u001b[0;34m.\u001b[0m\u001b[0m_getitem_multilevel\u001b[0m\u001b[0;34m(\u001b[0m\u001b[0mkey\u001b[0m\u001b[0;34m)\u001b[0m\u001b[0;34m\u001b[0m\u001b[0;34m\u001b[0m\u001b[0m\n\u001b[0;32m-> 2902\u001b[0;31m             \u001b[0mindexer\u001b[0m \u001b[0;34m=\u001b[0m \u001b[0mself\u001b[0m\u001b[0;34m.\u001b[0m\u001b[0mcolumns\u001b[0m\u001b[0;34m.\u001b[0m\u001b[0mget_loc\u001b[0m\u001b[0;34m(\u001b[0m\u001b[0mkey\u001b[0m\u001b[0;34m)\u001b[0m\u001b[0;34m\u001b[0m\u001b[0;34m\u001b[0m\u001b[0m\n\u001b[0m\u001b[1;32m   2903\u001b[0m             \u001b[0;32mif\u001b[0m \u001b[0mis_integer\u001b[0m\u001b[0;34m(\u001b[0m\u001b[0mindexer\u001b[0m\u001b[0;34m)\u001b[0m\u001b[0;34m:\u001b[0m\u001b[0;34m\u001b[0m\u001b[0;34m\u001b[0m\u001b[0m\n\u001b[1;32m   2904\u001b[0m                 \u001b[0mindexer\u001b[0m \u001b[0;34m=\u001b[0m \u001b[0;34m[\u001b[0m\u001b[0mindexer\u001b[0m\u001b[0;34m]\u001b[0m\u001b[0;34m\u001b[0m\u001b[0;34m\u001b[0m\u001b[0m\n",
      "\u001b[0;32m~/anaconda3/envs/clik/lib/python3.7/site-packages/pandas/core/indexes/base.py\u001b[0m in \u001b[0;36mget_loc\u001b[0;34m(self, key, method, tolerance)\u001b[0m\n\u001b[1;32m   2895\u001b[0m                 \u001b[0;32mreturn\u001b[0m \u001b[0mself\u001b[0m\u001b[0;34m.\u001b[0m\u001b[0m_engine\u001b[0m\u001b[0;34m.\u001b[0m\u001b[0mget_loc\u001b[0m\u001b[0;34m(\u001b[0m\u001b[0mcasted_key\u001b[0m\u001b[0;34m)\u001b[0m\u001b[0;34m\u001b[0m\u001b[0;34m\u001b[0m\u001b[0m\n\u001b[1;32m   2896\u001b[0m             \u001b[0;32mexcept\u001b[0m \u001b[0mKeyError\u001b[0m \u001b[0;32mas\u001b[0m \u001b[0merr\u001b[0m\u001b[0;34m:\u001b[0m\u001b[0;34m\u001b[0m\u001b[0;34m\u001b[0m\u001b[0m\n\u001b[0;32m-> 2897\u001b[0;31m                 \u001b[0;32mraise\u001b[0m \u001b[0mKeyError\u001b[0m\u001b[0;34m(\u001b[0m\u001b[0mkey\u001b[0m\u001b[0;34m)\u001b[0m \u001b[0;32mfrom\u001b[0m \u001b[0merr\u001b[0m\u001b[0;34m\u001b[0m\u001b[0;34m\u001b[0m\u001b[0m\n\u001b[0m\u001b[1;32m   2898\u001b[0m \u001b[0;34m\u001b[0m\u001b[0m\n\u001b[1;32m   2899\u001b[0m         \u001b[0;32mif\u001b[0m \u001b[0mtolerance\u001b[0m \u001b[0;32mis\u001b[0m \u001b[0;32mnot\u001b[0m \u001b[0;32mNone\u001b[0m\u001b[0;34m:\u001b[0m\u001b[0;34m\u001b[0m\u001b[0;34m\u001b[0m\u001b[0m\n",
      "\u001b[0;31mKeyError\u001b[0m: 'portero'"
     ]
    }
   ],
   "source": [
    "\n",
    "\n",
    "        index = df[ df[f] != target[f]  ].index\n",
    "        df.drop(index, axis=0, inplace=True)\n",
    "        \n",
    "        \n"
   ]
  },
  {
   "cell_type": "code",
   "execution_count": 10,
   "metadata": {},
   "outputs": [
    {
     "output_type": "execute_result",
     "data": {
      "text/plain": [
       "                 uv  estado  precio     long      lat  provincia       ciudad  \\\n",
       "1    UV/2020/000004       1   125.0  40.1924 -3.66922          1    Valdemoro   \n",
       "2    UV/2020/000006       1     0.0  40.4330 -3.63715          1       Madrid   \n",
       "3    UV/2020/000007       1   159.0  40.2950 -3.80339          1  Fuenlabrada   \n",
       "4    UV/2020/000008       1   170.0  40.2846 -3.78862          1  Fuenlabrada   \n",
       "5    UV/2020/000009       1   170.0  40.2839 -3.78976          1  Fuenlabrada   \n",
       "..              ...     ...     ...      ...      ...        ...          ...   \n",
       "137  UV/2021/000378       1   225.0  41.3735  2.17075          2    Barcelona   \n",
       "159  UV/2021/000428       1   125.0  40.3557 -3.69495          1       Madrid   \n",
       "161  UV/2021/000430       2   239.0  41.3745  2.12767          2    Barcelona   \n",
       "162  UV/2021/000433       1   300.0  41.3809  2.17924          2    Barcelona   \n",
       "166  UV/2021/000448       1   130.0  40.4290 -3.63959          1       Madrid   \n",
       "\n",
       "           distrito  planta  habitaciones  ...  garaje  calefaccion  jardin  \\\n",
       "1     Zona estación       1             2  ...       0            0       0   \n",
       "2     Ciudad Lineal       2             2  ...       0            0       0   \n",
       "3          La Serna       9             3  ...       0            0       0   \n",
       "4            Centro       6             3  ...       0            0       0   \n",
       "5            Centro       6             3  ...       0            0       0   \n",
       "..              ...     ...           ...  ...     ...          ...     ...   \n",
       "137  Sants-Montjuïc       7             2  ...       0            0       0   \n",
       "159      Villaverde       4             3  ...       0            0       0   \n",
       "161  Sants-Montjuïc       2             2  ...       0            0       0   \n",
       "162    Ciutat Vella       0             4  ...       0            0       0   \n",
       "166   Ciudad Lineal       3             2  ...       0            0       0   \n",
       "\n",
       "     aire_acondicionado         cusec    precio_area  reforma  \\\n",
       "1                     0  2.816101e+09            NaN       35   \n",
       "2                     0  2.807915e+09  136690.000000       35   \n",
       "3                     0  2.805806e+09            NaN       35   \n",
       "4                     0  2.805802e+09            NaN       45   \n",
       "5                     0  2.805802e+09            NaN       35   \n",
       "..                  ...           ...            ...      ...   \n",
       "137                   0  8.019030e+08  272568.421053       35   \n",
       "159                   0  2.807917e+09  149666.666667       45   \n",
       "161                   0  8.019031e+08  236071.428571       35   \n",
       "162                   0  8.019010e+08  477259.797980       55   \n",
       "166                   0  2.807915e+09  180500.000000       35   \n",
       "\n",
       "     precio_reformado  ns   eo  \n",
       "1               160.0   S    E  \n",
       "2                35.0   S  NaN  \n",
       "3               194.0   S    E  \n",
       "4               215.0   S    E  \n",
       "5               205.0   N    E  \n",
       "..                ...  ..  ...  \n",
       "137             260.0   S    E  \n",
       "159             170.0   S  NaN  \n",
       "161             274.0   S    E  \n",
       "162             355.0   S  NaN  \n",
       "166             165.0   S    E  \n",
       "\n",
       "[83 rows x 32 columns]"
      ],
      "text/html": "<div>\n<style scoped>\n    .dataframe tbody tr th:only-of-type {\n        vertical-align: middle;\n    }\n\n    .dataframe tbody tr th {\n        vertical-align: top;\n    }\n\n    .dataframe thead th {\n        text-align: right;\n    }\n</style>\n<table border=\"1\" class=\"dataframe\">\n  <thead>\n    <tr style=\"text-align: right;\">\n      <th></th>\n      <th>uv</th>\n      <th>estado</th>\n      <th>precio</th>\n      <th>long</th>\n      <th>lat</th>\n      <th>provincia</th>\n      <th>ciudad</th>\n      <th>distrito</th>\n      <th>planta</th>\n      <th>habitaciones</th>\n      <th>...</th>\n      <th>garaje</th>\n      <th>calefaccion</th>\n      <th>jardin</th>\n      <th>aire_acondicionado</th>\n      <th>cusec</th>\n      <th>precio_area</th>\n      <th>reforma</th>\n      <th>precio_reformado</th>\n      <th>ns</th>\n      <th>eo</th>\n    </tr>\n  </thead>\n  <tbody>\n    <tr>\n      <th>1</th>\n      <td>UV/2020/000004</td>\n      <td>1</td>\n      <td>125.0</td>\n      <td>40.1924</td>\n      <td>-3.66922</td>\n      <td>1</td>\n      <td>Valdemoro</td>\n      <td>Zona estación</td>\n      <td>1</td>\n      <td>2</td>\n      <td>...</td>\n      <td>0</td>\n      <td>0</td>\n      <td>0</td>\n      <td>0</td>\n      <td>2.816101e+09</td>\n      <td>NaN</td>\n      <td>35</td>\n      <td>160.0</td>\n      <td>S</td>\n      <td>E</td>\n    </tr>\n    <tr>\n      <th>2</th>\n      <td>UV/2020/000006</td>\n      <td>1</td>\n      <td>0.0</td>\n      <td>40.4330</td>\n      <td>-3.63715</td>\n      <td>1</td>\n      <td>Madrid</td>\n      <td>Ciudad Lineal</td>\n      <td>2</td>\n      <td>2</td>\n      <td>...</td>\n      <td>0</td>\n      <td>0</td>\n      <td>0</td>\n      <td>0</td>\n      <td>2.807915e+09</td>\n      <td>136690.000000</td>\n      <td>35</td>\n      <td>35.0</td>\n      <td>S</td>\n      <td>NaN</td>\n    </tr>\n    <tr>\n      <th>3</th>\n      <td>UV/2020/000007</td>\n      <td>1</td>\n      <td>159.0</td>\n      <td>40.2950</td>\n      <td>-3.80339</td>\n      <td>1</td>\n      <td>Fuenlabrada</td>\n      <td>La Serna</td>\n      <td>9</td>\n      <td>3</td>\n      <td>...</td>\n      <td>0</td>\n      <td>0</td>\n      <td>0</td>\n      <td>0</td>\n      <td>2.805806e+09</td>\n      <td>NaN</td>\n      <td>35</td>\n      <td>194.0</td>\n      <td>S</td>\n      <td>E</td>\n    </tr>\n    <tr>\n      <th>4</th>\n      <td>UV/2020/000008</td>\n      <td>1</td>\n      <td>170.0</td>\n      <td>40.2846</td>\n      <td>-3.78862</td>\n      <td>1</td>\n      <td>Fuenlabrada</td>\n      <td>Centro</td>\n      <td>6</td>\n      <td>3</td>\n      <td>...</td>\n      <td>0</td>\n      <td>0</td>\n      <td>0</td>\n      <td>0</td>\n      <td>2.805802e+09</td>\n      <td>NaN</td>\n      <td>45</td>\n      <td>215.0</td>\n      <td>S</td>\n      <td>E</td>\n    </tr>\n    <tr>\n      <th>5</th>\n      <td>UV/2020/000009</td>\n      <td>1</td>\n      <td>170.0</td>\n      <td>40.2839</td>\n      <td>-3.78976</td>\n      <td>1</td>\n      <td>Fuenlabrada</td>\n      <td>Centro</td>\n      <td>6</td>\n      <td>3</td>\n      <td>...</td>\n      <td>0</td>\n      <td>0</td>\n      <td>0</td>\n      <td>0</td>\n      <td>2.805802e+09</td>\n      <td>NaN</td>\n      <td>35</td>\n      <td>205.0</td>\n      <td>N</td>\n      <td>E</td>\n    </tr>\n    <tr>\n      <th>...</th>\n      <td>...</td>\n      <td>...</td>\n      <td>...</td>\n      <td>...</td>\n      <td>...</td>\n      <td>...</td>\n      <td>...</td>\n      <td>...</td>\n      <td>...</td>\n      <td>...</td>\n      <td>...</td>\n      <td>...</td>\n      <td>...</td>\n      <td>...</td>\n      <td>...</td>\n      <td>...</td>\n      <td>...</td>\n      <td>...</td>\n      <td>...</td>\n      <td>...</td>\n      <td>...</td>\n    </tr>\n    <tr>\n      <th>137</th>\n      <td>UV/2021/000378</td>\n      <td>1</td>\n      <td>225.0</td>\n      <td>41.3735</td>\n      <td>2.17075</td>\n      <td>2</td>\n      <td>Barcelona</td>\n      <td>Sants-Montjuïc</td>\n      <td>7</td>\n      <td>2</td>\n      <td>...</td>\n      <td>0</td>\n      <td>0</td>\n      <td>0</td>\n      <td>0</td>\n      <td>8.019030e+08</td>\n      <td>272568.421053</td>\n      <td>35</td>\n      <td>260.0</td>\n      <td>S</td>\n      <td>E</td>\n    </tr>\n    <tr>\n      <th>159</th>\n      <td>UV/2021/000428</td>\n      <td>1</td>\n      <td>125.0</td>\n      <td>40.3557</td>\n      <td>-3.69495</td>\n      <td>1</td>\n      <td>Madrid</td>\n      <td>Villaverde</td>\n      <td>4</td>\n      <td>3</td>\n      <td>...</td>\n      <td>0</td>\n      <td>0</td>\n      <td>0</td>\n      <td>0</td>\n      <td>2.807917e+09</td>\n      <td>149666.666667</td>\n      <td>45</td>\n      <td>170.0</td>\n      <td>S</td>\n      <td>NaN</td>\n    </tr>\n    <tr>\n      <th>161</th>\n      <td>UV/2021/000430</td>\n      <td>2</td>\n      <td>239.0</td>\n      <td>41.3745</td>\n      <td>2.12767</td>\n      <td>2</td>\n      <td>Barcelona</td>\n      <td>Sants-Montjuïc</td>\n      <td>2</td>\n      <td>2</td>\n      <td>...</td>\n      <td>0</td>\n      <td>0</td>\n      <td>0</td>\n      <td>0</td>\n      <td>8.019031e+08</td>\n      <td>236071.428571</td>\n      <td>35</td>\n      <td>274.0</td>\n      <td>S</td>\n      <td>E</td>\n    </tr>\n    <tr>\n      <th>162</th>\n      <td>UV/2021/000433</td>\n      <td>1</td>\n      <td>300.0</td>\n      <td>41.3809</td>\n      <td>2.17924</td>\n      <td>2</td>\n      <td>Barcelona</td>\n      <td>Ciutat Vella</td>\n      <td>0</td>\n      <td>4</td>\n      <td>...</td>\n      <td>0</td>\n      <td>0</td>\n      <td>0</td>\n      <td>0</td>\n      <td>8.019010e+08</td>\n      <td>477259.797980</td>\n      <td>55</td>\n      <td>355.0</td>\n      <td>S</td>\n      <td>NaN</td>\n    </tr>\n    <tr>\n      <th>166</th>\n      <td>UV/2021/000448</td>\n      <td>1</td>\n      <td>130.0</td>\n      <td>40.4290</td>\n      <td>-3.63959</td>\n      <td>1</td>\n      <td>Madrid</td>\n      <td>Ciudad Lineal</td>\n      <td>3</td>\n      <td>2</td>\n      <td>...</td>\n      <td>0</td>\n      <td>0</td>\n      <td>0</td>\n      <td>0</td>\n      <td>2.807915e+09</td>\n      <td>180500.000000</td>\n      <td>35</td>\n      <td>165.0</td>\n      <td>S</td>\n      <td>E</td>\n    </tr>\n  </tbody>\n</table>\n<p>83 rows × 32 columns</p>\n</div>"
     },
     "metadata": {},
     "execution_count": 10
    }
   ],
   "source": [
    "df"
   ]
  },
  {
   "cell_type": "code",
   "execution_count": null,
   "metadata": {},
   "outputs": [],
   "source": []
  }
 ]
}