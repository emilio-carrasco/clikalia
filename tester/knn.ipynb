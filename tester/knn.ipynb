{
 "metadata": {
  "language_info": {
   "codemirror_mode": {
    "name": "ipython",
    "version": 3
   },
   "file_extension": ".py",
   "mimetype": "text/x-python",
   "name": "python",
   "nbconvert_exporter": "python",
   "pygments_lexer": "ipython3",
   "version": "3.7.10"
  },
  "orig_nbformat": 2,
  "kernelspec": {
   "name": "python3710jvsc74a57bd06f2a5341a97b48c9bdcca96e9c4256723bee63349916a470c764c5b9d3f29ee0",
   "display_name": "Python 3.7.10 64-bit ('clik': conda)"
  }
 },
 "nbformat": 4,
 "nbformat_minor": 2,
 "cells": [
  {
   "cell_type": "code",
   "execution_count": 1,
   "metadata": {},
   "outputs": [],
   "source": [
    "import pandas as pd\n",
    "import json\n",
    "from math import radians\n",
    "import numpy as np\n"
   ]
  },
  {
   "cell_type": "code",
   "execution_count": 2,
   "metadata": {},
   "outputs": [],
   "source": [
    "\n",
    "ruta='pisos_limpios.csv'\n",
    "dfknn = pd.read_csv(ruta,sep=',')\n",
    "dfknn.columns\n",
    "dfknn.set_index('uv', inplace=True)\n",
    "with open('pesos.json') as archivo:\n",
    "            opciones = json.load(archivo)\n",
    "filtros=opciones['filtros']\n",
    "filtros = filtros[2:4]\n",
    "\n"
   ]
  },
  {
   "cell_type": "code",
   "execution_count": 3,
   "metadata": {},
   "outputs": [],
   "source": [
    "df = dfknn.copy()\n",
    "target = df.iloc[15]\n",
    "target=pd.DataFrame(target).transpose()"
   ]
  },
  {
   "cell_type": "code",
   "execution_count": 4,
   "metadata": {},
   "outputs": [],
   "source": [
    "def haversine(d, t):\n",
    "    t = t.loc[t.index.repeat(len(d))]\n",
    "    indice = d.index\n",
    "    t.reset_index(drop=True, inplace=True)\n",
    "    d.reset_index(drop=True, inplace=True)\n",
    "    \n",
    "    lon1 = d.long\n",
    "    lat1 = d.lat\n",
    "    lon2 = t.long\n",
    "    lat2 = t.lat\n",
    "    \n",
    "\n",
    "    lat1 = lat1.map(radians)\n",
    "    lon1 = lon1.map(radians)\n",
    "    lat2 = lat2.map(radians)\n",
    "    lon2 = lon2.map(radians)\n",
    "\n",
    "\n",
    "    #lon1, lat1, lon2, lat2 = map(np.radians, [lon1, lat1, lon2, lat2])\n",
    "    \n",
    "    dlon = lon2 - lon1 \n",
    "    dlat = lat2 - lat1 \n",
    "    a = np.sin(dlat/2)**2 + np.cos(lat1) * np.cos(lat2) * np.sin(dlon/2)**2\n",
    "    c = 2 * np.arcsin(np.sqrt(a)) \n",
    "    km = 6371* c\n",
    "    return km"
   ]
  },
  {
   "cell_type": "code",
   "execution_count": 5,
   "metadata": {},
   "outputs": [],
   "source": [
    "def calc_ascensor(da,dp,ta,tp):\n",
    "    try:\n",
    "        if da ==1 and ta ==1: \n",
    "            distancia_ascensor = 10\n",
    "        elif da ==0 and ta == 0: \n",
    "            distancia_ascensor= (dp-tp) * ((dp-tp)>0)\n",
    "        elif da==0 and ta==1:\n",
    "            if dp < 2: \n",
    "                distancia_ascensor = 9\n",
    "            else:\n",
    "                distancia_ascensor = dp\n",
    "        elif da==1 and ta==0:\n",
    "            distancia_ascensor = 8\n",
    "        else:\n",
    "            distancia_ascensor= 7\n",
    "    except:\n",
    "        distancia_ascensor=6\n",
    "    return distancia_ascensor"
   ]
  },
  {
   "cell_type": "code",
   "execution_count": 7,
   "metadata": {},
   "outputs": [],
   "source": [
    "def normaliza(df):\r\n",
    "    return df.abs()/df.max()\r\n",
    "    "
   ]
  },
  {
   "cell_type": "code",
   "execution_count": 8,
   "metadata": {},
   "outputs": [],
   "source": [
    "\n",
    "for f in filtros:\n",
    "    dato = target.iloc[0][f]\n",
    "    indice = df[ df[f] != dato ].index\n",
    "    df.drop(indice, axis=0, inplace=True)\n",
    "    #df.drop(f,axis=1, inplace=True)\n",
    "\n",
    "###calculamos geo\n",
    "distancia_geo = haversine(df[['long','lat']], target[['long','lat']])\n",
    "\n",
    "distancia_normalizada=distancia_geo/distancia_geo.max()\n",
    "similitud_geo=1-distancia_normalizada\n",
    "similitud_geo.index=df.index\n",
    "similitud_geo=pd.DataFrame(similitud_geo)\n",
    "similitud_geo.columns=[\"geo\"]\n",
    "\n",
    "###calculamos asecensor\n",
    "distancia_ascensor=df.apply(lambda row: calc_ascensor(row['ascensor'], row['planta'], target.ascensor[0],target.planta[0]),axis=1)\n",
    "distancia_normalizada=normaliza(distancia_ascensor)\n",
    "similitud_ascensor=1-distancia_normalizada\n",
    "\n",
    "#binarias\n",
    "binarias =opciones['binarias']\n",
    "df_binarias=df[binarias]\n",
    "target_binarias = target[binarias].loc[target.index.repeat(len(df_binarias))]\n",
    "target_binarias.index=df_binarias.index\n",
    "iguales=target_binarias==df_binarias\n",
    "distintas=target_binarias!=df_binarias\n",
    "s_binarias=pd.Series(binarias)\n",
    "similitud_binarias= iguales.dot(s_binarias) + distintas.dot(1-s_binarias)\n",
    "\n",
    "#diferenca_positiva\n",
    "diferenca_positiva =opciones['diferenca_positiva']\n",
    "df_diferenca_positiva=df[diferenca_positiva]\n",
    "target_diferenca_positiva = target[diferenca_positiva].loc[target.index.repeat(len(df_diferenca_positiva))]\n",
    "target_diferenca_positiva.index=df_diferenca_positiva.index\n",
    "distancia_diferenca_positiva=(df_diferenca_positiva-target_diferenca_positiva)\n",
    "k=2\n",
    "distancia_diferenca_positiva[distancia_diferenca_positiva<0]=distancia_diferenca_positiva*k\n",
    "distancia_diferenca_positiva=distancia_diferenca_positiva.abs()\n",
    "distancia_normalizada=normaliza(distancia_diferenca_positiva)\n",
    "similitud_diferenca_positiva=1-distancia_normalizada\n",
    "\n",
    "##diferenca_negativa\n",
    "diferenca_negativa =opciones['diferenca_negativa']\n",
    "df_diferenca_negativa=df[diferenca_negativa]\n",
    "target_diferenca_negativa = target[diferenca_negativa].loc[target.index.repeat(len(df_diferenca_negativa))]\n",
    "target_diferenca_negativa.index=df_diferenca_negativa.index\n",
    "distancia_diferenca_negativa=(df_diferenca_negativa-target_diferenca_negativa)\n",
    "k=2\n",
    "distancia_diferenca_negativa[distancia_diferenca_negativa>0]=distancia_diferenca_negativa*k\n",
    "distancia_diferenca_negativa=distancia_diferenca_negativa.abs()\n",
    "\n",
    "distancia_normalizada=normaliza(distancia_diferenca_negativa)\n",
    "similitud_diferenca_negativa=1-distancia_normalizada\n",
    "\n",
    "##diferenca_lineal\n",
    "diferencia_lineal =opciones['diferencia_lineal']\n",
    "diferencia_lineal={k:v for k,v in diferencia_lineal.items() if  k!=\"geo\"}\n",
    "df_diferencia_lineal=df[diferencia_lineal]\n",
    "target_diferencia_lineal = target[diferencia_lineal].loc[target.index.repeat(len(df_diferencia_lineal))]\n",
    "target_diferencia_lineal.index=df_diferencia_lineal.index\n",
    "distancia_diferencia_lineal=(df_diferencia_lineal-diferencia_lineal)\n",
    "distancia_diferencia_lineal=distancia_diferencia_lineal.abs()\n",
    "distancia_normalizada=normaliza(distancia_diferencia_lineal)\n",
    "similitud_diferencia_lineal=1-distancia_normalizada"
   ]
  },
  {
   "cell_type": "code",
   "execution_count": 10,
   "metadata": {},
   "outputs": [],
   "source": [
    "pesos_neg=pd.Series(opciones['diferenca_negativa'])\n",
    "pesos_pos=pd.Series(opciones['diferenca_positiva'])\n",
    "peso_lin=pd.Series(opciones['diferencia_lineal'])\n",
    "pesos=pd.concat([pesos_neg,pesos_pos,peso_lin], axis=0)\n",
    "pesos=pd.DataFrame(pesos).transpose()\n",
    "\n",
    "similitud=pd.concat([similitud_geo,similitud_diferencia_lineal,similitud_diferenca_positiva, similitud_diferenca_negativa], axis=1)\n"
   ]
  },
  {
   "cell_type": "code",
   "execution_count": 12,
   "metadata": {},
   "outputs": [],
   "source": [
    "pesos=pesos.sort_index(axis=1).reset_index(drop=True)\r\n",
    "similitud=similitud.sort_index(axis=1)"
   ]
  },
  {
   "cell_type": "code",
   "execution_count": 15,
   "metadata": {},
   "outputs": [],
   "source": [
    "simil_ordenada=similitud.fillna(0).dot(pesos.transpose())[0].sort_values(ascending=False)"
   ]
  },
  {
   "cell_type": "code",
   "execution_count": 16,
   "metadata": {},
   "outputs": [
    {
     "output_type": "execute_result",
     "data": {
      "text/plain": [
       "                estado  precio     long      lat  provincia       ciudad  \\\n",
       "uv                                                                         \n",
       "UV/2021/000448       1   130.0  40.4290 -3.63959          1       Madrid   \n",
       "UV/2020/000019       1   149.0  40.2961 -3.79702          1  Fuenlabrada   \n",
       "UV/2021/000427       1    90.0  40.3824 -3.70411          1       Madrid   \n",
       "\n",
       "                     distrito  planta  habitaciones  banos  ...  garaje  \\\n",
       "uv                                                          ...           \n",
       "UV/2021/000448  Ciudad Lineal       3             2      1  ...       0   \n",
       "UV/2020/000019       La Serna       3             3      1  ...       0   \n",
       "UV/2021/000427          Usera       3             2      1  ...       0   \n",
       "\n",
       "                calefaccion  jardin  aire_acondicionado         cusec  \\\n",
       "uv                                                                      \n",
       "UV/2021/000448            0       0                   0  2.807915e+09   \n",
       "UV/2020/000019            0       0                   0  2.805806e+09   \n",
       "UV/2021/000427            0       0                   0  2.807912e+09   \n",
       "\n",
       "                precio_area  reforma  precio_reformado  ns  eo  \n",
       "uv                                                              \n",
       "UV/2021/000448     180500.0       35             165.0   S   E  \n",
       "UV/2020/000019          NaN       45             194.0   S   E  \n",
       "UV/2021/000427     130500.0       35             125.0   S   E  \n",
       "\n",
       "[3 rows x 31 columns]"
      ],
      "text/html": "<div>\n<style scoped>\n    .dataframe tbody tr th:only-of-type {\n        vertical-align: middle;\n    }\n\n    .dataframe tbody tr th {\n        vertical-align: top;\n    }\n\n    .dataframe thead th {\n        text-align: right;\n    }\n</style>\n<table border=\"1\" class=\"dataframe\">\n  <thead>\n    <tr style=\"text-align: right;\">\n      <th></th>\n      <th>estado</th>\n      <th>precio</th>\n      <th>long</th>\n      <th>lat</th>\n      <th>provincia</th>\n      <th>ciudad</th>\n      <th>distrito</th>\n      <th>planta</th>\n      <th>habitaciones</th>\n      <th>banos</th>\n      <th>...</th>\n      <th>garaje</th>\n      <th>calefaccion</th>\n      <th>jardin</th>\n      <th>aire_acondicionado</th>\n      <th>cusec</th>\n      <th>precio_area</th>\n      <th>reforma</th>\n      <th>precio_reformado</th>\n      <th>ns</th>\n      <th>eo</th>\n    </tr>\n    <tr>\n      <th>uv</th>\n      <th></th>\n      <th></th>\n      <th></th>\n      <th></th>\n      <th></th>\n      <th></th>\n      <th></th>\n      <th></th>\n      <th></th>\n      <th></th>\n      <th></th>\n      <th></th>\n      <th></th>\n      <th></th>\n      <th></th>\n      <th></th>\n      <th></th>\n      <th></th>\n      <th></th>\n      <th></th>\n      <th></th>\n    </tr>\n  </thead>\n  <tbody>\n    <tr>\n      <th>UV/2021/000448</th>\n      <td>1</td>\n      <td>130.0</td>\n      <td>40.4290</td>\n      <td>-3.63959</td>\n      <td>1</td>\n      <td>Madrid</td>\n      <td>Ciudad Lineal</td>\n      <td>3</td>\n      <td>2</td>\n      <td>1</td>\n      <td>...</td>\n      <td>0</td>\n      <td>0</td>\n      <td>0</td>\n      <td>0</td>\n      <td>2.807915e+09</td>\n      <td>180500.0</td>\n      <td>35</td>\n      <td>165.0</td>\n      <td>S</td>\n      <td>E</td>\n    </tr>\n    <tr>\n      <th>UV/2020/000019</th>\n      <td>1</td>\n      <td>149.0</td>\n      <td>40.2961</td>\n      <td>-3.79702</td>\n      <td>1</td>\n      <td>Fuenlabrada</td>\n      <td>La Serna</td>\n      <td>3</td>\n      <td>3</td>\n      <td>1</td>\n      <td>...</td>\n      <td>0</td>\n      <td>0</td>\n      <td>0</td>\n      <td>0</td>\n      <td>2.805806e+09</td>\n      <td>NaN</td>\n      <td>45</td>\n      <td>194.0</td>\n      <td>S</td>\n      <td>E</td>\n    </tr>\n    <tr>\n      <th>UV/2021/000427</th>\n      <td>1</td>\n      <td>90.0</td>\n      <td>40.3824</td>\n      <td>-3.70411</td>\n      <td>1</td>\n      <td>Madrid</td>\n      <td>Usera</td>\n      <td>3</td>\n      <td>2</td>\n      <td>1</td>\n      <td>...</td>\n      <td>0</td>\n      <td>0</td>\n      <td>0</td>\n      <td>0</td>\n      <td>2.807912e+09</td>\n      <td>130500.0</td>\n      <td>35</td>\n      <td>125.0</td>\n      <td>S</td>\n      <td>E</td>\n    </tr>\n  </tbody>\n</table>\n<p>3 rows × 31 columns</p>\n</div>"
     },
     "metadata": {},
     "execution_count": 16
    }
   ],
   "source": [
    "df.loc[simil_ordenada[0:3].index]"
   ]
  },
  {
   "cell_type": "code",
   "execution_count": 17,
   "metadata": {},
   "outputs": [
    {
     "output_type": "execute_result",
     "data": {
      "text/plain": [
       "               estado precio     long      lat provincia    ciudad distrito  \\\n",
       "UV/2020/000020      1    175  40.3171 -3.85256         1  Móstoles     Este   \n",
       "\n",
       "               planta habitaciones banos  ... garaje calefaccion jardin  \\\n",
       "UV/2020/000020      3            2     1  ...      0           0      0   \n",
       "\n",
       "               aire_acondicionado       cusec precio_area reforma  \\\n",
       "UV/2020/000020                  0  2.8092e+09         NaN      45   \n",
       "\n",
       "               precio_reformado ns eo  \n",
       "UV/2020/000020              220  N  E  \n",
       "\n",
       "[1 rows x 31 columns]"
      ],
      "text/html": "<div>\n<style scoped>\n    .dataframe tbody tr th:only-of-type {\n        vertical-align: middle;\n    }\n\n    .dataframe tbody tr th {\n        vertical-align: top;\n    }\n\n    .dataframe thead th {\n        text-align: right;\n    }\n</style>\n<table border=\"1\" class=\"dataframe\">\n  <thead>\n    <tr style=\"text-align: right;\">\n      <th></th>\n      <th>estado</th>\n      <th>precio</th>\n      <th>long</th>\n      <th>lat</th>\n      <th>provincia</th>\n      <th>ciudad</th>\n      <th>distrito</th>\n      <th>planta</th>\n      <th>habitaciones</th>\n      <th>banos</th>\n      <th>...</th>\n      <th>garaje</th>\n      <th>calefaccion</th>\n      <th>jardin</th>\n      <th>aire_acondicionado</th>\n      <th>cusec</th>\n      <th>precio_area</th>\n      <th>reforma</th>\n      <th>precio_reformado</th>\n      <th>ns</th>\n      <th>eo</th>\n    </tr>\n  </thead>\n  <tbody>\n    <tr>\n      <th>UV/2020/000020</th>\n      <td>1</td>\n      <td>175</td>\n      <td>40.3171</td>\n      <td>-3.85256</td>\n      <td>1</td>\n      <td>Móstoles</td>\n      <td>Este</td>\n      <td>3</td>\n      <td>2</td>\n      <td>1</td>\n      <td>...</td>\n      <td>0</td>\n      <td>0</td>\n      <td>0</td>\n      <td>0</td>\n      <td>2.8092e+09</td>\n      <td>NaN</td>\n      <td>45</td>\n      <td>220</td>\n      <td>N</td>\n      <td>E</td>\n    </tr>\n  </tbody>\n</table>\n<p>1 rows × 31 columns</p>\n</div>"
     },
     "metadata": {},
     "execution_count": 17
    }
   ],
   "source": [
    "target"
   ]
  },
  {
   "cell_type": "code",
   "execution_count": null,
   "metadata": {},
   "outputs": [],
   "source": [
    "\n",
    "    ruta='pisos_limpios.csv'\n",
    "    dfknn = pd.read_csv(ruta,sep=',')\n",
    "    dfknn.columns\n",
    "    dfknn.set_index('uv', inplace=True)\n",
    "    with open('pesos.json') as archivo:\n",
    "                opciones = json.load(archivo)\n",
    "    filtros=opciones['filtros']\n",
    "    filtros = filtros[2:4]"
   ]
  },
  {
   "cell_type": "code",
   "execution_count": 20,
   "metadata": {},
   "outputs": [],
   "source": [
    "def get_top_similar(target, pesos, k):\n",
    "    \n",
    "for f in filtros:\n",
    "    dato = target.iloc[0][f]\n",
    "    indice = df[ df[f] != dato ].index\n",
    "    df.drop(indice, axis=0, inplace=True)\n",
    "    #df.drop(f,axis=1, inplace=True)\n",
    "\n",
    "    ###calculamos geo\n",
    "    distancia_geo = haversine(df[['long','lat']], target[['long','lat']])\n",
    "\n",
    "    distancia_normalizada=distancia_geo/distancia_geo.max()\n",
    "    similitud_geo=1-distancia_normalizada\n",
    "    similitud_geo.index=df.index\n",
    "    similitud_geo=pd.DataFrame(similitud_geo)\n",
    "    similitud_geo.columns=[\"geo\"]\n",
    "\n",
    "    ###calculamos asecensor\n",
    "    distancia_ascensor=df.apply(lambda row: calc_ascensor(row['ascensor'], row['planta'], target.ascensor[0],target.planta[0]),axis=1)\n",
    "    distancia_normalizada=normaliza(distancia_ascensor)\n",
    "    similitud_ascensor=1-distancia_normalizada\n",
    "\n",
    "    #binarias\n",
    "    binarias =opciones['binarias']\n",
    "    df_binarias=df[binarias]\n",
    "    target_binarias = target[binarias].loc[target.index.repeat(len(df_binarias))]\n",
    "    target_binarias.index=df_binarias.index\n",
    "    iguales=target_binarias==df_binarias\n",
    "    distintas=target_binarias!=df_binarias\n",
    "    s_binarias=pd.Series(binarias)\n",
    "    similitud_binarias= iguales.dot(s_binarias) + distintas.dot(1-s_binarias)\n",
    "\n",
    "    #diferenca_positiva\n",
    "    diferenca_positiva =opciones['diferenca_positiva']\n",
    "    df_diferenca_positiva=df[diferenca_positiva]\n",
    "    target_diferenca_positiva = target[diferenca_positiva].loc[target.index.repeat(len(df_diferenca_positiva))]\n",
    "    target_diferenca_positiva.index=df_diferenca_positiva.index\n",
    "    distancia_diferenca_positiva=(df_diferenca_positiva-target_diferenca_positiva)\n",
    "    k=2\n",
    "    distancia_diferenca_positiva[distancia_diferenca_positiva<0]=distancia_diferenca_positiva*k\n",
    "    distancia_diferenca_positiva=distancia_diferenca_positiva.abs()\n",
    "    distancia_normalizada=normaliza(distancia_diferenca_positiva)\n",
    "    similitud_diferenca_positiva=1-distancia_normalizada\n",
    "\n",
    "    ##diferenca_negativa\n",
    "    diferenca_negativa =opciones['diferenca_negativa']\n",
    "    df_diferenca_negativa=df[diferenca_negativa]\n",
    "    target_diferenca_negativa = target[diferenca_negativa].loc[target.index.repeat(len(df_diferenca_negativa))]\n",
    "    target_diferenca_negativa.index=df_diferenca_negativa.index\n",
    "    distancia_diferenca_negativa=(df_diferenca_negativa-diferenca_negativa)\n",
    "    k=2\n",
    "    distancia_diferenca_negativa[distancia_diferenca_negativa>0]=distancia_diferenca_negativa*k\n",
    "    distancia_diferenca_negativa=distancia_diferenca_negativa.abs()\n",
    "\n",
    "    distancia_normalizada=normaliza(distancia_diferenca_negativa)\n",
    "    similitud_diferenca_negativa=1-distancia_normalizada\n",
    "\n",
    "    ##diferenca_lineal\n",
    "    diferencia_lineal =opciones['diferencia_lineal']\n",
    "    diferencia_lineal={k:v for k,v in diferencia_lineal.items() if  k!=\"geo\"}\n",
    "    df_diferencia_lineal=df[diferencia_lineal]\n",
    "    target_diferencia_lineal = target[diferencia_lineal].loc[target.index.repeat(len(df_diferencia_lineal))]\n",
    "    target_diferencia_lineal.index=df_diferencia_lineal.index\n",
    "    distancia_diferencia_lineal=(df_diferencia_lineal-diferencia_lineal)\n",
    "    distancia_diferencia_lineal=distancia_diferencia_lineal.abs()\n",
    "    distancia_normalizada=normaliza(distancia_diferencia_lineal)\n",
    "    similitud_diferencia_lineal=1-distancia_normalizada\n",
    "     "
   ]
  },
  {
   "cell_type": "code",
   "execution_count": 21,
   "metadata": {},
   "outputs": [
    {
     "output_type": "error",
     "ename": "TypeError",
     "evalue": "the JSON object must be str, bytes or bytearray, not ellipsis",
     "traceback": [
      "\u001b[0;31m---------------------------------------------------------------------------\u001b[0m",
      "\u001b[0;31mTypeError\u001b[0m                                 Traceback (most recent call last)",
      "\u001b[0;32m<ipython-input-21-f21937a2c4a7>\u001b[0m in \u001b[0;36m<module>\u001b[0;34m\u001b[0m\n\u001b[0;32m----> 1\u001b[0;31m \u001b[0mpesos\u001b[0m \u001b[0;34m=\u001b[0m \u001b[0mjson\u001b[0m\u001b[0;34m.\u001b[0m\u001b[0mloads\u001b[0m\u001b[0;34m(\u001b[0m\u001b[0;34m...\u001b[0m\u001b[0;34m)\u001b[0m\u001b[0;34m\u001b[0m\u001b[0;34m\u001b[0m\u001b[0m\n\u001b[0m\u001b[1;32m      2\u001b[0m \u001b[0mn_targets\u001b[0m \u001b[0;34m=\u001b[0m \u001b[0;36m5\u001b[0m\u001b[0;34m\u001b[0m\u001b[0;34m\u001b[0m\u001b[0m\n\u001b[1;32m      3\u001b[0m \u001b[0;34m\u001b[0m\u001b[0m\n\u001b[1;32m      4\u001b[0m \u001b[0;32mfor\u001b[0m \u001b[0mi\u001b[0m \u001b[0;32min\u001b[0m \u001b[0mrange\u001b[0m\u001b[0;34m(\u001b[0m\u001b[0mn_targets\u001b[0m\u001b[0;34m)\u001b[0m\u001b[0;34m:\u001b[0m\u001b[0;34m\u001b[0m\u001b[0;34m\u001b[0m\u001b[0m\n\u001b[1;32m      5\u001b[0m \u001b[0;34m\u001b[0m\u001b[0m\n",
      "\u001b[0;32m~/anaconda3/envs/clik/lib/python3.7/json/__init__.py\u001b[0m in \u001b[0;36mloads\u001b[0;34m(s, encoding, cls, object_hook, parse_float, parse_int, parse_constant, object_pairs_hook, **kw)\u001b[0m\n\u001b[1;32m    339\u001b[0m     \u001b[0;32melse\u001b[0m\u001b[0;34m:\u001b[0m\u001b[0;34m\u001b[0m\u001b[0;34m\u001b[0m\u001b[0m\n\u001b[1;32m    340\u001b[0m         \u001b[0;32mif\u001b[0m \u001b[0;32mnot\u001b[0m \u001b[0misinstance\u001b[0m\u001b[0;34m(\u001b[0m\u001b[0ms\u001b[0m\u001b[0;34m,\u001b[0m \u001b[0;34m(\u001b[0m\u001b[0mbytes\u001b[0m\u001b[0;34m,\u001b[0m \u001b[0mbytearray\u001b[0m\u001b[0;34m)\u001b[0m\u001b[0;34m)\u001b[0m\u001b[0;34m:\u001b[0m\u001b[0;34m\u001b[0m\u001b[0;34m\u001b[0m\u001b[0m\n\u001b[0;32m--> 341\u001b[0;31m             raise TypeError(f'the JSON object must be str, bytes or bytearray, '\n\u001b[0m\u001b[1;32m    342\u001b[0m                             f'not {s.__class__.__name__}')\n\u001b[1;32m    343\u001b[0m         \u001b[0ms\u001b[0m \u001b[0;34m=\u001b[0m \u001b[0ms\u001b[0m\u001b[0;34m.\u001b[0m\u001b[0mdecode\u001b[0m\u001b[0;34m(\u001b[0m\u001b[0mdetect_encoding\u001b[0m\u001b[0;34m(\u001b[0m\u001b[0ms\u001b[0m\u001b[0;34m)\u001b[0m\u001b[0;34m,\u001b[0m \u001b[0;34m'surrogatepass'\u001b[0m\u001b[0;34m)\u001b[0m\u001b[0;34m\u001b[0m\u001b[0;34m\u001b[0m\u001b[0m\n",
      "\u001b[0;31mTypeError\u001b[0m: the JSON object must be str, bytes or bytearray, not ellipsis"
     ]
    }
   ],
   "source": [
    "columnas = ['precio', 'planta']\n",
    "pesos = json.loads(...)\n",
    "n_targets = 5\n",
    "k = 3\n",
    "# inds = [45, 56, 66, 77, 12]\n",
    "# assert len(inds) == n_targets\n",
    "\n",
    "dfs = []\n",
    "\n",
    "for i in range(n_targets):\n",
    "    target = df.sample(1)\n",
    "    # target = df.loc[inds[i]]\n",
    "    # get top similar\n",
    "    similar_df = get_top_similar(target, pesos, 3)\n",
    "\n",
    "    # etiquetar target\n",
    "    target['is_target'] = 1\n",
    "    similar_df['is_target'] = 0\n",
    "        \n",
    "    # contains 4 houses with 3 cols: columns and is_target\n",
    "    df_all = pd.concat([target, similar_df])[columnas + ['is_target']]\n",
    "    # give color\n",
    "    df_all['group'] = i\n",
    "\n",
    "    dfs.append(df_all)\n",
    "\n",
    "df_groups = pd.concat(dfs)"
   ]
  },
  {
   "cell_type": "code",
   "execution_count": null,
   "metadata": {},
   "outputs": [],
   "source": [
    "sns.scatterplot(x=df_groups[columns[0]], y=df_groups[columns[1]], size=df_groups.is_target, color=df_groups.group)"
   ]
  },
  {
   "cell_type": "code",
   "execution_count": null,
   "metadata": {},
   "outputs": [],
   "source": [
    "# get"
   ]
  }
 ]
}