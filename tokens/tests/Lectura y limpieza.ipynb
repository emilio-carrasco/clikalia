{
 "cells": [
  {
   "cell_type": "code",
   "execution_count": 1,
   "metadata": {},
   "outputs": [
    {
     "output_type": "error",
     "ename": "ImportError",
     "evalue": "cannot import name 'lee_archivo_csv' from 'config' (unknown location)",
     "traceback": [
      "\u001b[0;31m---------------------------------------------------------------------------\u001b[0m",
      "\u001b[0;31mImportError\u001b[0m                               Traceback (most recent call last)",
      "\u001b[0;32m<ipython-input-1-98257d965bf7>\u001b[0m in \u001b[0;36m<module>\u001b[0;34m\u001b[0m\n\u001b[1;32m      4\u001b[0m \u001b[0;32mimport\u001b[0m \u001b[0msrc\u001b[0m\u001b[0;34m.\u001b[0m\u001b[0mcolumnas_limpieza\u001b[0m\u001b[0;34m\u001b[0m\u001b[0;34m\u001b[0m\u001b[0m\n\u001b[1;32m      5\u001b[0m \u001b[0;32mimport\u001b[0m \u001b[0msrc\u001b[0m\u001b[0;34m.\u001b[0m\u001b[0mcolumnas_calculo\u001b[0m\u001b[0;34m\u001b[0m\u001b[0;34m\u001b[0m\u001b[0m\n\u001b[0;32m----> 6\u001b[0;31m \u001b[0;32mimport\u001b[0m \u001b[0msrc\u001b[0m\u001b[0;34m.\u001b[0m\u001b[0mIO_dataset\u001b[0m\u001b[0;34m\u001b[0m\u001b[0;34m\u001b[0m\u001b[0m\n\u001b[0m\u001b[1;32m      7\u001b[0m \u001b[0;32mfrom\u001b[0m \u001b[0minspect\u001b[0m \u001b[0;32mimport\u001b[0m \u001b[0misfunction\u001b[0m\u001b[0;34m\u001b[0m\u001b[0;34m\u001b[0m\u001b[0m\n\u001b[1;32m      8\u001b[0m \u001b[0;34m\u001b[0m\u001b[0m\n",
      "\u001b[0;32m/mnt/c/Users/emili/Ironhack/mis_proyectos/clikalia/src/IO_dataset.py\u001b[0m in \u001b[0;36m<module>\u001b[0;34m\u001b[0m\n\u001b[1;32m      1\u001b[0m \u001b[0;34m\u001b[0m\u001b[0m\n\u001b[1;32m      2\u001b[0m \u001b[0;32mimport\u001b[0m \u001b[0mpandas\u001b[0m \u001b[0;32mas\u001b[0m \u001b[0mpd\u001b[0m\u001b[0;34m\u001b[0m\u001b[0;34m\u001b[0m\u001b[0m\n\u001b[0;32m----> 3\u001b[0;31m \u001b[0;32mfrom\u001b[0m \u001b[0mconfig\u001b[0m \u001b[0;32mimport\u001b[0m \u001b[0mlee_archivo_csv\u001b[0m\u001b[0;34m,\u001b[0m \u001b[0mconfiguracion\u001b[0m\u001b[0;34m\u001b[0m\u001b[0;34m\u001b[0m\u001b[0m\n\u001b[0m\u001b[1;32m      4\u001b[0m \u001b[0;32mimport\u001b[0m \u001b[0msrc\u001b[0m\u001b[0;34m.\u001b[0m\u001b[0mcolumnas_limpieza\u001b[0m\u001b[0;34m\u001b[0m\u001b[0;34m\u001b[0m\u001b[0m\n\u001b[1;32m      5\u001b[0m \u001b[0;32mimport\u001b[0m \u001b[0msrc\u001b[0m\u001b[0;34m.\u001b[0m\u001b[0mcolumnas_calculo\u001b[0m\u001b[0;34m\u001b[0m\u001b[0;34m\u001b[0m\u001b[0m\n",
      "\u001b[0;31mImportError\u001b[0m: cannot import name 'lee_archivo_csv' from 'config' (unknown location)"
     ]
    }
   ],
   "source": [
    "import pandas as pd\n",
    "from json import load\n",
    "from config.config import lee_archivo_csv, configuracion, diccionario_precios_m2\n",
    "import src.columnas_limpieza \n",
    "import src.columnas_calculo\n",
    "import src.IO_dataset\n",
    "from inspect import isfunction\n",
    "\n",
    "###########################################################################################################################\n",
    "###########################################################################################################################\n",
    "\n",
    "def columnas_limpias(df):\n",
    "    try:\n",
    "        lista_variables = configuracion['variables_en_df']\n",
    "        for var in lista_variables:\n",
    "            limpiador = getattr(src.limpieza_columnas, var)\n",
    "            df[var] = df[var].apply(limpiador)    \n",
    "        return df[lista_variables]\n",
    "    except Exception as ex :\n",
    "        plantilla = \"Ocurrió una excepción de tipo {0}. Argumentos:\\n{1!r}\"\n",
    "        mensaje = plantilla.format(type(ex).__name__, ex.args)\n",
    "        print(mensaje)\n",
    "        print(\"Error en 'columnas_limpias'\")\n",
    "        \n",
    "#####################################################\n",
    "def calcula_variables(lista_var,df):\n",
    "    for var in lista_var:\n",
    "        calculador = getattr(src.calculo_columnas, var)\n",
    "        df = calculador(df)\n",
    "    return df\n",
    "#####################################################\n",
    "def agrupar_estado(df):\n",
    "    def actualiza_diccionario(diccionario):\n",
    "        return {clave: (pd.Series.mode  if cadena == \"mode\" else cadena) for clave, cadena in diccionario.items()}\n",
    "    diccionario = actualiza_diccionario(configuracion['agrupar'])\n",
    "    return df.groupby('uv', as_index = True).agg(diccionario)\n",
    "\n",
    "\n",
    "###########################################################################################################################\n",
    "###########################################################################################################################\n",
    "\n",
    "df = lee_archivo_csv('./data/datos_pisos.csv')\n",
    "df = df.set_index('uv')\n",
    "columnas = list(df.columns)\n",
    "\n",
    "df_limpio = columnas_limpias(df)\n",
    "df_calculado = calcula_variables(configuracion['variables_a_calcular'],df_limpio)\n",
    "df_estado_unico = agrupar_estado(df_calculado)"
   ]
  },
  {
   "cell_type": "code",
   "execution_count": 3,
   "metadata": {},
   "outputs": [
    {
     "output_type": "execute_result",
     "data": {
      "text/plain": [
       "                estado_x  habitaciones  banos  metros  fecha_construccion NS  \\\n",
       "uv                                                                             \n",
       "UV/2020/000003       1.0           2.0    1.0    45.0              1960.0  N   \n",
       "UV/2020/000004       1.0           2.0    1.0    67.0              1966.0      \n",
       "UV/2020/000006       1.0           2.0    1.0    62.0              1960.0  S   \n",
       "UV/2020/000007       1.0           3.0    1.0    78.0              1983.0      \n",
       "UV/2020/000008       1.0           3.0    1.0    84.0              1980.0      \n",
       "...                  ...           ...    ...     ...                 ... ..   \n",
       "UV/2021/000444       1.0           3.0    1.0    62.0              1966.0  S   \n",
       "UV/2021/000448       1.0           2.0    1.0    56.0              1970.0  S   \n",
       "UV/2021/000451       1.0           2.0    1.0    47.0              1960.0  N   \n",
       "UV/2021/000456       2.0           4.0    2.0    81.0              1956.0  N   \n",
       "UV/2021/000461       1.0           3.0    1.0    69.0              1960.0      \n",
       "\n",
       "               EO  situacion  portal  ascensor  ...  piscina  garaje  tejado  \\\n",
       "uv                                              ...                            \n",
       "UV/2020/000003           3.0       0         1  ...        0       0       0   \n",
       "UV/2020/000004  O        1.0       0         1  ...        0       0       0   \n",
       "UV/2020/000006           3.0       0         0  ...        0       0       0   \n",
       "UV/2020/000007  E        3.0       0         1  ...        0       0       0   \n",
       "UV/2020/000008  O        3.0       0         1  ...        0       0       0   \n",
       "...            ..        ...     ...       ...  ...      ...     ...     ...   \n",
       "UV/2021/000444  E        3.0       1         0  ...        0       0       0   \n",
       "UV/2021/000448  O        1.0       0         0  ...        0       0       0   \n",
       "UV/2021/000451  O        1.0       1         0  ...        0       0       0   \n",
       "UV/2021/000456  O        1.0       1         1  ...        0       0       0   \n",
       "UV/2021/000461  O        3.0       1         0  ...        0       0       0   \n",
       "\n",
       "                calefaccion  jardin  aire_acondicionado  tipo_vivienda  \\\n",
       "uv                                                                       \n",
       "UV/2020/000003            0       0                   0           PISO   \n",
       "UV/2020/000004            0       0                   0           PISO   \n",
       "UV/2020/000006            0       0                   0           PISO   \n",
       "UV/2020/000007            0       0                   0           PISO   \n",
       "UV/2020/000008            0       0                   0           PISO   \n",
       "...                     ...     ...                 ...            ...   \n",
       "UV/2021/000444            0       0                   0           PISO   \n",
       "UV/2021/000448            0       0                   0           PISO   \n",
       "UV/2021/000451            0       0                   0           PISO   \n",
       "UV/2021/000456            1       0                   1           CASA   \n",
       "UV/2021/000461            0       0                   0           PISO   \n",
       "\n",
       "                precio  gastos_comunitarios  planta  \n",
       "uv                                                   \n",
       "UV/2020/000003   160.0                 0.00     9.0  \n",
       "UV/2020/000004   125.0                 0.00     1.0  \n",
       "UV/2020/000006     NaN                 0.00     2.0  \n",
       "UV/2020/000007   159.0                 0.00     9.0  \n",
       "UV/2020/000008   170.0                 0.00     6.0  \n",
       "...                ...                  ...     ...  \n",
       "UV/2021/000444   120.0                 0.00     5.0  \n",
       "UV/2021/000448   130.0                30.47     3.0  \n",
       "UV/2021/000451   100.0                35.00     1.0  \n",
       "UV/2021/000456     1.0                 0.00     1.0  \n",
       "UV/2021/000461    75.0                 0.00     4.0  \n",
       "\n",
       "[177 rows x 26 columns]"
      ],
      "text/html": "<div>\n<style scoped>\n    .dataframe tbody tr th:only-of-type {\n        vertical-align: middle;\n    }\n\n    .dataframe tbody tr th {\n        vertical-align: top;\n    }\n\n    .dataframe thead th {\n        text-align: right;\n    }\n</style>\n<table border=\"1\" class=\"dataframe\">\n  <thead>\n    <tr style=\"text-align: right;\">\n      <th></th>\n      <th>estado_x</th>\n      <th>habitaciones</th>\n      <th>banos</th>\n      <th>metros</th>\n      <th>fecha_construccion</th>\n      <th>NS</th>\n      <th>EO</th>\n      <th>situacion</th>\n      <th>portal</th>\n      <th>ascensor</th>\n      <th>...</th>\n      <th>piscina</th>\n      <th>garaje</th>\n      <th>tejado</th>\n      <th>calefaccion</th>\n      <th>jardin</th>\n      <th>aire_acondicionado</th>\n      <th>tipo_vivienda</th>\n      <th>precio</th>\n      <th>gastos_comunitarios</th>\n      <th>planta</th>\n    </tr>\n    <tr>\n      <th>uv</th>\n      <th></th>\n      <th></th>\n      <th></th>\n      <th></th>\n      <th></th>\n      <th></th>\n      <th></th>\n      <th></th>\n      <th></th>\n      <th></th>\n      <th></th>\n      <th></th>\n      <th></th>\n      <th></th>\n      <th></th>\n      <th></th>\n      <th></th>\n      <th></th>\n      <th></th>\n      <th></th>\n      <th></th>\n    </tr>\n  </thead>\n  <tbody>\n    <tr>\n      <th>UV/2020/000003</th>\n      <td>1.0</td>\n      <td>2.0</td>\n      <td>1.0</td>\n      <td>45.0</td>\n      <td>1960.0</td>\n      <td>N</td>\n      <td></td>\n      <td>3.0</td>\n      <td>0</td>\n      <td>1</td>\n      <td>...</td>\n      <td>0</td>\n      <td>0</td>\n      <td>0</td>\n      <td>0</td>\n      <td>0</td>\n      <td>0</td>\n      <td>PISO</td>\n      <td>160.0</td>\n      <td>0.00</td>\n      <td>9.0</td>\n    </tr>\n    <tr>\n      <th>UV/2020/000004</th>\n      <td>1.0</td>\n      <td>2.0</td>\n      <td>1.0</td>\n      <td>67.0</td>\n      <td>1966.0</td>\n      <td></td>\n      <td>O</td>\n      <td>1.0</td>\n      <td>0</td>\n      <td>1</td>\n      <td>...</td>\n      <td>0</td>\n      <td>0</td>\n      <td>0</td>\n      <td>0</td>\n      <td>0</td>\n      <td>0</td>\n      <td>PISO</td>\n      <td>125.0</td>\n      <td>0.00</td>\n      <td>1.0</td>\n    </tr>\n    <tr>\n      <th>UV/2020/000006</th>\n      <td>1.0</td>\n      <td>2.0</td>\n      <td>1.0</td>\n      <td>62.0</td>\n      <td>1960.0</td>\n      <td>S</td>\n      <td></td>\n      <td>3.0</td>\n      <td>0</td>\n      <td>0</td>\n      <td>...</td>\n      <td>0</td>\n      <td>0</td>\n      <td>0</td>\n      <td>0</td>\n      <td>0</td>\n      <td>0</td>\n      <td>PISO</td>\n      <td>NaN</td>\n      <td>0.00</td>\n      <td>2.0</td>\n    </tr>\n    <tr>\n      <th>UV/2020/000007</th>\n      <td>1.0</td>\n      <td>3.0</td>\n      <td>1.0</td>\n      <td>78.0</td>\n      <td>1983.0</td>\n      <td></td>\n      <td>E</td>\n      <td>3.0</td>\n      <td>0</td>\n      <td>1</td>\n      <td>...</td>\n      <td>0</td>\n      <td>0</td>\n      <td>0</td>\n      <td>0</td>\n      <td>0</td>\n      <td>0</td>\n      <td>PISO</td>\n      <td>159.0</td>\n      <td>0.00</td>\n      <td>9.0</td>\n    </tr>\n    <tr>\n      <th>UV/2020/000008</th>\n      <td>1.0</td>\n      <td>3.0</td>\n      <td>1.0</td>\n      <td>84.0</td>\n      <td>1980.0</td>\n      <td></td>\n      <td>O</td>\n      <td>3.0</td>\n      <td>0</td>\n      <td>1</td>\n      <td>...</td>\n      <td>0</td>\n      <td>0</td>\n      <td>0</td>\n      <td>0</td>\n      <td>0</td>\n      <td>0</td>\n      <td>PISO</td>\n      <td>170.0</td>\n      <td>0.00</td>\n      <td>6.0</td>\n    </tr>\n    <tr>\n      <th>...</th>\n      <td>...</td>\n      <td>...</td>\n      <td>...</td>\n      <td>...</td>\n      <td>...</td>\n      <td>...</td>\n      <td>...</td>\n      <td>...</td>\n      <td>...</td>\n      <td>...</td>\n      <td>...</td>\n      <td>...</td>\n      <td>...</td>\n      <td>...</td>\n      <td>...</td>\n      <td>...</td>\n      <td>...</td>\n      <td>...</td>\n      <td>...</td>\n      <td>...</td>\n      <td>...</td>\n    </tr>\n    <tr>\n      <th>UV/2021/000444</th>\n      <td>1.0</td>\n      <td>3.0</td>\n      <td>1.0</td>\n      <td>62.0</td>\n      <td>1966.0</td>\n      <td>S</td>\n      <td>E</td>\n      <td>3.0</td>\n      <td>1</td>\n      <td>0</td>\n      <td>...</td>\n      <td>0</td>\n      <td>0</td>\n      <td>0</td>\n      <td>0</td>\n      <td>0</td>\n      <td>0</td>\n      <td>PISO</td>\n      <td>120.0</td>\n      <td>0.00</td>\n      <td>5.0</td>\n    </tr>\n    <tr>\n      <th>UV/2021/000448</th>\n      <td>1.0</td>\n      <td>2.0</td>\n      <td>1.0</td>\n      <td>56.0</td>\n      <td>1970.0</td>\n      <td>S</td>\n      <td>O</td>\n      <td>1.0</td>\n      <td>0</td>\n      <td>0</td>\n      <td>...</td>\n      <td>0</td>\n      <td>0</td>\n      <td>0</td>\n      <td>0</td>\n      <td>0</td>\n      <td>0</td>\n      <td>PISO</td>\n      <td>130.0</td>\n      <td>30.47</td>\n      <td>3.0</td>\n    </tr>\n    <tr>\n      <th>UV/2021/000451</th>\n      <td>1.0</td>\n      <td>2.0</td>\n      <td>1.0</td>\n      <td>47.0</td>\n      <td>1960.0</td>\n      <td>N</td>\n      <td>O</td>\n      <td>1.0</td>\n      <td>1</td>\n      <td>0</td>\n      <td>...</td>\n      <td>0</td>\n      <td>0</td>\n      <td>0</td>\n      <td>0</td>\n      <td>0</td>\n      <td>0</td>\n      <td>PISO</td>\n      <td>100.0</td>\n      <td>35.00</td>\n      <td>1.0</td>\n    </tr>\n    <tr>\n      <th>UV/2021/000456</th>\n      <td>2.0</td>\n      <td>4.0</td>\n      <td>2.0</td>\n      <td>81.0</td>\n      <td>1956.0</td>\n      <td>N</td>\n      <td>O</td>\n      <td>1.0</td>\n      <td>1</td>\n      <td>1</td>\n      <td>...</td>\n      <td>0</td>\n      <td>0</td>\n      <td>0</td>\n      <td>1</td>\n      <td>0</td>\n      <td>1</td>\n      <td>CASA</td>\n      <td>1.0</td>\n      <td>0.00</td>\n      <td>1.0</td>\n    </tr>\n    <tr>\n      <th>UV/2021/000461</th>\n      <td>1.0</td>\n      <td>3.0</td>\n      <td>1.0</td>\n      <td>69.0</td>\n      <td>1960.0</td>\n      <td></td>\n      <td>O</td>\n      <td>3.0</td>\n      <td>1</td>\n      <td>0</td>\n      <td>...</td>\n      <td>0</td>\n      <td>0</td>\n      <td>0</td>\n      <td>0</td>\n      <td>0</td>\n      <td>0</td>\n      <td>PISO</td>\n      <td>75.0</td>\n      <td>0.00</td>\n      <td>4.0</td>\n    </tr>\n  </tbody>\n</table>\n<p>177 rows × 26 columns</p>\n</div>"
     },
     "metadata": {},
     "execution_count": 3
    }
   ],
   "source": [
    "df_estado_unico"
   ]
  },
  {
   "cell_type": "code",
   "execution_count": 2,
   "metadata": {},
   "outputs": [],
   "source": [
    "from config.config import lee_archivo_csv, configuracion, diccionario_precios_m2\n"
   ]
  },
  {
   "cell_type": "code",
   "execution_count": 19,
   "metadata": {},
   "outputs": [],
   "source": [
    "variables1 = (configuracion['variables_en_df'])().ek\n",
    "variables2 = configuracion['variables_a_calcular']"
   ]
  },
  {
   "cell_type": "code",
   "execution_count": 23,
   "metadata": {},
   "outputs": [],
   "source": [
    "numericas_=[k for k,v in configuracion['variables_en_df'].items() if v=='numerica' ]"
   ]
  },
  {
   "cell_type": "code",
   "execution_count": 8,
   "metadata": {},
   "outputs": [],
   "source": [
    "from config.config import configuracion\n",
    "\n",
    "variables_en_df_numericas = [k for k,v in configuracion['variables_en_df'].items() if v=='numerica']\n",
    "variables_a_calcular_numericas = [k for k,v in configuracion['variables_a_calcular'].items() if v=='numerica']\n",
    "variables_numericas = variables_a_calcular_numericas + variables_en_df_numericas\n",
    "\n",
    "variables_en_df_categoricas = [k for k,v in configuracion['variables_en_df'].items() if v=='categorica']\n",
    "variables_a_calcular_categoricas = [k for k,v in configuracion['variables_a_calcular'].items() if v=='categorica']\n",
    "variables_categoricas = variables_en_df_categoricas + variables_a_calcular_categoricas\n",
    "\n",
    "finales = list(configuracion['agrupar'].keys())\n",
    "finales_numericas = [v for v in finales if v in variables_numericas]\n",
    "finales_categorica = [v for v in finales if v in variables_categoricas]"
   ]
  },
  {
   "cell_type": "code",
   "execution_count": 12,
   "metadata": {},
   "outputs": [
    {
     "output_type": "execute_result",
     "data": {
      "text/plain": [
       "['habitaciones',\n",
       " 'banos',\n",
       " 'metros',\n",
       " 'fecha_construccion',\n",
       " 'situacion',\n",
       " 'precio',\n",
       " 'gastos_comunitarios',\n",
       " 'planta']"
      ]
     },
     "metadata": {},
     "execution_count": 12
    }
   ],
   "source": [
    "finales_numericas"
   ]
  },
  {
   "cell_type": "code",
   "execution_count": 4,
   "metadata": {},
   "outputs": [
    {
     "output_type": "execute_result",
     "data": {
      "text/plain": [
       "['cusec',\n",
       " 'estado_x',\n",
       " 'tipo_vivienda',\n",
       " 'orientacion',\n",
       " 'portal',\n",
       " 'ascensor',\n",
       " 'parque_infantil',\n",
       " 'terraza',\n",
       " 'trastero',\n",
       " 'piscina_comunitaria',\n",
       " 'cuarto_de_basura',\n",
       " 'zonas_comunes',\n",
       " 'piscina',\n",
       " 'garaje',\n",
       " 'tejado',\n",
       " 'calefaccion',\n",
       " 'jardin',\n",
       " 'aire_acondicionado',\n",
       " 'NS',\n",
       " 'EO']"
      ]
     },
     "metadata": {},
     "execution_count": 4
    }
   ],
   "source": [
    "variables_categoricas"
   ]
  },
  {
   "cell_type": "code",
   "execution_count": null,
   "metadata": {},
   "outputs": [],
   "source": []
  }
 ],
 "metadata": {
  "kernelspec": {
   "display_name": "clik",
   "language": "python",
   "name": "clik"
  },
  "language_info": {
   "codemirror_mode": {
    "name": "ipython",
    "version": 3
   },
   "file_extension": ".py",
   "mimetype": "text/x-python",
   "name": "python",
   "nbconvert_exporter": "python",
   "pygments_lexer": "ipython3",
   "version": "3.7.10"
  }
 },
 "nbformat": 4,
 "nbformat_minor": 5
}