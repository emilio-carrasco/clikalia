{
 "metadata": {
  "language_info": {
   "codemirror_mode": {
    "name": "ipython",
    "version": 3
   },
   "file_extension": ".py",
   "mimetype": "text/x-python",
   "name": "python",
   "nbconvert_exporter": "python",
   "pygments_lexer": "ipython3",
   "version": "3.7.10"
  },
  "orig_nbformat": 2,
  "kernelspec": {
   "name": "python3710jvsc74a57bd06f2a5341a97b48c9bdcca96e9c4256723bee63349916a470c764c5b9d3f29ee0",
   "display_name": "Python 3.7.10 64-bit ('clik': conda)"
  }
 },
 "nbformat": 4,
 "nbformat_minor": 2,
 "cells": [
  {
   "cell_type": "code",
   "execution_count": 1,
   "metadata": {},
   "outputs": [],
   "source": [
    "from config.config import *\n"
   ]
  },
  {
   "cell_type": "code",
   "execution_count": 2,
   "metadata": {},
   "outputs": [
    {
     "output_type": "execute_result",
     "data": {
      "text/plain": [
       "['orientacion']"
      ]
     },
     "metadata": {},
     "execution_count": 2
    }
   ],
   "source": [
    "variables_solo_generadoras"
   ]
  },
  {
   "cell_type": "code",
   "execution_count": 3,
   "metadata": {},
   "outputs": [
    {
     "output_type": "execute_result",
     "data": {
      "text/plain": [
       "['long', 'lat']"
      ]
     },
     "metadata": {},
     "execution_count": 3
    }
   ],
   "source": [
    "variables_geo"
   ]
  },
  {
   "cell_type": "code",
   "execution_count": 4,
   "metadata": {},
   "outputs": [
    {
     "output_type": "execute_result",
     "data": {
      "text/plain": [
       "['precio',\n",
       " 'gastos_comunitarios',\n",
       " 'planta',\n",
       " 'habitaciones',\n",
       " 'banos',\n",
       " 'metros',\n",
       " 'fecha_construccion',\n",
       " 'situacion',\n",
       " 'long',\n",
       " 'lat']"
      ]
     },
     "metadata": {},
     "execution_count": 4
    }
   ],
   "source": [
    "variables_en_df_numericas"
   ]
  },
  {
   "cell_type": "code",
   "execution_count": 5,
   "metadata": {},
   "outputs": [
    {
     "output_type": "execute_result",
     "data": {
      "text/plain": [
       "['cusec',\n",
       " 'estado_x',\n",
       " 'tipo_vivienda',\n",
       " 'orientacion',\n",
       " 'portal',\n",
       " 'ascensor',\n",
       " 'parque_infantil',\n",
       " 'terraza',\n",
       " 'trastero',\n",
       " 'piscina_comunitaria',\n",
       " 'cuarto_de_basura',\n",
       " 'zonas_comunes',\n",
       " 'piscina',\n",
       " 'garaje',\n",
       " 'tejado',\n",
       " 'calefaccion',\n",
       " 'jardin',\n",
       " 'aire_acondicionado']"
      ]
     },
     "metadata": {},
     "execution_count": 5
    }
   ],
   "source": [
    "variables_en_df_categoricas"
   ]
  },
  {
   "cell_type": "code",
   "execution_count": 6,
   "metadata": {},
   "outputs": [
    {
     "output_type": "execute_result",
     "data": {
      "text/plain": [
       "['precio',\n",
       " 'gastos_comunitarios',\n",
       " 'planta',\n",
       " 'habitaciones',\n",
       " 'banos',\n",
       " 'metros',\n",
       " 'fecha_construccion',\n",
       " 'situacion',\n",
       " 'long',\n",
       " 'lat',\n",
       " 'cusec',\n",
       " 'estado_x',\n",
       " 'tipo_vivienda',\n",
       " 'orientacion',\n",
       " 'portal',\n",
       " 'ascensor',\n",
       " 'parque_infantil',\n",
       " 'terraza',\n",
       " 'trastero',\n",
       " 'piscina_comunitaria',\n",
       " 'cuarto_de_basura',\n",
       " 'zonas_comunes',\n",
       " 'piscina',\n",
       " 'garaje',\n",
       " 'tejado',\n",
       " 'calefaccion',\n",
       " 'jardin',\n",
       " 'aire_acondicionado']"
      ]
     },
     "metadata": {},
     "execution_count": 6
    }
   ],
   "source": [
    "variables_en_df"
   ]
  },
  {
   "cell_type": "code",
   "execution_count": 7,
   "metadata": {},
   "outputs": [
    {
     "output_type": "execute_result",
     "data": {
      "text/plain": [
       "['precio_m2']"
      ]
     },
     "metadata": {},
     "execution_count": 7
    }
   ],
   "source": [
    "variables_a_calcular_numericas "
   ]
  },
  {
   "cell_type": "code",
   "execution_count": 8,
   "metadata": {},
   "outputs": [
    {
     "output_type": "execute_result",
     "data": {
      "text/plain": [
       "['NS', 'EO']"
      ]
     },
     "metadata": {},
     "execution_count": 8
    }
   ],
   "source": [
    "variables_a_calcular_categoricas"
   ]
  },
  {
   "cell_type": "code",
   "execution_count": 9,
   "metadata": {},
   "outputs": [
    {
     "output_type": "execute_result",
     "data": {
      "text/plain": [
       "['precio_m2', 'NS', 'EO']"
      ]
     },
     "metadata": {},
     "execution_count": 9
    }
   ],
   "source": [
    "variables_a_calcular"
   ]
  },
  {
   "cell_type": "code",
   "execution_count": 10,
   "metadata": {},
   "outputs": [
    {
     "output_type": "execute_result",
     "data": {
      "text/plain": [
       "['precio_m2',\n",
       " 'precio',\n",
       " 'gastos_comunitarios',\n",
       " 'planta',\n",
       " 'habitaciones',\n",
       " 'banos',\n",
       " 'metros',\n",
       " 'fecha_construccion',\n",
       " 'situacion',\n",
       " 'long',\n",
       " 'lat']"
      ]
     },
     "metadata": {},
     "execution_count": 10
    }
   ],
   "source": [
    "variables_tras_calculos_numericas\n"
   ]
  },
  {
   "cell_type": "code",
   "execution_count": 12,
   "metadata": {},
   "outputs": [
    {
     "output_type": "execute_result",
     "data": {
      "text/plain": [
       "['NS',\n",
       " 'EO',\n",
       " 'cusec',\n",
       " 'estado_x',\n",
       " 'tipo_vivienda',\n",
       " 'portal',\n",
       " 'ascensor',\n",
       " 'parque_infantil',\n",
       " 'terraza',\n",
       " 'trastero',\n",
       " 'piscina_comunitaria',\n",
       " 'cuarto_de_basura',\n",
       " 'zonas_comunes',\n",
       " 'piscina',\n",
       " 'garaje',\n",
       " 'tejado',\n",
       " 'calefaccion',\n",
       " 'jardin',\n",
       " 'aire_acondicionado']"
      ]
     },
     "metadata": {},
     "execution_count": 12
    }
   ],
   "source": [
    "variables_tras_calculos_catergoricas\n"
   ]
  },
  {
   "cell_type": "code",
   "execution_count": 13,
   "metadata": {},
   "outputs": [
    {
     "output_type": "execute_result",
     "data": {
      "text/plain": [
       "['precio_m2',\n",
       " 'precio',\n",
       " 'gastos_comunitarios',\n",
       " 'planta',\n",
       " 'habitaciones',\n",
       " 'banos',\n",
       " 'metros',\n",
       " 'fecha_construccion',\n",
       " 'situacion',\n",
       " 'long',\n",
       " 'lat',\n",
       " 'NS',\n",
       " 'EO',\n",
       " 'cusec',\n",
       " 'estado_x',\n",
       " 'tipo_vivienda',\n",
       " 'portal',\n",
       " 'ascensor',\n",
       " 'parque_infantil',\n",
       " 'terraza',\n",
       " 'trastero',\n",
       " 'piscina_comunitaria',\n",
       " 'cuarto_de_basura',\n",
       " 'zonas_comunes',\n",
       " 'piscina',\n",
       " 'garaje',\n",
       " 'tejado',\n",
       " 'calefaccion',\n",
       " 'jardin',\n",
       " 'aire_acondicionado']"
      ]
     },
     "metadata": {},
     "execution_count": 13
    }
   ],
   "source": [
    "variables_tras_calculos"
   ]
  },
  {
   "cell_type": "code",
   "execution_count": 14,
   "metadata": {},
   "outputs": [
    {
     "output_type": "execute_result",
     "data": {
      "text/plain": [
       "['precio_m2',\n",
       " 'precio',\n",
       " 'gastos_comunitarios',\n",
       " 'planta',\n",
       " 'habitaciones',\n",
       " 'banos',\n",
       " 'metros',\n",
       " 'fecha_construccion',\n",
       " 'situacion']"
      ]
     },
     "metadata": {},
     "execution_count": 14
    }
   ],
   "source": [
    "variables_finales_numericas"
   ]
  },
  {
   "cell_type": "code",
   "execution_count": 15,
   "metadata": {},
   "outputs": [
    {
     "output_type": "execute_result",
     "data": {
      "text/plain": [
       "['NS',\n",
       " 'EO',\n",
       " 'cusec',\n",
       " 'estado_x',\n",
       " 'tipo_vivienda',\n",
       " 'portal',\n",
       " 'ascensor',\n",
       " 'parque_infantil',\n",
       " 'terraza',\n",
       " 'trastero',\n",
       " 'piscina_comunitaria',\n",
       " 'cuarto_de_basura',\n",
       " 'zonas_comunes',\n",
       " 'piscina',\n",
       " 'garaje',\n",
       " 'tejado',\n",
       " 'calefaccion',\n",
       " 'jardin',\n",
       " 'aire_acondicionado']"
      ]
     },
     "metadata": {},
     "execution_count": 15
    }
   ],
   "source": [
    "variables_finales_categoricas"
   ]
  },
  {
   "cell_type": "code",
   "execution_count": 16,
   "metadata": {},
   "outputs": [
    {
     "output_type": "execute_result",
     "data": {
      "text/plain": [
       "['precio_m2',\n",
       " 'precio',\n",
       " 'gastos_comunitarios',\n",
       " 'planta',\n",
       " 'habitaciones',\n",
       " 'banos',\n",
       " 'metros',\n",
       " 'fecha_construccion',\n",
       " 'situacion',\n",
       " 'NS',\n",
       " 'EO',\n",
       " 'cusec',\n",
       " 'estado_x',\n",
       " 'tipo_vivienda',\n",
       " 'portal',\n",
       " 'ascensor',\n",
       " 'parque_infantil',\n",
       " 'terraza',\n",
       " 'trastero',\n",
       " 'piscina_comunitaria',\n",
       " 'cuarto_de_basura',\n",
       " 'zonas_comunes',\n",
       " 'piscina',\n",
       " 'garaje',\n",
       " 'tejado',\n",
       " 'calefaccion',\n",
       " 'jardin',\n",
       " 'aire_acondicionado']"
      ]
     },
     "metadata": {},
     "execution_count": 16
    }
   ],
   "source": [
    "variables_finales"
   ]
  },
  {
   "cell_type": "code",
   "execution_count": null,
   "metadata": {},
   "outputs": [],
   "source": []
  }
 ]
}