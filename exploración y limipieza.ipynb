{
 "metadata": {
  "language_info": {
   "codemirror_mode": {
    "name": "ipython",
    "version": 3
   },
   "file_extension": ".py",
   "mimetype": "text/x-python",
   "name": "python",
   "nbconvert_exporter": "python",
   "pygments_lexer": "ipython3",
   "version": "3.7.10"
  },
  "orig_nbformat": 2,
  "kernelspec": {
   "name": "python3710jvsc74a57bd06f2a5341a97b48c9bdcca96e9c4256723bee63349916a470c764c5b9d3f29ee0",
   "display_name": "Python 3.7.10 64-bit ('clik': conda)"
  }
 },
 "nbformat": 4,
 "nbformat_minor": 2,
 "cells": [
  {
   "cell_type": "code",
   "execution_count": 1,
   "metadata": {},
   "outputs": [],
   "source": [
    "import pandas as pd"
   ]
  },
  {
   "cell_type": "code",
   "execution_count": 2,
   "metadata": {},
   "outputs": [
    {
     "output_type": "execute_result",
     "data": {
      "text/plain": [
       "Index(['uv', 'estado_x', 'tipo_vivienda', 'precio', 'long', 'lat', 'provincia',\n",
       "       'ciudad', 'distrito', 'planta', 'habitaciones', 'banos', 'metros',\n",
       "       'fecha_construccion', 'orientacion', 'situacion', 'portal', 'ascensor',\n",
       "       'parque_infantil', 'terraza', 'trastero', 'piscina_comunitaria',\n",
       "       'cuarto_de_basura', 'zonas_comunes', 'piscina', 'garaje', 'tejado',\n",
       "       'calefaccion', 'jardin', 'aire_acondicionado', 'cusec'],\n",
       "      dtype='object')"
      ]
     },
     "metadata": {},
     "execution_count": 2
    }
   ],
   "source": [
    "ruta='./data/datos_pisos.csv'\n",
    "sep=';'\n",
    "df = pd.read_csv(ruta,sep=sep)\n",
    "\n",
    "df.drop('Unnamed: 0', inplace=True, axis=1)\n",
    "df=df[['uv', 'estado_x', 'tipo_vivienda', 'precio', 'long', 'lat', 'provincia', 'ciudad', 'distrito', 'planta','habitaciones', 'banos', 'metros', 'fecha_construccion', 'orientacion', 'situacion', 'portal', 'ascensor', 'parque_infantil','terraza', 'trastero', 'piscina_comunitaria', 'cuarto_de_basura','zonas_comunes', 'piscina', 'garaje', 'tejado', 'calefaccion', 'jardin', 'aire_acondicionado', 'cusec']]\n",
    "df.piscina = ((df.piscina + df.piscina_comunitaria)>0).astype(int) # para las piscinas no marcadas como comunitarias las juntamos\n",
    "df.drop('piscina_comunitaria', axis=1)\n",
    "df.columns"
   ]
  },
  {
   "source": [
    "La información de \"barrio\" del data set es pobre para nuestros propósitos: desechamos la información.\n"
   ],
   "cell_type": "markdown",
   "metadata": {}
  },
  {
   "cell_type": "code",
   "execution_count": 3,
   "metadata": {},
   "outputs": [
    {
     "output_type": "execute_result",
     "data": {
      "text/plain": [
       "<AxesSubplot:ylabel='Frequency'>"
      ]
     },
     "metadata": {},
     "execution_count": 3
    },
    {
     "output_type": "display_data",
     "data": {
      "text/plain": "<Figure size 432x288 with 1 Axes>",
      "image/svg+xml": "<?xml version=\"1.0\" encoding=\"utf-8\" standalone=\"no\"?>\n<!DOCTYPE svg PUBLIC \"-//W3C//DTD SVG 1.1//EN\"\n  \"http://www.w3.org/Graphics/SVG/1.1/DTD/svg11.dtd\">\n<svg height=\"248.518125pt\" version=\"1.1\" viewBox=\"0 0 388.965625 248.518125\" width=\"388.965625pt\" xmlns=\"http://www.w3.org/2000/svg\" xmlns:xlink=\"http://www.w3.org/1999/xlink\">\n <metadata>\n  <rdf:RDF xmlns:cc=\"http://creativecommons.org/ns#\" xmlns:dc=\"http://purl.org/dc/elements/1.1/\" xmlns:rdf=\"http://www.w3.org/1999/02/22-rdf-syntax-ns#\">\n   <cc:Work>\n    <dc:type rdf:resource=\"http://purl.org/dc/dcmitype/StillImage\"/>\n    <dc:date>2021-05-18T11:47:09.393988</dc:date>\n    <dc:format>image/svg+xml</dc:format>\n    <dc:creator>\n     <cc:Agent>\n      <dc:title>Matplotlib v3.4.2, https://matplotlib.org/</dc:title>\n     </cc:Agent>\n    </dc:creator>\n   </cc:Work>\n  </rdf:RDF>\n </metadata>\n <defs>\n  <style type=\"text/css\">*{stroke-linecap:butt;stroke-linejoin:round;}</style>\n </defs>\n <g id=\"figure_1\">\n  <g id=\"patch_1\">\n   <path d=\"M 0 248.518125 \nL 388.965625 248.518125 \nL 388.965625 0 \nL 0 0 \nz\n\" style=\"fill:none;\"/>\n  </g>\n  <g id=\"axes_1\">\n   <g id=\"patch_2\">\n    <path d=\"M 46.965625 224.64 \nL 381.765625 224.64 \nL 381.765625 7.2 \nL 46.965625 7.2 \nz\n\" style=\"fill:#ffffff;\"/>\n   </g>\n   <g id=\"patch_3\">\n    <path clip-path=\"url(#p0514229ee6)\" d=\"M 62.183807 224.64 \nL 92.62017 224.64 \nL 92.62017 17.554286 \nL 62.183807 17.554286 \nz\n\" style=\"fill:#1f77b4;\"/>\n   </g>\n   <g id=\"patch_4\">\n    <path clip-path=\"url(#p0514229ee6)\" d=\"M 92.62017 224.64 \nL 123.056534 224.64 \nL 123.056534 224.64 \nL 92.62017 224.64 \nz\n\" style=\"fill:#1f77b4;\"/>\n   </g>\n   <g id=\"patch_5\">\n    <path clip-path=\"url(#p0514229ee6)\" d=\"M 123.056534 224.64 \nL 153.492898 224.64 \nL 153.492898 224.64 \nL 123.056534 224.64 \nz\n\" style=\"fill:#1f77b4;\"/>\n   </g>\n   <g id=\"patch_6\">\n    <path clip-path=\"url(#p0514229ee6)\" d=\"M 153.492898 224.64 \nL 183.929261 224.64 \nL 183.929261 191.942256 \nL 153.492898 191.942256 \nz\n\" style=\"fill:#1f77b4;\"/>\n   </g>\n   <g id=\"patch_7\">\n    <path clip-path=\"url(#p0514229ee6)\" d=\"M 183.929261 224.64 \nL 214.365625 224.64 \nL 214.365625 224.64 \nL 183.929261 224.64 \nz\n\" style=\"fill:#1f77b4;\"/>\n   </g>\n   <g id=\"patch_8\">\n    <path clip-path=\"url(#p0514229ee6)\" d=\"M 214.365625 224.64 \nL 244.801989 224.64 \nL 244.801989 224.64 \nL 214.365625 224.64 \nz\n\" style=\"fill:#1f77b4;\"/>\n   </g>\n   <g id=\"patch_9\">\n    <path clip-path=\"url(#p0514229ee6)\" d=\"M 244.801989 224.64 \nL 275.238352 224.64 \nL 275.238352 224.64 \nL 244.801989 224.64 \nz\n\" style=\"fill:#1f77b4;\"/>\n   </g>\n   <g id=\"patch_10\">\n    <path clip-path=\"url(#p0514229ee6)\" d=\"M 275.238352 224.64 \nL 305.674716 224.64 \nL 305.674716 224.64 \nL 275.238352 224.64 \nz\n\" style=\"fill:#1f77b4;\"/>\n   </g>\n   <g id=\"patch_11\">\n    <path clip-path=\"url(#p0514229ee6)\" d=\"M 305.674716 224.64 \nL 336.11108 224.64 \nL 336.11108 224.64 \nL 305.674716 224.64 \nz\n\" style=\"fill:#1f77b4;\"/>\n   </g>\n   <g id=\"patch_12\">\n    <path clip-path=\"url(#p0514229ee6)\" d=\"M 336.11108 224.64 \nL 366.547443 224.64 \nL 366.547443 223.277594 \nL 336.11108 223.277594 \nz\n\" style=\"fill:#1f77b4;\"/>\n   </g>\n   <g id=\"matplotlib.axis_1\">\n    <g id=\"xtick_1\">\n     <g id=\"line2d_1\">\n      <defs>\n       <path d=\"M 0 0 \nL 0 3.5 \n\" id=\"m673b8dedef\" style=\"stroke:#000000;stroke-width:0.8;\"/>\n      </defs>\n      <g>\n       <use style=\"stroke:#000000;stroke-width:0.8;\" x=\"62.183807\" xlink:href=\"#m673b8dedef\" y=\"224.64\"/>\n      </g>\n     </g>\n     <g id=\"text_1\">\n      <!-- 1.0 -->\n      <g transform=\"translate(54.232244 239.238437)scale(0.1 -0.1)\">\n       <defs>\n        <path d=\"M 794 531 \nL 1825 531 \nL 1825 4091 \nL 703 3866 \nL 703 4441 \nL 1819 4666 \nL 2450 4666 \nL 2450 531 \nL 3481 531 \nL 3481 0 \nL 794 0 \nL 794 531 \nz\n\" id=\"DejaVuSans-31\" transform=\"scale(0.015625)\"/>\n        <path d=\"M 684 794 \nL 1344 794 \nL 1344 0 \nL 684 0 \nL 684 794 \nz\n\" id=\"DejaVuSans-2e\" transform=\"scale(0.015625)\"/>\n        <path d=\"M 2034 4250 \nQ 1547 4250 1301 3770 \nQ 1056 3291 1056 2328 \nQ 1056 1369 1301 889 \nQ 1547 409 2034 409 \nQ 2525 409 2770 889 \nQ 3016 1369 3016 2328 \nQ 3016 3291 2770 3770 \nQ 2525 4250 2034 4250 \nz\nM 2034 4750 \nQ 2819 4750 3233 4129 \nQ 3647 3509 3647 2328 \nQ 3647 1150 3233 529 \nQ 2819 -91 2034 -91 \nQ 1250 -91 836 529 \nQ 422 1150 422 2328 \nQ 422 3509 836 4129 \nQ 1250 4750 2034 4750 \nz\n\" id=\"DejaVuSans-30\" transform=\"scale(0.015625)\"/>\n       </defs>\n       <use xlink:href=\"#DejaVuSans-31\"/>\n       <use x=\"63.623047\" xlink:href=\"#DejaVuSans-2e\"/>\n       <use x=\"95.410156\" xlink:href=\"#DejaVuSans-30\"/>\n      </g>\n     </g>\n    </g>\n    <g id=\"xtick_2\">\n     <g id=\"line2d_2\">\n      <g>\n       <use style=\"stroke:#000000;stroke-width:0.8;\" x=\"112.91108\" xlink:href=\"#m673b8dedef\" y=\"224.64\"/>\n      </g>\n     </g>\n     <g id=\"text_2\">\n      <!-- 1.5 -->\n      <g transform=\"translate(104.959517 239.238437)scale(0.1 -0.1)\">\n       <defs>\n        <path d=\"M 691 4666 \nL 3169 4666 \nL 3169 4134 \nL 1269 4134 \nL 1269 2991 \nQ 1406 3038 1543 3061 \nQ 1681 3084 1819 3084 \nQ 2600 3084 3056 2656 \nQ 3513 2228 3513 1497 \nQ 3513 744 3044 326 \nQ 2575 -91 1722 -91 \nQ 1428 -91 1123 -41 \nQ 819 9 494 109 \nL 494 744 \nQ 775 591 1075 516 \nQ 1375 441 1709 441 \nQ 2250 441 2565 725 \nQ 2881 1009 2881 1497 \nQ 2881 1984 2565 2268 \nQ 2250 2553 1709 2553 \nQ 1456 2553 1204 2497 \nQ 953 2441 691 2322 \nL 691 4666 \nz\n\" id=\"DejaVuSans-35\" transform=\"scale(0.015625)\"/>\n       </defs>\n       <use xlink:href=\"#DejaVuSans-31\"/>\n       <use x=\"63.623047\" xlink:href=\"#DejaVuSans-2e\"/>\n       <use x=\"95.410156\" xlink:href=\"#DejaVuSans-35\"/>\n      </g>\n     </g>\n    </g>\n    <g id=\"xtick_3\">\n     <g id=\"line2d_3\">\n      <g>\n       <use style=\"stroke:#000000;stroke-width:0.8;\" x=\"163.638352\" xlink:href=\"#m673b8dedef\" y=\"224.64\"/>\n      </g>\n     </g>\n     <g id=\"text_3\">\n      <!-- 2.0 -->\n      <g transform=\"translate(155.68679 239.238437)scale(0.1 -0.1)\">\n       <defs>\n        <path d=\"M 1228 531 \nL 3431 531 \nL 3431 0 \nL 469 0 \nL 469 531 \nQ 828 903 1448 1529 \nQ 2069 2156 2228 2338 \nQ 2531 2678 2651 2914 \nQ 2772 3150 2772 3378 \nQ 2772 3750 2511 3984 \nQ 2250 4219 1831 4219 \nQ 1534 4219 1204 4116 \nQ 875 4013 500 3803 \nL 500 4441 \nQ 881 4594 1212 4672 \nQ 1544 4750 1819 4750 \nQ 2544 4750 2975 4387 \nQ 3406 4025 3406 3419 \nQ 3406 3131 3298 2873 \nQ 3191 2616 2906 2266 \nQ 2828 2175 2409 1742 \nQ 1991 1309 1228 531 \nz\n\" id=\"DejaVuSans-32\" transform=\"scale(0.015625)\"/>\n       </defs>\n       <use xlink:href=\"#DejaVuSans-32\"/>\n       <use x=\"63.623047\" xlink:href=\"#DejaVuSans-2e\"/>\n       <use x=\"95.410156\" xlink:href=\"#DejaVuSans-30\"/>\n      </g>\n     </g>\n    </g>\n    <g id=\"xtick_4\">\n     <g id=\"line2d_4\">\n      <g>\n       <use style=\"stroke:#000000;stroke-width:0.8;\" x=\"214.365625\" xlink:href=\"#m673b8dedef\" y=\"224.64\"/>\n      </g>\n     </g>\n     <g id=\"text_4\">\n      <!-- 2.5 -->\n      <g transform=\"translate(206.414063 239.238437)scale(0.1 -0.1)\">\n       <use xlink:href=\"#DejaVuSans-32\"/>\n       <use x=\"63.623047\" xlink:href=\"#DejaVuSans-2e\"/>\n       <use x=\"95.410156\" xlink:href=\"#DejaVuSans-35\"/>\n      </g>\n     </g>\n    </g>\n    <g id=\"xtick_5\">\n     <g id=\"line2d_5\">\n      <g>\n       <use style=\"stroke:#000000;stroke-width:0.8;\" x=\"265.092898\" xlink:href=\"#m673b8dedef\" y=\"224.64\"/>\n      </g>\n     </g>\n     <g id=\"text_5\">\n      <!-- 3.0 -->\n      <g transform=\"translate(257.141335 239.238437)scale(0.1 -0.1)\">\n       <defs>\n        <path d=\"M 2597 2516 \nQ 3050 2419 3304 2112 \nQ 3559 1806 3559 1356 \nQ 3559 666 3084 287 \nQ 2609 -91 1734 -91 \nQ 1441 -91 1130 -33 \nQ 819 25 488 141 \nL 488 750 \nQ 750 597 1062 519 \nQ 1375 441 1716 441 \nQ 2309 441 2620 675 \nQ 2931 909 2931 1356 \nQ 2931 1769 2642 2001 \nQ 2353 2234 1838 2234 \nL 1294 2234 \nL 1294 2753 \nL 1863 2753 \nQ 2328 2753 2575 2939 \nQ 2822 3125 2822 3475 \nQ 2822 3834 2567 4026 \nQ 2313 4219 1838 4219 \nQ 1578 4219 1281 4162 \nQ 984 4106 628 3988 \nL 628 4550 \nQ 988 4650 1302 4700 \nQ 1616 4750 1894 4750 \nQ 2613 4750 3031 4423 \nQ 3450 4097 3450 3541 \nQ 3450 3153 3228 2886 \nQ 3006 2619 2597 2516 \nz\n\" id=\"DejaVuSans-33\" transform=\"scale(0.015625)\"/>\n       </defs>\n       <use xlink:href=\"#DejaVuSans-33\"/>\n       <use x=\"63.623047\" xlink:href=\"#DejaVuSans-2e\"/>\n       <use x=\"95.410156\" xlink:href=\"#DejaVuSans-30\"/>\n      </g>\n     </g>\n    </g>\n    <g id=\"xtick_6\">\n     <g id=\"line2d_6\">\n      <g>\n       <use style=\"stroke:#000000;stroke-width:0.8;\" x=\"315.82017\" xlink:href=\"#m673b8dedef\" y=\"224.64\"/>\n      </g>\n     </g>\n     <g id=\"text_6\">\n      <!-- 3.5 -->\n      <g transform=\"translate(307.868608 239.238437)scale(0.1 -0.1)\">\n       <use xlink:href=\"#DejaVuSans-33\"/>\n       <use x=\"63.623047\" xlink:href=\"#DejaVuSans-2e\"/>\n       <use x=\"95.410156\" xlink:href=\"#DejaVuSans-35\"/>\n      </g>\n     </g>\n    </g>\n    <g id=\"xtick_7\">\n     <g id=\"line2d_7\">\n      <g>\n       <use style=\"stroke:#000000;stroke-width:0.8;\" x=\"366.547443\" xlink:href=\"#m673b8dedef\" y=\"224.64\"/>\n      </g>\n     </g>\n     <g id=\"text_7\">\n      <!-- 4.0 -->\n      <g transform=\"translate(358.595881 239.238437)scale(0.1 -0.1)\">\n       <defs>\n        <path d=\"M 2419 4116 \nL 825 1625 \nL 2419 1625 \nL 2419 4116 \nz\nM 2253 4666 \nL 3047 4666 \nL 3047 1625 \nL 3713 1625 \nL 3713 1100 \nL 3047 1100 \nL 3047 0 \nL 2419 0 \nL 2419 1100 \nL 313 1100 \nL 313 1709 \nL 2253 4666 \nz\n\" id=\"DejaVuSans-34\" transform=\"scale(0.015625)\"/>\n       </defs>\n       <use xlink:href=\"#DejaVuSans-34\"/>\n       <use x=\"63.623047\" xlink:href=\"#DejaVuSans-2e\"/>\n       <use x=\"95.410156\" xlink:href=\"#DejaVuSans-30\"/>\n      </g>\n     </g>\n    </g>\n   </g>\n   <g id=\"matplotlib.axis_2\">\n    <g id=\"ytick_1\">\n     <g id=\"line2d_8\">\n      <defs>\n       <path d=\"M 0 0 \nL -3.5 0 \n\" id=\"m4c216cbe82\" style=\"stroke:#000000;stroke-width:0.8;\"/>\n      </defs>\n      <g>\n       <use style=\"stroke:#000000;stroke-width:0.8;\" x=\"46.965625\" xlink:href=\"#m4c216cbe82\" y=\"224.64\"/>\n      </g>\n     </g>\n     <g id=\"text_8\">\n      <!-- 0 -->\n      <g transform=\"translate(33.603125 228.439219)scale(0.1 -0.1)\">\n       <use xlink:href=\"#DejaVuSans-30\"/>\n      </g>\n     </g>\n    </g>\n    <g id=\"ytick_2\">\n     <g id=\"line2d_9\">\n      <g>\n       <use style=\"stroke:#000000;stroke-width:0.8;\" x=\"46.965625\" xlink:href=\"#m4c216cbe82\" y=\"197.39188\"/>\n      </g>\n     </g>\n     <g id=\"text_9\">\n      <!-- 20 -->\n      <g transform=\"translate(27.240625 201.191098)scale(0.1 -0.1)\">\n       <use xlink:href=\"#DejaVuSans-32\"/>\n       <use x=\"63.623047\" xlink:href=\"#DejaVuSans-30\"/>\n      </g>\n     </g>\n    </g>\n    <g id=\"ytick_3\">\n     <g id=\"line2d_10\">\n      <g>\n       <use style=\"stroke:#000000;stroke-width:0.8;\" x=\"46.965625\" xlink:href=\"#m4c216cbe82\" y=\"170.143759\"/>\n      </g>\n     </g>\n     <g id=\"text_10\">\n      <!-- 40 -->\n      <g transform=\"translate(27.240625 173.942978)scale(0.1 -0.1)\">\n       <use xlink:href=\"#DejaVuSans-34\"/>\n       <use x=\"63.623047\" xlink:href=\"#DejaVuSans-30\"/>\n      </g>\n     </g>\n    </g>\n    <g id=\"ytick_4\">\n     <g id=\"line2d_11\">\n      <g>\n       <use style=\"stroke:#000000;stroke-width:0.8;\" x=\"46.965625\" xlink:href=\"#m4c216cbe82\" y=\"142.895639\"/>\n      </g>\n     </g>\n     <g id=\"text_11\">\n      <!-- 60 -->\n      <g transform=\"translate(27.240625 146.694858)scale(0.1 -0.1)\">\n       <defs>\n        <path d=\"M 2113 2584 \nQ 1688 2584 1439 2293 \nQ 1191 2003 1191 1497 \nQ 1191 994 1439 701 \nQ 1688 409 2113 409 \nQ 2538 409 2786 701 \nQ 3034 994 3034 1497 \nQ 3034 2003 2786 2293 \nQ 2538 2584 2113 2584 \nz\nM 3366 4563 \nL 3366 3988 \nQ 3128 4100 2886 4159 \nQ 2644 4219 2406 4219 \nQ 1781 4219 1451 3797 \nQ 1122 3375 1075 2522 \nQ 1259 2794 1537 2939 \nQ 1816 3084 2150 3084 \nQ 2853 3084 3261 2657 \nQ 3669 2231 3669 1497 \nQ 3669 778 3244 343 \nQ 2819 -91 2113 -91 \nQ 1303 -91 875 529 \nQ 447 1150 447 2328 \nQ 447 3434 972 4092 \nQ 1497 4750 2381 4750 \nQ 2619 4750 2861 4703 \nQ 3103 4656 3366 4563 \nz\n\" id=\"DejaVuSans-36\" transform=\"scale(0.015625)\"/>\n       </defs>\n       <use xlink:href=\"#DejaVuSans-36\"/>\n       <use x=\"63.623047\" xlink:href=\"#DejaVuSans-30\"/>\n      </g>\n     </g>\n    </g>\n    <g id=\"ytick_5\">\n     <g id=\"line2d_12\">\n      <g>\n       <use style=\"stroke:#000000;stroke-width:0.8;\" x=\"46.965625\" xlink:href=\"#m4c216cbe82\" y=\"115.647519\"/>\n      </g>\n     </g>\n     <g id=\"text_12\">\n      <!-- 80 -->\n      <g transform=\"translate(27.240625 119.446738)scale(0.1 -0.1)\">\n       <defs>\n        <path d=\"M 2034 2216 \nQ 1584 2216 1326 1975 \nQ 1069 1734 1069 1313 \nQ 1069 891 1326 650 \nQ 1584 409 2034 409 \nQ 2484 409 2743 651 \nQ 3003 894 3003 1313 \nQ 3003 1734 2745 1975 \nQ 2488 2216 2034 2216 \nz\nM 1403 2484 \nQ 997 2584 770 2862 \nQ 544 3141 544 3541 \nQ 544 4100 942 4425 \nQ 1341 4750 2034 4750 \nQ 2731 4750 3128 4425 \nQ 3525 4100 3525 3541 \nQ 3525 3141 3298 2862 \nQ 3072 2584 2669 2484 \nQ 3125 2378 3379 2068 \nQ 3634 1759 3634 1313 \nQ 3634 634 3220 271 \nQ 2806 -91 2034 -91 \nQ 1263 -91 848 271 \nQ 434 634 434 1313 \nQ 434 1759 690 2068 \nQ 947 2378 1403 2484 \nz\nM 1172 3481 \nQ 1172 3119 1398 2916 \nQ 1625 2713 2034 2713 \nQ 2441 2713 2670 2916 \nQ 2900 3119 2900 3481 \nQ 2900 3844 2670 4047 \nQ 2441 4250 2034 4250 \nQ 1625 4250 1398 4047 \nQ 1172 3844 1172 3481 \nz\n\" id=\"DejaVuSans-38\" transform=\"scale(0.015625)\"/>\n       </defs>\n       <use xlink:href=\"#DejaVuSans-38\"/>\n       <use x=\"63.623047\" xlink:href=\"#DejaVuSans-30\"/>\n      </g>\n     </g>\n    </g>\n    <g id=\"ytick_6\">\n     <g id=\"line2d_13\">\n      <g>\n       <use style=\"stroke:#000000;stroke-width:0.8;\" x=\"46.965625\" xlink:href=\"#m4c216cbe82\" y=\"88.399398\"/>\n      </g>\n     </g>\n     <g id=\"text_13\">\n      <!-- 100 -->\n      <g transform=\"translate(20.878125 92.198617)scale(0.1 -0.1)\">\n       <use xlink:href=\"#DejaVuSans-31\"/>\n       <use x=\"63.623047\" xlink:href=\"#DejaVuSans-30\"/>\n       <use x=\"127.246094\" xlink:href=\"#DejaVuSans-30\"/>\n      </g>\n     </g>\n    </g>\n    <g id=\"ytick_7\">\n     <g id=\"line2d_14\">\n      <g>\n       <use style=\"stroke:#000000;stroke-width:0.8;\" x=\"46.965625\" xlink:href=\"#m4c216cbe82\" y=\"61.151278\"/>\n      </g>\n     </g>\n     <g id=\"text_14\">\n      <!-- 120 -->\n      <g transform=\"translate(20.878125 64.950497)scale(0.1 -0.1)\">\n       <use xlink:href=\"#DejaVuSans-31\"/>\n       <use x=\"63.623047\" xlink:href=\"#DejaVuSans-32\"/>\n       <use x=\"127.246094\" xlink:href=\"#DejaVuSans-30\"/>\n      </g>\n     </g>\n    </g>\n    <g id=\"ytick_8\">\n     <g id=\"line2d_15\">\n      <g>\n       <use style=\"stroke:#000000;stroke-width:0.8;\" x=\"46.965625\" xlink:href=\"#m4c216cbe82\" y=\"33.903158\"/>\n      </g>\n     </g>\n     <g id=\"text_15\">\n      <!-- 140 -->\n      <g transform=\"translate(20.878125 37.702377)scale(0.1 -0.1)\">\n       <use xlink:href=\"#DejaVuSans-31\"/>\n       <use x=\"63.623047\" xlink:href=\"#DejaVuSans-34\"/>\n       <use x=\"127.246094\" xlink:href=\"#DejaVuSans-30\"/>\n      </g>\n     </g>\n    </g>\n    <g id=\"text_16\">\n     <!-- Frequency -->\n     <g transform=\"translate(14.798438 141.749687)rotate(-90)scale(0.1 -0.1)\">\n      <defs>\n       <path d=\"M 628 4666 \nL 3309 4666 \nL 3309 4134 \nL 1259 4134 \nL 1259 2759 \nL 3109 2759 \nL 3109 2228 \nL 1259 2228 \nL 1259 0 \nL 628 0 \nL 628 4666 \nz\n\" id=\"DejaVuSans-46\" transform=\"scale(0.015625)\"/>\n       <path d=\"M 2631 2963 \nQ 2534 3019 2420 3045 \nQ 2306 3072 2169 3072 \nQ 1681 3072 1420 2755 \nQ 1159 2438 1159 1844 \nL 1159 0 \nL 581 0 \nL 581 3500 \nL 1159 3500 \nL 1159 2956 \nQ 1341 3275 1631 3429 \nQ 1922 3584 2338 3584 \nQ 2397 3584 2469 3576 \nQ 2541 3569 2628 3553 \nL 2631 2963 \nz\n\" id=\"DejaVuSans-72\" transform=\"scale(0.015625)\"/>\n       <path d=\"M 3597 1894 \nL 3597 1613 \nL 953 1613 \nQ 991 1019 1311 708 \nQ 1631 397 2203 397 \nQ 2534 397 2845 478 \nQ 3156 559 3463 722 \nL 3463 178 \nQ 3153 47 2828 -22 \nQ 2503 -91 2169 -91 \nQ 1331 -91 842 396 \nQ 353 884 353 1716 \nQ 353 2575 817 3079 \nQ 1281 3584 2069 3584 \nQ 2775 3584 3186 3129 \nQ 3597 2675 3597 1894 \nz\nM 3022 2063 \nQ 3016 2534 2758 2815 \nQ 2500 3097 2075 3097 \nQ 1594 3097 1305 2825 \nQ 1016 2553 972 2059 \nL 3022 2063 \nz\n\" id=\"DejaVuSans-65\" transform=\"scale(0.015625)\"/>\n       <path d=\"M 947 1747 \nQ 947 1113 1208 752 \nQ 1469 391 1925 391 \nQ 2381 391 2643 752 \nQ 2906 1113 2906 1747 \nQ 2906 2381 2643 2742 \nQ 2381 3103 1925 3103 \nQ 1469 3103 1208 2742 \nQ 947 2381 947 1747 \nz\nM 2906 525 \nQ 2725 213 2448 61 \nQ 2172 -91 1784 -91 \nQ 1150 -91 751 415 \nQ 353 922 353 1747 \nQ 353 2572 751 3078 \nQ 1150 3584 1784 3584 \nQ 2172 3584 2448 3432 \nQ 2725 3281 2906 2969 \nL 2906 3500 \nL 3481 3500 \nL 3481 -1331 \nL 2906 -1331 \nL 2906 525 \nz\n\" id=\"DejaVuSans-71\" transform=\"scale(0.015625)\"/>\n       <path d=\"M 544 1381 \nL 544 3500 \nL 1119 3500 \nL 1119 1403 \nQ 1119 906 1312 657 \nQ 1506 409 1894 409 \nQ 2359 409 2629 706 \nQ 2900 1003 2900 1516 \nL 2900 3500 \nL 3475 3500 \nL 3475 0 \nL 2900 0 \nL 2900 538 \nQ 2691 219 2414 64 \nQ 2138 -91 1772 -91 \nQ 1169 -91 856 284 \nQ 544 659 544 1381 \nz\nM 1991 3584 \nL 1991 3584 \nz\n\" id=\"DejaVuSans-75\" transform=\"scale(0.015625)\"/>\n       <path d=\"M 3513 2113 \nL 3513 0 \nL 2938 0 \nL 2938 2094 \nQ 2938 2591 2744 2837 \nQ 2550 3084 2163 3084 \nQ 1697 3084 1428 2787 \nQ 1159 2491 1159 1978 \nL 1159 0 \nL 581 0 \nL 581 3500 \nL 1159 3500 \nL 1159 2956 \nQ 1366 3272 1645 3428 \nQ 1925 3584 2291 3584 \nQ 2894 3584 3203 3211 \nQ 3513 2838 3513 2113 \nz\n\" id=\"DejaVuSans-6e\" transform=\"scale(0.015625)\"/>\n       <path d=\"M 3122 3366 \nL 3122 2828 \nQ 2878 2963 2633 3030 \nQ 2388 3097 2138 3097 \nQ 1578 3097 1268 2742 \nQ 959 2388 959 1747 \nQ 959 1106 1268 751 \nQ 1578 397 2138 397 \nQ 2388 397 2633 464 \nQ 2878 531 3122 666 \nL 3122 134 \nQ 2881 22 2623 -34 \nQ 2366 -91 2075 -91 \nQ 1284 -91 818 406 \nQ 353 903 353 1747 \nQ 353 2603 823 3093 \nQ 1294 3584 2113 3584 \nQ 2378 3584 2631 3529 \nQ 2884 3475 3122 3366 \nz\n\" id=\"DejaVuSans-63\" transform=\"scale(0.015625)\"/>\n       <path d=\"M 2059 -325 \nQ 1816 -950 1584 -1140 \nQ 1353 -1331 966 -1331 \nL 506 -1331 \nL 506 -850 \nL 844 -850 \nQ 1081 -850 1212 -737 \nQ 1344 -625 1503 -206 \nL 1606 56 \nL 191 3500 \nL 800 3500 \nL 1894 763 \nL 2988 3500 \nL 3597 3500 \nL 2059 -325 \nz\n\" id=\"DejaVuSans-79\" transform=\"scale(0.015625)\"/>\n      </defs>\n      <use xlink:href=\"#DejaVuSans-46\"/>\n      <use x=\"50.269531\" xlink:href=\"#DejaVuSans-72\"/>\n      <use x=\"89.132812\" xlink:href=\"#DejaVuSans-65\"/>\n      <use x=\"150.65625\" xlink:href=\"#DejaVuSans-71\"/>\n      <use x=\"214.132812\" xlink:href=\"#DejaVuSans-75\"/>\n      <use x=\"277.511719\" xlink:href=\"#DejaVuSans-65\"/>\n      <use x=\"339.035156\" xlink:href=\"#DejaVuSans-6e\"/>\n      <use x=\"402.414062\" xlink:href=\"#DejaVuSans-63\"/>\n      <use x=\"457.394531\" xlink:href=\"#DejaVuSans-79\"/>\n     </g>\n    </g>\n   </g>\n   <g id=\"patch_13\">\n    <path d=\"M 46.965625 224.64 \nL 46.965625 7.2 \n\" style=\"fill:none;stroke:#000000;stroke-linecap:square;stroke-linejoin:miter;stroke-width:0.8;\"/>\n   </g>\n   <g id=\"patch_14\">\n    <path d=\"M 381.765625 224.64 \nL 381.765625 7.2 \n\" style=\"fill:none;stroke:#000000;stroke-linecap:square;stroke-linejoin:miter;stroke-width:0.8;\"/>\n   </g>\n   <g id=\"patch_15\">\n    <path d=\"M 46.965625 224.64 \nL 381.765625 224.64 \n\" style=\"fill:none;stroke:#000000;stroke-linecap:square;stroke-linejoin:miter;stroke-width:0.8;\"/>\n   </g>\n   <g id=\"patch_16\">\n    <path d=\"M 46.965625 7.2 \nL 381.765625 7.2 \n\" style=\"fill:none;stroke:#000000;stroke-linecap:square;stroke-linejoin:miter;stroke-width:0.8;\"/>\n   </g>\n  </g>\n </g>\n <defs>\n  <clipPath id=\"p0514229ee6\">\n   <rect height=\"217.44\" width=\"334.8\" x=\"46.965625\" y=\"7.2\"/>\n  </clipPath>\n </defs>\n</svg>\n",
      "image/png": "[encoded data removed]"
     },
     "metadata": {
      "needs_background": "light"
     }
    }
   ],
   "source": [
    "df.uv.value_counts().plot.hist()\n"
   ]
  },
  {
   "cell_type": "code",
   "execution_count": 4,
   "metadata": {},
   "outputs": [
    {
     "output_type": "execute_result",
     "data": {
      "text/plain": [
       "                 uv estado_x tipo_vivienda  precio     long      lat  \\\n",
       "0    UV/2020/000003       01          Piso  160000  40.4278 -3.63083   \n",
       "1    UV/2020/000004       01          Piso  125000  40.1924 -3.66922   \n",
       "2    UV/2020/000006       01          Piso       0  40.4330 -3.63715   \n",
       "3    UV/2020/000007       01          Piso  159000  40.2950 -3.80339   \n",
       "4    UV/2020/000008       01          Piso  170000  40.2846 -3.78862   \n",
       "..              ...      ...           ...     ...      ...      ...   \n",
       "199  UV/2021/000430       02          Piso  239000  41.3745  2.12767   \n",
       "200  UV/2021/000430       02          Piso  239000  41.3745  2.12767   \n",
       "201  UV/2021/000433       01          Piso  300000  41.3809  2.17924   \n",
       "202  UV/2021/000441       01          Piso  237000  41.3819  2.14522   \n",
       "203  UV/2021/000451       01          Piso   99900  41.3678  2.10107   \n",
       "\n",
       "     provincia                   ciudad                   distrito  planta  \\\n",
       "0            1                   Madrid                   San Blas       9   \n",
       "1            1                Valdemoro              Zona estación       1   \n",
       "2            1                   Madrid              Ciudad Lineal       2   \n",
       "3            1              Fuenlabrada                   La Serna       9   \n",
       "4            1              Fuenlabrada                     Centro       6   \n",
       "..         ...                      ...                        ...     ...   \n",
       "199          2                Barcelona             Sants-Montjuïc       2   \n",
       "200          2                Barcelona             Sants-Montjuïc       2   \n",
       "201          2                Barcelona               Ciutat Vella       0   \n",
       "202          2                Barcelona                L' Eixample       3   \n",
       "203          2  Hospitalet De Llobregat  Can Serra - Pubilla Cases       1   \n",
       "\n",
       "     ...  piscina_comunitaria  cuarto_de_basura  zonas_comunes  piscina  \\\n",
       "0    ...                    0                 0              0        0   \n",
       "1    ...                    0                 0              0        0   \n",
       "2    ...                    0                 0              0        0   \n",
       "3    ...                    0                 0              0        0   \n",
       "4    ...                    1                 0              0        1   \n",
       "..   ...                  ...               ...            ...      ...   \n",
       "199  ...                    0                 0              0        0   \n",
       "200  ...                    0                 0              0        0   \n",
       "201  ...                    0                 0              0        0   \n",
       "202  ...                    0                 0              0        0   \n",
       "203  ...                    0                 0              0        0   \n",
       "\n",
       "    garaje tejado  calefaccion  jardin  aire_acondicionado         cusec  \n",
       "0        0      0            0       0                   0  2.807915e+09  \n",
       "1        0      0            0       0                   0  2.816101e+09  \n",
       "2        0      0            0       0                   0  2.807915e+09  \n",
       "3        0      0            0       0                   0  2.805806e+09  \n",
       "4        0      0            0       0                   0  2.805802e+09  \n",
       "..     ...    ...          ...     ...                 ...           ...  \n",
       "199      0      0            0       0                   0  8.019031e+08  \n",
       "200      0      0            0       0                   0  8.019031e+08  \n",
       "201      0      0            0       0                   0  8.019010e+08  \n",
       "202      0      0            0       0                   0  8.019021e+08  \n",
       "203      0      0            0       0                   0  8.101050e+08  \n",
       "\n",
       "[204 rows x 31 columns]"
      ],
      "text/html": "<div>\n<style scoped>\n    .dataframe tbody tr th:only-of-type {\n        vertical-align: middle;\n    }\n\n    .dataframe tbody tr th {\n        vertical-align: top;\n    }\n\n    .dataframe thead th {\n        text-align: right;\n    }\n</style>\n<table border=\"1\" class=\"dataframe\">\n  <thead>\n    <tr style=\"text-align: right;\">\n      <th></th>\n      <th>uv</th>\n      <th>estado_x</th>\n      <th>tipo_vivienda</th>\n      <th>precio</th>\n      <th>long</th>\n      <th>lat</th>\n      <th>provincia</th>\n      <th>ciudad</th>\n      <th>distrito</th>\n      <th>planta</th>\n      <th>...</th>\n      <th>piscina_comunitaria</th>\n      <th>cuarto_de_basura</th>\n      <th>zonas_comunes</th>\n      <th>piscina</th>\n      <th>garaje</th>\n      <th>tejado</th>\n      <th>calefaccion</th>\n      <th>jardin</th>\n      <th>aire_acondicionado</th>\n      <th>cusec</th>\n    </tr>\n  </thead>\n  <tbody>\n    <tr>\n      <th>0</th>\n      <td>UV/2020/000003</td>\n      <td>01</td>\n      <td>Piso</td>\n      <td>160000</td>\n      <td>40.4278</td>\n      <td>-3.63083</td>\n      <td>1</td>\n      <td>Madrid</td>\n      <td>San Blas</td>\n      <td>9</td>\n      <td>...</td>\n      <td>0</td>\n      <td>0</td>\n      <td>0</td>\n      <td>0</td>\n      <td>0</td>\n      <td>0</td>\n      <td>0</td>\n      <td>0</td>\n      <td>0</td>\n      <td>2.807915e+09</td>\n    </tr>\n    <tr>\n      <th>1</th>\n      <td>UV/2020/000004</td>\n      <td>01</td>\n      <td>Piso</td>\n      <td>125000</td>\n      <td>40.1924</td>\n      <td>-3.66922</td>\n      <td>1</td>\n      <td>Valdemoro</td>\n      <td>Zona estación</td>\n      <td>1</td>\n      <td>...</td>\n      <td>0</td>\n      <td>0</td>\n      <td>0</td>\n      <td>0</td>\n      <td>0</td>\n      <td>0</td>\n      <td>0</td>\n      <td>0</td>\n      <td>0</td>\n      <td>2.816101e+09</td>\n    </tr>\n    <tr>\n      <th>2</th>\n      <td>UV/2020/000006</td>\n      <td>01</td>\n      <td>Piso</td>\n      <td>0</td>\n      <td>40.4330</td>\n      <td>-3.63715</td>\n      <td>1</td>\n      <td>Madrid</td>\n      <td>Ciudad Lineal</td>\n      <td>2</td>\n      <td>...</td>\n      <td>0</td>\n      <td>0</td>\n      <td>0</td>\n      <td>0</td>\n      <td>0</td>\n      <td>0</td>\n      <td>0</td>\n      <td>0</td>\n      <td>0</td>\n      <td>2.807915e+09</td>\n    </tr>\n    <tr>\n      <th>3</th>\n      <td>UV/2020/000007</td>\n      <td>01</td>\n      <td>Piso</td>\n      <td>159000</td>\n      <td>40.2950</td>\n      <td>-3.80339</td>\n      <td>1</td>\n      <td>Fuenlabrada</td>\n      <td>La Serna</td>\n      <td>9</td>\n      <td>...</td>\n      <td>0</td>\n      <td>0</td>\n      <td>0</td>\n      <td>0</td>\n      <td>0</td>\n      <td>0</td>\n      <td>0</td>\n      <td>0</td>\n      <td>0</td>\n      <td>2.805806e+09</td>\n    </tr>\n    <tr>\n      <th>4</th>\n      <td>UV/2020/000008</td>\n      <td>01</td>\n      <td>Piso</td>\n      <td>170000</td>\n      <td>40.2846</td>\n      <td>-3.78862</td>\n      <td>1</td>\n      <td>Fuenlabrada</td>\n      <td>Centro</td>\n      <td>6</td>\n      <td>...</td>\n      <td>1</td>\n      <td>0</td>\n      <td>0</td>\n      <td>1</td>\n      <td>0</td>\n      <td>0</td>\n      <td>0</td>\n      <td>0</td>\n      <td>0</td>\n      <td>2.805802e+09</td>\n    </tr>\n    <tr>\n      <th>...</th>\n      <td>...</td>\n      <td>...</td>\n      <td>...</td>\n      <td>...</td>\n      <td>...</td>\n      <td>...</td>\n      <td>...</td>\n      <td>...</td>\n      <td>...</td>\n      <td>...</td>\n      <td>...</td>\n      <td>...</td>\n      <td>...</td>\n      <td>...</td>\n      <td>...</td>\n      <td>...</td>\n      <td>...</td>\n      <td>...</td>\n      <td>...</td>\n      <td>...</td>\n      <td>...</td>\n    </tr>\n    <tr>\n      <th>199</th>\n      <td>UV/2021/000430</td>\n      <td>02</td>\n      <td>Piso</td>\n      <td>239000</td>\n      <td>41.3745</td>\n      <td>2.12767</td>\n      <td>2</td>\n      <td>Barcelona</td>\n      <td>Sants-Montjuïc</td>\n      <td>2</td>\n      <td>...</td>\n      <td>0</td>\n      <td>0</td>\n      <td>0</td>\n      <td>0</td>\n      <td>0</td>\n      <td>0</td>\n      <td>0</td>\n      <td>0</td>\n      <td>0</td>\n      <td>8.019031e+08</td>\n    </tr>\n    <tr>\n      <th>200</th>\n      <td>UV/2021/000430</td>\n      <td>02</td>\n      <td>Piso</td>\n      <td>239000</td>\n      <td>41.3745</td>\n      <td>2.12767</td>\n      <td>2</td>\n      <td>Barcelona</td>\n      <td>Sants-Montjuïc</td>\n      <td>2</td>\n      <td>...</td>\n      <td>0</td>\n      <td>0</td>\n      <td>0</td>\n      <td>0</td>\n      <td>0</td>\n      <td>0</td>\n      <td>0</td>\n      <td>0</td>\n      <td>0</td>\n      <td>8.019031e+08</td>\n    </tr>\n    <tr>\n      <th>201</th>\n      <td>UV/2021/000433</td>\n      <td>01</td>\n      <td>Piso</td>\n      <td>300000</td>\n      <td>41.3809</td>\n      <td>2.17924</td>\n      <td>2</td>\n      <td>Barcelona</td>\n      <td>Ciutat Vella</td>\n      <td>0</td>\n      <td>...</td>\n      <td>0</td>\n      <td>0</td>\n      <td>0</td>\n      <td>0</td>\n      <td>0</td>\n      <td>0</td>\n      <td>0</td>\n      <td>0</td>\n      <td>0</td>\n      <td>8.019010e+08</td>\n    </tr>\n    <tr>\n      <th>202</th>\n      <td>UV/2021/000441</td>\n      <td>01</td>\n      <td>Piso</td>\n      <td>237000</td>\n      <td>41.3819</td>\n      <td>2.14522</td>\n      <td>2</td>\n      <td>Barcelona</td>\n      <td>L' Eixample</td>\n      <td>3</td>\n      <td>...</td>\n      <td>0</td>\n      <td>0</td>\n      <td>0</td>\n      <td>0</td>\n      <td>0</td>\n      <td>0</td>\n      <td>0</td>\n      <td>0</td>\n      <td>0</td>\n      <td>8.019021e+08</td>\n    </tr>\n    <tr>\n      <th>203</th>\n      <td>UV/2021/000451</td>\n      <td>01</td>\n      <td>Piso</td>\n      <td>99900</td>\n      <td>41.3678</td>\n      <td>2.10107</td>\n      <td>2</td>\n      <td>Hospitalet De Llobregat</td>\n      <td>Can Serra - Pubilla Cases</td>\n      <td>1</td>\n      <td>...</td>\n      <td>0</td>\n      <td>0</td>\n      <td>0</td>\n      <td>0</td>\n      <td>0</td>\n      <td>0</td>\n      <td>0</td>\n      <td>0</td>\n      <td>0</td>\n      <td>8.101050e+08</td>\n    </tr>\n  </tbody>\n</table>\n<p>204 rows × 31 columns</p>\n</div>"
     },
     "metadata": {},
     "execution_count": 4
    }
   ],
   "source": [
    "df"
   ]
  },
  {
   "source": [
    "La mayoría de inmuebles tiene un identificador único pero uno 20 inmuebles tiene identificador duplicado. Eso oimplica que tendremos que limpiar el dataset con la info que necesitamos."
   ],
   "cell_type": "markdown",
   "metadata": {}
  },
  {
   "cell_type": "code",
   "execution_count": 5,
   "metadata": {},
   "outputs": [
    {
     "output_type": "execute_result",
     "data": {
      "text/plain": [
       "uv\n",
       "UV/2020/000011    2\n",
       "UV/2020/000071    2\n",
       "UV/2020/000086    2\n",
       "UV/2020/000253    2\n",
       "UV/2020/000303    2\n",
       "UV/2020/000305    2\n",
       "UV/2020/000306    2\n",
       "UV/2020/000307    2\n",
       "UV/2020/000309    2\n",
       "UV/2020/000310    4\n",
       "UV/2020/000322    2\n",
       "UV/2020/000323    2\n",
       "UV/2020/000324    2\n",
       "UV/2020/000327    2\n",
       "UV/2020/000330    2\n",
       "UV/2021/000338    2\n",
       "UV/2021/000345    2\n",
       "UV/2021/000348    2\n",
       "UV/2021/000376    2\n",
       "UV/2021/000389    2\n",
       "UV/2021/000397    2\n",
       "UV/2021/000405    2\n",
       "UV/2021/000417    2\n",
       "UV/2021/000430    2\n",
       "UV/2021/000456    2\n",
       "Name: estado_x, dtype: int64"
      ]
     },
     "metadata": {},
     "execution_count": 5
    }
   ],
   "source": [
    "agrupados = df.groupby('uv').count()['estado_x']\n",
    "lista_duplicados = agrupados[agrupados>1]\n",
    "lista_duplicados"
   ]
  },
  {
   "cell_type": "code",
   "execution_count": 6,
   "metadata": {},
   "outputs": [
    {
     "output_type": "execute_result",
     "data": {
      "text/plain": [
       "                uv estado_x tipo_vivienda  precio     long      lat  \\\n",
       "94  UV/2020/000310       01          Piso  209000  40.4348 -3.67275   \n",
       "95  UV/2020/000310       01          Piso  209000  40.4348 -3.67275   \n",
       "96  UV/2020/000310       02          Piso  250000  40.4348 -3.67275   \n",
       "97  UV/2020/000310       02          Piso  250000  40.4348 -3.67275   \n",
       "\n",
       "    provincia  ciudad   distrito  planta  ...  piscina_comunitaria  \\\n",
       "94          1  Madrid  Salamanca       5  ...                    0   \n",
       "95          1  Madrid  Salamanca       5  ...                    0   \n",
       "96          1  Madrid  Salamanca       5  ...                    0   \n",
       "97          1  Madrid  Salamanca       5  ...                    0   \n",
       "\n",
       "    cuarto_de_basura  zonas_comunes  piscina garaje tejado  calefaccion  \\\n",
       "94                 0              0        0      0      0            0   \n",
       "95                 0              0        0      0      0            0   \n",
       "96                 0              0        0      0      0            0   \n",
       "97                 0              0        0      0      0            0   \n",
       "\n",
       "    jardin  aire_acondicionado         cusec  \n",
       "94       0                   0  2.807904e+09  \n",
       "95       0                   0  2.807904e+09  \n",
       "96       0                   0  2.807904e+09  \n",
       "97       0                   0  2.807904e+09  \n",
       "\n",
       "[4 rows x 31 columns]"
      ],
      "text/html": "<div>\n<style scoped>\n    .dataframe tbody tr th:only-of-type {\n        vertical-align: middle;\n    }\n\n    .dataframe tbody tr th {\n        vertical-align: top;\n    }\n\n    .dataframe thead th {\n        text-align: right;\n    }\n</style>\n<table border=\"1\" class=\"dataframe\">\n  <thead>\n    <tr style=\"text-align: right;\">\n      <th></th>\n      <th>uv</th>\n      <th>estado_x</th>\n      <th>tipo_vivienda</th>\n      <th>precio</th>\n      <th>long</th>\n      <th>lat</th>\n      <th>provincia</th>\n      <th>ciudad</th>\n      <th>distrito</th>\n      <th>planta</th>\n      <th>...</th>\n      <th>piscina_comunitaria</th>\n      <th>cuarto_de_basura</th>\n      <th>zonas_comunes</th>\n      <th>piscina</th>\n      <th>garaje</th>\n      <th>tejado</th>\n      <th>calefaccion</th>\n      <th>jardin</th>\n      <th>aire_acondicionado</th>\n      <th>cusec</th>\n    </tr>\n  </thead>\n  <tbody>\n    <tr>\n      <th>94</th>\n      <td>UV/2020/000310</td>\n      <td>01</td>\n      <td>Piso</td>\n      <td>209000</td>\n      <td>40.4348</td>\n      <td>-3.67275</td>\n      <td>1</td>\n      <td>Madrid</td>\n      <td>Salamanca</td>\n      <td>5</td>\n      <td>...</td>\n      <td>0</td>\n      <td>0</td>\n      <td>0</td>\n      <td>0</td>\n      <td>0</td>\n      <td>0</td>\n      <td>0</td>\n      <td>0</td>\n      <td>0</td>\n      <td>2.807904e+09</td>\n    </tr>\n    <tr>\n      <th>95</th>\n      <td>UV/2020/000310</td>\n      <td>01</td>\n      <td>Piso</td>\n      <td>209000</td>\n      <td>40.4348</td>\n      <td>-3.67275</td>\n      <td>1</td>\n      <td>Madrid</td>\n      <td>Salamanca</td>\n      <td>5</td>\n      <td>...</td>\n      <td>0</td>\n      <td>0</td>\n      <td>0</td>\n      <td>0</td>\n      <td>0</td>\n      <td>0</td>\n      <td>0</td>\n      <td>0</td>\n      <td>0</td>\n      <td>2.807904e+09</td>\n    </tr>\n    <tr>\n      <th>96</th>\n      <td>UV/2020/000310</td>\n      <td>02</td>\n      <td>Piso</td>\n      <td>250000</td>\n      <td>40.4348</td>\n      <td>-3.67275</td>\n      <td>1</td>\n      <td>Madrid</td>\n      <td>Salamanca</td>\n      <td>5</td>\n      <td>...</td>\n      <td>0</td>\n      <td>0</td>\n      <td>0</td>\n      <td>0</td>\n      <td>0</td>\n      <td>0</td>\n      <td>0</td>\n      <td>0</td>\n      <td>0</td>\n      <td>2.807904e+09</td>\n    </tr>\n    <tr>\n      <th>97</th>\n      <td>UV/2020/000310</td>\n      <td>02</td>\n      <td>Piso</td>\n      <td>250000</td>\n      <td>40.4348</td>\n      <td>-3.67275</td>\n      <td>1</td>\n      <td>Madrid</td>\n      <td>Salamanca</td>\n      <td>5</td>\n      <td>...</td>\n      <td>0</td>\n      <td>0</td>\n      <td>0</td>\n      <td>0</td>\n      <td>0</td>\n      <td>0</td>\n      <td>0</td>\n      <td>0</td>\n      <td>0</td>\n      <td>2.807904e+09</td>\n    </tr>\n  </tbody>\n</table>\n<p>4 rows × 31 columns</p>\n</div>"
     },
     "metadata": {},
     "execution_count": 6
    }
   ],
   "source": [
    "df[df['uv']== 'UV/2020/000310']"
   ]
  },
  {
   "cell_type": "code",
   "execution_count": null,
   "metadata": {},
   "outputs": [],
   "source": []
  },
  {
   "source": [
    "Vemos que hay alguno re-duplicado"
   ],
   "cell_type": "markdown",
   "metadata": {}
  },
  {
   "cell_type": "code",
   "execution_count": 7,
   "metadata": {},
   "outputs": [
    {
     "output_type": "execute_result",
     "data": {
      "text/plain": [
       "                uv estado_x tipo_vivienda  precio     long      lat  \\\n",
       "94  UV/2020/000310       01          Piso  209000  40.4348 -3.67275   \n",
       "95  UV/2020/000310       01          Piso  209000  40.4348 -3.67275   \n",
       "96  UV/2020/000310       02          Piso  250000  40.4348 -3.67275   \n",
       "97  UV/2020/000310       02          Piso  250000  40.4348 -3.67275   \n",
       "\n",
       "    provincia  ciudad   distrito  planta  ...  piscina_comunitaria  \\\n",
       "94          1  Madrid  Salamanca       5  ...                    0   \n",
       "95          1  Madrid  Salamanca       5  ...                    0   \n",
       "96          1  Madrid  Salamanca       5  ...                    0   \n",
       "97          1  Madrid  Salamanca       5  ...                    0   \n",
       "\n",
       "    cuarto_de_basura  zonas_comunes  piscina garaje tejado  calefaccion  \\\n",
       "94                 0              0        0      0      0            0   \n",
       "95                 0              0        0      0      0            0   \n",
       "96                 0              0        0      0      0            0   \n",
       "97                 0              0        0      0      0            0   \n",
       "\n",
       "    jardin  aire_acondicionado         cusec  \n",
       "94       0                   0  2.807904e+09  \n",
       "95       0                   0  2.807904e+09  \n",
       "96       0                   0  2.807904e+09  \n",
       "97       0                   0  2.807904e+09  \n",
       "\n",
       "[4 rows x 31 columns]"
      ],
      "text/html": "<div>\n<style scoped>\n    .dataframe tbody tr th:only-of-type {\n        vertical-align: middle;\n    }\n\n    .dataframe tbody tr th {\n        vertical-align: top;\n    }\n\n    .dataframe thead th {\n        text-align: right;\n    }\n</style>\n<table border=\"1\" class=\"dataframe\">\n  <thead>\n    <tr style=\"text-align: right;\">\n      <th></th>\n      <th>uv</th>\n      <th>estado_x</th>\n      <th>tipo_vivienda</th>\n      <th>precio</th>\n      <th>long</th>\n      <th>lat</th>\n      <th>provincia</th>\n      <th>ciudad</th>\n      <th>distrito</th>\n      <th>planta</th>\n      <th>...</th>\n      <th>piscina_comunitaria</th>\n      <th>cuarto_de_basura</th>\n      <th>zonas_comunes</th>\n      <th>piscina</th>\n      <th>garaje</th>\n      <th>tejado</th>\n      <th>calefaccion</th>\n      <th>jardin</th>\n      <th>aire_acondicionado</th>\n      <th>cusec</th>\n    </tr>\n  </thead>\n  <tbody>\n    <tr>\n      <th>94</th>\n      <td>UV/2020/000310</td>\n      <td>01</td>\n      <td>Piso</td>\n      <td>209000</td>\n      <td>40.4348</td>\n      <td>-3.67275</td>\n      <td>1</td>\n      <td>Madrid</td>\n      <td>Salamanca</td>\n      <td>5</td>\n      <td>...</td>\n      <td>0</td>\n      <td>0</td>\n      <td>0</td>\n      <td>0</td>\n      <td>0</td>\n      <td>0</td>\n      <td>0</td>\n      <td>0</td>\n      <td>0</td>\n      <td>2.807904e+09</td>\n    </tr>\n    <tr>\n      <th>95</th>\n      <td>UV/2020/000310</td>\n      <td>01</td>\n      <td>Piso</td>\n      <td>209000</td>\n      <td>40.4348</td>\n      <td>-3.67275</td>\n      <td>1</td>\n      <td>Madrid</td>\n      <td>Salamanca</td>\n      <td>5</td>\n      <td>...</td>\n      <td>0</td>\n      <td>0</td>\n      <td>0</td>\n      <td>0</td>\n      <td>0</td>\n      <td>0</td>\n      <td>0</td>\n      <td>0</td>\n      <td>0</td>\n      <td>2.807904e+09</td>\n    </tr>\n    <tr>\n      <th>96</th>\n      <td>UV/2020/000310</td>\n      <td>02</td>\n      <td>Piso</td>\n      <td>250000</td>\n      <td>40.4348</td>\n      <td>-3.67275</td>\n      <td>1</td>\n      <td>Madrid</td>\n      <td>Salamanca</td>\n      <td>5</td>\n      <td>...</td>\n      <td>0</td>\n      <td>0</td>\n      <td>0</td>\n      <td>0</td>\n      <td>0</td>\n      <td>0</td>\n      <td>0</td>\n      <td>0</td>\n      <td>0</td>\n      <td>2.807904e+09</td>\n    </tr>\n    <tr>\n      <th>97</th>\n      <td>UV/2020/000310</td>\n      <td>02</td>\n      <td>Piso</td>\n      <td>250000</td>\n      <td>40.4348</td>\n      <td>-3.67275</td>\n      <td>1</td>\n      <td>Madrid</td>\n      <td>Salamanca</td>\n      <td>5</td>\n      <td>...</td>\n      <td>0</td>\n      <td>0</td>\n      <td>0</td>\n      <td>0</td>\n      <td>0</td>\n      <td>0</td>\n      <td>0</td>\n      <td>0</td>\n      <td>0</td>\n      <td>2.807904e+09</td>\n    </tr>\n  </tbody>\n</table>\n<p>4 rows × 31 columns</p>\n</div>"
     },
     "metadata": {},
     "execution_count": 7
    }
   ],
   "source": [
    "df[df['uv']== 'UV/2020/000310']"
   ]
  },
  {
   "source": [
    "Estos son los inmuebles repetidos en nuestro DF"
   ],
   "cell_type": "markdown",
   "metadata": {}
  },
  {
   "source": [
    "veamos cómo son los pisos duplicados"
   ],
   "cell_type": "markdown",
   "metadata": {}
  },
  {
   "source": [
    "veamos qué variables vienen con datos ianconsistentes entre los pisos con mismo identificador pero estado diferente"
   ],
   "cell_type": "markdown",
   "metadata": {}
  },
  {
   "cell_type": "code",
   "execution_count": 8,
   "metadata": {},
   "outputs": [
    {
     "output_type": "execute_result",
     "data": {
      "text/plain": [
       "estado_x                1\n",
       "tipo_vivienda           0\n",
       "precio                  1\n",
       "long                    0\n",
       "lat                     0\n",
       "provincia               0\n",
       "ciudad                  0\n",
       "distrito                0\n",
       "planta                  0\n",
       "habitaciones            8\n",
       "banos                   9\n",
       "metros                  0\n",
       "fecha_construccion      0\n",
       "orientacion             0\n",
       "situacion               0\n",
       "portal                 10\n",
       "ascensor                3\n",
       "parque_infantil         0\n",
       "terraza                 5\n",
       "trastero                1\n",
       "piscina_comunitaria     0\n",
       "cuarto_de_basura        0\n",
       "zonas_comunes           1\n",
       "piscina                 0\n",
       "garaje                  1\n",
       "tejado                  0\n",
       "calefaccion             1\n",
       "jardin                  0\n",
       "aire_acondicionado      0\n",
       "cusec                   0\n",
       "dtype: int64"
      ]
     },
     "metadata": {},
     "execution_count": 8
    }
   ],
   "source": [
    "(df.groupby('uv').nunique()>1).sum()"
   ]
  },
  {
   "source": [
    "Solo hay uno que los precios son diferentes al agrupar por uv"
   ],
   "cell_type": "markdown",
   "metadata": {}
  },
  {
   "cell_type": "code",
   "execution_count": 9,
   "metadata": {},
   "outputs": [
    {
     "output_type": "execute_result",
     "data": {
      "text/plain": [
       "uv\n",
       "UV/2020/000310    True\n",
       "Name: precio, dtype: bool"
      ]
     },
     "metadata": {},
     "execution_count": 9
    }
   ],
   "source": [
    "precio_distintos_uv_igual=df.groupby('uv').nunique()['precio']>1\n",
    "precio_distintos_uv_igual[precio_distintos_uv_igual]"
   ]
  },
  {
   "cell_type": "code",
   "execution_count": 10,
   "metadata": {},
   "outputs": [
    {
     "output_type": "execute_result",
     "data": {
      "text/plain": [
       "                uv estado_x tipo_vivienda  precio     long      lat  \\\n",
       "94  UV/2020/000310       01          Piso  209000  40.4348 -3.67275   \n",
       "95  UV/2020/000310       01          Piso  209000  40.4348 -3.67275   \n",
       "96  UV/2020/000310       02          Piso  250000  40.4348 -3.67275   \n",
       "97  UV/2020/000310       02          Piso  250000  40.4348 -3.67275   \n",
       "\n",
       "    provincia  ciudad   distrito  planta  ...  piscina_comunitaria  \\\n",
       "94          1  Madrid  Salamanca       5  ...                    0   \n",
       "95          1  Madrid  Salamanca       5  ...                    0   \n",
       "96          1  Madrid  Salamanca       5  ...                    0   \n",
       "97          1  Madrid  Salamanca       5  ...                    0   \n",
       "\n",
       "    cuarto_de_basura  zonas_comunes  piscina garaje tejado  calefaccion  \\\n",
       "94                 0              0        0      0      0            0   \n",
       "95                 0              0        0      0      0            0   \n",
       "96                 0              0        0      0      0            0   \n",
       "97                 0              0        0      0      0            0   \n",
       "\n",
       "    jardin  aire_acondicionado         cusec  \n",
       "94       0                   0  2.807904e+09  \n",
       "95       0                   0  2.807904e+09  \n",
       "96       0                   0  2.807904e+09  \n",
       "97       0                   0  2.807904e+09  \n",
       "\n",
       "[4 rows x 31 columns]"
      ],
      "text/html": "<div>\n<style scoped>\n    .dataframe tbody tr th:only-of-type {\n        vertical-align: middle;\n    }\n\n    .dataframe tbody tr th {\n        vertical-align: top;\n    }\n\n    .dataframe thead th {\n        text-align: right;\n    }\n</style>\n<table border=\"1\" class=\"dataframe\">\n  <thead>\n    <tr style=\"text-align: right;\">\n      <th></th>\n      <th>uv</th>\n      <th>estado_x</th>\n      <th>tipo_vivienda</th>\n      <th>precio</th>\n      <th>long</th>\n      <th>lat</th>\n      <th>provincia</th>\n      <th>ciudad</th>\n      <th>distrito</th>\n      <th>planta</th>\n      <th>...</th>\n      <th>piscina_comunitaria</th>\n      <th>cuarto_de_basura</th>\n      <th>zonas_comunes</th>\n      <th>piscina</th>\n      <th>garaje</th>\n      <th>tejado</th>\n      <th>calefaccion</th>\n      <th>jardin</th>\n      <th>aire_acondicionado</th>\n      <th>cusec</th>\n    </tr>\n  </thead>\n  <tbody>\n    <tr>\n      <th>94</th>\n      <td>UV/2020/000310</td>\n      <td>01</td>\n      <td>Piso</td>\n      <td>209000</td>\n      <td>40.4348</td>\n      <td>-3.67275</td>\n      <td>1</td>\n      <td>Madrid</td>\n      <td>Salamanca</td>\n      <td>5</td>\n      <td>...</td>\n      <td>0</td>\n      <td>0</td>\n      <td>0</td>\n      <td>0</td>\n      <td>0</td>\n      <td>0</td>\n      <td>0</td>\n      <td>0</td>\n      <td>0</td>\n      <td>2.807904e+09</td>\n    </tr>\n    <tr>\n      <th>95</th>\n      <td>UV/2020/000310</td>\n      <td>01</td>\n      <td>Piso</td>\n      <td>209000</td>\n      <td>40.4348</td>\n      <td>-3.67275</td>\n      <td>1</td>\n      <td>Madrid</td>\n      <td>Salamanca</td>\n      <td>5</td>\n      <td>...</td>\n      <td>0</td>\n      <td>0</td>\n      <td>0</td>\n      <td>0</td>\n      <td>0</td>\n      <td>0</td>\n      <td>0</td>\n      <td>0</td>\n      <td>0</td>\n      <td>2.807904e+09</td>\n    </tr>\n    <tr>\n      <th>96</th>\n      <td>UV/2020/000310</td>\n      <td>02</td>\n      <td>Piso</td>\n      <td>250000</td>\n      <td>40.4348</td>\n      <td>-3.67275</td>\n      <td>1</td>\n      <td>Madrid</td>\n      <td>Salamanca</td>\n      <td>5</td>\n      <td>...</td>\n      <td>0</td>\n      <td>0</td>\n      <td>0</td>\n      <td>0</td>\n      <td>0</td>\n      <td>0</td>\n      <td>0</td>\n      <td>0</td>\n      <td>0</td>\n      <td>2.807904e+09</td>\n    </tr>\n    <tr>\n      <th>97</th>\n      <td>UV/2020/000310</td>\n      <td>02</td>\n      <td>Piso</td>\n      <td>250000</td>\n      <td>40.4348</td>\n      <td>-3.67275</td>\n      <td>1</td>\n      <td>Madrid</td>\n      <td>Salamanca</td>\n      <td>5</td>\n      <td>...</td>\n      <td>0</td>\n      <td>0</td>\n      <td>0</td>\n      <td>0</td>\n      <td>0</td>\n      <td>0</td>\n      <td>0</td>\n      <td>0</td>\n      <td>0</td>\n      <td>2.807904e+09</td>\n    </tr>\n  </tbody>\n</table>\n<p>4 rows × 31 columns</p>\n</div>"
     },
     "metadata": {},
     "execution_count": 10
    }
   ],
   "source": [
    "df[df.uv=='UV/2020/000310']"
   ]
  },
  {
   "source": [
    "Vemmos que surge la idea de el problema surge que el precio ha variado al reformarlo y estáa duplicado. Nos cargamos los tres primeros\n"
   ],
   "cell_type": "markdown",
   "metadata": {}
  },
  {
   "cell_type": "code",
   "execution_count": 11,
   "metadata": {},
   "outputs": [],
   "source": [
    "df = df.drop([df.index[94], df.index[95], df.index[96]])\n",
    "  "
   ]
  },
  {
   "cell_type": "code",
   "execution_count": 12,
   "metadata": {},
   "outputs": [],
   "source": [
    "df_campos_diferentes = df.groupby('uv').agg('nunique')\r\n",
    "df_campos_diferentes.dropna(axis=0, how='all',inplace=True)"
   ]
  },
  {
   "cell_type": "code",
   "execution_count": 13,
   "metadata": {},
   "outputs": [
    {
     "output_type": "execute_result",
     "data": {
      "text/plain": [
       "                estado_x  tipo_vivienda  precio  long  lat  provincia  ciudad  \\\n",
       "uv                                                                              \n",
       "UV/2020/000003         1              1       1     1    1          1       1   \n",
       "UV/2020/000004         1              1       1     1    1          1       1   \n",
       "UV/2020/000006         1              1       1     1    1          1       1   \n",
       "UV/2020/000007         1              1       1     1    1          1       1   \n",
       "UV/2020/000008         1              1       1     1    1          1       1   \n",
       "...                  ...            ...     ...   ...  ...        ...     ...   \n",
       "UV/2021/000444         1              1       1     1    1          1       1   \n",
       "UV/2021/000448         1              1       1     1    1          1       1   \n",
       "UV/2021/000451         1              1       1     1    1          1       1   \n",
       "UV/2021/000456         1              1       1     1    1          1       1   \n",
       "UV/2021/000461         1              1       1     1    1          1       1   \n",
       "\n",
       "                distrito  planta  habitaciones  ...  piscina_comunitaria  \\\n",
       "uv                                              ...                        \n",
       "UV/2020/000003         1       1             1  ...                    1   \n",
       "UV/2020/000004         1       1             1  ...                    1   \n",
       "UV/2020/000006         1       1             1  ...                    1   \n",
       "UV/2020/000007         1       1             1  ...                    1   \n",
       "UV/2020/000008         1       1             1  ...                    1   \n",
       "...                  ...     ...           ...  ...                  ...   \n",
       "UV/2021/000444         1       1             1  ...                    1   \n",
       "UV/2021/000448         1       1             1  ...                    1   \n",
       "UV/2021/000451         1       1             1  ...                    1   \n",
       "UV/2021/000456         1       1             2  ...                    1   \n",
       "UV/2021/000461         1       1             1  ...                    1   \n",
       "\n",
       "                cuarto_de_basura  zonas_comunes  piscina  garaje  tejado  \\\n",
       "uv                                                                         \n",
       "UV/2020/000003                 1              1        1       1       1   \n",
       "UV/2020/000004                 1              1        1       1       1   \n",
       "UV/2020/000006                 1              1        1       1       1   \n",
       "UV/2020/000007                 1              1        1       1       1   \n",
       "UV/2020/000008                 1              1        1       1       1   \n",
       "...                          ...            ...      ...     ...     ...   \n",
       "UV/2021/000444                 1              1        1       1       1   \n",
       "UV/2021/000448                 1              1        1       1       1   \n",
       "UV/2021/000451                 1              1        1       1       1   \n",
       "UV/2021/000456                 1              1        1       1       1   \n",
       "UV/2021/000461                 1              1        1       1       1   \n",
       "\n",
       "                calefaccion  jardin  aire_acondicionado  cusec  \n",
       "uv                                                              \n",
       "UV/2020/000003            1       1                   1      1  \n",
       "UV/2020/000004            1       1                   1      1  \n",
       "UV/2020/000006            1       1                   1      1  \n",
       "UV/2020/000007            1       1                   1      1  \n",
       "UV/2020/000008            1       1                   1      1  \n",
       "...                     ...     ...                 ...    ...  \n",
       "UV/2021/000444            1       1                   1      1  \n",
       "UV/2021/000448            1       1                   1      1  \n",
       "UV/2021/000451            1       1                   1      1  \n",
       "UV/2021/000456            2       1                   1      1  \n",
       "UV/2021/000461            1       1                   1      1  \n",
       "\n",
       "[177 rows x 30 columns]"
      ],
      "text/html": "<div>\n<style scoped>\n    .dataframe tbody tr th:only-of-type {\n        vertical-align: middle;\n    }\n\n    .dataframe tbody tr th {\n        vertical-align: top;\n    }\n\n    .dataframe thead th {\n        text-align: right;\n    }\n</style>\n<table border=\"1\" class=\"dataframe\">\n  <thead>\n    <tr style=\"text-align: right;\">\n      <th></th>\n      <th>estado_x</th>\n      <th>tipo_vivienda</th>\n      <th>precio</th>\n      <th>long</th>\n      <th>lat</th>\n      <th>provincia</th>\n      <th>ciudad</th>\n      <th>distrito</th>\n      <th>planta</th>\n      <th>habitaciones</th>\n      <th>...</th>\n      <th>piscina_comunitaria</th>\n      <th>cuarto_de_basura</th>\n      <th>zonas_comunes</th>\n      <th>piscina</th>\n      <th>garaje</th>\n      <th>tejado</th>\n      <th>calefaccion</th>\n      <th>jardin</th>\n      <th>aire_acondicionado</th>\n      <th>cusec</th>\n    </tr>\n    <tr>\n      <th>uv</th>\n      <th></th>\n      <th></th>\n      <th></th>\n      <th></th>\n      <th></th>\n      <th></th>\n      <th></th>\n      <th></th>\n      <th></th>\n      <th></th>\n      <th></th>\n      <th></th>\n      <th></th>\n      <th></th>\n      <th></th>\n      <th></th>\n      <th></th>\n      <th></th>\n      <th></th>\n      <th></th>\n      <th></th>\n    </tr>\n  </thead>\n  <tbody>\n    <tr>\n      <th>UV/2020/000003</th>\n      <td>1</td>\n      <td>1</td>\n      <td>1</td>\n      <td>1</td>\n      <td>1</td>\n      <td>1</td>\n      <td>1</td>\n      <td>1</td>\n      <td>1</td>\n      <td>1</td>\n      <td>...</td>\n      <td>1</td>\n      <td>1</td>\n      <td>1</td>\n      <td>1</td>\n      <td>1</td>\n      <td>1</td>\n      <td>1</td>\n      <td>1</td>\n      <td>1</td>\n      <td>1</td>\n    </tr>\n    <tr>\n      <th>UV/2020/000004</th>\n      <td>1</td>\n      <td>1</td>\n      <td>1</td>\n      <td>1</td>\n      <td>1</td>\n      <td>1</td>\n      <td>1</td>\n      <td>1</td>\n      <td>1</td>\n      <td>1</td>\n      <td>...</td>\n      <td>1</td>\n      <td>1</td>\n      <td>1</td>\n      <td>1</td>\n      <td>1</td>\n      <td>1</td>\n      <td>1</td>\n      <td>1</td>\n      <td>1</td>\n      <td>1</td>\n    </tr>\n    <tr>\n      <th>UV/2020/000006</th>\n      <td>1</td>\n      <td>1</td>\n      <td>1</td>\n      <td>1</td>\n      <td>1</td>\n      <td>1</td>\n      <td>1</td>\n      <td>1</td>\n      <td>1</td>\n      <td>1</td>\n      <td>...</td>\n      <td>1</td>\n      <td>1</td>\n      <td>1</td>\n      <td>1</td>\n      <td>1</td>\n      <td>1</td>\n      <td>1</td>\n      <td>1</td>\n      <td>1</td>\n      <td>1</td>\n    </tr>\n    <tr>\n      <th>UV/2020/000007</th>\n      <td>1</td>\n      <td>1</td>\n      <td>1</td>\n      <td>1</td>\n      <td>1</td>\n      <td>1</td>\n      <td>1</td>\n      <td>1</td>\n      <td>1</td>\n      <td>1</td>\n      <td>...</td>\n      <td>1</td>\n      <td>1</td>\n      <td>1</td>\n      <td>1</td>\n      <td>1</td>\n      <td>1</td>\n      <td>1</td>\n      <td>1</td>\n      <td>1</td>\n      <td>1</td>\n    </tr>\n    <tr>\n      <th>UV/2020/000008</th>\n      <td>1</td>\n      <td>1</td>\n      <td>1</td>\n      <td>1</td>\n      <td>1</td>\n      <td>1</td>\n      <td>1</td>\n      <td>1</td>\n      <td>1</td>\n      <td>1</td>\n      <td>...</td>\n      <td>1</td>\n      <td>1</td>\n      <td>1</td>\n      <td>1</td>\n      <td>1</td>\n      <td>1</td>\n      <td>1</td>\n      <td>1</td>\n      <td>1</td>\n      <td>1</td>\n    </tr>\n    <tr>\n      <th>...</th>\n      <td>...</td>\n      <td>...</td>\n      <td>...</td>\n      <td>...</td>\n      <td>...</td>\n      <td>...</td>\n      <td>...</td>\n      <td>...</td>\n      <td>...</td>\n      <td>...</td>\n      <td>...</td>\n      <td>...</td>\n      <td>...</td>\n      <td>...</td>\n      <td>...</td>\n      <td>...</td>\n      <td>...</td>\n      <td>...</td>\n      <td>...</td>\n      <td>...</td>\n      <td>...</td>\n    </tr>\n    <tr>\n      <th>UV/2021/000444</th>\n      <td>1</td>\n      <td>1</td>\n      <td>1</td>\n      <td>1</td>\n      <td>1</td>\n      <td>1</td>\n      <td>1</td>\n      <td>1</td>\n      <td>1</td>\n      <td>1</td>\n      <td>...</td>\n      <td>1</td>\n      <td>1</td>\n      <td>1</td>\n      <td>1</td>\n      <td>1</td>\n      <td>1</td>\n      <td>1</td>\n      <td>1</td>\n      <td>1</td>\n      <td>1</td>\n    </tr>\n    <tr>\n      <th>UV/2021/000448</th>\n      <td>1</td>\n      <td>1</td>\n      <td>1</td>\n      <td>1</td>\n      <td>1</td>\n      <td>1</td>\n      <td>1</td>\n      <td>1</td>\n      <td>1</td>\n      <td>1</td>\n      <td>...</td>\n      <td>1</td>\n      <td>1</td>\n      <td>1</td>\n      <td>1</td>\n      <td>1</td>\n      <td>1</td>\n      <td>1</td>\n      <td>1</td>\n      <td>1</td>\n      <td>1</td>\n    </tr>\n    <tr>\n      <th>UV/2021/000451</th>\n      <td>1</td>\n      <td>1</td>\n      <td>1</td>\n      <td>1</td>\n      <td>1</td>\n      <td>1</td>\n      <td>1</td>\n      <td>1</td>\n      <td>1</td>\n      <td>1</td>\n      <td>...</td>\n      <td>1</td>\n      <td>1</td>\n      <td>1</td>\n      <td>1</td>\n      <td>1</td>\n      <td>1</td>\n      <td>1</td>\n      <td>1</td>\n      <td>1</td>\n      <td>1</td>\n    </tr>\n    <tr>\n      <th>UV/2021/000456</th>\n      <td>1</td>\n      <td>1</td>\n      <td>1</td>\n      <td>1</td>\n      <td>1</td>\n      <td>1</td>\n      <td>1</td>\n      <td>1</td>\n      <td>1</td>\n      <td>2</td>\n      <td>...</td>\n      <td>1</td>\n      <td>1</td>\n      <td>1</td>\n      <td>1</td>\n      <td>1</td>\n      <td>1</td>\n      <td>2</td>\n      <td>1</td>\n      <td>1</td>\n      <td>1</td>\n    </tr>\n    <tr>\n      <th>UV/2021/000461</th>\n      <td>1</td>\n      <td>1</td>\n      <td>1</td>\n      <td>1</td>\n      <td>1</td>\n      <td>1</td>\n      <td>1</td>\n      <td>1</td>\n      <td>1</td>\n      <td>1</td>\n      <td>...</td>\n      <td>1</td>\n      <td>1</td>\n      <td>1</td>\n      <td>1</td>\n      <td>1</td>\n      <td>1</td>\n      <td>1</td>\n      <td>1</td>\n      <td>1</td>\n      <td>1</td>\n    </tr>\n  </tbody>\n</table>\n<p>177 rows × 30 columns</p>\n</div>"
     },
     "metadata": {},
     "execution_count": 13
    }
   ],
   "source": [
    "df_campos_diferentes"
   ]
  },
  {
   "cell_type": "code",
   "execution_count": 14,
   "metadata": {},
   "outputs": [],
   "source": [
    "df=df.groupby('uv').last()"
   ]
  },
  {
   "cell_type": "code",
   "execution_count": 16,
   "metadata": {},
   "outputs": [
    {
     "output_type": "execute_result",
     "data": {
      "text/plain": [
       "Index(['estado_x', 'tipo_vivienda', 'precio', 'long', 'lat', 'provincia',\n",
       "       'ciudad', 'distrito', 'planta', 'habitaciones', 'banos', 'metros',\n",
       "       'fecha_construccion', 'orientacion', 'situacion', 'portal', 'ascensor',\n",
       "       'parque_infantil', 'terraza', 'trastero', 'piscina_comunitaria',\n",
       "       'cuarto_de_basura', 'zonas_comunes', 'piscina', 'garaje', 'tejado',\n",
       "       'calefaccion', 'jardin', 'aire_acondicionado', 'cusec'],\n",
       "      dtype='object')"
      ]
     },
     "metadata": {},
     "execution_count": 16
    }
   ],
   "source": [
    "df.columns\n"
   ]
  },
  {
   "cell_type": "code",
   "execution_count": 18,
   "metadata": {},
   "outputs": [],
   "source": [
    "df.columns=['estado', 'tipo', 'precio', 'long', 'lat', 'provincia',\n",
    "       'ciudad', 'distrito', 'planta', 'habitaciones', 'banos', 'metros',\n",
    "       'fecha_construccion', 'orientacion', 'intext', 'portal', 'ascensor',\n",
    "       'parque_infantil', 'terraza', 'trastero', 'piscina_comunitaria',\n",
    "       'cuarto_de_basura', 'zonas_comunes', 'piscina', 'garaje', 'tejado',\n",
    "       'calefaccion', 'jardin', 'aire_acondicionado', 'area_censal']"
   ]
  },
  {
   "cell_type": "code",
   "execution_count": 19,
   "metadata": {},
   "outputs": [
    {
     "output_type": "execute_result",
     "data": {
      "text/plain": [
       "               estado  tipo  precio     long      lat  provincia  \\\n",
       "uv                                                                 \n",
       "UV/2020/000003     01  Piso  160000  40.4278 -3.63083          1   \n",
       "UV/2020/000004     01  Piso  125000  40.1924 -3.66922          1   \n",
       "UV/2020/000006     01  Piso       0  40.4330 -3.63715          1   \n",
       "UV/2020/000007     01  Piso  159000  40.2950 -3.80339          1   \n",
       "UV/2020/000008     01  Piso  170000  40.2846 -3.78862          1   \n",
       "...               ...   ...     ...      ...      ...        ...   \n",
       "UV/2021/000444     01  Piso  120000  40.3907 -3.76437          1   \n",
       "UV/2021/000448     01  Piso  130000  40.4290 -3.63959          1   \n",
       "UV/2021/000451     01  Piso   99900  41.3678  2.10107          2   \n",
       "UV/2021/000456     02  Casa    1000  40.4345 -3.71211          1   \n",
       "UV/2021/000461     01  Piso   75000  40.4614 -3.47725          1   \n",
       "\n",
       "                                 ciudad                   distrito  planta  \\\n",
       "uv                                                                           \n",
       "UV/2020/000003                   Madrid                   San Blas       9   \n",
       "UV/2020/000004                Valdemoro              Zona estación       1   \n",
       "UV/2020/000006                   Madrid              Ciudad Lineal       2   \n",
       "UV/2020/000007              Fuenlabrada                   La Serna       9   \n",
       "UV/2020/000008              Fuenlabrada                     Centro       6   \n",
       "...                                 ...                        ...     ...   \n",
       "UV/2021/000444                   Madrid                     Latina       5   \n",
       "UV/2021/000448                   Madrid              Ciudad Lineal       3   \n",
       "UV/2021/000451  Hospitalet De Llobregat  Can Serra - Pubilla Cases       1   \n",
       "UV/2021/000456                   Madrid                   Chamberi       1   \n",
       "UV/2021/000461        Torrejon De Ardoz                     Tetuán       4   \n",
       "\n",
       "                habitaciones  ...  piscina_comunitaria  cuarto_de_basura  \\\n",
       "uv                            ...                                          \n",
       "UV/2020/000003             2  ...                    0                 0   \n",
       "UV/2020/000004             2  ...                    0                 0   \n",
       "UV/2020/000006             2  ...                    0                 0   \n",
       "UV/2020/000007             3  ...                    0                 0   \n",
       "UV/2020/000008             3  ...                    1                 0   \n",
       "...                      ...  ...                  ...               ...   \n",
       "UV/2021/000444             3  ...                    0                 0   \n",
       "UV/2021/000448             2  ...                    0                 0   \n",
       "UV/2021/000451             2  ...                    0                 0   \n",
       "UV/2021/000456             3  ...                    0                 0   \n",
       "UV/2021/000461             3  ...                    0                 0   \n",
       "\n",
       "                zonas_comunes piscina garaje  tejado  calefaccion  jardin  \\\n",
       "uv                                                                          \n",
       "UV/2020/000003              0       0      0       0            0       0   \n",
       "UV/2020/000004              0       0      0       0            0       0   \n",
       "UV/2020/000006              0       0      0       0            0       0   \n",
       "UV/2020/000007              0       0      0       0            0       0   \n",
       "UV/2020/000008              0       1      0       0            0       0   \n",
       "...                       ...     ...    ...     ...          ...     ...   \n",
       "UV/2021/000444              0       0      0       0            0       0   \n",
       "UV/2021/000448              0       0      0       0            0       0   \n",
       "UV/2021/000451              0       0      0       0            0       0   \n",
       "UV/2021/000456              1       0      0       0            0       0   \n",
       "UV/2021/000461              0       0      0       0            0       0   \n",
       "\n",
       "                aire_acondicionado   area_censal  \n",
       "uv                                                \n",
       "UV/2020/000003                   0  2.807915e+09  \n",
       "UV/2020/000004                   0  2.816101e+09  \n",
       "UV/2020/000006                   0  2.807915e+09  \n",
       "UV/2020/000007                   0  2.805806e+09  \n",
       "UV/2020/000008                   0  2.805802e+09  \n",
       "...                            ...           ...  \n",
       "UV/2021/000444                   0  2.807910e+09  \n",
       "UV/2021/000448                   0  2.807915e+09  \n",
       "UV/2021/000451                   0  8.101050e+08  \n",
       "UV/2021/000456                   1  2.807907e+09  \n",
       "UV/2021/000461                   0  2.814804e+09  \n",
       "\n",
       "[177 rows x 30 columns]"
      ],
      "text/html": "<div>\n<style scoped>\n    .dataframe tbody tr th:only-of-type {\n        vertical-align: middle;\n    }\n\n    .dataframe tbody tr th {\n        vertical-align: top;\n    }\n\n    .dataframe thead th {\n        text-align: right;\n    }\n</style>\n<table border=\"1\" class=\"dataframe\">\n  <thead>\n    <tr style=\"text-align: right;\">\n      <th></th>\n      <th>estado</th>\n      <th>tipo</th>\n      <th>precio</th>\n      <th>long</th>\n      <th>lat</th>\n      <th>provincia</th>\n      <th>ciudad</th>\n      <th>distrito</th>\n      <th>planta</th>\n      <th>habitaciones</th>\n      <th>...</th>\n      <th>piscina_comunitaria</th>\n      <th>cuarto_de_basura</th>\n      <th>zonas_comunes</th>\n      <th>piscina</th>\n      <th>garaje</th>\n      <th>tejado</th>\n      <th>calefaccion</th>\n      <th>jardin</th>\n      <th>aire_acondicionado</th>\n      <th>area_censal</th>\n    </tr>\n    <tr>\n      <th>uv</th>\n      <th></th>\n      <th></th>\n      <th></th>\n      <th></th>\n      <th></th>\n      <th></th>\n      <th></th>\n      <th></th>\n      <th></th>\n      <th></th>\n      <th></th>\n      <th></th>\n      <th></th>\n      <th></th>\n      <th></th>\n      <th></th>\n      <th></th>\n      <th></th>\n      <th></th>\n      <th></th>\n      <th></th>\n    </tr>\n  </thead>\n  <tbody>\n    <tr>\n      <th>UV/2020/000003</th>\n      <td>01</td>\n      <td>Piso</td>\n      <td>160000</td>\n      <td>40.4278</td>\n      <td>-3.63083</td>\n      <td>1</td>\n      <td>Madrid</td>\n      <td>San Blas</td>\n      <td>9</td>\n      <td>2</td>\n      <td>...</td>\n      <td>0</td>\n      <td>0</td>\n      <td>0</td>\n      <td>0</td>\n      <td>0</td>\n      <td>0</td>\n      <td>0</td>\n      <td>0</td>\n      <td>0</td>\n      <td>2.807915e+09</td>\n    </tr>\n    <tr>\n      <th>UV/2020/000004</th>\n      <td>01</td>\n      <td>Piso</td>\n      <td>125000</td>\n      <td>40.1924</td>\n      <td>-3.66922</td>\n      <td>1</td>\n      <td>Valdemoro</td>\n      <td>Zona estación</td>\n      <td>1</td>\n      <td>2</td>\n      <td>...</td>\n      <td>0</td>\n      <td>0</td>\n      <td>0</td>\n      <td>0</td>\n      <td>0</td>\n      <td>0</td>\n      <td>0</td>\n      <td>0</td>\n      <td>0</td>\n      <td>2.816101e+09</td>\n    </tr>\n    <tr>\n      <th>UV/2020/000006</th>\n      <td>01</td>\n      <td>Piso</td>\n      <td>0</td>\n      <td>40.4330</td>\n      <td>-3.63715</td>\n      <td>1</td>\n      <td>Madrid</td>\n      <td>Ciudad Lineal</td>\n      <td>2</td>\n      <td>2</td>\n      <td>...</td>\n      <td>0</td>\n      <td>0</td>\n      <td>0</td>\n      <td>0</td>\n      <td>0</td>\n      <td>0</td>\n      <td>0</td>\n      <td>0</td>\n      <td>0</td>\n      <td>2.807915e+09</td>\n    </tr>\n    <tr>\n      <th>UV/2020/000007</th>\n      <td>01</td>\n      <td>Piso</td>\n      <td>159000</td>\n      <td>40.2950</td>\n      <td>-3.80339</td>\n      <td>1</td>\n      <td>Fuenlabrada</td>\n      <td>La Serna</td>\n      <td>9</td>\n      <td>3</td>\n      <td>...</td>\n      <td>0</td>\n      <td>0</td>\n      <td>0</td>\n      <td>0</td>\n      <td>0</td>\n      <td>0</td>\n      <td>0</td>\n      <td>0</td>\n      <td>0</td>\n      <td>2.805806e+09</td>\n    </tr>\n    <tr>\n      <th>UV/2020/000008</th>\n      <td>01</td>\n      <td>Piso</td>\n      <td>170000</td>\n      <td>40.2846</td>\n      <td>-3.78862</td>\n      <td>1</td>\n      <td>Fuenlabrada</td>\n      <td>Centro</td>\n      <td>6</td>\n      <td>3</td>\n      <td>...</td>\n      <td>1</td>\n      <td>0</td>\n      <td>0</td>\n      <td>1</td>\n      <td>0</td>\n      <td>0</td>\n      <td>0</td>\n      <td>0</td>\n      <td>0</td>\n      <td>2.805802e+09</td>\n    </tr>\n    <tr>\n      <th>...</th>\n      <td>...</td>\n      <td>...</td>\n      <td>...</td>\n      <td>...</td>\n      <td>...</td>\n      <td>...</td>\n      <td>...</td>\n      <td>...</td>\n      <td>...</td>\n      <td>...</td>\n      <td>...</td>\n      <td>...</td>\n      <td>...</td>\n      <td>...</td>\n      <td>...</td>\n      <td>...</td>\n      <td>...</td>\n      <td>...</td>\n      <td>...</td>\n      <td>...</td>\n      <td>...</td>\n    </tr>\n    <tr>\n      <th>UV/2021/000444</th>\n      <td>01</td>\n      <td>Piso</td>\n      <td>120000</td>\n      <td>40.3907</td>\n      <td>-3.76437</td>\n      <td>1</td>\n      <td>Madrid</td>\n      <td>Latina</td>\n      <td>5</td>\n      <td>3</td>\n      <td>...</td>\n      <td>0</td>\n      <td>0</td>\n      <td>0</td>\n      <td>0</td>\n      <td>0</td>\n      <td>0</td>\n      <td>0</td>\n      <td>0</td>\n      <td>0</td>\n      <td>2.807910e+09</td>\n    </tr>\n    <tr>\n      <th>UV/2021/000448</th>\n      <td>01</td>\n      <td>Piso</td>\n      <td>130000</td>\n      <td>40.4290</td>\n      <td>-3.63959</td>\n      <td>1</td>\n      <td>Madrid</td>\n      <td>Ciudad Lineal</td>\n      <td>3</td>\n      <td>2</td>\n      <td>...</td>\n      <td>0</td>\n      <td>0</td>\n      <td>0</td>\n      <td>0</td>\n      <td>0</td>\n      <td>0</td>\n      <td>0</td>\n      <td>0</td>\n      <td>0</td>\n      <td>2.807915e+09</td>\n    </tr>\n    <tr>\n      <th>UV/2021/000451</th>\n      <td>01</td>\n      <td>Piso</td>\n      <td>99900</td>\n      <td>41.3678</td>\n      <td>2.10107</td>\n      <td>2</td>\n      <td>Hospitalet De Llobregat</td>\n      <td>Can Serra - Pubilla Cases</td>\n      <td>1</td>\n      <td>2</td>\n      <td>...</td>\n      <td>0</td>\n      <td>0</td>\n      <td>0</td>\n      <td>0</td>\n      <td>0</td>\n      <td>0</td>\n      <td>0</td>\n      <td>0</td>\n      <td>0</td>\n      <td>8.101050e+08</td>\n    </tr>\n    <tr>\n      <th>UV/2021/000456</th>\n      <td>02</td>\n      <td>Casa</td>\n      <td>1000</td>\n      <td>40.4345</td>\n      <td>-3.71211</td>\n      <td>1</td>\n      <td>Madrid</td>\n      <td>Chamberi</td>\n      <td>1</td>\n      <td>3</td>\n      <td>...</td>\n      <td>0</td>\n      <td>0</td>\n      <td>1</td>\n      <td>0</td>\n      <td>0</td>\n      <td>0</td>\n      <td>0</td>\n      <td>0</td>\n      <td>1</td>\n      <td>2.807907e+09</td>\n    </tr>\n    <tr>\n      <th>UV/2021/000461</th>\n      <td>01</td>\n      <td>Piso</td>\n      <td>75000</td>\n      <td>40.4614</td>\n      <td>-3.47725</td>\n      <td>1</td>\n      <td>Torrejon De Ardoz</td>\n      <td>Tetuán</td>\n      <td>4</td>\n      <td>3</td>\n      <td>...</td>\n      <td>0</td>\n      <td>0</td>\n      <td>0</td>\n      <td>0</td>\n      <td>0</td>\n      <td>0</td>\n      <td>0</td>\n      <td>0</td>\n      <td>0</td>\n      <td>2.814804e+09</td>\n    </tr>\n  </tbody>\n</table>\n<p>177 rows × 30 columns</p>\n</div>"
     },
     "metadata": {},
     "execution_count": 19
    }
   ],
   "source": [
    "df"
   ]
  },
  {
   "cell_type": "code",
   "execution_count": null,
   "metadata": {},
   "outputs": [],
   "source": []
  }
 ]
}