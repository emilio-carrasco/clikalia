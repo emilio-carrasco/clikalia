{
 "cells": [
  {
   "cell_type": "code",
   "execution_count": 1,
   "metadata": {
    "tags": []
   },
   "outputs": [],
   "source": [
    "import pandas as pd\n",
    "from json import load\n",
    "from config.config import lee_archivo_csv, configuracion, diccionario_precios_m2\n",
    "import src.limpieza_columnas\n",
    "import src.calculo_columnas\n",
    "from inspect import isfunction"
   ]
  },
  {
   "cell_type": "code",
   "execution_count": 2,
   "metadata": {},
   "outputs": [],
   "source": [
    "def columnas_limpias(df):\n",
    "    try:\n",
    "        lista_variables = configuracion['variables_en_df']\n",
    "        for var in lista_variables:\n",
    "            limpiador = getattr(src.limpieza_columnas, var)\n",
    "            df[var] = df[var].apply(limpiador)    \n",
    "        return df[lista_variables]\n",
    "    except Exception as ex :\n",
    "        plantilla = \"Ocurrió una excepción de tipo {0}. Argumentos:\\n{1!r}\"\n",
    "        mensaje = plantilla.format(type(ex).__name__, ex.args)\n",
    "        print(mensaje)\n",
    "        print(\"Error en 'columnas_limpias'\")"
   ]
  },
  {
   "cell_type": "code",
   "execution_count": 3,
   "metadata": {},
   "outputs": [],
   "source": [
    "def calcula_variables(lista_var,df):\n",
    "    for var in lista_var:\n",
    "        calculador = getattr(src.calculo_columnas, var)\n",
    "        df = calculador(df)\n",
    "    return df"
   ]
  },
  {
   "cell_type": "code",
   "execution_count": 4,
   "metadata": {},
   "outputs": [],
   "source": [
    "def agrupar_estado(df):\n",
    "    def actualiza_diccionario(diccionario):\n",
    "        return {clave: (pd.Series.mode  if cadena == \"mode\" else cadena) for clave, cadena in diccionario.items()}\n",
    "    diccionario = actualiza_diccionario(configuracion['agrupar'])\n",
    "    return df.groupby('uv', as_index = True).agg(diccionario)"
   ]
  },
  {
   "cell_type": "code",
   "execution_count": 5,
   "metadata": {
    "tags": []
   },
   "outputs": [
    {
     "output_type": "stream",
     "name": "stderr",
     "text": [
      "/mnt/c/Users/emili/Ironhack/mis_proyectos/clikalia/src/calculo_columnas.py:20: SettingWithCopyWarning: \nA value is trying to be set on a copy of a slice from a DataFrame.\nTry using .loc[row_indexer,col_indexer] = value instead\n\nSee the caveats in the documentation: https://pandas.pydata.org/pandas-docs/stable/user_guide/indexing.html#returning-a-view-versus-a-copy\n  df['NS'] = df.orientacion.apply(es_NS)\n/mnt/c/Users/emili/Ironhack/mis_proyectos/clikalia/src/calculo_columnas.py:33: SettingWithCopyWarning: \nA value is trying to be set on a copy of a slice from a DataFrame.\nTry using .loc[row_indexer,col_indexer] = value instead\n\nSee the caveats in the documentation: https://pandas.pydata.org/pandas-docs/stable/user_guide/indexing.html#returning-a-view-versus-a-copy\n  df['EO'] = df.orientacion.apply(es_EO)\n/mnt/c/Users/emili/Ironhack/mis_proyectos/clikalia/src/calculo_columnas.py:7: SettingWithCopyWarning: \nA value is trying to be set on a copy of a slice from a DataFrame.\nTry using .loc[row_indexer,col_indexer] = value instead\n\nSee the caveats in the documentation: https://pandas.pydata.org/pandas-docs/stable/user_guide/indexing.html#returning-a-view-versus-a-copy\n  df['precio_m2'] = df.cusec.apply(saca_precio)\n"
     ]
    }
   ],
   "source": [
    "df = lee_archivo_csv('./data/datos_pisos.csv')\n",
    "df = df.set_index('uv')\n",
    "columnas = list(df.columns)\n",
    "\n",
    "df_limpio = columnas_limpias(df)\n",
    "df_calculado = calcula_variables(configuracion['variables_a_calcular'],df_limpio)\n",
    "df_estado_unico = agrupar_estado(df_calculado)"
   ]
  },
  {
   "cell_type": "code",
   "execution_count": 6,
   "metadata": {},
   "outputs": [
    {
     "output_type": "execute_result",
     "data": {
      "text/plain": [
       "                estado_x  habitaciones  banos  metros  fecha_construccion NS  \\\n",
       "uv                                                                             \n",
       "UV/2020/000003       1.0           2.0    1.0    45.0              1960.0  N   \n",
       "UV/2020/000004       1.0           2.0    1.0    67.0              1966.0      \n",
       "UV/2020/000006       1.0           2.0    1.0    62.0              1960.0  S   \n",
       "UV/2020/000007       1.0           3.0    1.0    78.0              1983.0      \n",
       "UV/2020/000008       1.0           3.0    1.0    84.0              1980.0      \n",
       "...                  ...           ...    ...     ...                 ... ..   \n",
       "UV/2021/000444       1.0           3.0    1.0    62.0              1966.0  S   \n",
       "UV/2021/000448       1.0           2.0    1.0    56.0              1970.0  S   \n",
       "UV/2021/000451       1.0           2.0    1.0    47.0              1960.0  N   \n",
       "UV/2021/000456       2.0           4.0    2.0    81.0              1956.0  N   \n",
       "UV/2021/000461       1.0           3.0    1.0    69.0              1960.0      \n",
       "\n",
       "               EO  situacion  portal  ascensor  ...  piscina  garaje  tejado  \\\n",
       "uv                                              ...                            \n",
       "UV/2020/000003           3.0       0         1  ...        0       0       0   \n",
       "UV/2020/000004  O        1.0       0         1  ...        0       0       0   \n",
       "UV/2020/000006           3.0       0         0  ...        0       0       0   \n",
       "UV/2020/000007  E        3.0       0         1  ...        0       0       0   \n",
       "UV/2020/000008  O        3.0       0         1  ...        0       0       0   \n",
       "...            ..        ...     ...       ...  ...      ...     ...     ...   \n",
       "UV/2021/000444  E        3.0       1         0  ...        0       0       0   \n",
       "UV/2021/000448  O        1.0       0         0  ...        0       0       0   \n",
       "UV/2021/000451  O        1.0       1         0  ...        0       0       0   \n",
       "UV/2021/000456  O        1.0       1         1  ...        0       0       0   \n",
       "UV/2021/000461  O        3.0       1         0  ...        0       0       0   \n",
       "\n",
       "                calefaccion  jardin  aire_acondicionado  tipo_vivienda  \\\n",
       "uv                                                                       \n",
       "UV/2020/000003            0       0                   0           PISO   \n",
       "UV/2020/000004            0       0                   0           PISO   \n",
       "UV/2020/000006            0       0                   0           PISO   \n",
       "UV/2020/000007            0       0                   0           PISO   \n",
       "UV/2020/000008            0       0                   0           PISO   \n",
       "...                     ...     ...                 ...            ...   \n",
       "UV/2021/000444            0       0                   0           PISO   \n",
       "UV/2021/000448            0       0                   0           PISO   \n",
       "UV/2021/000451            0       0                   0           PISO   \n",
       "UV/2021/000456            1       0                   1           CASA   \n",
       "UV/2021/000461            0       0                   0           PISO   \n",
       "\n",
       "                precio  gastos_comunitarios  planta  \n",
       "uv                                                   \n",
       "UV/2020/000003   160.0                 0.00     9.0  \n",
       "UV/2020/000004   125.0                 0.00     1.0  \n",
       "UV/2020/000006     NaN                 0.00     2.0  \n",
       "UV/2020/000007   159.0                 0.00     9.0  \n",
       "UV/2020/000008   170.0                 0.00     6.0  \n",
       "...                ...                  ...     ...  \n",
       "UV/2021/000444   120.0                 0.00     5.0  \n",
       "UV/2021/000448   130.0                30.47     3.0  \n",
       "UV/2021/000451   100.0                35.00     1.0  \n",
       "UV/2021/000456     1.0                 0.00     1.0  \n",
       "UV/2021/000461    75.0                 0.00     4.0  \n",
       "\n",
       "[177 rows x 26 columns]"
      ],
      "text/html": "<div>\n<style scoped>\n    .dataframe tbody tr th:only-of-type {\n        vertical-align: middle;\n    }\n\n    .dataframe tbody tr th {\n        vertical-align: top;\n    }\n\n    .dataframe thead th {\n        text-align: right;\n    }\n</style>\n<table border=\"1\" class=\"dataframe\">\n  <thead>\n    <tr style=\"text-align: right;\">\n      <th></th>\n      <th>estado_x</th>\n      <th>habitaciones</th>\n      <th>banos</th>\n      <th>metros</th>\n      <th>fecha_construccion</th>\n      <th>NS</th>\n      <th>EO</th>\n      <th>situacion</th>\n      <th>portal</th>\n      <th>ascensor</th>\n      <th>...</th>\n      <th>piscina</th>\n      <th>garaje</th>\n      <th>tejado</th>\n      <th>calefaccion</th>\n      <th>jardin</th>\n      <th>aire_acondicionado</th>\n      <th>tipo_vivienda</th>\n      <th>precio</th>\n      <th>gastos_comunitarios</th>\n      <th>planta</th>\n    </tr>\n    <tr>\n      <th>uv</th>\n      <th></th>\n      <th></th>\n      <th></th>\n      <th></th>\n      <th></th>\n      <th></th>\n      <th></th>\n      <th></th>\n      <th></th>\n      <th></th>\n      <th></th>\n      <th></th>\n      <th></th>\n      <th></th>\n      <th></th>\n      <th></th>\n      <th></th>\n      <th></th>\n      <th></th>\n      <th></th>\n      <th></th>\n    </tr>\n  </thead>\n  <tbody>\n    <tr>\n      <th>UV/2020/000003</th>\n      <td>1.0</td>\n      <td>2.0</td>\n      <td>1.0</td>\n      <td>45.0</td>\n      <td>1960.0</td>\n      <td>N</td>\n      <td></td>\n      <td>3.0</td>\n      <td>0</td>\n      <td>1</td>\n      <td>...</td>\n      <td>0</td>\n      <td>0</td>\n      <td>0</td>\n      <td>0</td>\n      <td>0</td>\n      <td>0</td>\n      <td>PISO</td>\n      <td>160.0</td>\n      <td>0.00</td>\n      <td>9.0</td>\n    </tr>\n    <tr>\n      <th>UV/2020/000004</th>\n      <td>1.0</td>\n      <td>2.0</td>\n      <td>1.0</td>\n      <td>67.0</td>\n      <td>1966.0</td>\n      <td></td>\n      <td>O</td>\n      <td>1.0</td>\n      <td>0</td>\n      <td>1</td>\n      <td>...</td>\n      <td>0</td>\n      <td>0</td>\n      <td>0</td>\n      <td>0</td>\n      <td>0</td>\n      <td>0</td>\n      <td>PISO</td>\n      <td>125.0</td>\n      <td>0.00</td>\n      <td>1.0</td>\n    </tr>\n    <tr>\n      <th>UV/2020/000006</th>\n      <td>1.0</td>\n      <td>2.0</td>\n      <td>1.0</td>\n      <td>62.0</td>\n      <td>1960.0</td>\n      <td>S</td>\n      <td></td>\n      <td>3.0</td>\n      <td>0</td>\n      <td>0</td>\n      <td>...</td>\n      <td>0</td>\n      <td>0</td>\n      <td>0</td>\n      <td>0</td>\n      <td>0</td>\n      <td>0</td>\n      <td>PISO</td>\n      <td>NaN</td>\n      <td>0.00</td>\n      <td>2.0</td>\n    </tr>\n    <tr>\n      <th>UV/2020/000007</th>\n      <td>1.0</td>\n      <td>3.0</td>\n      <td>1.0</td>\n      <td>78.0</td>\n      <td>1983.0</td>\n      <td></td>\n      <td>E</td>\n      <td>3.0</td>\n      <td>0</td>\n      <td>1</td>\n      <td>...</td>\n      <td>0</td>\n      <td>0</td>\n      <td>0</td>\n      <td>0</td>\n      <td>0</td>\n      <td>0</td>\n      <td>PISO</td>\n      <td>159.0</td>\n      <td>0.00</td>\n      <td>9.0</td>\n    </tr>\n    <tr>\n      <th>UV/2020/000008</th>\n      <td>1.0</td>\n      <td>3.0</td>\n      <td>1.0</td>\n      <td>84.0</td>\n      <td>1980.0</td>\n      <td></td>\n      <td>O</td>\n      <td>3.0</td>\n      <td>0</td>\n      <td>1</td>\n      <td>...</td>\n      <td>0</td>\n      <td>0</td>\n      <td>0</td>\n      <td>0</td>\n      <td>0</td>\n      <td>0</td>\n      <td>PISO</td>\n      <td>170.0</td>\n      <td>0.00</td>\n      <td>6.0</td>\n    </tr>\n    <tr>\n      <th>...</th>\n      <td>...</td>\n      <td>...</td>\n      <td>...</td>\n      <td>...</td>\n      <td>...</td>\n      <td>...</td>\n      <td>...</td>\n      <td>...</td>\n      <td>...</td>\n      <td>...</td>\n      <td>...</td>\n      <td>...</td>\n      <td>...</td>\n      <td>...</td>\n      <td>...</td>\n      <td>...</td>\n      <td>...</td>\n      <td>...</td>\n      <td>...</td>\n      <td>...</td>\n      <td>...</td>\n    </tr>\n    <tr>\n      <th>UV/2021/000444</th>\n      <td>1.0</td>\n      <td>3.0</td>\n      <td>1.0</td>\n      <td>62.0</td>\n      <td>1966.0</td>\n      <td>S</td>\n      <td>E</td>\n      <td>3.0</td>\n      <td>1</td>\n      <td>0</td>\n      <td>...</td>\n      <td>0</td>\n      <td>0</td>\n      <td>0</td>\n      <td>0</td>\n      <td>0</td>\n      <td>0</td>\n      <td>PISO</td>\n      <td>120.0</td>\n      <td>0.00</td>\n      <td>5.0</td>\n    </tr>\n    <tr>\n      <th>UV/2021/000448</th>\n      <td>1.0</td>\n      <td>2.0</td>\n      <td>1.0</td>\n      <td>56.0</td>\n      <td>1970.0</td>\n      <td>S</td>\n      <td>O</td>\n      <td>1.0</td>\n      <td>0</td>\n      <td>0</td>\n      <td>...</td>\n      <td>0</td>\n      <td>0</td>\n      <td>0</td>\n      <td>0</td>\n      <td>0</td>\n      <td>0</td>\n      <td>PISO</td>\n      <td>130.0</td>\n      <td>30.47</td>\n      <td>3.0</td>\n    </tr>\n    <tr>\n      <th>UV/2021/000451</th>\n      <td>1.0</td>\n      <td>2.0</td>\n      <td>1.0</td>\n      <td>47.0</td>\n      <td>1960.0</td>\n      <td>N</td>\n      <td>O</td>\n      <td>1.0</td>\n      <td>1</td>\n      <td>0</td>\n      <td>...</td>\n      <td>0</td>\n      <td>0</td>\n      <td>0</td>\n      <td>0</td>\n      <td>0</td>\n      <td>0</td>\n      <td>PISO</td>\n      <td>100.0</td>\n      <td>35.00</td>\n      <td>1.0</td>\n    </tr>\n    <tr>\n      <th>UV/2021/000456</th>\n      <td>2.0</td>\n      <td>4.0</td>\n      <td>2.0</td>\n      <td>81.0</td>\n      <td>1956.0</td>\n      <td>N</td>\n      <td>O</td>\n      <td>1.0</td>\n      <td>1</td>\n      <td>1</td>\n      <td>...</td>\n      <td>0</td>\n      <td>0</td>\n      <td>0</td>\n      <td>1</td>\n      <td>0</td>\n      <td>1</td>\n      <td>CASA</td>\n      <td>1.0</td>\n      <td>0.00</td>\n      <td>1.0</td>\n    </tr>\n    <tr>\n      <th>UV/2021/000461</th>\n      <td>1.0</td>\n      <td>3.0</td>\n      <td>1.0</td>\n      <td>69.0</td>\n      <td>1960.0</td>\n      <td></td>\n      <td>O</td>\n      <td>3.0</td>\n      <td>1</td>\n      <td>0</td>\n      <td>...</td>\n      <td>0</td>\n      <td>0</td>\n      <td>0</td>\n      <td>0</td>\n      <td>0</td>\n      <td>0</td>\n      <td>PISO</td>\n      <td>75.0</td>\n      <td>0.00</td>\n      <td>4.0</td>\n    </tr>\n  </tbody>\n</table>\n<p>177 rows × 26 columns</p>\n</div>"
     },
     "metadata": {},
     "execution_count": 6
    }
   ],
   "source": [
    "df_estado_unico"
   ]
  },
  {
   "cell_type": "code",
   "execution_count": null,
   "metadata": {},
   "outputs": [],
   "source": []
  }
 ],
 "metadata": {
  "kernelspec": {
   "display_name": "clik",
   "language": "python",
   "name": "clik"
  },
  "language_info": {
   "codemirror_mode": {
    "name": "ipython",
    "version": 3
   },
   "file_extension": ".py",
   "mimetype": "text/x-python",
   "name": "python",
   "nbconvert_exporter": "python",
   "pygments_lexer": "ipython3",
   "version": "3.7.10"
  }
 },
 "nbformat": 4,
 "nbformat_minor": 5
}