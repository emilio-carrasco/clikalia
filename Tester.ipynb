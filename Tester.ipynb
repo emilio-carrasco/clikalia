{
 "cells": [
  {
   "cell_type": "code",
   "execution_count": 1,
   "id": "4a9e0818",
   "metadata": {},
   "outputs": [
    {
     "output_type": "stream",
     "name": "stdout",
     "text": [
      "The history saving thread hit an unexpected error (DatabaseError('database disk image is malformed')).History will not be written to the database.\n"
     ]
    }
   ],
   "source": [
    "import pandas as pd\n",
    "from json import load\n",
    "\n",
    "df_geo = pd.read_csv('./data/geolocalizacion.csv', sep=';')\n",
    "df_car = pd.read_csv('./data/caracteristicas.csv', sep=';')\n",
    "df_web = pd.read_csv('./data/web.csv', sep=';')"
   ]
  },
  {
   "cell_type": "code",
   "execution_count": 2,
   "metadata": {},
   "outputs": [],
   "source": [
    "\"\"\"\n",
    "Desechamos las columnas de metadatos que no van a influir en nuestro knn. \n",
    "Esta información, en el caso de llegar a representarla lo que haremos será enriquecer con una api en una tabla exclusiva para ello \n",
    "ennuestra BBD\n",
    "\n",
    "\n",
    "necesario:  \n",
    "            [rk] necesitamos el identificador del piso.\n",
    "            [planta] es un valor muy necesario para nuestro  algoritmo\n",
    "\n",
    "útilies:   \n",
    "            [geo] no es necesario si los barrios estuviesen bien definidios. pero como aún no tenemos clara la manera de adquirir el barrio lo mantenemos.\n",
    "            [CP] si viéramos que los barrios son una lista de codigos postales podríamos ahorrarnos el uso del shapefile y simplemente relacionar CP con barrios. \n",
    "            [Pais] provincia y ciudad podrían ser útiles si están bien metidos los datos.\n",
    "            [distrito y barrio] están un poco sucios pero los mantenemmos aunque luego lo machaquemos con nuestraa información.df_geo\n",
    "            [calle] podría no ser necesario para nuestro algoritmo pero por ahora lo mantenemos, seguramente lo desechemos más adelante.\n",
    "\"\"\"\n",
    "df_meta_geo = df_geo[['rk', 'latitud', 'longitud', 'codigo_postal', 'pais', 'provincia', 'ciudad', 'distrito', 'barrio', 'calle', 'planta']]\n"
   ]
  },
  {
   "cell_type": "code",
   "execution_count": 3,
   "metadata": {},
   "outputs": [],
   "source": [
    "\n",
    "\"\"\"\n",
    "Desechamos las columnas de datos que no crremos que nos vayan a influir.complex\n",
    "\n",
    "eliminamos: \n",
    "            [rk] no necesitamos saber en una misma columna el estado del piso y su identificador. lo tenemos cada uno en su columna correspondiente. Posteriormente filtraremos aquellos pisos repetidos que por haber sido reformados nos siguen apareciendo sin reformar.Además tendremos que ser consistenetes con la nomenclartura de esta columna ya que rk de la tabla de geo y uv de esta tabla contienen la misma información, no es así con rk de esta tabla.complex\n",
    "\n",
    "            [metrica] es inconsistente que tengamos una columna \"metros\" y redundemos en que la métrica es m2. Asumimos que todos los inmuebles están en metros y que si fuese necesario incluir en medidas imperiales (por ejemplo) se transformaría a metros o se transformaría a metros y se incluría una columna con la información en yardas en todas las viviendas.complex\n",
    "\n",
    "            [certificaciones] [certificado_energetico] [seguro_hogar]\n",
    "            \n",
    "\n",
    "mantenemos: \n",
    "            Muy importante para nuestro algoritmo\n",
    "            [ascensor ]\n",
    "\n",
    "            Podría ser interesante para nuestro algoritmo \n",
    "            [fecha_construccion] [terraza] [orientacion] [situacion][portal][parque_infantil] [trastero] [piscina_comunitaria] [piscina] [cuarto_de_basura] [zonas_comunes] [garaje] [tejado] [calefaccion]  [jardin] [aire_acondicionado] [seguro_hogar]\n",
    "            \n",
    "\n",
    "Mantenemos muchas columnas poco relevantes pero el poderador les dará su valor.\n",
    "\n",
    "NOTA: columna  [portal] es si tiene o no portero automático. columana [techo] es si está o no abuardillado \n",
    "\n",
    "\"\"\"\n",
    "df_meta_car=df_car[['uv', 'estado', 'habitaciones', 'banos','metros','fecha_construccion','orientacion','situacion', 'portal', 'ascensor', 'parque_infantil', 'terraza', 'trastero', 'piscina_comunitaria', 'cuarto_de_basura','zonas_comunes', 'piscina', 'garaje', 'tejado', 'calefaccion', 'jardin', 'aire_acondicionado']]\n"
   ]
  },
  {
   "cell_type": "code",
   "execution_count": 4,
   "metadata": {},
   "outputs": [
    {
     "output_type": "stream",
     "name": "stderr",
     "text": [
      "/home/emilio/.local/lib/python3.8/site-packages/pandas/core/generic.py:5494: SettingWithCopyWarning: \nA value is trying to be set on a copy of a slice from a DataFrame.\nTry using .loc[row_indexer,col_indexer] = value instead\n\nSee the caveats in the documentation: https://pandas.pydata.org/pandas-docs/stable/user_guide/indexing.html#returning-a-view-versus-a-copy\n  self[name] = value\n"
     ]
    }
   ],
   "source": [
    "\n",
    "\"\"\"\n",
    "por qué sale? /home/emilio/.local/lib/python3.8/site-packages/pandas/core/generic.py:5494: SettingWithCopyWarning: \n",
    "A value is trying to be set on a copy of a slice from a DataFrame.\n",
    "Try using .loc[row_indexer,col_indexer] = value instead\n",
    "\n",
    "See the caveats in the documentation: https://pandas.pydata.org/pandas-docs/stable/user_guide/indexing.html#returning-a-view-versus-a-copy\n",
    "  self[name] = value\n",
    "\"\"\"\n",
    "def limpia_estado(x):\n",
    "    if x != '2' and x !='1': return '3'\n",
    "    else: return x\n",
    "\n",
    "df_meta_car.estado=df_meta_car.estado.apply(limpia_estado).copy()\n"
   ]
  },
  {
   "cell_type": "code",
   "execution_count": 5,
   "metadata": {},
   "outputs": [],
   "source": [
    "\"\"\"\n",
    "Mantenemos prácticamente todos los datos.\n",
    "\n",
    "Alunos comentarios:\n",
    "    [estado] debería ser redundante ya que lo tenemos tb en df_meta_car pero nos servirá para asegurarnos de que el dato es correcto\n",
    "    [precio_antiguo] [descuento] los desechamos, nuestro algoritmo sólo considerará el precio actual. si es con descuento o no será el comercial quien tenga esta información y recalcará al clliente que se estaría aprovechando de un descuento.\n",
    "    [gastos_comunitarios] esta variable podría ser interesante para nuestro algoritmo así que la mantenemos. en el momento de recomendar una u otra casa puede que sí sea información valiosa para los comerciales: nos convendría vender antes un piso con una cuota de gastos comunitarios alta que una con pocos gastos comunitarios.\n",
    "    \n",
    "    eliminanos\n",
    "    [moneda] suponemos todos los precios en eurosç\n",
    "    [estado] nos quedamos con el de la tabla características\n",
    "\"\"\"\n",
    "df_meta_web=df_web[['uv', 'tipo_vivienda', 'precio', 'gastos_comunitarios']]\n"
   ]
  },
  {
   "cell_type": "code",
   "execution_count": 6,
   "metadata": {},
   "outputs": [],
   "source": [
    "df_meta_geo.columns=['uv', 'latitud', 'longitud', 'codigo_postal', 'pais', 'provincia',\n",
    "       'ciudad', 'distrito', 'barrio', 'calle', 'planta']\n",
    "#mantenemmos consistente nuestra nomenclatura del identificador y llamamos a todos los uv correctamente (no rk)\n"
   ]
  },
  {
   "cell_type": "code",
   "execution_count": 7,
   "metadata": {},
   "outputs": [],
   "source": [
    "def saca_NS(cadena):\n",
    "    CADENA=cadena.upper()\n",
    "    if 'NOR' in CADENA: return 'N'\n",
    "    elif 'SU' in CADENA: return 'S'\n",
    "    else: return ''\n",
    "\n",
    "def saca_EO(cadena):\n",
    "    CADENA=cadena.upper()\n",
    "    if 'OES' in CADENA: return 'O'\n",
    "    elif 'EST' in CADENA: return 'E'\n",
    "    else: return ''"
   ]
  },
  {
   "cell_type": "code",
   "execution_count": 8,
   "metadata": {},
   "outputs": [
    {
     "output_type": "stream",
     "name": "stderr",
     "text": [
      "<ipython-input-8-62264272fed9>:1: SettingWithCopyWarning: \nA value is trying to be set on a copy of a slice from a DataFrame.\nTry using .loc[row_indexer,col_indexer] = value instead\n\nSee the caveats in the documentation: https://pandas.pydata.org/pandas-docs/stable/user_guide/indexing.html#returning-a-view-versus-a-copy\n  df_meta_car['NS']=df_meta_car.orientacion\n<ipython-input-8-62264272fed9>:2: SettingWithCopyWarning: \nA value is trying to be set on a copy of a slice from a DataFrame.\nTry using .loc[row_indexer,col_indexer] = value instead\n\nSee the caveats in the documentation: https://pandas.pydata.org/pandas-docs/stable/user_guide/indexing.html#returning-a-view-versus-a-copy\n  df_meta_car['EO']=df_meta_car.orientacion\n<ipython-input-8-62264272fed9>:4: SettingWithCopyWarning: \nA value is trying to be set on a copy of a slice from a DataFrame.\nTry using .loc[row_indexer,col_indexer] = value instead\n\nSee the caveats in the documentation: https://pandas.pydata.org/pandas-docs/stable/user_guide/indexing.html#returning-a-view-versus-a-copy\n  df_meta_car['NS']=df_meta_car['orientacion'].apply(saca_NS)\n<ipython-input-8-62264272fed9>:5: SettingWithCopyWarning: \nA value is trying to be set on a copy of a slice from a DataFrame.\nTry using .loc[row_indexer,col_indexer] = value instead\n\nSee the caveats in the documentation: https://pandas.pydata.org/pandas-docs/stable/user_guide/indexing.html#returning-a-view-versus-a-copy\n  df_meta_car['EO']=df_meta_car['orientacion'].apply(saca_EO)\n/home/emilio/.local/lib/python3.8/site-packages/pandas/core/frame.py:4308: SettingWithCopyWarning: \nA value is trying to be set on a copy of a slice from a DataFrame\n\nSee the caveats in the documentation: https://pandas.pydata.org/pandas-docs/stable/user_guide/indexing.html#returning-a-view-versus-a-copy\n  return super().drop(\n"
     ]
    }
   ],
   "source": [
    "df_meta_car['NS']=df_meta_car.orientacion\n",
    "df_meta_car['EO']=df_meta_car.orientacion\n",
    "\n",
    "df_meta_car['NS']=df_meta_car['orientacion'].apply(saca_NS)\n",
    "df_meta_car['EO']=df_meta_car['orientacion'].apply(saca_EO)\n",
    "df_meta_car.drop(['orientacion'], axis=1, inplace= True)"
   ]
  },
  {
   "cell_type": "code",
   "execution_count": 9,
   "metadata": {},
   "outputs": [
    {
     "output_type": "stream",
     "name": "stderr",
     "text": [
      "/home/emilio/.local/lib/python3.8/site-packages/pandas/core/frame.py:3191: SettingWithCopyWarning: \nA value is trying to be set on a copy of a slice from a DataFrame.\nTry using .loc[row_indexer,col_indexer] = value instead\n\nSee the caveats in the documentation: https://pandas.pydata.org/pandas-docs/stable/user_guide/indexing.html#returning-a-view-versus-a-copy\n  self[k1] = value[k2]\n"
     ]
    }
   ],
   "source": [
    "#pasamos todos los valores a enteros\n",
    "df_meta_car[[ 'estado', 'habitaciones', 'banos', 'metros','fecha_construccion', 'tejado']] = df_meta_car[[ 'estado', 'habitaciones', 'banos', 'metros','fecha_construccion', 'tejado']].fillna(0.0).astype(int)\n",
    "\n",
    "df_meta_car.situacion=df_meta_car.situacion.fillna('NO').map({'Exterior':int(3),\"Patio de manzana\":int(2),\"Interior\":int(1), 'NO':int(0)}).astype(int)\n",
    "\n",
    "df_meta_car[['portal', 'ascensor','parque_infantil', 'terraza', 'trastero', 'piscina_comunitaria', 'cuarto_de_basura', 'zonas_comunes', 'piscina', 'garaje', 'tejado','calefaccion','jardin', 'aire_acondicionado']] = df_meta_car[['portal', 'ascensor','parque_infantil', 'terraza', 'trastero', 'piscina_comunitaria', 'cuarto_de_basura', 'zonas_comunes', 'piscina', 'garaje', 'tejado','calefaccion','jardin', 'aire_acondicionado']].fillna(0).astype(int)\n"
   ]
  },
  {
   "cell_type": "code",
   "execution_count": 10,
   "metadata": {},
   "outputs": [],
   "source": [
    "def texto_mas_frecuente(x):\n",
    "    if x.empty or x.isnull().all():\n",
    "        return ''\n",
    "    else: \n",
    "        x = x.dropna()\n",
    "        return x.mode()\n",
    "\n",
    "\n",
    "df_meta_car = df_meta_car.groupby('uv', as_index=False).agg(\n",
    "    {\n",
    "    'estado': 'max',\n",
    "    'habitaciones': 'max',\n",
    "    'banos': 'max',\n",
    "    'metros': 'max',\n",
    "    'fecha_construccion': 'max',\n",
    "    'NS': texto_mas_frecuente,\n",
    "    'EO': texto_mas_frecuente,\n",
    "    'situacion': 'max',\n",
    "    'portal': 'max',\n",
    "    'ascensor': 'max',\n",
    "    'parque_infantil': 'max',\n",
    "    'terraza': 'max',\n",
    "    'trastero': 'max',\n",
    "    'piscina_comunitaria': 'max',\n",
    "    'cuarto_de_basura': 'max',\n",
    "    'zonas_comunes': 'max',\n",
    "    'piscina': 'max',\n",
    "    'garaje': 'max',\n",
    "    'tejado': 'max',\n",
    "    'calefaccion': 'max',\n",
    "    'jardin': 'max',\n",
    "    'aire_acondicionado': 'max',\n",
    "    }\n",
    ")     \n"
   ]
  },
  {
   "cell_type": "code",
   "execution_count": 11,
   "metadata": {},
   "outputs": [],
   "source": [
    "df_meta_web = df_meta_web.groupby('uv', as_index=False).agg(\n",
    "    {\n",
    "    'tipo_vivienda': texto_mas_frecuente,\n",
    "    'precio': 'max',\n",
    "    'gastos_comunitarios': 'max',\n",
    "    }\n",
    ")     \n",
    "\n"
   ]
  },
  {
   "cell_type": "code",
   "execution_count": 12,
   "metadata": {},
   "outputs": [],
   "source": [
    "df_meta_geo = df_meta_geo.groupby('uv', as_index=False).agg(\n",
    "    {\n",
    "    'latitud': 'max',\n",
    "    'longitud': 'max',\n",
    "    'codigo_postal': 'max',\n",
    "    'pais': 'max',\n",
    "    'ciudad': texto_mas_frecuente,\n",
    "    'distrito': texto_mas_frecuente,\n",
    "    'calle': texto_mas_frecuente,\n",
    "    'barrio': texto_mas_frecuente,\n",
    "    'planta': 'max',\n",
    "    }\n",
    ")     \n",
    "\n"
   ]
  },
  {
   "cell_type": "code",
   "execution_count": 13,
   "metadata": {},
   "outputs": [],
   "source": [
    "\n",
    "def filtrar_tipo_vivienda(cadena):\n",
    "    \"\"\"\"\n",
    "    Esta función abre  el archivo \"./config/opciones.json\" y obtiene el tipo de viviendas posibles en nuestra base de datos.\n",
    "    Si no está en esa lista devuelve el valor \"OTRO\"\n",
    "    Arg: cadena de tipo string\n",
    "\n",
    "    Return: string conteniendo el tipo de vivienda permitida\n",
    "    \"\"\"\n",
    "    try:\n",
    "        with open(\"./config/opciones.json\") as archivo:\n",
    "            opciones = load(archivo)\n",
    "        conjunto_vivientas = set(opciones['conjunto_vivientas'])\n",
    "    except :\n",
    "            raise(\"Error leyendo 'opciones.json'\")\n",
    "\n",
    "    CADENA = cadena.upper()\n",
    "    if CADENA in conjunto_vivientas: return CADENA\n",
    "    elif CADENA == 'MORAIDA': return 'CASA' #alguna casa del dataset venía con la palabra MORAIDA y parece un error hemos decidido hardcodear por ser algo concreto.\n",
    "    else: return 'OTRO'\n"
   ]
  },
  {
   "cell_type": "code",
   "execution_count": 14,
   "metadata": {},
   "outputs": [],
   "source": [
    "#limpiamos el df fijando tipo de vivienda, poniendo el precio de la vivienda en miles de euros K, pasando estado a 1 sin reformar, 2 reformado, 3 vendido. usamos int\n",
    "df_meta_web.tipo_vivienda = df_meta_web.tipo_vivienda.apply(filtrar_tipo_vivienda)\n",
    "df_meta_web.precio =  df_meta_web.precio.fillna(0).astype(int)\n",
    "df_meta_web.precio =  (df_meta_web.precio/1000).astype(int)\n",
    "df_meta_web.gastos_comunitarios =  df_meta_web.gastos_comunitarios.fillna(0).astype(int)\n",
    "#renombramos las nuevas variables\n",
    "df_meta_web.columns=['uv', 'tipo_vivienda', 'precio_k', 'gastos_comunitarios']\n",
    "#las coordenadas vienen multiplicadas por 100\n",
    "#2do incluit este ajuste en el json\n",
    "df_meta_geo[['latitud', 'longitud']]=df_meta_geo[['latitud', 'longitud']]/100"
   ]
  },
  {
   "cell_type": "code",
   "execution_count": 15,
   "metadata": {},
   "outputs": [],
   "source": [
    "df_meta_web.set_index('uv', inplace=True)\r\n",
    "df_meta_geo.set_index('uv', inplace=True)\r\n",
    "df_meta_car.set_index('uv', inplace=True)\r\n"
   ]
  },
  {
   "cell_type": "code",
   "execution_count": 19,
   "metadata": {},
   "outputs": [],
   "source": [
    "df=df_meta_car.join(df_meta_geo, how='outer').join(df_meta_web, how='outer')"
   ]
  },
  {
   "cell_type": "code",
   "execution_count": 26,
   "metadata": {},
   "outputs": [
    {
     "output_type": "execute_result",
     "data": {
      "text/plain": [
       "                estado  habitaciones  banos  metros  fecha_construccion NS EO  \\\n",
       "uv                                                                              \n",
       "UV/2020/000001       1             2      1      53                1963  N      \n",
       "UV/2020/000003       1             2      1      45                1960  N      \n",
       "UV/2020/000004       1             2      1      67                1966     O   \n",
       "UV/2020/000005       1             3      2     101                1972  S  O   \n",
       "UV/2020/000006       1             2      1      62                1960  S      \n",
       "...                ...           ...    ...     ...                 ... .. ..   \n",
       "UV/2021/000448       1             2      1      56                1970  S  O   \n",
       "UV/2021/000452       1             2      1     118                2004     O   \n",
       "UV/2021/000455       1             0      0      40                1900  N  E   \n",
       "UV/2021/000456       1             4      1      81                1956  N  O   \n",
       "UV/2021/000457       1             3      1     104                1941     O   \n",
       "\n",
       "                situacion  portal  ascensor  ...  codigo_postal  pais  \\\n",
       "uv                                           ...                        \n",
       "UV/2020/000001          3       0         1  ...          28019     1   \n",
       "UV/2020/000003          3       0         1  ...          28037     1   \n",
       "UV/2020/000004          1       0         1  ...          28341     1   \n",
       "UV/2020/000005          3       0         1  ...          28024     1   \n",
       "UV/2020/000006          3       0         0  ...          28037     1   \n",
       "...                   ...     ...       ...  ...            ...   ...   \n",
       "UV/2021/000448          1       0         0  ...          28017     1   \n",
       "UV/2021/000452          3       0         1  ...          28027     1   \n",
       "UV/2021/000455          1       0         0  ...          28027     1   \n",
       "UV/2021/000456          1       1         1  ...          28015     1   \n",
       "UV/2021/000457          3       1         1  ...          28003     1   \n",
       "\n",
       "                   ciudad       distrito  \\\n",
       "uv                                         \n",
       "UV/2020/000001     Madrid    Carabanchel   \n",
       "UV/2020/000003     Madrid       San Blas   \n",
       "UV/2020/000004  Valdemoro  Zona estación   \n",
       "UV/2020/000005     Madrid         Latina   \n",
       "UV/2020/000006     Madrid  Ciudad Lineal   \n",
       "...                   ...            ...   \n",
       "UV/2021/000448     Madrid  Ciudad Lineal   \n",
       "UV/2021/000452     Madrid      La peseta   \n",
       "UV/2021/000455     Madrid      La latina   \n",
       "UV/2021/000456     Madrid                  \n",
       "UV/2021/000457     Madrid       Chamberi   \n",
       "\n",
       "                                                 calle       barrio  planta  \\\n",
       "uv                                                                            \n",
       "UV/2020/000001                       Avenida de Oporto                    1   \n",
       "UV/2020/000003  Avenida Institucion Libre de Enseñanza   Canillejas       9   \n",
       "UV/2020/000004                          Calle Tenerife                    1   \n",
       "UV/2020/000005                              Calle Cine                    2   \n",
       "UV/2020/000006  Avenida Institución Libre de Enseñanza                    2   \n",
       "...                                                ...          ...     ...   \n",
       "UV/2021/000448                          Emilio Ferrari                    3   \n",
       "UV/2021/000452                                    test  Carabanchel       1   \n",
       "UV/2021/000455                                    TEST       Aluche       1   \n",
       "UV/2021/000456                    fernando el catolico                    1   \n",
       "UV/2021/000457                                 Ponzano    Rio rosas       1   \n",
       "\n",
       "                tipo_vivienda  precio_k  gastos_comunitarios  \n",
       "uv                                                            \n",
       "UV/2020/000001            NaN       NaN                  NaN  \n",
       "UV/2020/000003           PISO     160.0                  0.0  \n",
       "UV/2020/000004           PISO     125.0                  0.0  \n",
       "UV/2020/000005            NaN       NaN                  NaN  \n",
       "UV/2020/000006           PISO       0.0                  0.0  \n",
       "...                       ...       ...                  ...  \n",
       "UV/2021/000448           PISO     130.0                 30.0  \n",
       "UV/2021/000452           CASA       0.0                 12.0  \n",
       "UV/2021/000455           CASA     100.0                  1.0  \n",
       "UV/2021/000456            NaN       NaN                  NaN  \n",
       "UV/2021/000457           PISO     580.0                150.0  \n",
       "\n",
       "[371 rows x 34 columns]"
      ],
      "text/html": "<div>\n<style scoped>\n    .dataframe tbody tr th:only-of-type {\n        vertical-align: middle;\n    }\n\n    .dataframe tbody tr th {\n        vertical-align: top;\n    }\n\n    .dataframe thead th {\n        text-align: right;\n    }\n</style>\n<table border=\"1\" class=\"dataframe\">\n  <thead>\n    <tr style=\"text-align: right;\">\n      <th></th>\n      <th>estado</th>\n      <th>habitaciones</th>\n      <th>banos</th>\n      <th>metros</th>\n      <th>fecha_construccion</th>\n      <th>NS</th>\n      <th>EO</th>\n      <th>situacion</th>\n      <th>portal</th>\n      <th>ascensor</th>\n      <th>...</th>\n      <th>codigo_postal</th>\n      <th>pais</th>\n      <th>ciudad</th>\n      <th>distrito</th>\n      <th>calle</th>\n      <th>barrio</th>\n      <th>planta</th>\n      <th>tipo_vivienda</th>\n      <th>precio_k</th>\n      <th>gastos_comunitarios</th>\n    </tr>\n    <tr>\n      <th>uv</th>\n      <th></th>\n      <th></th>\n      <th></th>\n      <th></th>\n      <th></th>\n      <th></th>\n      <th></th>\n      <th></th>\n      <th></th>\n      <th></th>\n      <th></th>\n      <th></th>\n      <th></th>\n      <th></th>\n      <th></th>\n      <th></th>\n      <th></th>\n      <th></th>\n      <th></th>\n      <th></th>\n      <th></th>\n    </tr>\n  </thead>\n  <tbody>\n    <tr>\n      <th>UV/2020/000001</th>\n      <td>1</td>\n      <td>2</td>\n      <td>1</td>\n      <td>53</td>\n      <td>1963</td>\n      <td>N</td>\n      <td></td>\n      <td>3</td>\n      <td>0</td>\n      <td>1</td>\n      <td>...</td>\n      <td>28019</td>\n      <td>1</td>\n      <td>Madrid</td>\n      <td>Carabanchel</td>\n      <td>Avenida de Oporto</td>\n      <td></td>\n      <td>1</td>\n      <td>NaN</td>\n      <td>NaN</td>\n      <td>NaN</td>\n    </tr>\n    <tr>\n      <th>UV/2020/000003</th>\n      <td>1</td>\n      <td>2</td>\n      <td>1</td>\n      <td>45</td>\n      <td>1960</td>\n      <td>N</td>\n      <td></td>\n      <td>3</td>\n      <td>0</td>\n      <td>1</td>\n      <td>...</td>\n      <td>28037</td>\n      <td>1</td>\n      <td>Madrid</td>\n      <td>San Blas</td>\n      <td>Avenida Institucion Libre de Enseñanza</td>\n      <td>Canillejas</td>\n      <td>9</td>\n      <td>PISO</td>\n      <td>160.0</td>\n      <td>0.0</td>\n    </tr>\n    <tr>\n      <th>UV/2020/000004</th>\n      <td>1</td>\n      <td>2</td>\n      <td>1</td>\n      <td>67</td>\n      <td>1966</td>\n      <td></td>\n      <td>O</td>\n      <td>1</td>\n      <td>0</td>\n      <td>1</td>\n      <td>...</td>\n      <td>28341</td>\n      <td>1</td>\n      <td>Valdemoro</td>\n      <td>Zona estación</td>\n      <td>Calle Tenerife</td>\n      <td></td>\n      <td>1</td>\n      <td>PISO</td>\n      <td>125.0</td>\n      <td>0.0</td>\n    </tr>\n    <tr>\n      <th>UV/2020/000005</th>\n      <td>1</td>\n      <td>3</td>\n      <td>2</td>\n      <td>101</td>\n      <td>1972</td>\n      <td>S</td>\n      <td>O</td>\n      <td>3</td>\n      <td>0</td>\n      <td>1</td>\n      <td>...</td>\n      <td>28024</td>\n      <td>1</td>\n      <td>Madrid</td>\n      <td>Latina</td>\n      <td>Calle Cine</td>\n      <td></td>\n      <td>2</td>\n      <td>NaN</td>\n      <td>NaN</td>\n      <td>NaN</td>\n    </tr>\n    <tr>\n      <th>UV/2020/000006</th>\n      <td>1</td>\n      <td>2</td>\n      <td>1</td>\n      <td>62</td>\n      <td>1960</td>\n      <td>S</td>\n      <td></td>\n      <td>3</td>\n      <td>0</td>\n      <td>0</td>\n      <td>...</td>\n      <td>28037</td>\n      <td>1</td>\n      <td>Madrid</td>\n      <td>Ciudad Lineal</td>\n      <td>Avenida Institución Libre de Enseñanza</td>\n      <td></td>\n      <td>2</td>\n      <td>PISO</td>\n      <td>0.0</td>\n      <td>0.0</td>\n    </tr>\n    <tr>\n      <th>...</th>\n      <td>...</td>\n      <td>...</td>\n      <td>...</td>\n      <td>...</td>\n      <td>...</td>\n      <td>...</td>\n      <td>...</td>\n      <td>...</td>\n      <td>...</td>\n      <td>...</td>\n      <td>...</td>\n      <td>...</td>\n      <td>...</td>\n      <td>...</td>\n      <td>...</td>\n      <td>...</td>\n      <td>...</td>\n      <td>...</td>\n      <td>...</td>\n      <td>...</td>\n      <td>...</td>\n    </tr>\n    <tr>\n      <th>UV/2021/000448</th>\n      <td>1</td>\n      <td>2</td>\n      <td>1</td>\n      <td>56</td>\n      <td>1970</td>\n      <td>S</td>\n      <td>O</td>\n      <td>1</td>\n      <td>0</td>\n      <td>0</td>\n      <td>...</td>\n      <td>28017</td>\n      <td>1</td>\n      <td>Madrid</td>\n      <td>Ciudad Lineal</td>\n      <td>Emilio Ferrari</td>\n      <td></td>\n      <td>3</td>\n      <td>PISO</td>\n      <td>130.0</td>\n      <td>30.0</td>\n    </tr>\n    <tr>\n      <th>UV/2021/000452</th>\n      <td>1</td>\n      <td>2</td>\n      <td>1</td>\n      <td>118</td>\n      <td>2004</td>\n      <td></td>\n      <td>O</td>\n      <td>3</td>\n      <td>0</td>\n      <td>1</td>\n      <td>...</td>\n      <td>28027</td>\n      <td>1</td>\n      <td>Madrid</td>\n      <td>La peseta</td>\n      <td>test</td>\n      <td>Carabanchel</td>\n      <td>1</td>\n      <td>CASA</td>\n      <td>0.0</td>\n      <td>12.0</td>\n    </tr>\n    <tr>\n      <th>UV/2021/000455</th>\n      <td>1</td>\n      <td>0</td>\n      <td>0</td>\n      <td>40</td>\n      <td>1900</td>\n      <td>N</td>\n      <td>E</td>\n      <td>1</td>\n      <td>0</td>\n      <td>0</td>\n      <td>...</td>\n      <td>28027</td>\n      <td>1</td>\n      <td>Madrid</td>\n      <td>La latina</td>\n      <td>TEST</td>\n      <td>Aluche</td>\n      <td>1</td>\n      <td>CASA</td>\n      <td>100.0</td>\n      <td>1.0</td>\n    </tr>\n    <tr>\n      <th>UV/2021/000456</th>\n      <td>1</td>\n      <td>4</td>\n      <td>1</td>\n      <td>81</td>\n      <td>1956</td>\n      <td>N</td>\n      <td>O</td>\n      <td>1</td>\n      <td>1</td>\n      <td>1</td>\n      <td>...</td>\n      <td>28015</td>\n      <td>1</td>\n      <td>Madrid</td>\n      <td></td>\n      <td>fernando el catolico</td>\n      <td></td>\n      <td>1</td>\n      <td>NaN</td>\n      <td>NaN</td>\n      <td>NaN</td>\n    </tr>\n    <tr>\n      <th>UV/2021/000457</th>\n      <td>1</td>\n      <td>3</td>\n      <td>1</td>\n      <td>104</td>\n      <td>1941</td>\n      <td></td>\n      <td>O</td>\n      <td>3</td>\n      <td>1</td>\n      <td>1</td>\n      <td>...</td>\n      <td>28003</td>\n      <td>1</td>\n      <td>Madrid</td>\n      <td>Chamberi</td>\n      <td>Ponzano</td>\n      <td>Rio rosas</td>\n      <td>1</td>\n      <td>PISO</td>\n      <td>580.0</td>\n      <td>150.0</td>\n    </tr>\n  </tbody>\n</table>\n<p>371 rows × 34 columns</p>\n</div>"
     },
     "metadata": {},
     "execution_count": 26
    }
   ],
   "source": [
    "df"
   ]
  },
  {
   "cell_type": "code",
   "execution_count": null,
   "metadata": {},
   "outputs": [],
   "source": []
  }
 ],
 "metadata": {
  "kernelspec": {
   "display_name": "clik",
   "language": "python",
   "name": "clik"
  },
  "language_info": {
   "codemirror_mode": {
    "name": "ipython",
    "version": 3
   },
   "file_extension": ".py",
   "mimetype": "text/x-python",
   "name": "python",
   "nbconvert_exporter": "python",
   "pygments_lexer": "ipython3",
   "version": "3.8.5"
  }
 },
 "nbformat": 4,
 "nbformat_minor": 5
}