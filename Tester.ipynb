{
 "metadata": {
  "language_info": {
   "codemirror_mode": {
    "name": "ipython",
    "version": 3
   },
   "file_extension": ".py",
   "mimetype": "text/x-python",
   "name": "python",
   "nbconvert_exporter": "python",
   "pygments_lexer": "ipython3",
   "version": "3.7.10"
  },
  "orig_nbformat": 2,
  "kernelspec": {
   "name": "python3710jvsc74a57bd06f2a5341a97b48c9bdcca96e9c4256723bee63349916a470c764c5b9d3f29ee0",
   "display_name": "Python 3.7.10 64-bit ('clik': conda)"
  }
 },
 "nbformat": 4,
 "nbformat_minor": 2,
 "cells": [
  {
   "cell_type": "code",
   "execution_count": 7,
   "metadata": {},
   "outputs": [],
   "source": [
    "import pandas as pd\n",
    "from src.data_set import lee_limpia_3csv2df"
   ]
  },
  {
   "cell_type": "code",
   "execution_count": 8,
   "metadata": {},
   "outputs": [],
   "source": [
    "df = pd.read_csv('./data/datos_pisos.csv', sep=';')"
   ]
  },
  {
   "cell_type": "code",
   "execution_count": 9,
   "metadata": {},
   "outputs": [
    {
     "output_type": "execute_result",
     "data": {
      "text/plain": [
       "Index(['Unnamed: 0', 'uv', 'estado_x', 'tipo_vivienda', 'precio',\n",
       "       'precio_antiguo', 'descuento', 'moneda', 'gastos_comunitarios', 'rk_x',\n",
       "       'long', 'lat', 'codigo_postal', 'pais', 'provincia', 'ciudad',\n",
       "       'distrito', 'barrio', 'calle', 'numero', 'planta', 'puerta', 'metro',\n",
       "       'cercanias', 'centro_comercial', 'escuela', 'parque', 'hospital',\n",
       "       'gimnasio', 'rk_y', 'estado_y', 'habitaciones', 'banos', 'metros',\n",
       "       'metrica', 'fecha_construccion', 'orientacion', 'situacion',\n",
       "       'certificado_energetico', 'portal', 'ascensor', 'parque_infantil',\n",
       "       'terraza', 'trastero', 'piscina_comunitaria', 'cuarto_de_basura',\n",
       "       'zonas_comunes', 'piscina', 'garaje', 'tejado', 'calefaccion',\n",
       "       'certificaciones', 'jardin', 'aire_acondicionado', 'seguro_hogar',\n",
       "       'geometry', 'index_right', 'cusec'],\n",
       "      dtype='object')"
      ]
     },
     "metadata": {},
     "execution_count": 9
    }
   ],
   "source": [
    "df.columns"
   ]
  },
  {
   "cell_type": "code",
   "execution_count": 10,
   "metadata": {},
   "outputs": [],
   "source": [
    "df=lee_limpia_3csv2df()"
   ]
  },
  {
   "cell_type": "code",
   "execution_count": 11,
   "metadata": {},
   "outputs": [
    {
     "output_type": "execute_result",
     "data": {
      "text/plain": [
       "                estado  habitaciones  banos  metros  fecha_construccion NS EO  \\\n",
       "uv                                                                              \n",
       "UV/2020/000001     1.0           2.0    1.0    53.0              1963.0  N      \n",
       "UV/2020/000003     1.0           2.0    1.0    45.0              1960.0  N      \n",
       "UV/2020/000004     1.0           2.0    1.0    67.0              1966.0     O   \n",
       "UV/2020/000005     1.0           3.0    2.0   101.0              1972.0  S  O   \n",
       "UV/2020/000006     1.0           2.0    1.0    62.0              1960.0  S      \n",
       "...                ...           ...    ...     ...                 ... .. ..   \n",
       "UV/2021/000448     1.0           2.0    1.0    56.0              1970.0  S  O   \n",
       "UV/2021/000452     1.0           2.0    1.0   118.0              2004.0     O   \n",
       "UV/2021/000455     1.0           0.0    0.0    40.0              1900.0  N  E   \n",
       "UV/2021/000456     1.0           4.0    1.0    81.0              1956.0  N  O   \n",
       "UV/2021/000457     1.0           3.0    1.0   104.0              1941.0     O   \n",
       "\n",
       "                situacion  portal  ascensor  ...  codigo_postal  pais  \\\n",
       "uv                                           ...                        \n",
       "UV/2020/000001        3.0     0.0       1.0  ...          28019     1   \n",
       "UV/2020/000003        3.0     0.0       1.0  ...          28037     1   \n",
       "UV/2020/000004        1.0     0.0       1.0  ...          28341     1   \n",
       "UV/2020/000005        3.0     0.0       1.0  ...          28024     1   \n",
       "UV/2020/000006        3.0     0.0       0.0  ...          28037     1   \n",
       "...                   ...     ...       ...  ...            ...   ...   \n",
       "UV/2021/000448        1.0     0.0       0.0  ...          28017     1   \n",
       "UV/2021/000452        3.0     0.0       1.0  ...          28027     1   \n",
       "UV/2021/000455        1.0     0.0       0.0  ...          28027     1   \n",
       "UV/2021/000456        1.0     1.0       1.0  ...          28015     1   \n",
       "UV/2021/000457        3.0     1.0       1.0  ...          28003     1   \n",
       "\n",
       "                   ciudad       distrito  \\\n",
       "uv                                         \n",
       "UV/2020/000001     Madrid    Carabanchel   \n",
       "UV/2020/000003     Madrid       San Blas   \n",
       "UV/2020/000004  Valdemoro  Zona estación   \n",
       "UV/2020/000005     Madrid         Latina   \n",
       "UV/2020/000006     Madrid  Ciudad Lineal   \n",
       "...                   ...            ...   \n",
       "UV/2021/000448     Madrid  Ciudad Lineal   \n",
       "UV/2021/000452     Madrid      La peseta   \n",
       "UV/2021/000455     Madrid      La latina   \n",
       "UV/2021/000456     Madrid                  \n",
       "UV/2021/000457     Madrid       Chamberi   \n",
       "\n",
       "                                                 calle       barrio  planta  \\\n",
       "uv                                                                            \n",
       "UV/2020/000001                       Avenida de Oporto                    1   \n",
       "UV/2020/000003  Avenida Institucion Libre de Enseñanza   Canillejas       9   \n",
       "UV/2020/000004                          Calle Tenerife                    1   \n",
       "UV/2020/000005                              Calle Cine                    2   \n",
       "UV/2020/000006  Avenida Institución Libre de Enseñanza                    2   \n",
       "...                                                ...          ...     ...   \n",
       "UV/2021/000448                          Emilio Ferrari                    3   \n",
       "UV/2021/000452                                    test  Carabanchel       1   \n",
       "UV/2021/000455                                    TEST       Aluche       1   \n",
       "UV/2021/000456                    fernando el catolico                    1   \n",
       "UV/2021/000457                                 Ponzano    Rio rosas       1   \n",
       "\n",
       "                tipo_vivienda  precio_k  gastos_comunitarios  \n",
       "uv                                                            \n",
       "UV/2020/000001              0         0                  0.0  \n",
       "UV/2020/000003           PISO       160                  0.0  \n",
       "UV/2020/000004           PISO       125                  0.0  \n",
       "UV/2020/000005              0         0                  0.0  \n",
       "UV/2020/000006           PISO         0                  0.0  \n",
       "...                       ...       ...                  ...  \n",
       "UV/2021/000448           PISO       130                 30.0  \n",
       "UV/2021/000452           CASA         0                 12.0  \n",
       "UV/2021/000455           CASA       100                  1.0  \n",
       "UV/2021/000456              0         0                  0.0  \n",
       "UV/2021/000457           PISO       580                150.0  \n",
       "\n",
       "[371 rows x 34 columns]"
      ],
      "text/html": "<div>\n<style scoped>\n    .dataframe tbody tr th:only-of-type {\n        vertical-align: middle;\n    }\n\n    .dataframe tbody tr th {\n        vertical-align: top;\n    }\n\n    .dataframe thead th {\n        text-align: right;\n    }\n</style>\n<table border=\"1\" class=\"dataframe\">\n  <thead>\n    <tr style=\"text-align: right;\">\n      <th></th>\n      <th>estado</th>\n      <th>habitaciones</th>\n      <th>banos</th>\n      <th>metros</th>\n      <th>fecha_construccion</th>\n      <th>NS</th>\n      <th>EO</th>\n      <th>situacion</th>\n      <th>portal</th>\n      <th>ascensor</th>\n      <th>...</th>\n      <th>codigo_postal</th>\n      <th>pais</th>\n      <th>ciudad</th>\n      <th>distrito</th>\n      <th>calle</th>\n      <th>barrio</th>\n      <th>planta</th>\n      <th>tipo_vivienda</th>\n      <th>precio_k</th>\n      <th>gastos_comunitarios</th>\n    </tr>\n    <tr>\n      <th>uv</th>\n      <th></th>\n      <th></th>\n      <th></th>\n      <th></th>\n      <th></th>\n      <th></th>\n      <th></th>\n      <th></th>\n      <th></th>\n      <th></th>\n      <th></th>\n      <th></th>\n      <th></th>\n      <th></th>\n      <th></th>\n      <th></th>\n      <th></th>\n      <th></th>\n      <th></th>\n      <th></th>\n      <th></th>\n    </tr>\n  </thead>\n  <tbody>\n    <tr>\n      <th>UV/2020/000001</th>\n      <td>1.0</td>\n      <td>2.0</td>\n      <td>1.0</td>\n      <td>53.0</td>\n      <td>1963.0</td>\n      <td>N</td>\n      <td></td>\n      <td>3.0</td>\n      <td>0.0</td>\n      <td>1.0</td>\n      <td>...</td>\n      <td>28019</td>\n      <td>1</td>\n      <td>Madrid</td>\n      <td>Carabanchel</td>\n      <td>Avenida de Oporto</td>\n      <td></td>\n      <td>1</td>\n      <td>0</td>\n      <td>0</td>\n      <td>0.0</td>\n    </tr>\n    <tr>\n      <th>UV/2020/000003</th>\n      <td>1.0</td>\n      <td>2.0</td>\n      <td>1.0</td>\n      <td>45.0</td>\n      <td>1960.0</td>\n      <td>N</td>\n      <td></td>\n      <td>3.0</td>\n      <td>0.0</td>\n      <td>1.0</td>\n      <td>...</td>\n      <td>28037</td>\n      <td>1</td>\n      <td>Madrid</td>\n      <td>San Blas</td>\n      <td>Avenida Institucion Libre de Enseñanza</td>\n      <td>Canillejas</td>\n      <td>9</td>\n      <td>PISO</td>\n      <td>160</td>\n      <td>0.0</td>\n    </tr>\n    <tr>\n      <th>UV/2020/000004</th>\n      <td>1.0</td>\n      <td>2.0</td>\n      <td>1.0</td>\n      <td>67.0</td>\n      <td>1966.0</td>\n      <td></td>\n      <td>O</td>\n      <td>1.0</td>\n      <td>0.0</td>\n      <td>1.0</td>\n      <td>...</td>\n      <td>28341</td>\n      <td>1</td>\n      <td>Valdemoro</td>\n      <td>Zona estación</td>\n      <td>Calle Tenerife</td>\n      <td></td>\n      <td>1</td>\n      <td>PISO</td>\n      <td>125</td>\n      <td>0.0</td>\n    </tr>\n    <tr>\n      <th>UV/2020/000005</th>\n      <td>1.0</td>\n      <td>3.0</td>\n      <td>2.0</td>\n      <td>101.0</td>\n      <td>1972.0</td>\n      <td>S</td>\n      <td>O</td>\n      <td>3.0</td>\n      <td>0.0</td>\n      <td>1.0</td>\n      <td>...</td>\n      <td>28024</td>\n      <td>1</td>\n      <td>Madrid</td>\n      <td>Latina</td>\n      <td>Calle Cine</td>\n      <td></td>\n      <td>2</td>\n      <td>0</td>\n      <td>0</td>\n      <td>0.0</td>\n    </tr>\n    <tr>\n      <th>UV/2020/000006</th>\n      <td>1.0</td>\n      <td>2.0</td>\n      <td>1.0</td>\n      <td>62.0</td>\n      <td>1960.0</td>\n      <td>S</td>\n      <td></td>\n      <td>3.0</td>\n      <td>0.0</td>\n      <td>0.0</td>\n      <td>...</td>\n      <td>28037</td>\n      <td>1</td>\n      <td>Madrid</td>\n      <td>Ciudad Lineal</td>\n      <td>Avenida Institución Libre de Enseñanza</td>\n      <td></td>\n      <td>2</td>\n      <td>PISO</td>\n      <td>0</td>\n      <td>0.0</td>\n    </tr>\n    <tr>\n      <th>...</th>\n      <td>...</td>\n      <td>...</td>\n      <td>...</td>\n      <td>...</td>\n      <td>...</td>\n      <td>...</td>\n      <td>...</td>\n      <td>...</td>\n      <td>...</td>\n      <td>...</td>\n      <td>...</td>\n      <td>...</td>\n      <td>...</td>\n      <td>...</td>\n      <td>...</td>\n      <td>...</td>\n      <td>...</td>\n      <td>...</td>\n      <td>...</td>\n      <td>...</td>\n      <td>...</td>\n    </tr>\n    <tr>\n      <th>UV/2021/000448</th>\n      <td>1.0</td>\n      <td>2.0</td>\n      <td>1.0</td>\n      <td>56.0</td>\n      <td>1970.0</td>\n      <td>S</td>\n      <td>O</td>\n      <td>1.0</td>\n      <td>0.0</td>\n      <td>0.0</td>\n      <td>...</td>\n      <td>28017</td>\n      <td>1</td>\n      <td>Madrid</td>\n      <td>Ciudad Lineal</td>\n      <td>Emilio Ferrari</td>\n      <td></td>\n      <td>3</td>\n      <td>PISO</td>\n      <td>130</td>\n      <td>30.0</td>\n    </tr>\n    <tr>\n      <th>UV/2021/000452</th>\n      <td>1.0</td>\n      <td>2.0</td>\n      <td>1.0</td>\n      <td>118.0</td>\n      <td>2004.0</td>\n      <td></td>\n      <td>O</td>\n      <td>3.0</td>\n      <td>0.0</td>\n      <td>1.0</td>\n      <td>...</td>\n      <td>28027</td>\n      <td>1</td>\n      <td>Madrid</td>\n      <td>La peseta</td>\n      <td>test</td>\n      <td>Carabanchel</td>\n      <td>1</td>\n      <td>CASA</td>\n      <td>0</td>\n      <td>12.0</td>\n    </tr>\n    <tr>\n      <th>UV/2021/000455</th>\n      <td>1.0</td>\n      <td>0.0</td>\n      <td>0.0</td>\n      <td>40.0</td>\n      <td>1900.0</td>\n      <td>N</td>\n      <td>E</td>\n      <td>1.0</td>\n      <td>0.0</td>\n      <td>0.0</td>\n      <td>...</td>\n      <td>28027</td>\n      <td>1</td>\n      <td>Madrid</td>\n      <td>La latina</td>\n      <td>TEST</td>\n      <td>Aluche</td>\n      <td>1</td>\n      <td>CASA</td>\n      <td>100</td>\n      <td>1.0</td>\n    </tr>\n    <tr>\n      <th>UV/2021/000456</th>\n      <td>1.0</td>\n      <td>4.0</td>\n      <td>1.0</td>\n      <td>81.0</td>\n      <td>1956.0</td>\n      <td>N</td>\n      <td>O</td>\n      <td>1.0</td>\n      <td>1.0</td>\n      <td>1.0</td>\n      <td>...</td>\n      <td>28015</td>\n      <td>1</td>\n      <td>Madrid</td>\n      <td></td>\n      <td>fernando el catolico</td>\n      <td></td>\n      <td>1</td>\n      <td>0</td>\n      <td>0</td>\n      <td>0.0</td>\n    </tr>\n    <tr>\n      <th>UV/2021/000457</th>\n      <td>1.0</td>\n      <td>3.0</td>\n      <td>1.0</td>\n      <td>104.0</td>\n      <td>1941.0</td>\n      <td></td>\n      <td>O</td>\n      <td>3.0</td>\n      <td>1.0</td>\n      <td>1.0</td>\n      <td>...</td>\n      <td>28003</td>\n      <td>1</td>\n      <td>Madrid</td>\n      <td>Chamberi</td>\n      <td>Ponzano</td>\n      <td>Rio rosas</td>\n      <td>1</td>\n      <td>PISO</td>\n      <td>580</td>\n      <td>150.0</td>\n    </tr>\n  </tbody>\n</table>\n<p>371 rows × 34 columns</p>\n</div>"
     },
     "metadata": {},
     "execution_count": 11
    }
   ],
   "source": [
    "df"
   ]
  },
  {
   "cell_type": "code",
   "execution_count": 12,
   "metadata": {},
   "outputs": [],
   "source": [
    "from math import radians, cos, sin, asin, sqrt\n",
    "def calcula_distancia_geo(lon1, lat1, lon2, lat2):\n",
    "    \"\"\"\n",
    "    Calcula la distancia ortodrómica entre dos puntos \n",
    "    en la tierra (especificado en grados decimales)\n",
    "    \"\"\"\n",
    "    if isNan(sum(lon1, lat1, lon2, lat2)): return float('inf)'\n",
    "    try:\n",
    "        # convertir \n",
    "        lon1, lat1, lon2, lat2 = map(radians, [lon1, lat1, lon2, lat2])\n",
    "        # aplicamos la fórmula. Si tardara mucho podríamos aproximar.\n",
    "        dlon = lon2 - lon1 \n",
    "        dlat = lat2 - lat1 \n",
    "        a = sin(dlat/2)**2 + cos(lat1) * cos(lat2) * sin(dlon/2)**2\n",
    "        c = 2 * asin(sqrt(a)) \n",
    "        # Radio de la tierra en km. Suponemos estar al nivel del mar, evidentemente.\n",
    "        km = 6371* c\n",
    "        return km\n",
    "\n",
    "    except: \n",
    "        #2do warning\n",
    "        return float('inf)'"
   ]
  },
  {
   "cell_type": "code",
   "execution_count": null,
   "metadata": {},
   "outputs": [],
   "source": [
    "def calcula_distancia_num(n1,n2):\n",
    "    \n",
    "    try:\n",
    "        if isNan(sum(n1,n2)): return float('inf)'\n",
    "        else return abs(n1-n2)\n",
    "    except:\n",
    "        #2do warning\n",
    "        return float('inf)\n"
   ]
  },
  {
   "cell_type": "code",
   "execution_count": null,
   "metadata": {},
   "outputs": [],
   "source": [
    "def calcula_distancia_NS(a, b):\n",
    "    try:\n",
    "        if isNan(sum(a, b)) or a !=b: return float('inf)'\n",
    "        else a == b: return float(0)\n",
    "    except:\n",
    "        #2do warning\n",
    "        return float('inf)"
   ]
  }
 ]
}