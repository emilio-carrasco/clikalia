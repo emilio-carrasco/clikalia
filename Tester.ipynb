{
 "cells": [
  {
   "cell_type": "code",
   "execution_count": 1,
   "id": "4a9e0818",
   "metadata": {},
   "outputs": [
    {
     "output_type": "stream",
     "name": "stdout",
     "text": [
      "The history saving thread hit an unexpected error (DatabaseError('database disk image is malformed')).History will not be written to the database.\n"
     ]
    }
   ],
   "source": [
    "import pandas as pd\n",
    "from json import load\n",
    "\n",
    "df_geo = pd.read_csv('./data/geolocalizacion.csv', sep=';')\n",
    "df_car = pd.read_csv('./data/caracteristicas.csv', sep=';')\n",
    "df_web = pd.read_csv('./data/web.csv', sep=';')"
   ]
  },
  {
   "cell_type": "code",
   "execution_count": 2,
   "metadata": {},
   "outputs": [
    {
     "output_type": "execute_result",
     "data": {
      "text/plain": [
       "               rk  latitud  longitud  codigo_postal  pais  provincia  \\\n",
       "0  UV/2020/000001  403.858  -372.599          28019     1          1   \n",
       "1  UV/2020/000003  404.278  -363.083          28037     1          1   \n",
       "2  UV/2020/000004  401.924  -366.922          28341     1          1   \n",
       "\n",
       "      ciudad       distrito      barrio  \\\n",
       "0     Madrid    Carabanchel         NaN   \n",
       "1     Madrid       San Blas  Canillejas   \n",
       "2  Valdemoro  Zona estación         NaN   \n",
       "\n",
       "                                    calle  planta  \n",
       "0                       Avenida de Oporto       1  \n",
       "1  Avenida Institucion Libre de Enseñanza       9  \n",
       "2                          Calle Tenerife       1  "
      ],
      "text/html": "<div>\n<style scoped>\n    .dataframe tbody tr th:only-of-type {\n        vertical-align: middle;\n    }\n\n    .dataframe tbody tr th {\n        vertical-align: top;\n    }\n\n    .dataframe thead th {\n        text-align: right;\n    }\n</style>\n<table border=\"1\" class=\"dataframe\">\n  <thead>\n    <tr style=\"text-align: right;\">\n      <th></th>\n      <th>rk</th>\n      <th>latitud</th>\n      <th>longitud</th>\n      <th>codigo_postal</th>\n      <th>pais</th>\n      <th>provincia</th>\n      <th>ciudad</th>\n      <th>distrito</th>\n      <th>barrio</th>\n      <th>calle</th>\n      <th>planta</th>\n    </tr>\n  </thead>\n  <tbody>\n    <tr>\n      <th>0</th>\n      <td>UV/2020/000001</td>\n      <td>403.858</td>\n      <td>-372.599</td>\n      <td>28019</td>\n      <td>1</td>\n      <td>1</td>\n      <td>Madrid</td>\n      <td>Carabanchel</td>\n      <td>NaN</td>\n      <td>Avenida de Oporto</td>\n      <td>1</td>\n    </tr>\n    <tr>\n      <th>1</th>\n      <td>UV/2020/000003</td>\n      <td>404.278</td>\n      <td>-363.083</td>\n      <td>28037</td>\n      <td>1</td>\n      <td>1</td>\n      <td>Madrid</td>\n      <td>San Blas</td>\n      <td>Canillejas</td>\n      <td>Avenida Institucion Libre de Enseñanza</td>\n      <td>9</td>\n    </tr>\n    <tr>\n      <th>2</th>\n      <td>UV/2020/000004</td>\n      <td>401.924</td>\n      <td>-366.922</td>\n      <td>28341</td>\n      <td>1</td>\n      <td>1</td>\n      <td>Valdemoro</td>\n      <td>Zona estación</td>\n      <td>NaN</td>\n      <td>Calle Tenerife</td>\n      <td>1</td>\n    </tr>\n  </tbody>\n</table>\n</div>"
     },
     "metadata": {},
     "execution_count": 2
    }
   ],
   "source": [
    "df_meta_geo = df_geo[['rk', 'latitud', 'longitud', 'codigo_postal', 'pais', 'provincia', 'ciudad', 'distrito', 'barrio', 'calle', 'planta']]\n",
    "\"\"\"\n",
    "Desechamos las columnas de metadatos que no van a influir en nuestro knn. \n",
    "Esta información, en el caso de llegar a representarla lo que haremos será enriquecer con una api en una tabla exclusiva para ello \n",
    "ennuestra BBD\n",
    "\n",
    "\n",
    "necesario:  \n",
    "            [rk] necesitamos el identificador del piso.\n",
    "            [planta] es un valor muy necesario para nuestro  algoritmo\n",
    "\n",
    "útilies:   \n",
    "            [geo] no es necesario si los barrios estuviesen bien definidios. pero como aún no tenemos clara la manera de adquirir el barrio lo mantenemos.\n",
    "            [CP] si viéramos que los barrios son una lista de codigos postales podríamos ahorrarnos el uso del shapefile y simplemente relacionar CP con barrios. \n",
    "            [Pais] provincia y ciudad podrían ser útiles si están bien metidos los datos.\n",
    "            [distrito y barrio] están un poco sucios pero los mantenemmos aunque luego lo machaquemos con nuestraa información.df_geo\n",
    "            [calle] podría no ser necesario para nuestro algoritmo pero por ahora lo mantenemos, seguramente lo desechemos más adelante.\n",
    "\"\"\"\n",
    "df_meta_geo.head(3)\n"
   ]
  },
  {
   "cell_type": "code",
   "execution_count": 3,
   "metadata": {},
   "outputs": [
    {
     "output_type": "stream",
     "name": "stderr",
     "text": [
      "<ipython-input-3-926bd20fa7e5>:29: SettingWithCopyWarning: \nA value is trying to be set on a copy of a slice from a DataFrame\n\nSee the caveats in the documentation: https://pandas.pydata.org/pandas-docs/stable/user_guide/indexing.html#returning-a-view-versus-a-copy\n  df_meta_car.estado[(df_meta_car.estado != '2') & (df_meta_car.estado != '1')] = '?'\n/home/emilio/.local/lib/python3.8/site-packages/pandas/core/series.py:992: SettingWithCopyWarning: \nA value is trying to be set on a copy of a slice from a DataFrame\n\nSee the caveats in the documentation: https://pandas.pydata.org/pandas-docs/stable/user_guide/indexing.html#returning-a-view-versus-a-copy\n  self._where(~key, value, inplace=True)\n"
     ]
    },
    {
     "output_type": "execute_result",
     "data": {
      "text/plain": [
       "                uv estado  habitaciones  banos  metros  fecha_construccion  \\\n",
       "9   UV/2020/000011      1             3      1      83              1966.0   \n",
       "10  UV/2020/000011      2             3      1      83              1966.0   \n",
       "\n",
       "   orientacion situacion  portal  ascensor  ...  piscina_comunitaria  \\\n",
       "9     Suroeste  Exterior       0         0  ...                    0   \n",
       "10    Suroeste       NaN       1         1  ...                    0   \n",
       "\n",
       "    cuarto_de_basura  zonas_comunes  piscina  garaje  tejado  calefaccion  \\\n",
       "9                  0              0        0       0     0.0            0   \n",
       "10                 0              0        0       0     0.0            0   \n",
       "\n",
       "    jardin  aire_acondicionado  seguro_hogar  \n",
       "9        0                   0             0  \n",
       "10       0                   0             0  \n",
       "\n",
       "[2 rows x 23 columns]"
      ],
      "text/html": "<div>\n<style scoped>\n    .dataframe tbody tr th:only-of-type {\n        vertical-align: middle;\n    }\n\n    .dataframe tbody tr th {\n        vertical-align: top;\n    }\n\n    .dataframe thead th {\n        text-align: right;\n    }\n</style>\n<table border=\"1\" class=\"dataframe\">\n  <thead>\n    <tr style=\"text-align: right;\">\n      <th></th>\n      <th>uv</th>\n      <th>estado</th>\n      <th>habitaciones</th>\n      <th>banos</th>\n      <th>metros</th>\n      <th>fecha_construccion</th>\n      <th>orientacion</th>\n      <th>situacion</th>\n      <th>portal</th>\n      <th>ascensor</th>\n      <th>...</th>\n      <th>piscina_comunitaria</th>\n      <th>cuarto_de_basura</th>\n      <th>zonas_comunes</th>\n      <th>piscina</th>\n      <th>garaje</th>\n      <th>tejado</th>\n      <th>calefaccion</th>\n      <th>jardin</th>\n      <th>aire_acondicionado</th>\n      <th>seguro_hogar</th>\n    </tr>\n  </thead>\n  <tbody>\n    <tr>\n      <th>9</th>\n      <td>UV/2020/000011</td>\n      <td>1</td>\n      <td>3</td>\n      <td>1</td>\n      <td>83</td>\n      <td>1966.0</td>\n      <td>Suroeste</td>\n      <td>Exterior</td>\n      <td>0</td>\n      <td>0</td>\n      <td>...</td>\n      <td>0</td>\n      <td>0</td>\n      <td>0</td>\n      <td>0</td>\n      <td>0</td>\n      <td>0.0</td>\n      <td>0</td>\n      <td>0</td>\n      <td>0</td>\n      <td>0</td>\n    </tr>\n    <tr>\n      <th>10</th>\n      <td>UV/2020/000011</td>\n      <td>2</td>\n      <td>3</td>\n      <td>1</td>\n      <td>83</td>\n      <td>1966.0</td>\n      <td>Suroeste</td>\n      <td>NaN</td>\n      <td>1</td>\n      <td>1</td>\n      <td>...</td>\n      <td>0</td>\n      <td>0</td>\n      <td>0</td>\n      <td>0</td>\n      <td>0</td>\n      <td>0.0</td>\n      <td>0</td>\n      <td>0</td>\n      <td>0</td>\n      <td>0</td>\n    </tr>\n  </tbody>\n</table>\n<p>2 rows × 23 columns</p>\n</div>"
     },
     "metadata": {},
     "execution_count": 3
    }
   ],
   "source": [
    "df_meta_car=df_car[['uv', 'estado', 'habitaciones', 'banos','metros','fecha_construccion','orientacion','situacion', 'portal', 'ascensor', 'parque_infantil', 'terraza', 'trastero', 'piscina_comunitaria', 'cuarto_de_basura','zonas_comunes', 'piscina', 'garaje', 'tejado', 'calefaccion', 'jardin', 'aire_acondicionado', 'seguro_hogar']]\n",
    "\"\"\"\n",
    "Desechamos las columnas de datos que no crremos que nos vayan a influir.complex\n",
    "\n",
    "eliminamos: \n",
    "            [rk] no necesitamos saber en una misma columna el estado del piso y su identificador. lo tenemos cada uno en su columna correspondiente. Posteriormente filtraremos aquellos pisos repetidos que por haber sido reformados nos siguen apareciendo sin reformar.Además tendremos que ser consistenetes con la nomenclartura de esta columna ya que rk de la tabla de geo y uv de esta tabla contienen la misma información, no es así con rk de esta tabla.complex\n",
    "\n",
    "            [metrica] es inconsistente que tengamos una columna \"metros\" y redundemos en que la métrica es m2. Asumimos que todos los inmuebles están en metros y que si fuese necesario incluir en medidas imperiales (por ejemplo) se transformaría a metros o se transformaría a metros y se incluría una columna con la información en yardas en todas las viviendas.complex\n",
    "\n",
    "            [certificaciones] [certificado_energetico]\n",
    "            \n",
    "\n",
    "mantenemos: \n",
    "            Muy importante para nuestro algoritmo\n",
    "            [ascensor ]\n",
    "\n",
    "            Podría ser interesante para nuestro algoritmo \n",
    "            [fecha_construccion] [terraza] [orientacion] [situacion][portal][parque_infantil] [trastero] [piscina_comunitaria] [piscina] [cuarto_de_basura] [zonas_comunes] [garaje] [tejado] [calefaccion]  [jardin] [aire_acondicionado] [seguro_hogar]\n",
    "            \n",
    "\n",
    "Mantenemos muchas columnas poco relevantes pero el poderador les dará su valor.\n",
    "\n",
    "NOTA: columna  [portal] es si tiene o no portero automático. columana [techo] es si está o no abuardillado \n",
    "\n",
    "\"\"\"\n",
    "\n",
    "#puede que algunos estados no sean ni '1' ni '2', consideramos 'otro' como la única opción\n",
    "\n",
    "df_meta_car.estado[(df_meta_car.estado != '2') & (df_meta_car.estado != '1')] = '?'\n",
    "\n",
    "\n",
    "#tenemos algunos valores repetidos como:\n",
    "df_meta_car[df_meta_car.uv == 'UV/2020/000011']"
   ]
  },
  {
   "cell_type": "code",
   "execution_count": 4,
   "metadata": {},
   "outputs": [
    {
     "output_type": "execute_result",
     "data": {
      "text/plain": [
       "0.0    398\n",
       "Name: tejado, dtype: int64"
      ]
     },
     "metadata": {},
     "execution_count": 4
    }
   ],
   "source": [
    "df_meta_car.tejado.value_counts()"
   ]
  },
  {
   "cell_type": "code",
   "execution_count": 5,
   "metadata": {},
   "outputs": [
    {
     "output_type": "execute_result",
     "data": {
      "text/plain": [
       "                uv estado tipo_vivienda    precio  gastos_comunitarios\n",
       "56  UV/2020/000213      1          Piso  165000.0                  0.0\n",
       "71  UV/2020/000249      1          Piso  169000.0                  0.0\n",
       "46  UV/2020/000151      1          Piso  360000.0                  0.0"
      ],
      "text/html": "<div>\n<style scoped>\n    .dataframe tbody tr th:only-of-type {\n        vertical-align: middle;\n    }\n\n    .dataframe tbody tr th {\n        vertical-align: top;\n    }\n\n    .dataframe thead th {\n        text-align: right;\n    }\n</style>\n<table border=\"1\" class=\"dataframe\">\n  <thead>\n    <tr style=\"text-align: right;\">\n      <th></th>\n      <th>uv</th>\n      <th>estado</th>\n      <th>tipo_vivienda</th>\n      <th>precio</th>\n      <th>gastos_comunitarios</th>\n    </tr>\n  </thead>\n  <tbody>\n    <tr>\n      <th>56</th>\n      <td>UV/2020/000213</td>\n      <td>1</td>\n      <td>Piso</td>\n      <td>165000.0</td>\n      <td>0.0</td>\n    </tr>\n    <tr>\n      <th>71</th>\n      <td>UV/2020/000249</td>\n      <td>1</td>\n      <td>Piso</td>\n      <td>169000.0</td>\n      <td>0.0</td>\n    </tr>\n    <tr>\n      <th>46</th>\n      <td>UV/2020/000151</td>\n      <td>1</td>\n      <td>Piso</td>\n      <td>360000.0</td>\n      <td>0.0</td>\n    </tr>\n  </tbody>\n</table>\n</div>"
     },
     "metadata": {},
     "execution_count": 5
    }
   ],
   "source": [
    "df_meta_web=df_web[['uv', 'estado', 'tipo_vivienda', 'precio', 'gastos_comunitarios']]\n",
    "\"\"\"\n",
    "Mantenemos prácticamente todos los datos.\n",
    "\n",
    "Alunos comentarios:\n",
    "    [estado] debería ser redundante ya que lo tenemos tb en df_meta_car pero nos servirá para asegurarnos de que el dato es correcto\n",
    "    [precio_antiguo] [descuento] los desechamos, nuestro algoritmo sólo considerará el precio actual. si es con descuento o no será el comercial quien tenga esta información y recalcará al clliente que se estaría aprovechando de un descuento.\n",
    "    [gastos_comunitarios] esta variable podría ser interesante para nuestro algoritmo así que la mantenemos. en el momento de recomendar una u otra casa puede que sí sea información valiosa para los comerciales: nos convendría vender antes un piso con una cuota de gastos comunitarios alta que una con pocos gastos comunitarios.\n",
    "    \n",
    "    eliminanos\n",
    "    [moneda] suponemos todos los precios en euros\n",
    "\"\"\"\n",
    "df_meta_web.sample(3)"
   ]
  },
  {
   "cell_type": "code",
   "execution_count": 6,
   "metadata": {},
   "outputs": [],
   "source": [
    "df_meta_geo.columns=['uv', 'latitud', 'longitud', 'codigo_postal', 'pais', 'provincia',\n",
    "       'ciudad', 'distrito', 'barrio', 'calle', 'planta']\n",
    "#mantenemmos consistente nuestra nomenclatura del identificador y llamamos a todos los uv correctamente (no rk)\n"
   ]
  },
  {
   "cell_type": "code",
   "execution_count": 7,
   "metadata": {},
   "outputs": [],
   "source": [
    "\"\"\"\r\n",
    " En primer lugar deberemos eliminar las viviendas que, habiendo sido reformadas, nos osiguen apareciendo con la opción sin reformar\r\n",
    "\"\"\"\r\n",
    "\r\n",
    "#2ddo esta función elimina los duplicados pero se queda con el que tenga el estado más alto y podrían perderse datos. \r\n",
    "\r\n",
    "df_meta_car = df_meta_car.sort_values('estado').drop_duplicates('uv',keep='last')\r\n",
    "###Exixten viviendas repetidas y algunas de ellas tienen valores inconsistentes, por lo tanto vamos a intentar unificar.\r\n"
   ]
  },
  {
   "cell_type": "code",
   "execution_count": 8,
   "metadata": {},
   "outputs": [],
   "source": [
    "def saca_NS(cadena):\n",
    "    CADENA=cadena.upper()\n",
    "    if 'NOR' in CADENA: return 'N'\n",
    "    elif 'SU' in CADENA: return 'S'\n",
    "    else: return ''\n",
    "\n",
    "def saca_EO(cadena):\n",
    "    CADENA=cadena.upper()\n",
    "    if 'OES' in CADENA: return 'O'\n",
    "    elif 'EST' in CADENA: return 'E'\n",
    "    else: return ''"
   ]
  },
  {
   "cell_type": "code",
   "execution_count": 9,
   "metadata": {},
   "outputs": [],
   "source": [
    "df_meta_car['NS']=df_meta_car.orientacion\n",
    "df_meta_car['EO']=df_meta_car.orientacion\n",
    "\n",
    "df_meta_car['NS']=df_meta_car['orientacion'].apply(saca_NS)\n",
    "df_meta_car['EO']=df_meta_car['orientacion'].apply(saca_EO)\n",
    "df_meta_car.drop(['orientacion'], axis=1, inplace= True)"
   ]
  },
  {
   "cell_type": "code",
   "execution_count": 10,
   "metadata": {},
   "outputs": [
    {
     "output_type": "stream",
     "name": "stderr",
     "text": [
      "<ipython-input-10-846d4d538a85>:2: SettingWithCopyWarning: \nA value is trying to be set on a copy of a slice from a DataFrame\n\nSee the caveats in the documentation: https://pandas.pydata.org/pandas-docs/stable/user_guide/indexing.html#returning-a-view-versus-a-copy\n  df_meta_car.estado[(df_meta_car.estado != '2') & (df_meta_car.estado != '1')] = '3'\n"
     ]
    }
   ],
   "source": [
    "\n",
    "#solo permitimos el estado '1' o '2', si no marcamos'3'\n",
    "df_meta_car.estado[(df_meta_car.estado != '2') & (df_meta_car.estado != '1')] = '3'\n"
   ]
  },
  {
   "cell_type": "code",
   "execution_count": 11,
   "metadata": {},
   "outputs": [
    {
     "output_type": "execute_result",
     "data": {
      "text/plain": [
       "0.0    370\n",
       "Name: tejado, dtype: int64"
      ]
     },
     "metadata": {},
     "execution_count": 11
    }
   ],
   "source": [
    "df_meta_car.tejado.value_counts()"
   ]
  },
  {
   "cell_type": "code",
   "execution_count": 12,
   "metadata": {},
   "outputs": [
    {
     "output_type": "execute_result",
     "data": {
      "text/plain": [
       "Exterior            307\n",
       "Interior             46\n",
       "Patio de manzana     11\n",
       "Name: situacion, dtype: int64"
      ]
     },
     "metadata": {},
     "execution_count": 12
    }
   ],
   "source": [
    "df_meta_car.situacion.value_counts()"
   ]
  },
  {
   "cell_type": "code",
   "execution_count": 21,
   "metadata": {},
   "outputs": [
    {
     "output_type": "execute_result",
     "data": {
      "text/plain": [
       "portal                 0\n",
       "ascensor               0\n",
       "parque_infantil        0\n",
       "terraza                0\n",
       "trastero               0\n",
       "piscina_comunitaria    0\n",
       "cuarto_de_basura       0\n",
       "zonas_comunes          0\n",
       "piscina                0\n",
       "garaje                 0\n",
       "tejado                 0\n",
       "calefaccion            0\n",
       "jardin                 0\n",
       "aire_acondicionado     0\n",
       "dtype: int64"
      ]
     },
     "metadata": {},
     "execution_count": 21
    }
   ],
   "source": []
  },
  {
   "cell_type": "code",
   "execution_count": 13,
   "metadata": {},
   "outputs": [],
   "source": [
    "df_meta_car[[ 'estado', 'habitaciones', 'banos', 'metros','fecha_construccion', 'tejado']] = df_meta_car[[ 'estado', 'habitaciones', 'banos', 'metros','fecha_construccion', 'tejado']].fillna(0.0).astype(int)\n",
    "df_meta_car.situacion=df_meta_car.situacion.fillna('NO').map({'Exterior':int(3),\"Patio de manzana\":int(2),\"Interior\":int(1), 'NO':int(0)}).astype(int)\n",
    "df_meta_car[['portal', 'ascensor','parque_infantil', 'terraza', 'trastero', 'piscina_comunitaria', 'cuarto_de_basura', 'zonas_comunes', 'piscina', 'garaje', 'tejado','calefaccion','jardin', 'aire_acondicionado']] = df_meta_car[['portal', 'ascensor','parque_infantil', 'terraza', 'trastero', 'piscina_comunitaria', 'cuarto_de_basura', 'zonas_comunes', 'piscina', 'garaje', 'tejado','calefaccion','jardin', 'aire_acondicionado']].fillna(0).astype(int)"
   ]
  },
  {
   "cell_type": "code",
   "execution_count": 14,
   "metadata": {},
   "outputs": [
    {
     "output_type": "execute_result",
     "data": {
      "text/plain": [
       "                 uv  estado  habitaciones  banos  metros  fecha_construccion  \\\n",
       "0    UV/2020/000001       1             2      1      53                1963   \n",
       "252  UV/2020/000301       1             3      2      80                1983   \n",
       "251  UV/2020/000300       1             4      1     120                1965   \n",
       "250  UV/2020/000299       1             2      2     101                1940   \n",
       "249  UV/2020/000297       1             1      1      59                2011   \n",
       "..              ...     ...           ...    ...     ...                 ...   \n",
       "264  UV/2020/000307       2             2      2      70                1950   \n",
       "266  UV/2020/000309       2             3      1      65                1963   \n",
       "361  UV/2021/000397       2             2      2      73                1973   \n",
       "293  UV/2020/000330       2             2      1      41                1914   \n",
       "309  UV/2021/000345       3             2      2      85                1965   \n",
       "\n",
       "     situacion  portal  ascensor  parque_infantil  ...  zonas_comunes  \\\n",
       "0            3       0         1                0  ...              0   \n",
       "252          3       0         0                0  ...              0   \n",
       "251          1       0         1                0  ...              0   \n",
       "250          3       1         1                0  ...              0   \n",
       "249          3       1         1                0  ...              1   \n",
       "..         ...     ...       ...              ...  ...            ...   \n",
       "264          3       0         1                0  ...              0   \n",
       "266          1       0         0                0  ...              0   \n",
       "361          3       1         1                0  ...              0   \n",
       "293          1       1         0                0  ...              0   \n",
       "309          3       1         1                0  ...              0   \n",
       "\n",
       "     piscina  garaje  tejado  calefaccion  jardin  aire_acondicionado  \\\n",
       "0          0       0       0            0       0                   0   \n",
       "252        0       0       0            0       0                   0   \n",
       "251        0       0       0            0       0                   0   \n",
       "250        0       0       0            0       0                   0   \n",
       "249        0       1       0            0       0                   0   \n",
       "..       ...     ...     ...          ...     ...                 ...   \n",
       "264        0       0       0            0       0                   0   \n",
       "266        0       0       0            0       0                   0   \n",
       "361        0       0       0            0       0                   0   \n",
       "293        0       0       0            0       0                   0   \n",
       "309        0       0       0            0       0                   0   \n",
       "\n",
       "     seguro_hogar  NS  EO  \n",
       "0               0   N      \n",
       "252             0   N   O  \n",
       "251             0   N   O  \n",
       "250             0   N   E  \n",
       "249             0   N      \n",
       "..            ...  ..  ..  \n",
       "264             0       E  \n",
       "266             0       O  \n",
       "361             0   S   O  \n",
       "293             0   N   E  \n",
       "309             0   N   E  \n",
       "\n",
       "[371 rows x 24 columns]"
      ],
      "text/html": "<div>\n<style scoped>\n    .dataframe tbody tr th:only-of-type {\n        vertical-align: middle;\n    }\n\n    .dataframe tbody tr th {\n        vertical-align: top;\n    }\n\n    .dataframe thead th {\n        text-align: right;\n    }\n</style>\n<table border=\"1\" class=\"dataframe\">\n  <thead>\n    <tr style=\"text-align: right;\">\n      <th></th>\n      <th>uv</th>\n      <th>estado</th>\n      <th>habitaciones</th>\n      <th>banos</th>\n      <th>metros</th>\n      <th>fecha_construccion</th>\n      <th>situacion</th>\n      <th>portal</th>\n      <th>ascensor</th>\n      <th>parque_infantil</th>\n      <th>...</th>\n      <th>zonas_comunes</th>\n      <th>piscina</th>\n      <th>garaje</th>\n      <th>tejado</th>\n      <th>calefaccion</th>\n      <th>jardin</th>\n      <th>aire_acondicionado</th>\n      <th>seguro_hogar</th>\n      <th>NS</th>\n      <th>EO</th>\n    </tr>\n  </thead>\n  <tbody>\n    <tr>\n      <th>0</th>\n      <td>UV/2020/000001</td>\n      <td>1</td>\n      <td>2</td>\n      <td>1</td>\n      <td>53</td>\n      <td>1963</td>\n      <td>3</td>\n      <td>0</td>\n      <td>1</td>\n      <td>0</td>\n      <td>...</td>\n      <td>0</td>\n      <td>0</td>\n      <td>0</td>\n      <td>0</td>\n      <td>0</td>\n      <td>0</td>\n      <td>0</td>\n      <td>0</td>\n      <td>N</td>\n      <td></td>\n    </tr>\n    <tr>\n      <th>252</th>\n      <td>UV/2020/000301</td>\n      <td>1</td>\n      <td>3</td>\n      <td>2</td>\n      <td>80</td>\n      <td>1983</td>\n      <td>3</td>\n      <td>0</td>\n      <td>0</td>\n      <td>0</td>\n      <td>...</td>\n      <td>0</td>\n      <td>0</td>\n      <td>0</td>\n      <td>0</td>\n      <td>0</td>\n      <td>0</td>\n      <td>0</td>\n      <td>0</td>\n      <td>N</td>\n      <td>O</td>\n    </tr>\n    <tr>\n      <th>251</th>\n      <td>UV/2020/000300</td>\n      <td>1</td>\n      <td>4</td>\n      <td>1</td>\n      <td>120</td>\n      <td>1965</td>\n      <td>1</td>\n      <td>0</td>\n      <td>1</td>\n      <td>0</td>\n      <td>...</td>\n      <td>0</td>\n      <td>0</td>\n      <td>0</td>\n      <td>0</td>\n      <td>0</td>\n      <td>0</td>\n      <td>0</td>\n      <td>0</td>\n      <td>N</td>\n      <td>O</td>\n    </tr>\n    <tr>\n      <th>250</th>\n      <td>UV/2020/000299</td>\n      <td>1</td>\n      <td>2</td>\n      <td>2</td>\n      <td>101</td>\n      <td>1940</td>\n      <td>3</td>\n      <td>1</td>\n      <td>1</td>\n      <td>0</td>\n      <td>...</td>\n      <td>0</td>\n      <td>0</td>\n      <td>0</td>\n      <td>0</td>\n      <td>0</td>\n      <td>0</td>\n      <td>0</td>\n      <td>0</td>\n      <td>N</td>\n      <td>E</td>\n    </tr>\n    <tr>\n      <th>249</th>\n      <td>UV/2020/000297</td>\n      <td>1</td>\n      <td>1</td>\n      <td>1</td>\n      <td>59</td>\n      <td>2011</td>\n      <td>3</td>\n      <td>1</td>\n      <td>1</td>\n      <td>0</td>\n      <td>...</td>\n      <td>1</td>\n      <td>0</td>\n      <td>1</td>\n      <td>0</td>\n      <td>0</td>\n      <td>0</td>\n      <td>0</td>\n      <td>0</td>\n      <td>N</td>\n      <td></td>\n    </tr>\n    <tr>\n      <th>...</th>\n      <td>...</td>\n      <td>...</td>\n      <td>...</td>\n      <td>...</td>\n      <td>...</td>\n      <td>...</td>\n      <td>...</td>\n      <td>...</td>\n      <td>...</td>\n      <td>...</td>\n      <td>...</td>\n      <td>...</td>\n      <td>...</td>\n      <td>...</td>\n      <td>...</td>\n      <td>...</td>\n      <td>...</td>\n      <td>...</td>\n      <td>...</td>\n      <td>...</td>\n      <td>...</td>\n    </tr>\n    <tr>\n      <th>264</th>\n      <td>UV/2020/000307</td>\n      <td>2</td>\n      <td>2</td>\n      <td>2</td>\n      <td>70</td>\n      <td>1950</td>\n      <td>3</td>\n      <td>0</td>\n      <td>1</td>\n      <td>0</td>\n      <td>...</td>\n      <td>0</td>\n      <td>0</td>\n      <td>0</td>\n      <td>0</td>\n      <td>0</td>\n      <td>0</td>\n      <td>0</td>\n      <td>0</td>\n      <td></td>\n      <td>E</td>\n    </tr>\n    <tr>\n      <th>266</th>\n      <td>UV/2020/000309</td>\n      <td>2</td>\n      <td>3</td>\n      <td>1</td>\n      <td>65</td>\n      <td>1963</td>\n      <td>1</td>\n      <td>0</td>\n      <td>0</td>\n      <td>0</td>\n      <td>...</td>\n      <td>0</td>\n      <td>0</td>\n      <td>0</td>\n      <td>0</td>\n      <td>0</td>\n      <td>0</td>\n      <td>0</td>\n      <td>0</td>\n      <td></td>\n      <td>O</td>\n    </tr>\n    <tr>\n      <th>361</th>\n      <td>UV/2021/000397</td>\n      <td>2</td>\n      <td>2</td>\n      <td>2</td>\n      <td>73</td>\n      <td>1973</td>\n      <td>3</td>\n      <td>1</td>\n      <td>1</td>\n      <td>0</td>\n      <td>...</td>\n      <td>0</td>\n      <td>0</td>\n      <td>0</td>\n      <td>0</td>\n      <td>0</td>\n      <td>0</td>\n      <td>0</td>\n      <td>0</td>\n      <td>S</td>\n      <td>O</td>\n    </tr>\n    <tr>\n      <th>293</th>\n      <td>UV/2020/000330</td>\n      <td>2</td>\n      <td>2</td>\n      <td>1</td>\n      <td>41</td>\n      <td>1914</td>\n      <td>1</td>\n      <td>1</td>\n      <td>0</td>\n      <td>0</td>\n      <td>...</td>\n      <td>0</td>\n      <td>0</td>\n      <td>0</td>\n      <td>0</td>\n      <td>0</td>\n      <td>0</td>\n      <td>0</td>\n      <td>0</td>\n      <td>N</td>\n      <td>E</td>\n    </tr>\n    <tr>\n      <th>309</th>\n      <td>UV/2021/000345</td>\n      <td>3</td>\n      <td>2</td>\n      <td>2</td>\n      <td>85</td>\n      <td>1965</td>\n      <td>3</td>\n      <td>1</td>\n      <td>1</td>\n      <td>0</td>\n      <td>...</td>\n      <td>0</td>\n      <td>0</td>\n      <td>0</td>\n      <td>0</td>\n      <td>0</td>\n      <td>0</td>\n      <td>0</td>\n      <td>0</td>\n      <td>N</td>\n      <td>E</td>\n    </tr>\n  </tbody>\n</table>\n<p>371 rows × 24 columns</p>\n</div>"
     },
     "metadata": {},
     "execution_count": 14
    }
   ],
   "source": [
    "df_meta_car"
   ]
  },
  {
   "cell_type": "code",
   "execution_count": 15,
   "metadata": {},
   "outputs": [
    {
     "output_type": "stream",
     "name": "stderr",
     "text": [
      "<ipython-input-15-d8f42811b9ba>:1: SettingWithCopyWarning: \nA value is trying to be set on a copy of a slice from a DataFrame\n\nSee the caveats in the documentation: https://pandas.pydata.org/pandas-docs/stable/user_guide/indexing.html#returning-a-view-versus-a-copy\n  df_meta_web.tipo_vivienda[df_meta_web.tipo_vivienda == 'Moradia']= 'Casa'\n/home/emilio/.local/lib/python3.8/site-packages/pandas/core/series.py:992: SettingWithCopyWarning: \nA value is trying to be set on a copy of a slice from a DataFrame\n\nSee the caveats in the documentation: https://pandas.pydata.org/pandas-docs/stable/user_guide/indexing.html#returning-a-view-versus-a-copy\n  self._where(~key, value, inplace=True)\n"
     ]
    }
   ],
   "source": []
  },
  {
   "cell_type": "code",
   "execution_count": 15,
   "metadata": {},
   "outputs": [
    {
     "output_type": "stream",
     "name": "stderr",
     "text": [
      "<ipython-input-15-3717ac23ec7c>:1: SettingWithCopyWarning: \nA value is trying to be set on a copy of a slice from a DataFrame\n\nSee the caveats in the documentation: https://pandas.pydata.org/pandas-docs/stable/user_guide/indexing.html#returning-a-view-versus-a-copy\n  df_meta_web.tipo_vivienda[df_meta_web.tipo_vivienda == 'Moradia'] = 'CASA'\n/home/emilio/.local/lib/python3.8/site-packages/pandas/core/series.py:992: SettingWithCopyWarning: \nA value is trying to be set on a copy of a slice from a DataFrame\n\nSee the caveats in the documentation: https://pandas.pydata.org/pandas-docs/stable/user_guide/indexing.html#returning-a-view-versus-a-copy\n  self._where(~key, value, inplace=True)\n"
     ]
    }
   ],
   "source": [
    "df_meta_web.tipo_vivienda[df_meta_web.tipo_vivienda == 'Moradia'] = 'CASA'\n",
    "\n",
    "def filtrar_tipo_vivienda(cadena):\n",
    "    with open(\"./config/opciones.json\") as archivo:\n",
    "        opciones = load(archivo)\n",
    "    conjunto_vivientas = set(opciones['conjunto_vivientas'])\n",
    "    CADENA = cadena.upper()\n",
    "    if CADENA in conjunto_vivientas: return CADENA\n",
    "    else: return 'OTRO'\n"
   ]
  },
  {
   "cell_type": "code",
   "execution_count": 16,
   "metadata": {},
   "outputs": [
    {
     "output_type": "stream",
     "name": "stderr",
     "text": [
      "/home/emilio/.local/lib/python3.8/site-packages/pandas/core/generic.py:5494: SettingWithCopyWarning: \nA value is trying to be set on a copy of a slice from a DataFrame.\nTry using .loc[row_indexer,col_indexer] = value instead\n\nSee the caveats in the documentation: https://pandas.pydata.org/pandas-docs/stable/user_guide/indexing.html#returning-a-view-versus-a-copy\n  self[name] = value\n"
     ]
    }
   ],
   "source": [
    "df_meta_web.tipo_vivienda = df_meta_web.tipo_vivienda.apply(filtrar_tipo_vivienda)"
   ]
  },
  {
   "cell_type": "code",
   "execution_count": 17,
   "metadata": {},
   "outputs": [],
   "source": [
    "df_meta_web.precio =  df_meta_web.precio.fillna(0).astype(int)"
   ]
  },
  {
   "cell_type": "code",
   "execution_count": 18,
   "metadata": {},
   "outputs": [],
   "source": [
    "df_meta_web.gastos_comunitarios =  df_meta_web.gastos_comunitarios.fillna(0).astype(int)"
   ]
  },
  {
   "cell_type": "code",
   "execution_count": 19,
   "metadata": {},
   "outputs": [],
   "source": [
    "df_meta_web.precio =  (df_meta_web.precio/1000).astype(int)"
   ]
  },
  {
   "cell_type": "code",
   "execution_count": 20,
   "metadata": {},
   "outputs": [
    {
     "output_type": "execute_result",
     "data": {
      "text/plain": [
       "                 uv estado tipo_vivienda  precio_k  gastos_comunitarios\n",
       "0    UV/2020/000003      1          PISO       160                    0\n",
       "1    UV/2020/000004      1          PISO       125                    0\n",
       "2    UV/2020/000006      1          PISO         0                    0\n",
       "3    UV/2020/000007      1          PISO       159                    0\n",
       "4    UV/2020/000008      1          PISO       170                    0\n",
       "..              ...    ...           ...       ...                  ...\n",
       "185  UV/2021/000392      1          PISO       139                   18\n",
       "186  UV/2021/000411      1          PISO       235                  140\n",
       "187  UV/2021/000426      1          PISO       148                   64\n",
       "188  UV/2021/000433      1          PISO       300                   30\n",
       "189  UV/2021/000441      1          PISO       237                  183\n",
       "\n",
       "[190 rows x 5 columns]"
      ],
      "text/html": "<div>\n<style scoped>\n    .dataframe tbody tr th:only-of-type {\n        vertical-align: middle;\n    }\n\n    .dataframe tbody tr th {\n        vertical-align: top;\n    }\n\n    .dataframe thead th {\n        text-align: right;\n    }\n</style>\n<table border=\"1\" class=\"dataframe\">\n  <thead>\n    <tr style=\"text-align: right;\">\n      <th></th>\n      <th>uv</th>\n      <th>estado</th>\n      <th>tipo_vivienda</th>\n      <th>precio_k</th>\n      <th>gastos_comunitarios</th>\n    </tr>\n  </thead>\n  <tbody>\n    <tr>\n      <th>0</th>\n      <td>UV/2020/000003</td>\n      <td>1</td>\n      <td>PISO</td>\n      <td>160</td>\n      <td>0</td>\n    </tr>\n    <tr>\n      <th>1</th>\n      <td>UV/2020/000004</td>\n      <td>1</td>\n      <td>PISO</td>\n      <td>125</td>\n      <td>0</td>\n    </tr>\n    <tr>\n      <th>2</th>\n      <td>UV/2020/000006</td>\n      <td>1</td>\n      <td>PISO</td>\n      <td>0</td>\n      <td>0</td>\n    </tr>\n    <tr>\n      <th>3</th>\n      <td>UV/2020/000007</td>\n      <td>1</td>\n      <td>PISO</td>\n      <td>159</td>\n      <td>0</td>\n    </tr>\n    <tr>\n      <th>4</th>\n      <td>UV/2020/000008</td>\n      <td>1</td>\n      <td>PISO</td>\n      <td>170</td>\n      <td>0</td>\n    </tr>\n    <tr>\n      <th>...</th>\n      <td>...</td>\n      <td>...</td>\n      <td>...</td>\n      <td>...</td>\n      <td>...</td>\n    </tr>\n    <tr>\n      <th>185</th>\n      <td>UV/2021/000392</td>\n      <td>1</td>\n      <td>PISO</td>\n      <td>139</td>\n      <td>18</td>\n    </tr>\n    <tr>\n      <th>186</th>\n      <td>UV/2021/000411</td>\n      <td>1</td>\n      <td>PISO</td>\n      <td>235</td>\n      <td>140</td>\n    </tr>\n    <tr>\n      <th>187</th>\n      <td>UV/2021/000426</td>\n      <td>1</td>\n      <td>PISO</td>\n      <td>148</td>\n      <td>64</td>\n    </tr>\n    <tr>\n      <th>188</th>\n      <td>UV/2021/000433</td>\n      <td>1</td>\n      <td>PISO</td>\n      <td>300</td>\n      <td>30</td>\n    </tr>\n    <tr>\n      <th>189</th>\n      <td>UV/2021/000441</td>\n      <td>1</td>\n      <td>PISO</td>\n      <td>237</td>\n      <td>183</td>\n    </tr>\n  </tbody>\n</table>\n<p>190 rows × 5 columns</p>\n</div>"
     },
     "metadata": {},
     "execution_count": 20
    }
   ],
   "source": [
    "df_meta_web.columns=['uv', 'estado', 'tipo_vivienda', 'precio_k', 'gastos_comunitarios']\n",
    "df_meta_web"
   ]
  },
  {
   "cell_type": "code",
   "execution_count": 21,
   "metadata": {},
   "outputs": [
    {
     "output_type": "execute_result",
     "data": {
      "text/plain": [
       "                 uv estado tipo_vivienda  precio_k  gastos_comunitarios\n",
       "153  UV/2021/000452      1          CASA         0                   12\n",
       "154  UV/2021/000452      1          CASA         0                   12\n",
       "155  UV/2021/000452      2          CASA         0                   12\n",
       "156  UV/2021/000452      2          CASA         0                   12"
      ],
      "text/html": "<div>\n<style scoped>\n    .dataframe tbody tr th:only-of-type {\n        vertical-align: middle;\n    }\n\n    .dataframe tbody tr th {\n        vertical-align: top;\n    }\n\n    .dataframe thead th {\n        text-align: right;\n    }\n</style>\n<table border=\"1\" class=\"dataframe\">\n  <thead>\n    <tr style=\"text-align: right;\">\n      <th></th>\n      <th>uv</th>\n      <th>estado</th>\n      <th>tipo_vivienda</th>\n      <th>precio_k</th>\n      <th>gastos_comunitarios</th>\n    </tr>\n  </thead>\n  <tbody>\n    <tr>\n      <th>153</th>\n      <td>UV/2021/000452</td>\n      <td>1</td>\n      <td>CASA</td>\n      <td>0</td>\n      <td>12</td>\n    </tr>\n    <tr>\n      <th>154</th>\n      <td>UV/2021/000452</td>\n      <td>1</td>\n      <td>CASA</td>\n      <td>0</td>\n      <td>12</td>\n    </tr>\n    <tr>\n      <th>155</th>\n      <td>UV/2021/000452</td>\n      <td>2</td>\n      <td>CASA</td>\n      <td>0</td>\n      <td>12</td>\n    </tr>\n    <tr>\n      <th>156</th>\n      <td>UV/2021/000452</td>\n      <td>2</td>\n      <td>CASA</td>\n      <td>0</td>\n      <td>12</td>\n    </tr>\n  </tbody>\n</table>\n</div>"
     },
     "metadata": {},
     "execution_count": 21
    }
   ],
   "source": [
    "df_meta_web[df_meta_web.uv == 'UV/2021/000452']"
   ]
  },
  {
   "cell_type": "code",
   "execution_count": null,
   "metadata": {},
   "outputs": [],
   "source": []
  }
 ],
 "metadata": {
  "kernelspec": {
   "display_name": "clik",
   "language": "python",
   "name": "clik"
  },
  "language_info": {
   "codemirror_mode": {
    "name": "ipython",
    "version": 3
   },
   "file_extension": ".py",
   "mimetype": "text/x-python",
   "name": "python",
   "nbconvert_exporter": "python",
   "pygments_lexer": "ipython3",
   "version": "3.8.5"
  }
 },
 "nbformat": 4,
 "nbformat_minor": 5
}