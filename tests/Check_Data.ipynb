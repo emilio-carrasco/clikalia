{
 "cells": [
  {
   "cell_type": "markdown",
   "id": "6d43142e",
   "metadata": {},
   "source": [
    "# Geolocalización.csv\n",
    "\n",
    "Contiene la información geográfica de cada inmueble, ubicación y sitios cercanos, además nos dice la planta del piso, siendo información de gran valor. El id de cada inmueble es su RK."
   ]
  },
  {
   "cell_type": "code",
   "execution_count": 132,
   "id": "6f090b0a",
   "metadata": {},
   "outputs": [],
   "source": [
    "import pandas as  pd"
   ]
  },
  {
   "cell_type": "code",
   "execution_count": 133,
   "id": "2f94bb19",
   "metadata": {
    "scrolled": false
   },
   "outputs": [],
   "source": [
    "df=pd.read_csv('../data/geolocalizacion.csv',sep=';')"
   ]
  },
  {
   "cell_type": "code",
   "execution_count": 134,
   "id": "9fc93f27",
   "metadata": {
    "scrolled": false
   },
   "outputs": [
    {
     "data": {
      "text/plain": [
       "rk                   object\n",
       "latitud             float64\n",
       "longitud            float64\n",
       "codigo_postal         int64\n",
       "pais                  int64\n",
       "provincia             int64\n",
       "ciudad               object\n",
       "distrito             object\n",
       "barrio               object\n",
       "calle                object\n",
       "planta                int64\n",
       "puerta               object\n",
       "metro                object\n",
       "cercanias            object\n",
       "centro_comercial     object\n",
       "escuela              object\n",
       "parque               object\n",
       "hospital             object\n",
       "gimnasio             object\n",
       "dtype: object"
      ]
     },
     "execution_count": 134,
     "metadata": {},
     "output_type": "execute_result"
    }
   ],
   "source": [
    "df.dtypes"
   ]
  },
  {
   "cell_type": "code",
   "execution_count": 135,
   "id": "0489ffbf",
   "metadata": {},
   "outputs": [
    {
     "data": {
      "text/plain": [
       "rk                    0\n",
       "latitud               2\n",
       "longitud              2\n",
       "codigo_postal         0\n",
       "pais                  0\n",
       "provincia             0\n",
       "ciudad                0\n",
       "distrito             98\n",
       "barrio              357\n",
       "calle                 0\n",
       "planta                0\n",
       "puerta               14\n",
       "metro               154\n",
       "cercanias           361\n",
       "centro_comercial    166\n",
       "escuela             161\n",
       "parque              150\n",
       "hospital            162\n",
       "gimnasio            162\n",
       "dtype: int64"
      ]
     },
     "execution_count": 135,
     "metadata": {},
     "output_type": "execute_result"
    }
   ],
   "source": [
    "df.isna().sum()"
   ]
  },
  {
   "cell_type": "code",
   "execution_count": 136,
   "id": "dfeb9625",
   "metadata": {
    "scrolled": true
   },
   "outputs": [
    {
     "data": {
      "text/plain": [
       "False    369\n",
       "True       2\n",
       "dtype: int64"
      ]
     },
     "execution_count": 136,
     "metadata": {},
     "output_type": "execute_result"
    }
   ],
   "source": [
    "(df.longitud.isna() | df.latitud.isna()).value_counts()"
   ]
  },
  {
   "cell_type": "markdown",
   "id": "49eb7996",
   "metadata": {},
   "source": [
    "Parece que de los inmuebles que no tenemmos los geo, no tenemos ninguno y en total son solo 2."
   ]
  },
  {
   "cell_type": "code",
   "execution_count": 137,
   "id": "f686793f",
   "metadata": {
    "scrolled": true
   },
   "outputs": [
    {
     "data": {
      "text/plain": [
       "1    371\n",
       "Name: pais, dtype: int64"
      ]
     },
     "execution_count": 137,
     "metadata": {},
     "output_type": "execute_result"
    }
   ],
   "source": [
    "df.pais.value_counts()"
   ]
  },
  {
   "cell_type": "markdown",
   "id": "14e654b9",
   "metadata": {},
   "source": [
    "Parece que, por ahora sólo tenemos datos en este data set sobre España.\n",
    "\n"
   ]
  },
  {
   "cell_type": "code",
   "execution_count": 138,
   "id": "34724995",
   "metadata": {
    "scrolled": false
   },
   "outputs": [
    {
     "data": {
      "text/plain": [
       "1    333\n",
       "2     38\n",
       "Name: provincia, dtype: int64"
      ]
     },
     "execution_count": 138,
     "metadata": {},
     "output_type": "execute_result"
    }
   ],
   "source": [
    "df.provincia.value_counts()"
   ]
  },
  {
   "cell_type": "markdown",
   "id": "51d3c334",
   "metadata": {},
   "source": [
    "Sólo tenemos datos de dos provincias: 1-Madrid, 2-Barcelona. No aparecen NaN"
   ]
  },
  {
   "cell_type": "code",
   "execution_count": 139,
   "id": "3fe08f04",
   "metadata": {
    "scrolled": true
   },
   "outputs": [
    {
     "data": {
      "text/plain": [
       "98"
      ]
     },
     "execution_count": 139,
     "metadata": {},
     "output_type": "execute_result"
    }
   ],
   "source": [
    "df.distrito.isna().sum()"
   ]
  },
  {
   "cell_type": "markdown",
   "id": "fb3229b7",
   "metadata": {},
   "source": [
    "Tenemos 98 datos de DISTRITO en NAN"
   ]
  },
  {
   "cell_type": "code",
   "execution_count": 140,
   "id": "c0ff77dc",
   "metadata": {
    "scrolled": true
   },
   "outputs": [
    {
     "data": {
      "text/plain": [
       "provincia  ciudad                    distrito                  \n",
       "1          Alcalá De Henares         Alcala de Henares             1\n",
       "                                     Juan de Austria               1\n",
       "                                     Los Almendros                 1\n",
       "                                     San Isidro - Los Almendros    1\n",
       "           Alcorcón                  Centro                        2\n",
       "                                                                  ..\n",
       "2          Sant Adria De Besos       La Catalana                   1\n",
       "                                     Sant Martí                    1\n",
       "           Sant Joan Despi           Sant Joan Despí               1\n",
       "           Santa Coloma De Gramanet  Can Mariné                    1\n",
       "           Vallirana                 Centro                        1\n",
       "Name: rk, Length: 108, dtype: int64"
      ]
     },
     "execution_count": 140,
     "metadata": {},
     "output_type": "execute_result"
    }
   ],
   "source": [
    "df.groupby(['provincia', 'ciudad', 'distrito'], dropna=False).count()['rk']"
   ]
  },
  {
   "cell_type": "markdown",
   "id": "236379f7",
   "metadata": {},
   "source": [
    "Para unificar estos datos y completarlos si fuera necesario podríamos usar reverse geocoding. Bien por coordenadas GPS, bien por calle y número 🔥🔥¡¡¡pero no tenemos número!!!\n",
    "\n",
    "https://stackoverflow.com/questions/4013606/google-maps-how-to-get-country-state-province-region-city-given-a-lat-long-va\n",
    "\n",
    "tb me recomienda geopy Nomatin\n",
    "\n",
    "creo que clikalia usa google api. si lo usa podemos implementar mejor googleapi. controlar muy bien las llamadas que hacemos. ¿añadir un campo de última actualización de la info con info api?\n"
   ]
  },
  {
   "cell_type": "code",
   "execution_count": 141,
   "id": "98e122de",
   "metadata": {
    "scrolled": true
   },
   "outputs": [
    {
     "data": {
      "text/plain": [
       "A            73\n",
       "B            57\n",
       "C            48\n",
       "D            41\n",
       "2            18\n",
       "1            16\n",
       "3            14\n",
       "Derecha      10\n",
       "E             9\n",
       "I             7\n",
       "4             6\n",
       "F             5\n",
       "5             5\n",
       "d             4\n",
       "0             4\n",
       "DCHA          3\n",
       "H             3\n",
       "G             2\n",
       "Izquierda     2\n",
       "ext           2\n",
       "6             2\n",
       "Exterior      1\n",
       "303           1\n",
       "IZQ           1\n",
       "Ext.          1\n",
       "420           1\n",
       "B/Derecha     1\n",
       "12            1\n",
       "c             1\n",
       "16            1\n",
       "J             1\n",
       "i             1\n",
       "13            1\n",
       "e             1\n",
       "AD            1\n",
       "Ático 4       1\n",
       "27D           1\n",
       "EC            1\n",
       "463           1\n",
       "M             1\n",
       "izq           1\n",
       "derecha       1\n",
       "Izq           1\n",
       "IZDA          1\n",
       "a             1\n",
       "Izda.         1\n",
       "b             1\n",
       "Name: puerta, dtype: int64"
      ]
     },
     "execution_count": 141,
     "metadata": {},
     "output_type": "execute_result"
    }
   ],
   "source": [
    "df.puerta.value_counts()"
   ]
  },
  {
   "cell_type": "markdown",
   "id": "cf27519d",
   "metadata": {},
   "source": [
    "La columna de \"puerta\" parece bastante sucia. ¿Es siginificativo? En general NO pero parece que hay un dato que podemos extraer: 🔥ático"
   ]
  },
  {
   "cell_type": "code",
   "execution_count": 142,
   "id": "bdf4105f",
   "metadata": {
    "scrolled": true
   },
   "outputs": [
    {
     "data": {
      "text/plain": [
       "Fuenlabrada Central                          2\n",
       "La Serna, Fuenlabrada Central                1\n",
       "La Avanzada-La Cueva, Fuenlabrada Central    1\n",
       "Méndez Álvaro                                1\n",
       "Torrejón de Ardoz                            1\n",
       "Lavapiés-Embajadores Central                 1\n",
       "Asamblea de Madrid Entrevías                 1\n",
       "Zarzaquemada, Leganés Central                1\n",
       "Este, Móstoles Central                       1\n",
       "Name: cercanias, dtype: int64"
      ]
     },
     "execution_count": 142,
     "metadata": {},
     "output_type": "execute_result"
    }
   ],
   "source": [
    "df.cercanias.value_counts()"
   ]
  },
  {
   "cell_type": "markdown",
   "id": "c93f0766",
   "metadata": {},
   "source": [
    "aquí nos da el nombre del cercanías más cercano. A lo mejor sería buen idea encontrar distancia al cercanías más cercano. ¿recurrimos a api?"
   ]
  },
  {
   "cell_type": "code",
   "execution_count": 143,
   "id": "c06b4382",
   "metadata": {
    "scrolled": true
   },
   "outputs": [
    {
     "data": {
      "text/plain": [
       "Centro Comercial Plaza Río 2     15\n",
       "Ventanal de la Sierra            11\n",
       "Centro Comercial Alcalá Norte     9\n",
       "El Corte Inglés                   8\n",
       "Plaza Río 2                       8\n",
       "                                 ..\n",
       "H2O                               1\n",
       "Centro Comercial Parque Sur       1\n",
       "Maremagnum                        1\n",
       "ABC Serrano                       1\n",
       "Centro Comercial Arturo Soria     1\n",
       "Name: centro_comercial, Length: 111, dtype: int64"
      ]
     },
     "execution_count": 143,
     "metadata": {},
     "output_type": "execute_result"
    }
   ],
   "source": [
    "df.centro_comercial.value_counts()"
   ]
  },
  {
   "cell_type": "code",
   "execution_count": 144,
   "id": "bc64d1de",
   "metadata": {},
   "outputs": [
    {
     "data": {
      "text/plain": [
       "166"
      ]
     },
     "execution_count": 144,
     "metadata": {},
     "output_type": "execute_result"
    }
   ],
   "source": [
    "df.centro_comercial.isna().sum()"
   ]
  },
  {
   "cell_type": "code",
   "execution_count": 145,
   "id": "fc2d3948",
   "metadata": {},
   "outputs": [
    {
     "data": {
      "text/plain": [
       "166"
      ]
     },
     "execution_count": 145,
     "metadata": {},
     "output_type": "execute_result"
    }
   ],
   "source": [
    "df.centro_comercial.isnull().sum()"
   ]
  },
  {
   "cell_type": "markdown",
   "id": "f3c4b179",
   "metadata": {},
   "source": [
    "Tenemos 166 datos no válidos.\n",
    "\n",
    "IDEM CON CENTRO COMERCIAL. aquí nos da el nombre del centro comercial más cercano. A lo mejor sería buen idea encontrar distancia al más cercano. ¿recurrimos a api?"
   ]
  },
  {
   "cell_type": "code",
   "execution_count": 146,
   "id": "a99fedbe",
   "metadata": {
    "scrolled": true
   },
   "outputs": [
    {
     "data": {
      "text/plain": [
       "Virgen de los Remedios                  11\n",
       "Nuestra Señora del Pilar                 5\n",
       "Santa Maria del Camino                   3\n",
       "IES Tirso de Molina                      3\n",
       "Colegio Reinado del Corazón de Jesús     3\n",
       "                                        ..\n",
       "Gabriel García Marquéz                   1\n",
       "CEIP Giner de los Ríos                   1\n",
       "IES Lope de Vega                         1\n",
       "Tres Olivos                              1\n",
       "Nazaret San Blas                         1\n",
       "Name: escuela, Length: 172, dtype: int64"
      ]
     },
     "execution_count": 146,
     "metadata": {},
     "output_type": "execute_result"
    }
   ],
   "source": [
    "df.escuela.value_counts()"
   ]
  },
  {
   "cell_type": "code",
   "execution_count": 147,
   "id": "f842a57b",
   "metadata": {},
   "outputs": [
    {
     "data": {
      "text/plain": [
       "161"
      ]
     },
     "execution_count": 147,
     "metadata": {},
     "output_type": "execute_result"
    }
   ],
   "source": [
    "df.escuela.isnull().sum()"
   ]
  },
  {
   "cell_type": "markdown",
   "id": "dc7dacc7",
   "metadata": {},
   "source": [
    "Tenemos 166 datos no válidos.\n",
    "\n",
    "IDEM CON ESCUELAS. aquí nos da el nombre del escuela más cercano. A lo mejor sería buen idea encontrar distancia al más cercano. ¿recurrimos a api?"
   ]
  },
  {
   "cell_type": "code",
   "execution_count": 148,
   "id": "c4328fe4",
   "metadata": {
    "scrolled": true
   },
   "outputs": [
    {
     "data": {
      "text/plain": [
       "El Cerrillo                   11\n",
       "El Retiro                      9\n",
       "Cerro Peñabel                  4\n",
       "Tierno Galván                  4\n",
       "Parque de los Estados          3\n",
       "                              ..\n",
       "Parque de Plata y Castañar     1\n",
       "Martin Luther King             1\n",
       "Planetario                     1\n",
       "Parque Lineal                  1\n",
       "Parque Martin Luther King      1\n",
       "Name: parque, Length: 164, dtype: int64"
      ]
     },
     "execution_count": 148,
     "metadata": {},
     "output_type": "execute_result"
    }
   ],
   "source": [
    "df.parque.value_counts()"
   ]
  },
  {
   "cell_type": "code",
   "execution_count": 149,
   "id": "489c642c",
   "metadata": {
    "scrolled": true
   },
   "outputs": [
    {
     "data": {
      "text/plain": [
       "150"
      ]
     },
     "execution_count": 149,
     "metadata": {},
     "output_type": "execute_result"
    }
   ],
   "source": [
    "df.parque.isnull().sum()"
   ]
  },
  {
   "cell_type": "markdown",
   "id": "19e3fae9",
   "metadata": {},
   "source": [
    "Tenemos 150 datos no válidos.\n",
    "\n",
    "IDEM CON PARQUES. aquí nos da el nombre del parque más cercano. A lo mejor sería buen idea encontrar distancia al más cercano. ¿recurrimos a api?"
   ]
  },
  {
   "cell_type": "code",
   "execution_count": 150,
   "id": "1f60f04e",
   "metadata": {
    "scrolled": false
   },
   "outputs": [
    {
     "data": {
      "text/plain": [
       "General de Villalba                                 11\n",
       "Hospital Universitario 12 de Octubre                10\n",
       "Universitario 12 de Octubre                          7\n",
       "Gregorio Marañón                                     6\n",
       "Hospital General Universitario Gregorio Marañón      5\n",
       "                                                    ..\n",
       "Venerable Orden Tercera de San Francisco de Asís     1\n",
       "Hospital Universitario 12 de Octubre                 1\n",
       "Hospital Sanitas La Moraleja                         1\n",
       "Fundación Hospital Alcorcón                          1\n",
       "Centro de Salud Madrid Fuencarral                    1\n",
       "Name: hospital, Length: 130, dtype: int64"
      ]
     },
     "execution_count": 150,
     "metadata": {},
     "output_type": "execute_result"
    }
   ],
   "source": [
    "df.hospital.value_counts()"
   ]
  },
  {
   "cell_type": "code",
   "execution_count": 151,
   "id": "ea325837",
   "metadata": {},
   "outputs": [
    {
     "data": {
      "text/plain": [
       "162"
      ]
     },
     "execution_count": 151,
     "metadata": {},
     "output_type": "execute_result"
    }
   ],
   "source": [
    "df.hospital.isnull().sum()"
   ]
  },
  {
   "cell_type": "markdown",
   "id": "b448ad1a",
   "metadata": {},
   "source": [
    "Tenemos 162 datos no válidos.\n",
    "\n",
    "IDEM CON HOSPITALES. aquí nos da el nombre del hospital más cercano. A lo mejor sería buen idea encontrar distancia al más cercano. ¿recurrimos a api?"
   ]
  },
  {
   "cell_type": "code",
   "execution_count": 152,
   "id": "3e21af54",
   "metadata": {
    "scrolled": false
   },
   "outputs": [
    {
     "data": {
      "text/plain": [
       "Cross Fit Colmenar Viejo           11\n",
       "XFitness La Elipa                   4\n",
       "Go Fit                              4\n",
       "VivaGym Gimnasio                    4\n",
       "Holiday Gym Albufera                4\n",
       "                                   ..\n",
       "FitUp                               1\n",
       "GO fit                              1\n",
       "Holiday Gym Vergara                 1\n",
       "Gimnasio AltaFit Cuatro Caminos     1\n",
       "Gimnasio Victoria                   1\n",
       "Name: gimnasio, Length: 160, dtype: int64"
      ]
     },
     "execution_count": 152,
     "metadata": {},
     "output_type": "execute_result"
    }
   ],
   "source": [
    "df.gimnasio.value_counts()"
   ]
  },
  {
   "cell_type": "code",
   "execution_count": 153,
   "id": "66055f48",
   "metadata": {
    "scrolled": true
   },
   "outputs": [
    {
     "data": {
      "text/plain": [
       "162"
      ]
     },
     "execution_count": 153,
     "metadata": {},
     "output_type": "execute_result"
    }
   ],
   "source": [
    "df.gimnasio.isnull().sum()"
   ]
  },
  {
   "cell_type": "markdown",
   "id": "97b9ca68",
   "metadata": {},
   "source": [
    "Tenemos 162 datos no válidos.\n",
    "\n",
    "IDEM CON GIMNASIOS. aquí nos da el nombre del GImanasio más cercano. A lo mejor sería buen idea encontrar distancia al más cercano. ¿recurrimos a api?"
   ]
  },
  {
   "cell_type": "markdown",
   "id": "5403f6fb",
   "metadata": {},
   "source": [
    "➕➕ ¿buscar la información de supermercados cercanos podría ser interesante?"
   ]
  },
  {
   "cell_type": "code",
   "execution_count": 154,
   "id": "fa422be2",
   "metadata": {
    "scrolled": true
   },
   "outputs": [
    {
     "data": {
      "text/plain": [
       "Index(['rk', 'latitud', 'longitud', 'codigo_postal', 'pais', 'provincia',\n",
       "       'ciudad', 'distrito', 'barrio', 'calle', 'planta', 'puerta', 'metro',\n",
       "       'cercanias', 'centro_comercial', 'escuela', 'parque', 'hospital',\n",
       "       'gimnasio'],\n",
       "      dtype='object')"
      ]
     },
     "execution_count": 154,
     "metadata": {},
     "output_type": "execute_result"
    }
   ],
   "source": [
    "df.columns"
   ]
  },
  {
   "cell_type": "code",
   "execution_count": 90,
   "id": "aa65aeb3",
   "metadata": {
    "scrolled": true
   },
   "outputs": [
    {
     "data": {
      "text/plain": [
       "rk                    0\n",
       "latitud               2\n",
       "longitud              2\n",
       "codigo_postal         0\n",
       "pais                  0\n",
       "provincia             0\n",
       "ciudad                0\n",
       "distrito             98\n",
       "barrio              357\n",
       "calle                 0\n",
       "planta                0\n",
       "puerta               14\n",
       "metro               154\n",
       "cercanias           361\n",
       "centro_comercial    166\n",
       "escuela             161\n",
       "parque              150\n",
       "hospital            162\n",
       "gimnasio            162\n",
       "dtype: int64"
      ]
     },
     "execution_count": 90,
     "metadata": {},
     "output_type": "execute_result"
    }
   ],
   "source": [
    "df.isna().sum()"
   ]
  },
  {
   "cell_type": "code",
   "execution_count": null,
   "id": "5850422a",
   "metadata": {},
   "outputs": [],
   "source": []
  },
  {
   "cell_type": "markdown",
   "id": "22f8126d",
   "metadata": {},
   "source": [
    "# Características.csv\n",
    "\n",
    "Contiene la información de las características de cada inmueble, aquí la rk es su identificador que esta compuesta por el UV (identificador de goelocalizacion) y por su estado (1 = sin reformar y 2 = reformado). Se divide pues podemos tener el mismo pisos con diferentes características según su estado.M\n",
    "  "
   ]
  },
  {
   "cell_type": "markdown",
   "id": "b0aa1c42",
   "metadata": {},
   "source": [
    "PREGUNTA: lo de que exista un piso en la BD reformado y sin reformar ¿es porque hay pisos en la mima planta, con las mismas características?"
   ]
  },
  {
   "cell_type": "code",
   "execution_count": 91,
   "id": "7cae59d4",
   "metadata": {},
   "outputs": [],
   "source": [
    "import pandas as  pd"
   ]
  },
  {
   "cell_type": "code",
   "execution_count": 92,
   "id": "2e047c0d",
   "metadata": {
    "scrolled": true
   },
   "outputs": [],
   "source": [
    "df=pd.read_csv('../data/caracteristicas.csv',sep=';')"
   ]
  },
  {
   "cell_type": "code",
   "execution_count": 93,
   "id": "0ca6e892",
   "metadata": {
    "scrolled": true
   },
   "outputs": [
    {
     "data": {
      "text/plain": [
       "(399, 27)"
      ]
     },
     "execution_count": 93,
     "metadata": {},
     "output_type": "execute_result"
    }
   ],
   "source": [
    "df.shape"
   ]
  },
  {
   "cell_type": "code",
   "execution_count": 94,
   "id": "c8d6d23c",
   "metadata": {
    "scrolled": true
   },
   "outputs": [
    {
     "data": {
      "text/plain": [
       "Index(['rk', 'uv', 'estado', 'habitaciones', 'banos', 'metros', 'metrica',\n",
       "       'fecha_construccion', 'orientacion', 'situacion',\n",
       "       'certificado_energetico', 'portal', 'ascensor', 'parque_infantil',\n",
       "       'terraza', 'trastero', 'piscina_comunitaria', 'cuarto_de_basura',\n",
       "       'zonas_comunes', 'piscina', 'garaje', 'tejado', 'calefaccion',\n",
       "       'certificaciones', 'jardin', 'aire_acondicionado', 'seguro_hogar'],\n",
       "      dtype='object')"
      ]
     },
     "execution_count": 94,
     "metadata": {},
     "output_type": "execute_result"
    }
   ],
   "source": [
    "df.columns"
   ]
  },
  {
   "cell_type": "code",
   "execution_count": 95,
   "id": "01ae3290",
   "metadata": {
    "scrolled": false
   },
   "outputs": [
    {
     "data": {
      "text/plain": [
       "rk                         object\n",
       "uv                         object\n",
       "estado                     object\n",
       "habitaciones                int64\n",
       "banos                       int64\n",
       "metros                      int64\n",
       "metrica                    object\n",
       "fecha_construccion        float64\n",
       "orientacion                object\n",
       "situacion                  object\n",
       "certificado_energetico     object\n",
       "portal                      int64\n",
       "ascensor                    int64\n",
       "parque_infantil             int64\n",
       "terraza                     int64\n",
       "trastero                    int64\n",
       "piscina_comunitaria         int64\n",
       "cuarto_de_basura            int64\n",
       "zonas_comunes               int64\n",
       "piscina                     int64\n",
       "garaje                      int64\n",
       "tejado                    float64\n",
       "calefaccion                 int64\n",
       "certificaciones           float64\n",
       "jardin                      int64\n",
       "aire_acondicionado          int64\n",
       "seguro_hogar                int64\n",
       "dtype: object"
      ]
     },
     "execution_count": 95,
     "metadata": {},
     "output_type": "execute_result"
    }
   ],
   "source": [
    "df.dtypes"
   ]
  },
  {
   "cell_type": "code",
   "execution_count": 96,
   "id": "2bc06f25",
   "metadata": {
    "scrolled": true
   },
   "outputs": [
    {
     "data": {
      "text/plain": [
       "rk                        0\n",
       "uv                        0\n",
       "estado                    0\n",
       "habitaciones              0\n",
       "banos                     0\n",
       "metros                    0\n",
       "metrica                   0\n",
       "fecha_construccion        1\n",
       "orientacion               0\n",
       "situacion                 7\n",
       "certificado_energetico    2\n",
       "portal                    0\n",
       "ascensor                  0\n",
       "parque_infantil           0\n",
       "terraza                   0\n",
       "trastero                  0\n",
       "piscina_comunitaria       0\n",
       "cuarto_de_basura          0\n",
       "zonas_comunes             0\n",
       "piscina                   0\n",
       "garaje                    0\n",
       "tejado                    1\n",
       "calefaccion               0\n",
       "certificaciones           5\n",
       "jardin                    0\n",
       "aire_acondicionado        0\n",
       "seguro_hogar              0\n",
       "dtype: int64"
      ]
     },
     "execution_count": 96,
     "metadata": {},
     "output_type": "execute_result"
    }
   ],
   "source": [
    "df.isna().sum()"
   ]
  },
  {
   "cell_type": "markdown",
   "id": "c21d2561",
   "metadata": {},
   "source": [
    "En general tenemos todos los datos casi completaos. Nos fallan:\n",
    "    \n",
    "    · Fecha de construcción: sólo uno no tiene el dato.\n",
    "    · Situación: int/Ext: solo 7 no teemos el dato.\n",
    "    · Certificado: solo 2 no tenemos el dato.\n",
    "    · Tejado: Sólo uno no tenemos el dato"
   ]
  },
  {
   "cell_type": "code",
   "execution_count": 97,
   "id": "5830de08",
   "metadata": {
    "scrolled": true
   },
   "outputs": [
    {
     "data": {
      "text/plain": [
       "array([1963., 1960., 1966., 1972., 1983., 1980., 1977., 1971., 1969.,\n",
       "       1900., 1987., 1946., 1964., 1974., 1984.,    0., 1965., 1999.,\n",
       "       2007., 1918., 1981., 2000., 1944., 1955., 1991., 2008., 1982.,\n",
       "       1976., 2003., 1970., 1967., 1952., 1950., 1920., 1956., 1986.,\n",
       "       1940., 1978., 1905., 2004., 1998., 1988., 1962., 1910., 1973.,\n",
       "       1975., 1996., 2011., 1992., 1954., 1953., 1935., 1985., 1930.,\n",
       "       1915., 1949., 1934., 1870., 1898., 1929., 1958., 1957., 1925.,\n",
       "       1884., 1961., 1928., 1933., 1959., 1968., 2005., 1994., 2002.,\n",
       "       1936., 1979., 1990., 1923., 1911., 2001., 1951., 1914., 2066.,\n",
       "       2010., 2015., 2019., 1890., 2006., 1922., 2009., 1945., 1861.,\n",
       "         nan, 1941.])"
      ]
     },
     "execution_count": 97,
     "metadata": {},
     "output_type": "execute_result"
    }
   ],
   "source": [
    "df.fecha_construccion.unique()"
   ]
  },
  {
   "cell_type": "markdown",
   "id": "a0ce2a5c",
   "metadata": {},
   "source": [
    "Pocos datos incosistentes. A lo mejor nos convendría agrupar inmuebles más antiguos en una categoría ya que parece que entre 1936 y 1861 son simplemente viviendas muy antiguas."
   ]
  },
  {
   "cell_type": "code",
   "execution_count": 98,
   "id": "c0e9b8d3",
   "metadata": {
    "scrolled": true
   },
   "outputs": [
    {
     "data": {
      "text/plain": [
       "array(['Norte', 'Oeste', 'Suroeste', 'Sur', 'Este', 'Noroeste', 'Sureste',\n",
       "       'Noreste', 'este', 'oeste', 'norte'], dtype=object)"
      ]
     },
     "execution_count": 98,
     "metadata": {},
     "output_type": "execute_result"
    }
   ],
   "source": [
    "df.orientacion.unique()"
   ]
  },
  {
   "cell_type": "markdown",
   "id": "ae9d3491",
   "metadata": {},
   "source": [
    "Habría que unificar esta columna. Quizás sería buena idea dividir en dos columnas. Una N/S y otra E/O ya que podemos decir que las viviendas tiene claramente más o menos luz ( y por lo tanto su demanda) si suorientación es Norte o sur (ojo hemisferios) y \n",
    "que el parámetro E/O determina lo que busca el cliente en funció de si prefiere un tipo de luz u otro."
   ]
  },
  {
   "cell_type": "code",
   "execution_count": 99,
   "id": "124e8ac4",
   "metadata": {
    "scrolled": false
   },
   "outputs": [
    {
     "data": {
      "text/plain": [
       "Exterior            323\n",
       "Interior             57\n",
       "Patio de manzana     12\n",
       "Name: situacion, dtype: int64"
      ]
     },
     "execution_count": 99,
     "metadata": {},
     "output_type": "execute_result"
    }
   ],
   "source": [
    "\n",
    "df.situacion.value_counts()"
   ]
  },
  {
   "cell_type": "markdown",
   "id": "4f9f8c14",
   "metadata": {},
   "source": [
    "Correcta esta columna"
   ]
  },
  {
   "cell_type": "code",
   "execution_count": 100,
   "id": "a22045d1",
   "metadata": {
    "scrolled": false
   },
   "outputs": [
    {
     "data": {
      "text/plain": [
       "F            394\n",
       "182000004      1\n",
       "182000000      1\n",
       "182000002      1\n",
       "Name: certificado_energetico, dtype: int64"
      ]
     },
     "execution_count": 100,
     "metadata": {},
     "output_type": "execute_result"
    }
   ],
   "source": [
    "df.certificado_energetico.value_counts()"
   ]
  },
  {
   "cell_type": "code",
   "execution_count": 101,
   "id": "c73b2f10",
   "metadata": {},
   "outputs": [
    {
     "data": {
      "text/plain": [
       "0.0    394\n",
       "Name: certificaciones, dtype: int64"
      ]
     },
     "execution_count": 101,
     "metadata": {},
     "output_type": "execute_result"
    }
   ],
   "source": [
    "df.certificaciones.value_counts()"
   ]
  },
  {
   "cell_type": "markdown",
   "id": "e7fbba89",
   "metadata": {},
   "source": [
    "No entiendo mucho de certificados. Hasta donde se van por letas. No sé si los valores tipo 182000002 valores correctos o no. no sé a qué se refiere con \"certificaciones\""
   ]
  },
  {
   "cell_type": "code",
   "execution_count": 102,
   "id": "cb156960",
   "metadata": {
    "scrolled": false
   },
   "outputs": [
    {
     "data": {
      "text/plain": [
       "0    238\n",
       "1    161\n",
       "Name: portal, dtype: int64"
      ]
     },
     "execution_count": 102,
     "metadata": {},
     "output_type": "execute_result"
    }
   ],
   "source": [
    "df.portal.value_counts()"
   ]
  },
  {
   "cell_type": "code",
   "execution_count": 103,
   "id": "5202ee45",
   "metadata": {
    "scrolled": true
   },
   "outputs": [
    {
     "data": {
      "text/plain": [
       "1    211\n",
       "0    188\n",
       "Name: ascensor, dtype: int64"
      ]
     },
     "execution_count": 103,
     "metadata": {},
     "output_type": "execute_result"
    }
   ],
   "source": [
    "df.ascensor.value_counts()"
   ]
  },
  {
   "cell_type": "code",
   "execution_count": 104,
   "id": "c8dfa34e",
   "metadata": {
    "scrolled": true
   },
   "outputs": [
    {
     "data": {
      "text/plain": [
       "0    389\n",
       "1     10\n",
       "Name: parque_infantil, dtype: int64"
      ]
     },
     "execution_count": 104,
     "metadata": {},
     "output_type": "execute_result"
    }
   ],
   "source": [
    "df.parque_infantil.value_counts()"
   ]
  },
  {
   "cell_type": "code",
   "execution_count": 105,
   "id": "681ecbc8",
   "metadata": {
    "scrolled": true
   },
   "outputs": [
    {
     "data": {
      "text/plain": [
       "0    282\n",
       "1    117\n",
       "Name: terraza, dtype: int64"
      ]
     },
     "execution_count": 105,
     "metadata": {},
     "output_type": "execute_result"
    }
   ],
   "source": [
    "df.terraza.value_counts()"
   ]
  },
  {
   "cell_type": "code",
   "execution_count": 106,
   "id": "e2b01325",
   "metadata": {
    "scrolled": true
   },
   "outputs": [
    {
     "data": {
      "text/plain": [
       "0    342\n",
       "1     57\n",
       "Name: trastero, dtype: int64"
      ]
     },
     "execution_count": 106,
     "metadata": {},
     "output_type": "execute_result"
    }
   ],
   "source": [
    "df.trastero.value_counts()"
   ]
  },
  {
   "cell_type": "code",
   "execution_count": 107,
   "id": "7e751e1c",
   "metadata": {
    "scrolled": true
   },
   "outputs": [
    {
     "data": {
      "text/plain": [
       "0    377\n",
       "1     22\n",
       "Name: piscina_comunitaria, dtype: int64"
      ]
     },
     "execution_count": 107,
     "metadata": {},
     "output_type": "execute_result"
    }
   ],
   "source": [
    "df.piscina_comunitaria.value_counts()"
   ]
  },
  {
   "cell_type": "code",
   "execution_count": 108,
   "id": "85d9a30d",
   "metadata": {
    "scrolled": false
   },
   "outputs": [
    {
     "data": {
      "text/plain": [
       "0    393\n",
       "1      6\n",
       "Name: piscina, dtype: int64"
      ]
     },
     "execution_count": 108,
     "metadata": {},
     "output_type": "execute_result"
    }
   ],
   "source": [
    "df.piscina.value_counts()"
   ]
  },
  {
   "cell_type": "code",
   "execution_count": 109,
   "id": "a2aada72",
   "metadata": {
    "scrolled": false
   },
   "outputs": [
    {
     "data": {
      "text/plain": [
       "False    399\n",
       "dtype: int64"
      ]
     },
     "execution_count": 109,
     "metadata": {},
     "output_type": "execute_result"
    }
   ],
   "source": [
    "(df.piscina.isna() != df.piscina_comunitaria.isna()).value_counts()"
   ]
  },
  {
   "cell_type": "markdown",
   "id": "ea331f6b",
   "metadata": {},
   "source": [
    "Parece que no hay ninguna piscina distinta de piscina comunitaria, así que, a no ser que nos digan lo contrario parece que son casi redundantes. A no ser que consideremos piscinas privadas."
   ]
  },
  {
   "cell_type": "code",
   "execution_count": 110,
   "id": "ac2ff101",
   "metadata": {
    "scrolled": true
   },
   "outputs": [
    {
     "data": {
      "text/plain": [
       "0    398\n",
       "1      1\n",
       "Name: cuarto_de_basura, dtype: int64"
      ]
     },
     "execution_count": 110,
     "metadata": {},
     "output_type": "execute_result"
    }
   ],
   "source": [
    "df.cuarto_de_basura.value_counts()"
   ]
  },
  {
   "cell_type": "code",
   "execution_count": 111,
   "id": "da37fb62",
   "metadata": {
    "scrolled": false
   },
   "outputs": [
    {
     "data": {
      "text/plain": [
       "0    356\n",
       "1     43\n",
       "Name: zonas_comunes, dtype: int64"
      ]
     },
     "execution_count": 111,
     "metadata": {},
     "output_type": "execute_result"
    }
   ],
   "source": [
    "df.zonas_comunes.value_counts()"
   ]
  },
  {
   "cell_type": "code",
   "execution_count": 112,
   "id": "fe4f999d",
   "metadata": {
    "scrolled": true
   },
   "outputs": [
    {
     "data": {
      "text/plain": [
       "0    330\n",
       "1     69\n",
       "Name: garaje, dtype: int64"
      ]
     },
     "execution_count": 112,
     "metadata": {},
     "output_type": "execute_result"
    }
   ],
   "source": [
    "df.garaje.value_counts()"
   ]
  },
  {
   "cell_type": "code",
   "execution_count": 113,
   "id": "60ed2b92",
   "metadata": {
    "scrolled": true
   },
   "outputs": [
    {
     "data": {
      "text/plain": [
       "0    394\n",
       "1      5\n",
       "Name: calefaccion, dtype: int64"
      ]
     },
     "execution_count": 113,
     "metadata": {},
     "output_type": "execute_result"
    }
   ],
   "source": [
    "df.calefaccion.value_counts()"
   ]
  },
  {
   "cell_type": "code",
   "execution_count": 114,
   "id": "1f0aa765",
   "metadata": {},
   "outputs": [
    {
     "data": {
      "text/plain": [
       "0    399\n",
       "Name: jardin, dtype: int64"
      ]
     },
     "execution_count": 114,
     "metadata": {},
     "output_type": "execute_result"
    }
   ],
   "source": [
    "df.jardin.value_counts()"
   ]
  },
  {
   "cell_type": "code",
   "execution_count": 115,
   "id": "18787c41",
   "metadata": {
    "scrolled": true
   },
   "outputs": [
    {
     "data": {
      "text/plain": [
       "0    391\n",
       "1      8\n",
       "Name: aire_acondicionado, dtype: int64"
      ]
     },
     "execution_count": 115,
     "metadata": {},
     "output_type": "execute_result"
    }
   ],
   "source": [
    "df.aire_acondicionado.value_counts()"
   ]
  },
  {
   "cell_type": "code",
   "execution_count": 116,
   "id": "17610bd7",
   "metadata": {
    "scrolled": true
   },
   "outputs": [
    {
     "data": {
      "text/plain": [
       "0    333\n",
       "1     66\n",
       "Name: seguro_hogar, dtype: int64"
      ]
     },
     "execution_count": 116,
     "metadata": {},
     "output_type": "execute_result"
    }
   ],
   "source": [
    "df.seguro_hogar.value_counts()"
   ]
  },
  {
   "cell_type": "markdown",
   "id": "4d01ac09",
   "metadata": {},
   "source": [
    "Parece ok estas columnas"
   ]
  },
  {
   "cell_type": "code",
   "execution_count": 117,
   "id": "796fe24c",
   "metadata": {
    "scrolled": true
   },
   "outputs": [
    {
     "data": {
      "text/plain": [
       "0.0    398\n",
       "Name: tejado, dtype: int64"
      ]
     },
     "execution_count": 117,
     "metadata": {},
     "output_type": "execute_result"
    }
   ],
   "source": [
    "df.tejado.value_counts()"
   ]
  },
  {
   "cell_type": "markdown",
   "id": "7d715080",
   "metadata": {},
   "source": [
    "No sé qué quiere decir la columna \"tejado\""
   ]
  },
  {
   "cell_type": "markdown",
   "id": "33d5f61b",
   "metadata": {},
   "source": [
    "# Web.csv\n",
    "\n",
    "Aquí tenemos el UV y estado con el precio al que lo comercializamos, para usar esa información de cara al presupuesto del cliente."
   ]
  },
  {
   "cell_type": "code",
   "execution_count": 118,
   "id": "cc15bd10",
   "metadata": {
    "scrolled": true
   },
   "outputs": [],
   "source": [
    "df=pd.read_csv('../data/web.csv',sep=';')\n"
   ]
  },
  {
   "cell_type": "code",
   "execution_count": 119,
   "id": "29753a1b",
   "metadata": {},
   "outputs": [
    {
     "data": {
      "text/plain": [
       "(190, 8)"
      ]
     },
     "execution_count": 119,
     "metadata": {},
     "output_type": "execute_result"
    }
   ],
   "source": [
    "df.shape"
   ]
  },
  {
   "cell_type": "code",
   "execution_count": 120,
   "id": "24ed2808",
   "metadata": {},
   "outputs": [
    {
     "data": {
      "text/plain": [
       "Index(['uv', 'estado', 'tipo_vivienda', 'precio', 'precio_antiguo',\n",
       "       'descuento', 'moneda', 'gastos_comunitarios'],\n",
       "      dtype='object')"
      ]
     },
     "execution_count": 120,
     "metadata": {},
     "output_type": "execute_result"
    }
   ],
   "source": [
    "df.columns"
   ]
  },
  {
   "cell_type": "code",
   "execution_count": 121,
   "id": "66727ab2",
   "metadata": {
    "scrolled": true
   },
   "outputs": [
    {
     "data": {
      "text/plain": [
       "uv                      0\n",
       "estado                  0\n",
       "tipo_vivienda           0\n",
       "precio                  6\n",
       "precio_antiguo         16\n",
       "descuento              16\n",
       "moneda                  0\n",
       "gastos_comunitarios     0\n",
       "dtype: int64"
      ]
     },
     "execution_count": 121,
     "metadata": {},
     "output_type": "execute_result"
    }
   ],
   "source": [
    "df.isna().sum()"
   ]
  },
  {
   "cell_type": "markdown",
   "id": "14342cd3",
   "metadata": {},
   "source": [
    "Tenemos algunos Nan en precio antiguo y descuento."
   ]
  },
  {
   "cell_type": "code",
   "execution_count": 122,
   "id": "b0a045cd",
   "metadata": {},
   "outputs": [
    {
     "data": {
      "text/plain": [
       "uv                      object\n",
       "estado                  object\n",
       "tipo_vivienda           object\n",
       "precio                 float64\n",
       "precio_antiguo         float64\n",
       "descuento              float64\n",
       "moneda                  object\n",
       "gastos_comunitarios    float64\n",
       "dtype: object"
      ]
     },
     "execution_count": 122,
     "metadata": {},
     "output_type": "execute_result"
    }
   ],
   "source": [
    "df.dtypes"
   ]
  },
  {
   "cell_type": "code",
   "execution_count": 123,
   "id": "7351fbfc",
   "metadata": {},
   "outputs": [
    {
     "data": {
      "text/plain": [
       "UV/2021/000457    4\n",
       "UV/2021/000452    4\n",
       "UV/2021/000447    4\n",
       "UV/2021/000455    4\n",
       "UV/2020/000310    2\n",
       "                 ..\n",
       "UV/2020/000213    1\n",
       "UV/2021/000368    1\n",
       "UV/2021/000357    1\n",
       "UV/2020/000307    1\n",
       "UV/2021/000388    1\n",
       "Name: uv, Length: 177, dtype: int64"
      ]
     },
     "execution_count": 123,
     "metadata": {},
     "output_type": "execute_result"
    }
   ],
   "source": [
    "df.uv.value_counts()"
   ]
  },
  {
   "cell_type": "code",
   "execution_count": 124,
   "id": "926c687c",
   "metadata": {},
   "outputs": [
    {
     "data": {
      "text/plain": [
       "1          161\n",
       "2           28\n",
       "Vendido      1\n",
       "Name: estado, dtype: int64"
      ]
     },
     "execution_count": 124,
     "metadata": {},
     "output_type": "execute_result"
    }
   ],
   "source": [
    "df.estado.value_counts()"
   ]
  },
  {
   "cell_type": "code",
   "execution_count": 125,
   "id": "c613b7ce",
   "metadata": {},
   "outputs": [
    {
     "data": {
      "text/plain": [
       "Piso       170\n",
       "Casa         8\n",
       "Local        5\n",
       "Moradia      4\n",
       "Oficina      1\n",
       "Dúplex       1\n",
       "Bajo         1\n",
       "Name: tipo_vivienda, dtype: int64"
      ]
     },
     "execution_count": 125,
     "metadata": {},
     "output_type": "execute_result"
    }
   ],
   "source": [
    "df.tipo_vivienda.value_counts()"
   ]
  },
  {
   "cell_type": "code",
   "execution_count": 126,
   "id": "efb13cca",
   "metadata": {
    "scrolled": true
   },
   "outputs": [
    {
     "data": {
      "text/plain": [
       "320000.0    6\n",
       "180000.0    5\n",
       "360000.0    5\n",
       "340000.0    4\n",
       "110000.0    4\n",
       "           ..\n",
       "97000.0     1\n",
       "275000.0    1\n",
       "199000.0    1\n",
       "23000.0     1\n",
       "460000.0    1\n",
       "Name: precio, Length: 101, dtype: int64"
      ]
     },
     "execution_count": 126,
     "metadata": {},
     "output_type": "execute_result"
    }
   ],
   "source": [
    "df.precio.value_counts()"
   ]
  },
  {
   "cell_type": "markdown",
   "id": "173fa3f5",
   "metadata": {},
   "source": [
    "Entiendo que el precio de la vivienda clikalia tiene algoritmos más que de sobra para estimarlo. ¿Podríamos trabajar en eso?"
   ]
  },
  {
   "cell_type": "code",
   "execution_count": 127,
   "id": "46e8d429",
   "metadata": {},
   "outputs": [
    {
     "data": {
      "text/plain": [
       "0.0         148\n",
       "195000.0      2\n",
       "299000.0      1\n",
       "235000.0      1\n",
       "90000.0       1\n",
       "160000.0      1\n",
       "149000.0      1\n",
       "120000.0      1\n",
       "85000.0       1\n",
       "370000.0      1\n",
       "130000.0      1\n",
       "359000.0      1\n",
       "350000.0      1\n",
       "400000.0      1\n",
       "360000.0      1\n",
       "55000.0       1\n",
       "275000.0      1\n",
       "105000.0      1\n",
       "550000.0      1\n",
       "119000.0      1\n",
       "204999.0      1\n",
       "75000.0       1\n",
       "329000.0      1\n",
       "158000.0      1\n",
       "190000.0      1\n",
       "170000.0      1\n",
       "Name: precio_antiguo, dtype: int64"
      ]
     },
     "execution_count": 127,
     "metadata": {},
     "output_type": "execute_result"
    }
   ],
   "source": [
    "df.precio_antiguo.value_counts()"
   ]
  },
  {
   "cell_type": "code",
   "execution_count": 128,
   "id": "63c6220f",
   "metadata": {},
   "outputs": [
    {
     "data": {
      "text/plain": [
       "0.0     149\n",
       "5.0       3\n",
       "9.0       3\n",
       "4.0       3\n",
       "6.0       3\n",
       "2.0       2\n",
       "11.0      2\n",
       "13.0      2\n",
       "12.0      2\n",
       "10.0      1\n",
       "16.0      1\n",
       "8.0       1\n",
       "7.0       1\n",
       "3.0       1\n",
       "Name: descuento, dtype: int64"
      ]
     },
     "execution_count": 128,
     "metadata": {},
     "output_type": "execute_result"
    }
   ],
   "source": [
    "df.descuento.value_counts()"
   ]
  },
  {
   "cell_type": "code",
   "execution_count": 129,
   "id": "28d67af3",
   "metadata": {},
   "outputs": [
    {
     "data": {
      "text/plain": [
       "False    190\n",
       "dtype: int64"
      ]
     },
     "execution_count": 129,
     "metadata": {},
     "output_type": "execute_result"
    }
   ],
   "source": [
    "(df.precio_antiguo.isna() != df.descuento.isna()).value_counts()"
   ]
  },
  {
   "cell_type": "markdown",
   "id": "39fe2fbb",
   "metadata": {},
   "source": [
    "Parece que siempre que tenemos precio antiguo tenemos el descuento que hemos aplicado"
   ]
  },
  {
   "cell_type": "code",
   "execution_count": 130,
   "id": "7c547fed",
   "metadata": {},
   "outputs": [
    {
     "data": {
      "text/plain": [
       "EURO    190\n",
       "Name: moneda, dtype: int64"
      ]
     },
     "execution_count": 130,
     "metadata": {},
     "output_type": "execute_result"
    }
   ],
   "source": [
    "df.moneda.value_counts()"
   ]
  },
  {
   "cell_type": "code",
   "execution_count": 131,
   "id": "d389e837",
   "metadata": {
    "scrolled": false
   },
   "outputs": [
    {
     "data": {
      "text/plain": [
       "0.00      145\n",
       "12.00       8\n",
       "150.00      4\n",
       "1.00        4\n",
       "30.00       3\n",
       "140.00      2\n",
       "40.00       2\n",
       "183.00      1\n",
       "153.77      1\n",
       "60.00       1\n",
       "30.47       1\n",
       "115.00      1\n",
       "219.51      1\n",
       "117.00      1\n",
       "33.00       1\n",
       "64.49       1\n",
       "18.00       1\n",
       "62.51       1\n",
       "64.82       1\n",
       "59.72       1\n",
       "200.00      1\n",
       "13.33       1\n",
       "49.00       1\n",
       "134.04      1\n",
       "50.17       1\n",
       "89.41       1\n",
       "157.00      1\n",
       "70.00       1\n",
       "84.97       1\n",
       "Name: gastos_comunitarios, dtype: int64"
      ]
     },
     "execution_count": 131,
     "metadata": {},
     "output_type": "execute_result"
    }
   ],
   "source": [
    "df.gastos_comunitarios.value_counts()"
   ]
  }
 ],
 "metadata": {
  "kernelspec": {
   "display_name": "iron",
   "language": "python",
   "name": "iron"
  },
  "language_info": {
   "codemirror_mode": {
    "name": "ipython",
    "version": 3
   },
   "file_extension": ".py",
   "mimetype": "text/x-python",
   "name": "python",
   "nbconvert_exporter": "python",
   "pygments_lexer": "ipython3",
   "version": "3.8.5"
  }
 },
 "nbformat": 4,
 "nbformat_minor": 5
}
