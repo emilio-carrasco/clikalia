{
 "metadata": {
  "language_info": {
   "codemirror_mode": {
    "name": "ipython",
    "version": 3
   },
   "file_extension": ".py",
   "mimetype": "text/x-python",
   "name": "python",
   "nbconvert_exporter": "python",
   "pygments_lexer": "ipython3",
   "version": "3.7.10"
  },
  "orig_nbformat": 2,
  "kernelspec": {
   "name": "python3710jvsc74a57bd06f2a5341a97b48c9bdcca96e9c4256723bee63349916a470c764c5b9d3f29ee0",
   "display_name": "Python 3.7.10 64-bit ('clik': conda)"
  }
 },
 "nbformat": 4,
 "nbformat_minor": 2,
 "cells": [
  {
   "cell_type": "code",
   "execution_count": 1,
   "metadata": {},
   "outputs": [],
   "source": [
    "import sys\n",
    "sys.path.insert(1, './src')\n",
    "sys.path.insert(1, './tokens')\n",
    "sys.path.insert(1, './data')\n",
    "sys.path.insert(1, './config')\n",
    "\n",
    "import pandas as pd\n",
    "import numpy as np\n",
    "\n",
    "from src.data_set import lee_limpia_3csv2df"
   ]
  },
  {
   "cell_type": "code",
   "execution_count": 2,
   "metadata": {},
   "outputs": [],
   "source": [
    "df = lee_limpia_3csv2df()"
   ]
  },
  {
   "cell_type": "code",
   "execution_count": 3,
   "metadata": {},
   "outputs": [],
   "source": [
    "#generamos un filtro aleatorio\n",
    "from random import random\n",
    "\n",
    "lista_pesos = ['habitaciones', 'banos', 'metros', 'fecha_construccion', 'situacion',\n",
    "       'planta', 'precio_k', 'gastos_comunitarios', 'geo', 'estado', 'NS',\n",
    "       'EO', 'portal', 'ascensor', 'parque_infantil', 'terraza', 'trastero',\n",
    "       'piscina_comunitaria', 'cuarto_de_basura', 'zonas_comunes', 'piscina',\n",
    "       'garaje', 'tejado', 'calefaccion', 'jardin', 'aire_acondicionado']\n",
    "diccionario_pesos = {p : round(random(), 2) for p in lista_pesos}\n"
   ]
  },
  {
   "cell_type": "code",
   "execution_count": 4,
   "metadata": {},
   "outputs": [
    {
     "output_type": "execute_result",
     "data": {
      "text/plain": [
       "'UV/2020/000252'"
      ]
     },
     "metadata": {},
     "execution_count": 4
    }
   ],
   "source": [
    "#escogemos la fila i como objetivo que lo hacemos aleatorio para nuestras pruebas\n",
    "i = round(random()*len(df))\n",
    "target = df.iloc[[i]]\n",
    "df.index[i]"
   ]
  },
  {
   "cell_type": "code",
   "execution_count": 5,
   "metadata": {},
   "outputs": [],
   "source": [
    "def haversine_vectorize(d, t):\n",
    "    t = t.loc[t.index.repeat(len(d))]\n",
    "    indice = d.index\n",
    "    t.set_index(indice, inplace=True)\n",
    "\n",
    "    lon1 = d.longitud\n",
    "    lat1 = d.latitud\n",
    "\n",
    "    lon2 = t.longitud\n",
    "    lat2 = t.latitud\n",
    "    lon1, lat1, lon2, lat2 = map(np.radians, [lon1, lat1, lon2, lat2])\n",
    "    \n",
    "    dlon = lon2 - lon1 \n",
    "    dlat = lat2 - lat1 \n",
    "    a = np.sin(dlat/2)**2 + np.cos(lat1) * np.cos(lat2) * np.sin(dlon/2)**2\n",
    "    c = 2 * np.arcsin(np.sqrt(a)) \n",
    "    \n",
    "    km = 6371* c\n",
    "    return km\n"
   ]
  },
  {
   "cell_type": "code",
   "execution_count": 6,
   "metadata": {},
   "outputs": [],
   "source": [
    "def similitud_numericas(df,taget):\n",
    "    var_numericas = ['habitaciones', 'banos', 'metros', 'fecha_construccion', 'situacion', 'planta', 'precio_k','gastos_comunitarios']\n",
    "    df_num = df[var_numericas]\n",
    "    target_num  = target[var_numericas]\n",
    "    diferencia= df_num.sub(target_num.iloc[0,:]).abs()\n",
    "    diferencia_normalizada = diferencia/diferencia.sum()\n",
    "    similitud = 1 - diferencia_normalizada\n",
    "    return similitud"
   ]
  },
  {
   "cell_type": "code",
   "execution_count": 7,
   "metadata": {},
   "outputs": [],
   "source": [
    "def similitud_geo(df, taget):\n",
    "    var_geo = ['latitud','longitud']\n",
    "    df_geo = df[var_geo]\n",
    "    target_geo = target[var_geo]\n",
    "    distancia = haversine_vectorize(df_geo, target_geo)\n",
    "    distancia_normalizada = distancia / distancia.max()\n",
    "    similitud = 1 - distancia_normalizada\n",
    "    return similitud"
   ]
  },
  {
   "cell_type": "code",
   "execution_count": 8,
   "metadata": {},
   "outputs": [],
   "source": [
    "def similitud_categoricas(df,target):\n",
    "    var_categoricas=['estado', 'NS','EO', 'portal', 'ascensor', 'parque_infantil', 'terraza','trastero', 'piscina_comunitaria', 'cuarto_de_basura','zonas_comunes','piscina', 'garaje', 'tejado', 'calefaccion', 'jardin','aire_acondicionado']\n",
    "    df_cat = df[var_categoricas]\n",
    "    target_cat = target[var_categoricas]\n",
    "    target_cat = target_cat.loc[target_cat.index.repeat(len(df))]\n",
    "    indice=df_cat.index\n",
    "    target_cat.set_index(indice, inplace=True)\n",
    "    return (df_cat == target_cat).astype(int)"
   ]
  },
  {
   "cell_type": "code",
   "execution_count": 9,
   "metadata": {},
   "outputs": [],
   "source": [
    "sim_num = similitud_numericas(df,target)\n",
    "sim_geo = similitud_geo(df, target)\n",
    "sim_cat = similitud_categoricas(df,target)"
   ]
  },
  {
   "cell_type": "code",
   "execution_count": 10,
   "metadata": {},
   "outputs": [],
   "source": [
    "sim_num['geo'] = sim_geo\n",
    "similitud = sim_num.join(sim_cat)"
   ]
  },
  {
   "cell_type": "code",
   "execution_count": 11,
   "metadata": {},
   "outputs": [],
   "source": [
    "serie_pesos = pd.Series(diccionario_pesos)"
   ]
  },
  {
   "cell_type": "code",
   "execution_count": 12,
   "metadata": {},
   "outputs": [],
   "source": [
    "serie_pesos = serie_pesos/serie_pesos.sum()"
   ]
  },
  {
   "cell_type": "code",
   "execution_count": 13,
   "metadata": {},
   "outputs": [],
   "source": [
    "df['similitud']=round(similitud.dot(serie_pesos),3)"
   ]
  },
  {
   "cell_type": "code",
   "execution_count": 14,
   "metadata": {},
   "outputs": [
    {
     "output_type": "execute_result",
     "data": {
      "text/plain": [
       "                estado  habitaciones  banos  metros  fecha_construccion NS EO  \\\n",
       "uv                                                                              \n",
       "UV/2020/000073     1.0           2.0    1.0    52.0              1960.0  N      \n",
       "UV/2020/000240     1.0           2.0    1.0    58.0              1965.0  N      \n",
       "UV/2020/000020     1.0           2.0    1.0    84.0              1984.0  N      \n",
       "UV/2020/000257     1.0           4.0    1.0    89.0              1936.0  N      \n",
       "UV/2020/000147     1.0           3.0    2.0   133.0              1949.0  N      \n",
       "...                ...           ...    ...     ...                 ... .. ..   \n",
       "UV/2021/000352     1.0           4.0    3.0   174.0              2015.0  S  O   \n",
       "UV/2021/000455     1.0           0.0    0.0    40.0              1900.0  N  E   \n",
       "UV/2021/000354     1.0           4.0    3.0   174.0              2015.0  S  O   \n",
       "UV/2021/000351     1.0           4.0    3.0   174.0              2015.0  S  O   \n",
       "UV/2021/000447     1.0           2.0    5.0    25.0                 0.0  N  E   \n",
       "\n",
       "                situacion  portal  ascensor  ...  pais     ciudad  \\\n",
       "uv                                           ...                    \n",
       "UV/2020/000073        3.0     0.0       1.0  ...     1     Madrid   \n",
       "UV/2020/000240        3.0     0.0       1.0  ...     1     Madrid   \n",
       "UV/2020/000020        3.0     0.0       1.0  ...     1   Móstoles   \n",
       "UV/2020/000257        3.0     0.0       1.0  ...     1  Barcelona   \n",
       "UV/2020/000147        3.0     0.0       1.0  ...     1     Madrid   \n",
       "...                   ...     ...       ...  ...   ...        ...   \n",
       "UV/2021/000352        3.0     1.0       1.0  ...     1     Madrid   \n",
       "UV/2021/000455        1.0     0.0       0.0  ...     1     Madrid   \n",
       "UV/2021/000354        3.0     1.0       1.0  ...     1     Madrid   \n",
       "UV/2021/000351        3.0     1.0       1.0  ...     1     Madrid   \n",
       "UV/2021/000447        3.0     0.0       0.0  ...     1     Madrid   \n",
       "\n",
       "                      distrito                                  calle  barrio  \\\n",
       "uv                                                                              \n",
       "UV/2020/000073   Ciudad Lineal                       Calle Betancunia           \n",
       "UV/2020/000240      Fuencarral              Avenida Monforte de Lemos           \n",
       "UV/2020/000020            Este                       Avenida Carlos V           \n",
       "UV/2020/000257  Sants-Montjuïc        Gran Vía de les Corts Catalanes           \n",
       "UV/2020/000147        Chamberí                   Calle Raimundo Lulio           \n",
       "...                        ...                                    ...     ...   \n",
       "UV/2021/000352         Moncloa  Calle del Doctor Juan José López Ibor           \n",
       "UV/2021/000455       La latina                                   TEST  Aluche   \n",
       "UV/2021/000354         Moncloa  Calle del Doctor Juan José López Ibor           \n",
       "UV/2021/000351         Moncloa  Calle del Doctor Juan José López Ibor           \n",
       "UV/2021/000447          Latina                                   Test  Aluche   \n",
       "\n",
       "                planta  tipo_vivienda  precio_k  gastos_comunitarios  \\\n",
       "uv                                                                     \n",
       "UV/2020/000073       5           PISO       160                  0.0   \n",
       "UV/2020/000240       7           PISO       250                  0.0   \n",
       "UV/2020/000020       3           PISO       175                  0.0   \n",
       "UV/2020/000257       1              0         0                  0.0   \n",
       "UV/2020/000147       1           PISO       780                  0.0   \n",
       "...                ...            ...       ...                  ...   \n",
       "UV/2021/000352       2           PISO       700                  0.0   \n",
       "UV/2021/000455       1           CASA       100                  1.0   \n",
       "UV/2021/000354       8           PISO       710                  0.0   \n",
       "UV/2021/000351       1           PISO       695                  0.0   \n",
       "UV/2021/000447       1           OTRO   2147483                 12.0   \n",
       "\n",
       "                similitud  \n",
       "uv                         \n",
       "UV/2020/000073      0.999  \n",
       "UV/2020/000240      0.999  \n",
       "UV/2020/000020      0.999  \n",
       "UV/2020/000257      0.998  \n",
       "UV/2020/000147      0.998  \n",
       "...                   ...  \n",
       "UV/2021/000352      0.760  \n",
       "UV/2021/000455      0.753  \n",
       "UV/2021/000354      0.749  \n",
       "UV/2021/000351      0.749  \n",
       "UV/2021/000447      0.716  \n",
       "\n",
       "[370 rows x 34 columns]"
      ],
      "text/html": "<div>\n<style scoped>\n    .dataframe tbody tr th:only-of-type {\n        vertical-align: middle;\n    }\n\n    .dataframe tbody tr th {\n        vertical-align: top;\n    }\n\n    .dataframe thead th {\n        text-align: right;\n    }\n</style>\n<table border=\"1\" class=\"dataframe\">\n  <thead>\n    <tr style=\"text-align: right;\">\n      <th></th>\n      <th>estado</th>\n      <th>habitaciones</th>\n      <th>banos</th>\n      <th>metros</th>\n      <th>fecha_construccion</th>\n      <th>NS</th>\n      <th>EO</th>\n      <th>situacion</th>\n      <th>portal</th>\n      <th>ascensor</th>\n      <th>...</th>\n      <th>pais</th>\n      <th>ciudad</th>\n      <th>distrito</th>\n      <th>calle</th>\n      <th>barrio</th>\n      <th>planta</th>\n      <th>tipo_vivienda</th>\n      <th>precio_k</th>\n      <th>gastos_comunitarios</th>\n      <th>similitud</th>\n    </tr>\n    <tr>\n      <th>uv</th>\n      <th></th>\n      <th></th>\n      <th></th>\n      <th></th>\n      <th></th>\n      <th></th>\n      <th></th>\n      <th></th>\n      <th></th>\n      <th></th>\n      <th></th>\n      <th></th>\n      <th></th>\n      <th></th>\n      <th></th>\n      <th></th>\n      <th></th>\n      <th></th>\n      <th></th>\n      <th></th>\n      <th></th>\n    </tr>\n  </thead>\n  <tbody>\n    <tr>\n      <th>UV/2020/000073</th>\n      <td>1.0</td>\n      <td>2.0</td>\n      <td>1.0</td>\n      <td>52.0</td>\n      <td>1960.0</td>\n      <td>N</td>\n      <td></td>\n      <td>3.0</td>\n      <td>0.0</td>\n      <td>1.0</td>\n      <td>...</td>\n      <td>1</td>\n      <td>Madrid</td>\n      <td>Ciudad Lineal</td>\n      <td>Calle Betancunia</td>\n      <td></td>\n      <td>5</td>\n      <td>PISO</td>\n      <td>160</td>\n      <td>0.0</td>\n      <td>0.999</td>\n    </tr>\n    <tr>\n      <th>UV/2020/000240</th>\n      <td>1.0</td>\n      <td>2.0</td>\n      <td>1.0</td>\n      <td>58.0</td>\n      <td>1965.0</td>\n      <td>N</td>\n      <td></td>\n      <td>3.0</td>\n      <td>0.0</td>\n      <td>1.0</td>\n      <td>...</td>\n      <td>1</td>\n      <td>Madrid</td>\n      <td>Fuencarral</td>\n      <td>Avenida Monforte de Lemos</td>\n      <td></td>\n      <td>7</td>\n      <td>PISO</td>\n      <td>250</td>\n      <td>0.0</td>\n      <td>0.999</td>\n    </tr>\n    <tr>\n      <th>UV/2020/000020</th>\n      <td>1.0</td>\n      <td>2.0</td>\n      <td>1.0</td>\n      <td>84.0</td>\n      <td>1984.0</td>\n      <td>N</td>\n      <td></td>\n      <td>3.0</td>\n      <td>0.0</td>\n      <td>1.0</td>\n      <td>...</td>\n      <td>1</td>\n      <td>Móstoles</td>\n      <td>Este</td>\n      <td>Avenida Carlos V</td>\n      <td></td>\n      <td>3</td>\n      <td>PISO</td>\n      <td>175</td>\n      <td>0.0</td>\n      <td>0.999</td>\n    </tr>\n    <tr>\n      <th>UV/2020/000257</th>\n      <td>1.0</td>\n      <td>4.0</td>\n      <td>1.0</td>\n      <td>89.0</td>\n      <td>1936.0</td>\n      <td>N</td>\n      <td></td>\n      <td>3.0</td>\n      <td>0.0</td>\n      <td>1.0</td>\n      <td>...</td>\n      <td>1</td>\n      <td>Barcelona</td>\n      <td>Sants-Montjuïc</td>\n      <td>Gran Vía de les Corts Catalanes</td>\n      <td></td>\n      <td>1</td>\n      <td>0</td>\n      <td>0</td>\n      <td>0.0</td>\n      <td>0.998</td>\n    </tr>\n    <tr>\n      <th>UV/2020/000147</th>\n      <td>1.0</td>\n      <td>3.0</td>\n      <td>2.0</td>\n      <td>133.0</td>\n      <td>1949.0</td>\n      <td>N</td>\n      <td></td>\n      <td>3.0</td>\n      <td>0.0</td>\n      <td>1.0</td>\n      <td>...</td>\n      <td>1</td>\n      <td>Madrid</td>\n      <td>Chamberí</td>\n      <td>Calle Raimundo Lulio</td>\n      <td></td>\n      <td>1</td>\n      <td>PISO</td>\n      <td>780</td>\n      <td>0.0</td>\n      <td>0.998</td>\n    </tr>\n    <tr>\n      <th>...</th>\n      <td>...</td>\n      <td>...</td>\n      <td>...</td>\n      <td>...</td>\n      <td>...</td>\n      <td>...</td>\n      <td>...</td>\n      <td>...</td>\n      <td>...</td>\n      <td>...</td>\n      <td>...</td>\n      <td>...</td>\n      <td>...</td>\n      <td>...</td>\n      <td>...</td>\n      <td>...</td>\n      <td>...</td>\n      <td>...</td>\n      <td>...</td>\n      <td>...</td>\n      <td>...</td>\n    </tr>\n    <tr>\n      <th>UV/2021/000352</th>\n      <td>1.0</td>\n      <td>4.0</td>\n      <td>3.0</td>\n      <td>174.0</td>\n      <td>2015.0</td>\n      <td>S</td>\n      <td>O</td>\n      <td>3.0</td>\n      <td>1.0</td>\n      <td>1.0</td>\n      <td>...</td>\n      <td>1</td>\n      <td>Madrid</td>\n      <td>Moncloa</td>\n      <td>Calle del Doctor Juan José López Ibor</td>\n      <td></td>\n      <td>2</td>\n      <td>PISO</td>\n      <td>700</td>\n      <td>0.0</td>\n      <td>0.760</td>\n    </tr>\n    <tr>\n      <th>UV/2021/000455</th>\n      <td>1.0</td>\n      <td>0.0</td>\n      <td>0.0</td>\n      <td>40.0</td>\n      <td>1900.0</td>\n      <td>N</td>\n      <td>E</td>\n      <td>1.0</td>\n      <td>0.0</td>\n      <td>0.0</td>\n      <td>...</td>\n      <td>1</td>\n      <td>Madrid</td>\n      <td>La latina</td>\n      <td>TEST</td>\n      <td>Aluche</td>\n      <td>1</td>\n      <td>CASA</td>\n      <td>100</td>\n      <td>1.0</td>\n      <td>0.753</td>\n    </tr>\n    <tr>\n      <th>UV/2021/000354</th>\n      <td>1.0</td>\n      <td>4.0</td>\n      <td>3.0</td>\n      <td>174.0</td>\n      <td>2015.0</td>\n      <td>S</td>\n      <td>O</td>\n      <td>3.0</td>\n      <td>1.0</td>\n      <td>1.0</td>\n      <td>...</td>\n      <td>1</td>\n      <td>Madrid</td>\n      <td>Moncloa</td>\n      <td>Calle del Doctor Juan José López Ibor</td>\n      <td></td>\n      <td>8</td>\n      <td>PISO</td>\n      <td>710</td>\n      <td>0.0</td>\n      <td>0.749</td>\n    </tr>\n    <tr>\n      <th>UV/2021/000351</th>\n      <td>1.0</td>\n      <td>4.0</td>\n      <td>3.0</td>\n      <td>174.0</td>\n      <td>2015.0</td>\n      <td>S</td>\n      <td>O</td>\n      <td>3.0</td>\n      <td>1.0</td>\n      <td>1.0</td>\n      <td>...</td>\n      <td>1</td>\n      <td>Madrid</td>\n      <td>Moncloa</td>\n      <td>Calle del Doctor Juan José López Ibor</td>\n      <td></td>\n      <td>1</td>\n      <td>PISO</td>\n      <td>695</td>\n      <td>0.0</td>\n      <td>0.749</td>\n    </tr>\n    <tr>\n      <th>UV/2021/000447</th>\n      <td>1.0</td>\n      <td>2.0</td>\n      <td>5.0</td>\n      <td>25.0</td>\n      <td>0.0</td>\n      <td>N</td>\n      <td>E</td>\n      <td>3.0</td>\n      <td>0.0</td>\n      <td>0.0</td>\n      <td>...</td>\n      <td>1</td>\n      <td>Madrid</td>\n      <td>Latina</td>\n      <td>Test</td>\n      <td>Aluche</td>\n      <td>1</td>\n      <td>OTRO</td>\n      <td>2147483</td>\n      <td>12.0</td>\n      <td>0.716</td>\n    </tr>\n  </tbody>\n</table>\n<p>370 rows × 34 columns</p>\n</div>"
     },
     "metadata": {},
     "execution_count": 14
    }
   ],
   "source": [
    "df.drop(index=target.index, inplace= True)\n",
    "df.sort_values(by='similitud', ascending= False)"
   ]
  },
  {
   "cell_type": "code",
   "execution_count": null,
   "metadata": {},
   "outputs": [],
   "source": []
  }
 ]
}